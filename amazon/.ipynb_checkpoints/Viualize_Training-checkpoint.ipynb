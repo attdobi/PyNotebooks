{
 "cells": [
  {
   "cell_type": "markdown",
   "metadata": {},
   "source": [
    "<h1> Make Histogram of Words </h1>"
   ]
  },
  {
   "cell_type": "code",
   "execution_count": 2,
   "metadata": {
    "collapsed": false
   },
   "outputs": [
    {
     "name": "stdout",
     "output_type": "stream",
     "text": [
      "Populating the interactive namespace from numpy and matplotlib\n"
     ]
    }
   ],
   "source": [
    "# gensim modules\n",
    "from __future__ import division\n",
    "from gensim import utils\n",
    "from gensim.models.doc2vec import LabeledSentence, TaggedDocument\n",
    "from gensim.models import Doc2Vec\n",
    "\n",
    "# numpy\n",
    "import numpy as np\n",
    "import re\n",
    "\n",
    "import matplotlib as mpl\n",
    "\n",
    "from collections import defaultdict\n",
    "\n",
    "%pylab inline\n",
    "pylab.rcParams['figure.figsize'] = (16.0, 8.0) # set size of figures\"\n",
    "plt.rcParams.update({'font.size': 24})\n",
    "import psycopg2"
   ]
  },
  {
   "cell_type": "code",
   "execution_count": 4,
   "metadata": {
    "collapsed": true
   },
   "outputs": [],
   "source": [
    "conn = psycopg2.connect(\"host=localhost port=5432 dbname=amazon user=postgres password=darkmatter\")\n",
    "cur = conn.cursor()"
   ]
  },
  {
   "cell_type": "code",
   "execution_count": 5,
   "metadata": {
    "collapsed": false
   },
   "outputs": [],
   "source": [
    "cur.execute(\"SELECT question,qestion_type,qestion_type_bow,qestion_type_human from training \\\n",
    "WHERE qestion_type_human  = 'yes/no' ;\")\n",
    "result=cur.fetchall()\n",
    "Qyn=[val[0] for val in result]\n",
    "Qyn_Type_data=[val[1] for val in result]\n",
    "Qyn_Type_bow=[val[2] for val in result]\n",
    "\n",
    "cur.execute(\"SELECT question,qestion_type,qestion_type_bow,qestion_type_human from training \\\n",
    "WHERE qestion_type_human  = 'open-ended' ;\")\n",
    "result=cur.fetchall()\n",
    "Qoe=[val[0] for val in result]\n",
    "Qoe_Type_data=[val[1] for val in result]\n",
    "Qoe_Type_bow=[val[2] for val in result]"
   ]
  },
  {
   "cell_type": "code",
   "execution_count": 6,
   "metadata": {
    "collapsed": true
   },
   "outputs": [],
   "source": [
    "def process_line(sentence):\n",
    "    #step 1 split if we need to\n",
    "    sentences=re.split(r'[;:!?.-]\\s*', sentence)\n",
    "    result= [re.findall(\"[a-z'0-9]+\", sent.lower()) for sent in sentences if \\\n",
    "           re.findall(\"[a-z'0-9]+\", sent.lower())!=[]]\n",
    "    if result==[]:\n",
    "        result=['']\n",
    "    return result\n",
    "stoplist = set('for a of the and to in rt'.split())"
   ]
  },
  {
   "cell_type": "code",
   "execution_count": 23,
   "metadata": {
    "collapsed": false
   },
   "outputs": [],
   "source": [
    "qs_yn= [[word for word in process_line(sentence)[0] if word not in stoplist] for sentence in Qyn]\n",
    "qs_oe= [[word for word in process_line(sentence)[0] if word not in stoplist] for sentence in Qoe]"
   ]
  },
  {
   "cell_type": "code",
   "execution_count": 29,
   "metadata": {
    "collapsed": false
   },
   "outputs": [],
   "source": [
    "S_yn=defaultdict(lambda:0)\n",
    "S_oe=defaultdict(lambda:0)\n",
    "for words in qs_yn:\n",
    "    try:\n",
    "        S_yn[words[0]]+=1\n",
    "    except IndexError:\n",
    "        a=1\n",
    "        \n",
    "for words in qs_oe:\n",
    "    try:\n",
    "        S_oe[words[0]]+=1\n",
    "    except IndexError:\n",
    "        a=1"
   ]
  },
  {
   "cell_type": "code",
   "execution_count": 34,
   "metadata": {
    "collapsed": false
   },
   "outputs": [],
   "source": [
    "arr_yn=numpy.array([[key,val] for (key,val) in S_yn.items()])\n",
    "arr_oe=numpy.array([[key,val] for (key,val) in S_oe.items()])"
   ]
  },
  {
   "cell_type": "markdown",
   "metadata": {},
   "source": [
    "<h1> Plot histogram </h1>"
   ]
  },
  {
   "cell_type": "code",
   "execution_count": 47,
   "metadata": {
    "collapsed": false
   },
   "outputs": [
    {
     "data": {
      "text/plain": [
       "[0, 1, 2, 3, 4, 5, 6, 7, 8, 8, 10, 11, 12]"
      ]
     },
     "execution_count": 47,
     "metadata": {},
     "output_type": "execute_result"
    }
   ],
   "source": [
    "[yy_yn.index(x) for x in sorted(yy_yn)][::-1]\n",
    "#[i[0] for i in sorted(enumerate(yy_yn), key=lambda x:x[1])]"
   ]
  },
  {
   "cell_type": "code",
   "execution_count": 49,
   "metadata": {
    "collapsed": false
   },
   "outputs": [
    {
     "name": "stderr",
     "output_type": "stream",
     "text": [
      "/home/ubuntu/anaconda3/lib/python3.5/site-packages/matplotlib/legend.py:319: UserWarning: Unrecognized location \"upper middle\". Falling back on \"best\"; valid locations are\n",
      "\tupper right\n",
      "\tbest\n",
      "\tupper center\n",
      "\tcenter right\n",
      "\tcenter\n",
      "\tlower left\n",
      "\tcenter left\n",
      "\tlower right\n",
      "\tlower center\n",
      "\tupper left\n",
      "\tright\n",
      "\n",
      "  % (loc, '\\n\\t'.join(six.iterkeys(self.codes))))\n"
     ]
    },
    {
     "data": {
      "text/plain": [
       "<matplotlib.legend.Legend at 0x7f076a59cd30>"
      ]
     },
     "execution_count": 49,
     "metadata": {},
     "output_type": "execute_result"
    },
    {
     "data": {
      "image/png": "[encoded data removed]",
      "text/plain": [
       "<matplotlib.figure.Figure at 0x7f076acbc780>"
      ]
     },
     "metadata": {},
     "output_type": "display_data"
    }
   ],
   "source": [
    "xx_oe=arr_oe[argsort(arr_oe[:,1].astype(int))[::-1]][:10][:,0]\n",
    "xx_yn=arr_yn[argsort(arr_yn[:,1].astype(int))[::-1]][:10][:,0]\n",
    "common_first_words=list(set(xx_oe.tolist()+xx_yn.tolist()))\n",
    "\n",
    "yy_oe=[S_oe[word] for word in common_first_words]\n",
    "yy_yn=[S_yn[word] for word in common_first_words]\n",
    "\n",
    "#sort by top y/n response\n",
    "sorted_index=[i[0] for i in sorted(enumerate(yy_yn), key=lambda x:x[1])][::-1]\n",
    "sorted_index\n",
    "common_first_words=[common_first_words[ii] for ii in sorted_index]\n",
    "common_first_words\n",
    "yy_oe=[yy_oe[ii] for ii in sorted_index]\n",
    "yy_yn=[yy_yn[ii] for ii in sorted_index]\n",
    "\n",
    "#make the plot\n",
    "xx=np.arange(len(common_first_words))\n",
    "plt.bar(xx+.25,yy_yn/sum(yy_yn),color='r',alpha=0.5,width=0.4, label='Yes/No')\n",
    "plt.bar(xx,yy_oe/sum(yy_oe),color='b',alpha=0.5, width=0.4,label='Open Ended')\n",
    "plt.xticks(xx+1/2, common_first_words, rotation='vertical')\n",
    "plt.gca().yaxis.set_major_locator(plt.NullLocator())\n",
    "plt.legend(loc='upper middle')"
   ]
  },
  {
   "cell_type": "code",
   "execution_count": null,
   "metadata": {
    "collapsed": true
   },
   "outputs": [],
   "source": []
  },
  {
   "cell_type": "code",
   "execution_count": null,
   "metadata": {
    "collapsed": true
   },
   "outputs": [],
   "source": []
  }
 ],
 "metadata": {
  "kernelspec": {
   "display_name": "Python 3",
   "language": "python",
   "name": "python3"
  },
  "language_info": {
   "codemirror_mode": {
    "name": "ipython",
    "version": 3
   },
   "file_extension": ".py",
   "mimetype": "text/x-python",
   "name": "python",
   "nbconvert_exporter": "python",
   "pygments_lexer": "ipython3",
   "version": "3.5.1"
  }
 },
 "nbformat": 4,
 "nbformat_minor": 0
}
