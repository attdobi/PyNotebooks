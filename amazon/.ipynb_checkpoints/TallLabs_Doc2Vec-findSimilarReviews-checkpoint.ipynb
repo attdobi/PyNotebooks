{
 "cells": [
  {
   "cell_type": "markdown",
   "metadata": {},
   "source": [
    "<h1> Find the nearest reviews given a review using Doc2Vec</h1>"
   ]
  },
  {
   "cell_type": "code",
   "execution_count": 395,
   "metadata": {
    "collapsed": false
   },
   "outputs": [],
   "source": [
    "import gensim\n",
    "#from sklearn.datasets import fetch_20newsgroups\n",
    "import logging\n",
    "from collections import defaultdict\n",
    "from gensim.models import Doc2Vec\n",
    "from gensim.models.doc2vec import LabeledSentence, TaggedDocument\n",
    "from gensim import corpora, models, similarities\n",
    "#import stopwords\n",
    "#from pattern.en import lemma\n",
    "import numpy as np\n",
    "import re\n",
    "import psycopg2"
   ]
  },
  {
   "cell_type": "markdown",
   "metadata": {},
   "source": [
    "<h1> connect to postgres db and pull quesiton and answer text</h1>"
   ]
  },
  {
   "cell_type": "code",
   "execution_count": 396,
   "metadata": {
    "collapsed": true
   },
   "outputs": [],
   "source": [
    "conn = psycopg2.connect(\"host=localhost port=5432 dbname=amazon user=postgres password=darkmatter\")\n",
    "cur = conn.cursor()"
   ]
  },
  {
   "cell_type": "markdown",
   "metadata": {},
   "source": [
    "<h3> There are multiple reviews for a given product (asin), so we group by asin and merge the review texts </h3>"
   ]
  },
  {
   "cell_type": "code",
   "execution_count": 397,
   "metadata": {
    "collapsed": false
   },
   "outputs": [],
   "source": [
    "cur.execute(\"SELECT asin,string_agg(reviewText,'. ') from reviews_cell_phones_and_accessories group by asin;\")\n",
    "\n",
    "#Return the asin and the title (we can also get product description and image url from metajson table)\n",
    "#cur.execute(\"SELECT a.asin, a.reviewCat, b.title FROM (SELECT asin,string_agg(reviewText,'. ') as reviewCat \\\n",
    "#from reviews_cell_phones_and_accessories group by asin) a join metadata b on a.asin=b.asin\")\n",
    "\n",
    "result=cur.fetchall() #there are multiple reviews for the same asin\n",
    "asins=[val[0] for val in result]\n",
    "RT_results=[val[1] for val in result]\n",
    "#titles=[val[2].replace('&amp;','&') for val in result]"
   ]
  },
  {
   "cell_type": "markdown",
   "metadata": {},
   "source": [
    "<h1> clean up each question/answer and tokenize </h1>"
   ]
  },
  {
   "cell_type": "code",
   "execution_count": 398,
   "metadata": {
    "collapsed": true
   },
   "outputs": [],
   "source": [
    "def process_line(sentence):\n",
    "    #step 1 split if we need to\n",
    "    sentences=re.split(r\"(?<![0-9])[.?!;](?![0-9])\", sentence)\n",
    "    result= [re.findall(\"[a-z'.-0-9]+\", sent.lower()) for sent in sentences if \\\n",
    "            re.findall(\"[a-z'.-0-9]+\", sent.lower())!=[]]\n",
    "    if result==[]:\n",
    "        result=[['']]\n",
    "    return result\n",
    "stoplist = set('for a of the and to in rt'.split())"
   ]
  },
  {
   "cell_type": "markdown",
   "metadata": {},
   "source": [
    "<h3> Use word2vec trained on the question model to remove the irrelavent words from the topic </h3>"
   ]
  },
  {
   "cell_type": "code",
   "execution_count": 399,
   "metadata": {
    "collapsed": false,
    "scrolled": true
   },
   "outputs": [],
   "source": [
    "RmodelB=models.Word2Vec.load('/home/ubuntu/TallLabs/models/RmodelB_cell')\n",
    "bag_of_words=\"is,will,wil,may,might,does,do,can,could,must,should,are,would,did,need,take,out,how,would,\\\n",
    "anyone,has,have,off,that,which,who,please,thank,you,that,fit,these,they,many,work,with,time,turn,nice,look,there,\\\n",
    "from,hard,use,your,not,into,non,hold,say,from,with,one,two,like,than,same,keep,review,friend,gift,\\\n",
    "son,daughter,amazon,when,after,change,both,he,she,i,i'm,got,been,then,months,buy,cheap,worth,again,tip,our\".split(',')\n",
    "complete_bag=set(sum([[item[0] for item in RmodelB.most_similar(word)] for word in bag_of_words],[]))|stoplist|set(bag_of_words)\n",
    "#complete_bag"
   ]
  },
  {
   "cell_type": "code",
   "execution_count": 400,
   "metadata": {
    "collapsed": false
   },
   "outputs": [],
   "source": [
    "#in this case, all of the words in each sentence of a review are grouped together into one bag of words\n",
    "#Do we want to organize by each sentence?\n",
    "review_sentence= [[word for word in sum(process_line(sentence),[]) if word not in complete_bag] for sentence in RT_results]"
   ]
  },
  {
   "cell_type": "code",
   "execution_count": 401,
   "metadata": {
    "collapsed": false
   },
   "outputs": [
    {
     "data": {
      "text/plain": [
       "297"
      ]
     },
     "execution_count": 401,
     "metadata": {},
     "output_type": "execute_result"
    }
   ],
   "source": [
    "len(review_sentence[98])"
   ]
  },
  {
   "cell_type": "code",
   "execution_count": 402,
   "metadata": {
    "collapsed": false
   },
   "outputs": [
    {
     "data": {
      "text/plain": [
       "10429"
      ]
     },
     "execution_count": 402,
     "metadata": {},
     "output_type": "execute_result"
    }
   ],
   "source": [
    "len(review_sentence)"
   ]
  },
  {
   "cell_type": "markdown",
   "metadata": {},
   "source": [
    "<h1> setup labels. Each doc is labeled with asin </h1>"
   ]
  },
  {
   "cell_type": "code",
   "execution_count": 403,
   "metadata": {
    "collapsed": false
   },
   "outputs": [],
   "source": [
    "docs=[]\n",
    "#for i,words in enumerate(review_sentence):\n",
    "#    docs.append(TaggedDocument(words,['R_'+str(i)]))\n",
    "for asin,words in zip(asins,review_sentence):\n",
    "    docs.append(TaggedDocument(words,['R_'+asin]))"
   ]
  },
  {
   "cell_type": "markdown",
   "metadata": {},
   "source": [
    "<h3> Train Doc2vec </h3>"
   ]
  },
  {
   "cell_type": "code",
   "execution_count": 373,
   "metadata": {
    "collapsed": false
   },
   "outputs": [
    {
     "data": {
      "text/plain": [
       "22274476"
      ]
     },
     "execution_count": 373,
     "metadata": {},
     "output_type": "execute_result"
    }
   ],
   "source": [
    "model = Doc2Vec(min_count=2, window=300, size=100, sample=1e-4, negative=2, workers=8)\n",
    "model.build_vocab(docs)\n",
    "model.train(docs)\n",
    "#model.docvecs['R_7'] #retrieve doc number n"
   ]
  },
  {
   "cell_type": "markdown",
   "metadata": {},
   "source": [
    "<h3> save or load doc2vec model, for most similar documents in cell phones and reviews </h3>"
   ]
  },
  {
   "cell_type": "code",
   "execution_count": 404,
   "metadata": {
    "collapsed": true
   },
   "outputs": [],
   "source": [
    "#model.save('/home/ubuntu/TallLabs/models/Rmodel_Doc2vec_cell_asin_title')\n",
    "#model=Doc2Vec.load('/home/ubuntu/TallLabs/models/Rmodel_Doc2vec_cell')"
   ]
  },
  {
   "cell_type": "markdown",
   "metadata": {},
   "source": [
    "<h1> find the most similar review based on Doc2vec cosine similarity </h1>"
   ]
  },
  {
   "cell_type": "code",
   "execution_count": 405,
   "metadata": {
    "collapsed": false
   },
   "outputs": [
    {
     "data": {
      "text/plain": [
       "[('R_B007THM9R4', 0.6123840808868408),\n",
       " ('R_B005LFXBLE', 0.6108072996139526),\n",
       " ('R_B003FWLZTK', 0.5941295027732849),\n",
       " ('R_B001LRPN0S', 0.5897202491760254),\n",
       " ('R_B000S5Q9CA', 0.5860586762428284),\n",
       " ('R_B00486MH80', 0.5821248888969421),\n",
       " ('R_B005LFXBJG', 0.5797363519668579),\n",
       " ('R_B001896858', 0.5715357661247253),\n",
       " ('R_B0054U6CEE', 0.5703709721565247),\n",
       " ('R_B004GVIZC4', 0.5628209114074707)]"
      ]
     },
     "execution_count": 405,
     "metadata": {},
     "output_type": "execute_result"
    }
   ],
   "source": [
    "most_sim=model.docvecs.most_similar(['R_'+'B0009H2M1Y'])[:10]\n",
    "most_sim"
   ]
  },
  {
   "cell_type": "markdown",
   "metadata": {},
   "source": [
    "<h3> or find the most similar reviews given some key words </h3>"
   ]
  },
  {
   "cell_type": "markdown",
   "metadata": {},
   "source": [
    "<h1> define function to return 5 most similar asin and review texts </h1>\n",
    "<h3> Most similar to the current item's review and the keys being searched </h3>\n",
    "<h3> this way the most relavent item for which we have an answer is returned </h3>"
   ]
  },
  {
   "cell_type": "code",
   "execution_count": 406,
   "metadata": {
    "collapsed": false,
    "scrolled": true
   },
   "outputs": [
    {
     "data": {
      "text/plain": [
       "[('R_B004EYSKM8', 0.6357026100158691),\n",
       " ('R_B009YDFX7Y', 0.63170325756073),\n",
       " ('R_B006YCORR0', 0.6162797212600708),\n",
       " ('R_B000S5Q9CA', 0.6158674955368042),\n",
       " ('R_B00B61ZZB6', 0.6084681749343872),\n",
       " ('R_B00B45TMTK', 0.6071360111236572),\n",
       " ('R_B002M4NMWU', 0.6012636423110962),\n",
       " ('R_B004PCJQGS', 0.6011949777603149),\n",
       " ('R_B004CP84U2', 0.6007816791534424),\n",
       " ('R_B0049IE70I', 0.5956521034240723)]"
      ]
     },
     "execution_count": 406,
     "metadata": {},
     "output_type": "execute_result"
    }
   ],
   "source": [
    "#test\n",
    "#key_words=['mini', 'micro usb', 'mini','micro-usb', 'mini usb', 'microusb', 'mini-usb', 'miniusb']\n",
    "key_words=['long', 'cord']\n",
    "search_key_vector=model.infer_vector(key_words,alpha=0)\n",
    "most_sim=model.docvecs.most_similar(['R_'+'8288878881',search_key_vector])\n",
    "most_sim"
   ]
  },
  {
   "cell_type": "code",
   "execution_count": 407,
   "metadata": {
    "collapsed": true
   },
   "outputs": [],
   "source": [
    "model.infer_vector?"
   ]
  },
  {
   "cell_type": "code",
   "execution_count": 408,
   "metadata": {
    "collapsed": true
   },
   "outputs": [],
   "source": [
    "def top5(asin,key_words,N=1):\n",
    "    '''Return asin and review text of the the N most reviews'''\n",
    "    '''current review + key words from the question'''\n",
    "    search_key_vector=model.infer_vector(key_words,alpha=0) #set alpha to 0 to prevent random permutation\n",
    "    most_sim=model.docvecs.most_similar(['R_'+asin,10*search_key_vector])[:N]\n",
    "    similar_asins=[val[0].split('R_')[1] for val in most_sim]\n",
    "    #now get the reviewtext and metadata based on the similar asin\n",
    "    sim_images,sim_descriptions,sim_titles,sim_reviews=[],[],[],[]\n",
    "    for asin in similar_asins:\n",
    "        #Note, change metadata_demo to metadata to get the full set, may be slower\n",
    "        cur.execute(\"select a.metajson->'imUrl', a.metajson->'description', a.title, b.reviewCat from metadata_cell_phones_and_accessories a\\\n",
    "        join (SELECT asin,string_agg(reviewText,'. ') as reviewCat FROM reviews_cell_phones_and_accessories group by \\\n",
    "        asin) b on a.asin=b.asin where a.asin=%s limit 1;\",(asin,))\n",
    "        result=cur.fetchall()[0]\n",
    "        sim_images.append(result[0])\n",
    "        sim_descriptions.append(result[1])\n",
    "        sim_titles.append(result[2])\n",
    "        sim_reviews.append(result[3])\n",
    "    \n",
    "    return similar_asins,sim_reviews,sim_images,sim_titles,sim_descriptions"
   ]
  },
  {
   "cell_type": "code",
   "execution_count": 412,
   "metadata": {
    "collapsed": false
   },
   "outputs": [],
   "source": [
    "#2 key_words=['echoing', 'lot','echoes', 'crackling', 'hum', 'buzzing', 'hiss', 'alot', 'quite bit', 'ton', 'lots']\n",
    "#3 key_words=['tighten', 'loose', 'screws', 'eyeglasses','twist', 'tightening', 'screw', 'bend', 'adjust', 'tight', 'tabs', 'pieces', 'screwdriver', 'strips', 'screwdrivers', 'sunglasses']\n",
    "key_words=['long','cord']\n",
    "similar_asins,sim_reviews,sim_images,sim_titles,sim_descriptions=top5('8288878881',['long','cord'],1)"
   ]
  },
  {
   "cell_type": "code",
   "execution_count": 413,
   "metadata": {
    "collapsed": false
   },
   "outputs": [
    {
     "data": {
      "text/plain": [
       "(['B009YDFX7Y'],\n",
       " ['Samsung OEM Universal 2.0 Amp Micro Home Travel Charger for Samsung Galaxy S3/S4/Note 2 - Non-Retail Packaging - White'])"
      ]
     },
     "execution_count": 413,
     "metadata": {},
     "output_type": "execute_result"
    }
   ],
   "source": [
    "similar_asins,sim_titles"
   ]
  },
  {
   "cell_type": "markdown",
   "metadata": {},
   "source": [
    "<h1> Return the product title of the most similar results </h1>"
   ]
  },
  {
   "cell_type": "code",
   "execution_count": 414,
   "metadata": {
    "collapsed": false
   },
   "outputs": [],
   "source": [
    "sim_images,sim_descriptions,sim_titles,sim_reviews=[],[],[],[]\n",
    "for asin in similar_asins:\n",
    "    #asin=similar_asins[0]\n",
    "    cur.execute(\"select a.metajson->'imUrl', a.metajson->'description', a.title, b.reviewCat from metadata_demo a\\\n",
    "    join (SELECT asin,string_agg(reviewText,'. ') as reviewCat FROM reviews_cell_phones_and_accessories group by \\\n",
    "    asin) b on a.asin=b.asin where a.asin=%s limit 1;\",(asin,))\n",
    "    result=cur.fetchall()[0]\n",
    "    sim_images.append(result[0])\n",
    "    sim_descriptions.append(result[1])\n",
    "    sim_titles.append(result[2])\n",
    "    sim_reviews.append(result[3])\n"
   ]
  },
  {
   "cell_type": "code",
   "execution_count": 393,
   "metadata": {
    "collapsed": false
   },
   "outputs": [
    {
     "ename": "NameError",
     "evalue": "name 'description' is not defined",
     "output_type": "error",
     "traceback": [
      "\u001b[1;31m---------------------------------------------------------------------------\u001b[0m",
      "\u001b[1;31mNameError\u001b[0m                                 Traceback (most recent call last)",
      "\u001b[1;32m<ipython-input-393-ca55f5b1d19a>\u001b[0m in \u001b[0;36m<module>\u001b[1;34m()\u001b[0m\n\u001b[1;32m----> 1\u001b[1;33m \u001b[0mdescription\u001b[0m\u001b[1;33m\u001b[0m\u001b[0m\n\u001b[0m",
      "\u001b[1;31mNameError\u001b[0m: name 'description' is not defined"
     ]
    }
   ],
   "source": [
    "description"
   ]
  },
  {
   "cell_type": "markdown",
   "metadata": {
    "collapsed": true
   },
   "source": [
    "<h3> Example parent children example </h3>"
   ]
  },
  {
   "cell_type": "code",
   "execution_count": 415,
   "metadata": {
    "collapsed": false
   },
   "outputs": [],
   "source": [
    "#most_sim=model.docvecs.most_similar(['R_'+'8288878881',search_key_vector])\n",
    "def return_title(asin):\n",
    "    cur.execute(\"SELECT title FROM metadata_cell_phones_and_accessories WHERE asin=%s limit 1;\",(asin,))\n",
    "    return cur.fetchall()[0][0]"
   ]
  },
  {
   "cell_type": "code",
   "execution_count": 416,
   "metadata": {
    "collapsed": false,
    "scrolled": true
   },
   "outputs": [
    {
     "data": {
      "text/plain": [
       "{'children': [{'children': [{'name': 'B004PCJQGS\\nSamsung ETA0U60JBE + APCBU10BBE Micro OEM Home Charger - Non-Retail Packaging - Black',\n",
       "     'size': 3},\n",
       "    {'name': 'B009SQSV7G\\nSamsung OEM 1.0A Original Home Wall AC Travel Charger Adapter and USB 2.0 Data Sync Connect Transfer Charge Cable',\n",
       "     'size': 3},\n",
       "    {'name': 'B0049IE70I\\nSamsung 0.7A home/Wall Power (AC) Adapter with Detachable Micro USB Data Cable (Generic Packaging)',\n",
       "     'size': 3},\n",
       "    {'name': 'B006YCORR0\\nSamsung OEM 1.0A Travel USB Wall Charger with Detachable Micro USB Data/Charge Cable - Bulk Packaging',\n",
       "     'size': 3},\n",
       "    {'name': 'B009YDFX7Y\\nSamsung OEM Universal 2.0 Amp Micro Home Travel Charger for Samsung Galaxy S3/S4/Note 2 - Non-Retail Packaging - White',\n",
       "     'size': 3},\n",
       "    {'name': 'B005LFXBLE\\nMotorola P617 Rapid Dual USB Car Charger with Micro USB Data Cable - Bulk Packaging - Black',\n",
       "     'size': 3},\n",
       "    {'name': 'B005LFXBJG\\nMotorola USB Wall Charger with Micro USB Data Cable - Bulk Packaging (Black)',\n",
       "     'size': 3},\n",
       "    {'name': 'B001XXUOQI\\nSamsung Replacement USB Data Charging Cable for Samsung SPH-M330, SCH-R100, SGH-T939, and SCH-R850 (Bulk Packaging)',\n",
       "     'size': 3},\n",
       "    {'name': 'B000S5Q9CA\\nMotorola Vehicle Power Adapter micro-USB Rapid Rate Charger',\n",
       "     'size': 3},\n",
       "    {'name': 'B004T0GHOU\\nHTC Micro USB Data Cable DC-M400 for HD2, Aria, Legend, Desire A8181, Wildfire, 4G Evo Supersonic and Droid Incredible - Non-Retail Packaging - Black',\n",
       "     'size': 3}],\n",
       "   'name': 'B004EYSKM8\\nMotorola Micro-USB Home and Travel Charger'},\n",
       "  {'children': [{'name': 'B004PCJQGS\\nSamsung ETA0U60JBE + APCBU10BBE Micro OEM Home Charger - Non-Retail Packaging - Black',\n",
       "     'size': 3},\n",
       "    {'name': 'B009SQSV7G\\nSamsung OEM 1.0A Original Home Wall AC Travel Charger Adapter and USB 2.0 Data Sync Connect Transfer Charge Cable',\n",
       "     'size': 3},\n",
       "    {'name': 'B004EYSKM8\\nMotorola Micro-USB Home and Travel Charger',\n",
       "     'size': 3},\n",
       "    {'name': 'B00BD6XTDK\\nSamsung OEM Universal Home Travel Charger for Samsung Galaxy S3/S4/Note 2 and Other Smartphones - Non-Retail Packaging - White',\n",
       "     'size': 3},\n",
       "    {'name': 'B001XXUOQI\\nSamsung Replacement USB Data Charging Cable for Samsung SPH-M330, SCH-R100, SGH-T939, and SCH-R850 (Bulk Packaging)',\n",
       "     'size': 3},\n",
       "    {'name': 'B001UC9NOQ\\nBlackBerry USB DataSync and Charging Cable with Micro USB for BlackBerry 8900, 9500, and 8220',\n",
       "     'size': 3},\n",
       "    {'name': 'B003L18Z8E\\nUSB Data Sync Cable For iPod, iPhone 2G 3G 3GS, iPhone 4, iPod Touch 2nd 3rd 4th Generation iPod Nano 4th 5th 6th Gen All iPhone, iPod Models Compatible, White (6 Feet)',\n",
       "     'size': 3},\n",
       "    {'name': 'B0049IE70I\\nSamsung 0.7A home/Wall Power (AC) Adapter with Detachable Micro USB Data Cable (Generic Packaging)',\n",
       "     'size': 3},\n",
       "    {'name': 'B005LFXBJG\\nMotorola USB Wall Charger with Micro USB Data Cable - Bulk Packaging (Black)',\n",
       "     'size': 3},\n",
       "    {'name': 'B0047EOBRS\\nOEM HTC USB Travel Charger Adapter U250 / CNR6300 / 79H00095-14M',\n",
       "     'size': 3}],\n",
       "   'name': 'B009YDFX7Y\\nSamsung OEM Universal 2.0 Amp Micro Home Travel Charger for Samsung Galaxy S3/S4/Note 2 - Non-Retail Packaging - White'},\n",
       "  {'children': [{'name': 'B004EYSKM8\\nMotorola Micro-USB Home and Travel Charger',\n",
       "     'size': 3},\n",
       "    {'name': 'B004PCJQGS\\nSamsung ETA0U60JBE + APCBU10BBE Micro OEM Home Charger - Non-Retail Packaging - Black',\n",
       "     'size': 3},\n",
       "    {'name': 'B004T0GHOU\\nHTC Micro USB Data Cable DC-M400 for HD2, Aria, Legend, Desire A8181, Wildfire, 4G Evo Supersonic and Droid Incredible - Non-Retail Packaging - Black',\n",
       "     'size': 3},\n",
       "    {'name': 'B009SQSV7G\\nSamsung OEM 1.0A Original Home Wall AC Travel Charger Adapter and USB 2.0 Data Sync Connect Transfer Charge Cable',\n",
       "     'size': 3},\n",
       "    {'name': 'B0015RB39O\\nDelton Platinum USB 30-Pin Data Cable for iPhone 3GS/4/4S and iPod',\n",
       "     'size': 3},\n",
       "    {'name': 'B0049IE70I\\nSamsung 0.7A home/Wall Power (AC) Adapter with Detachable Micro USB Data Cable (Generic Packaging)',\n",
       "     'size': 3},\n",
       "    {'name': 'B001XXUOQI\\nSamsung Replacement USB Data Charging Cable for Samsung SPH-M330, SCH-R100, SGH-T939, and SCH-R850 (Bulk Packaging)',\n",
       "     'size': 3},\n",
       "    {'name': 'B001UC9NOQ\\nBlackBerry USB DataSync and Charging Cable with Micro USB for BlackBerry 8900, 9500, and 8220',\n",
       "     'size': 3},\n",
       "    {'name': 'B009384E6G\\nApple USB Cable 9.9ft (3m) - Apple 30 Pin Compatible Cable Designed to Sync and Charge iPhone 3 3G 3GS 4 4S - iPad 1 2 3 - iPod Touch Nano Shuffle - Premium Quality with Connectors Manufactured by Apple, Inc. - The ONLY Cable with a 10 Year Guarantee',\n",
       "     'size': 3},\n",
       "    {'name': 'B00FQPGAHG\\niMBAPrice&reg; 15 Feet USB 3.0 A to Micro B Transfer &amp; Charger Cable for Samsung Galaxy S5 SM-G900 / Samsung Galaxy Note 3 N9000 &amp; Round / WD My Passport Essential WDCA042RNN / Nokia Lumia 2520 / Seagate External Hard Drives Premium Superspeed 5 Gbps - Black',\n",
       "     'size': 3}],\n",
       "   'name': 'B006YCORR0\\nSamsung OEM 1.0A Travel USB Wall Charger with Detachable Micro USB Data/Charge Cable - Bulk Packaging'},\n",
       "  {'children': [{'name': 'B001UB279A\\nStandard Car Power Charger [CAD300UBEB/ST1]',\n",
       "     'size': 3},\n",
       "    {'name': 'B003TULUI4\\nGTMax Mini USB Car Charger Vehicle Power Adapter - Black for Apple iPhone 4 4G 16GB / 32GB 4th Generation',\n",
       "     'size': 3},\n",
       "    {'name': 'B009PRKIJ2\\nVerizon Micro USB Dual Vehicle Car Charger MICRDUALVPC',\n",
       "     'size': 3},\n",
       "    {'name': 'B004GPQTJQ\\nTechnocel MV9MCDUO-SP OEM Sprint Car Charger - Black with USB Port',\n",
       "     'size': 3},\n",
       "    {'name': 'B002N8HG0Y\\nMotorola Rapid Vehicle Power Adapter for Motorola Droid A855',\n",
       "     'size': 3},\n",
       "    {'name': 'B002VZSQ08\\nGriffin PowerJolt SE Car Charger with Lightning Connector (GC36547)',\n",
       "     'size': 3},\n",
       "    {'name': 'B005LFXBLE\\nMotorola P617 Rapid Dual USB Car Charger with Micro USB Data Cable - Bulk Packaging - Black',\n",
       "     'size': 3},\n",
       "    {'name': 'B0049IE70I\\nSamsung 0.7A home/Wall Power (AC) Adapter with Detachable Micro USB Data Cable (Generic Packaging)',\n",
       "     'size': 3},\n",
       "    {'name': 'B005LFXBJG\\nMotorola USB Wall Charger with Micro USB Data Cable - Bulk Packaging (Black)',\n",
       "     'size': 3},\n",
       "    {'name': 'B001LRPN0S\\nBlackBerry Folding Blade Micro-USB Charger for BlackBerry 8900, Storm 9530, Tour 9630, and Torch 9800 - Black',\n",
       "     'size': 3}],\n",
       "   'name': 'B000S5Q9CA\\nMotorola Vehicle Power Adapter micro-USB Rapid Rate Charger'},\n",
       "  {'children': [{'name': 'B00BL7AHAO\\nTylt YCHG42RD-T Ycharge 4.2A USB Car Charger Dual Port for Charging Two Devices - Retail Packaging - Red',\n",
       "     'size': 3},\n",
       "    {'name': 'B00845NI8E\\nNew Trent Arcadia Rapiduo (1 pc), 10W 5V/2A Dual Port high-speed USB car charger w/ Free Full Speed Micro-USB Charging Cable (IMP80C/NT80C)',\n",
       "     'size': 3},\n",
       "    {'name': 'B00D64PN36\\nEtronic &reg; 2.1A (12W) Dual-Port Turbo USB Car Charger Designed for Apple and Android Devices - White',\n",
       "     'size': 3},\n",
       "    {'name': 'B00G5VQIMM\\nNew Trent (1PC) : Dual High-Speed USB Port Car Charger w/ Free Full Speed Micro-USB Charging Cable (NT85T)',\n",
       "     'size': 3},\n",
       "    {'name': 'B00B61MW30\\nTYLT Band - Red - Flat Silicone Dual-charging Micro USB Car Charger',\n",
       "     'size': 3},\n",
       "    {'name': 'B00GLIBGW6\\nBolse&reg; High Output 3-Port USB Car Charger (27W / 5.4A), Provides Maximum Power For 3 Devices At Once With SmartIC Technology for iPhone 5, 5S, 4S; Samsung Galaxy S5, S4, S3, Galaxy Note 3, 2; iPad Air, 5, 4, mini; LG G2; Motorola and HTC',\n",
       "     'size': 3},\n",
       "    {'name': 'B007TV88F2\\nMediabridge Dual USB 3.4A (17W) Car Charger for Apple Devices',\n",
       "     'size': 3},\n",
       "    {'name': 'B009YY95D6\\nTYLT Band - Red - Flat Silicone Dual-charging Apple/USB Car Charger',\n",
       "     'size': 3},\n",
       "    {'name': 'B009HD44US\\nNew Trent (1PC) 15W 5V@3.1A Dual high-speed USB port car charger w/ Free Full Speed Micro-USB Charging Cable (NT88C/IMP88C)',\n",
       "     'size': 3},\n",
       "    {'name': 'B00BUUBCCE\\nNew Trent Combo-Pack (2pcs) High-Speed Dual USB Port Car Chargers w/ Free Full Speed Micro-USB Charging Cables - 1pc 15W and 1pc 10W',\n",
       "     'size': 3}],\n",
       "   'name': 'B00B61ZZB6\\nTYLT Y-CHARGE - Green - 2.1A Dual-USB Car Charger'},\n",
       "  {'children': [{'name': 'B009384E6G\\nApple USB Cable 9.9ft (3m) - Apple 30 Pin Compatible Cable Designed to Sync and Charge iPhone 3 3G 3GS 4 4S - iPad 1 2 3 - iPod Touch Nano Shuffle - Premium Quality with Connectors Manufactured by Apple, Inc. - The ONLY Cable with a 10 Year Guarantee',\n",
       "     'size': 3},\n",
       "    {'name': 'B00FAADBHO\\nFRiEQ&reg; Hi-Speed Cloth Jacketed Tangle-Free USB 2.0 A Male to Micro B Cable (6 Ft/1.8m)',\n",
       "     'size': 3},\n",
       "    {'name': 'B00G5K3B46\\nZeetron Light up Lightning USB Cable for Iphone 5 5s 5c Ipad 4 Ipad Mini Ipad Air Ipod Touch 5th Gen- Retail Packaging (Lightning to Usb) (Verison 2 New &amp; Improved)',\n",
       "     'size': 3},\n",
       "    {'name': 'B00DZ0J74W\\nTech Armor Apple Certified Lighting Cable - 2 Feet- Black - Lightning Cable - Sync and Charge iPhone 5, iPhone 5S, iPhone 5C, iPad 4, iPad Mini, iPod Touch 5th Gen - Lifetime Warranty',\n",
       "     'size': 3},\n",
       "    {'name': 'B00EDB938C\\nTradekmk Mini USB Wall Charger AC Power Adapter, Mini USB Car Charger Vehicle Power Adapter and 2Pcs USB Data/ Sync Charging Cable for Apple iPhone 4 4S 3G 3GS/ iPod',\n",
       "     'size': 3},\n",
       "    {'name': 'B003UC93WQ\\nFosmon Apple MFI Certified USB Sync and Charge Cable for all 30-Pin iPhone /iPad /iPod - 6ft White',\n",
       "     'size': 3},\n",
       "    {'name': 'B00FQPGAHG\\niMBAPrice&reg; 15 Feet USB 3.0 A to Micro B Transfer &amp; Charger Cable for Samsung Galaxy S5 SM-G900 / Samsung Galaxy Note 3 N9000 &amp; Round / WD My Passport Essential WDCA042RNN / Nokia Lumia 2520 / Seagate External Hard Drives Premium Superspeed 5 Gbps - Black',\n",
       "     'size': 3},\n",
       "    {'name': 'B004VBEHYO\\nEZOPower Apple CERTIFIED 3 Feet 30-pin USB Sync &amp; Charge Dock Connector Data Cable / White (Retail Packaging) for Apple iPad 1 2 / New iPad 3, iPhone 4 4S 4G 4GS 3G 3GS, iPod',\n",
       "     'size': 3},\n",
       "    {'name': 'B0015RB39O\\nDelton Platinum USB 30-Pin Data Cable for iPhone 3GS/4/4S and iPod',\n",
       "     'size': 3},\n",
       "    {'name': 'B004PCJQGS\\nSamsung ETA0U60JBE + APCBU10BBE Micro OEM Home Charger - Non-Retail Packaging - Black',\n",
       "     'size': 3}],\n",
       "   'name': 'B00B45TMTK\\nThe Friendly Swede (TM) Bundle of Ten 7.25-Inch Fastening Velcro Cable Ties in Retail Packaging'},\n",
       "  {'children': [{'name': 'B001XXUOQI\\nSamsung Replacement USB Data Charging Cable for Samsung SPH-M330, SCH-R100, SGH-T939, and SCH-R850 (Bulk Packaging)',\n",
       "     'size': 3},\n",
       "    {'name': 'B003L18Z8E\\nUSB Data Sync Cable For iPod, iPhone 2G 3G 3GS, iPhone 4, iPod Touch 2nd 3rd 4th Generation iPod Nano 4th 5th 6th Gen All iPhone, iPod Models Compatible, White (6 Feet)',\n",
       "     'size': 3},\n",
       "    {'name': 'B004PCJQGS\\nSamsung ETA0U60JBE + APCBU10BBE Micro OEM Home Charger - Non-Retail Packaging - Black',\n",
       "     'size': 3},\n",
       "    {'name': 'B004EYSKM8\\nMotorola Micro-USB Home and Travel Charger',\n",
       "     'size': 3},\n",
       "    {'name': 'B003UC93WQ\\nFosmon Apple MFI Certified USB Sync and Charge Cable for all 30-Pin iPhone /iPad /iPod - 6ft White',\n",
       "     'size': 3},\n",
       "    {'name': 'B009SQSV7G\\nSamsung OEM 1.0A Original Home Wall AC Travel Charger Adapter and USB 2.0 Data Sync Connect Transfer Charge Cable',\n",
       "     'size': 3},\n",
       "    {'name': 'B0015RB39O\\nDelton Platinum USB 30-Pin Data Cable for iPhone 3GS/4/4S and iPod',\n",
       "     'size': 3},\n",
       "    {'name': 'B0049IE70I\\nSamsung 0.7A home/Wall Power (AC) Adapter with Detachable Micro USB Data Cable (Generic Packaging)',\n",
       "     'size': 3},\n",
       "    {'name': 'B000S5Q9CA\\nMotorola Vehicle Power Adapter micro-USB Rapid Rate Charger',\n",
       "     'size': 3},\n",
       "    {'name': 'B001UB279A\\nStandard Car Power Charger [CAD300UBEB/ST1]',\n",
       "     'size': 3}],\n",
       "   'name': 'B002M4NMWU\\nSamsung Travel Charger'},\n",
       "  {'children': [{'name': 'B004EYSKM8\\nMotorola Micro-USB Home and Travel Charger',\n",
       "     'size': 3},\n",
       "    {'name': 'B009YDFX7Y\\nSamsung OEM Universal 2.0 Amp Micro Home Travel Charger for Samsung Galaxy S3/S4/Note 2 - Non-Retail Packaging - White',\n",
       "     'size': 3},\n",
       "    {'name': 'B001XXUOQI\\nSamsung Replacement USB Data Charging Cable for Samsung SPH-M330, SCH-R100, SGH-T939, and SCH-R850 (Bulk Packaging)',\n",
       "     'size': 3},\n",
       "    {'name': 'B0049IE70I\\nSamsung 0.7A home/Wall Power (AC) Adapter with Detachable Micro USB Data Cable (Generic Packaging)',\n",
       "     'size': 3},\n",
       "    {'name': 'B009SQSV7G\\nSamsung OEM 1.0A Original Home Wall AC Travel Charger Adapter and USB 2.0 Data Sync Connect Transfer Charge Cable',\n",
       "     'size': 3},\n",
       "    {'name': 'B004T0GHOU\\nHTC Micro USB Data Cable DC-M400 for HD2, Aria, Legend, Desire A8181, Wildfire, 4G Evo Supersonic and Droid Incredible - Non-Retail Packaging - Black',\n",
       "     'size': 3},\n",
       "    {'name': 'B001UC9NOQ\\nBlackBerry USB DataSync and Charging Cable with Micro USB for BlackBerry 8900, 9500, and 8220',\n",
       "     'size': 3},\n",
       "    {'name': 'B005LFXBJG\\nMotorola USB Wall Charger with Micro USB Data Cable - Bulk Packaging (Black)',\n",
       "     'size': 3},\n",
       "    {'name': 'B003L18Z8E\\nUSB Data Sync Cable For iPod, iPhone 2G 3G 3GS, iPhone 4, iPod Touch 2nd 3rd 4th Generation iPod Nano 4th 5th 6th Gen All iPhone, iPod Models Compatible, White (6 Feet)',\n",
       "     'size': 3},\n",
       "    {'name': 'B0015RB39O\\nDelton Platinum USB 30-Pin Data Cable for iPhone 3GS/4/4S and iPod',\n",
       "     'size': 3}],\n",
       "   'name': 'B004PCJQGS\\nSamsung ETA0U60JBE + APCBU10BBE Micro OEM Home Charger - Non-Retail Packaging - Black'},\n",
       "  {'children': [{'name': 'B00337KT1W\\nSeidio Innocell 2600 mAh Extended Battery for  Motorola Droid',\n",
       "     'size': 3},\n",
       "    {'name': 'B003XW8UPO\\nMotorola OEM Droid X/MB810 BH5X Battery 1500 Mah',\n",
       "     'size': 3},\n",
       "    {'name': 'B002ZG8BQM\\nMotorola  DROID and DROID II 1300mah Standard Battery',\n",
       "     'size': 3},\n",
       "    {'name': 'B005NC86BU\\nSamsung OEM 1800mAh EB625152VA Standard Battery for Samsung Galaxy S II Epic 4G Touch d710 for Sprint',\n",
       "     'size': 3},\n",
       "    {'name': 'B005HBAJ1C\\nAnker&reg; 1800mAh Li-ion Replacement Battery For Samsung Galaxy S 4G SGH-T959v (Not For Galaxy S4), Galaxy S I9000, Galaxy S2 Epic 4G Touch SPH-D710(Sprint), Galaxy S2 SCH-R760(U.S. Cellular), fits EB575152VA [18-Month Warranty]',\n",
       "     'size': 3},\n",
       "    {'name': 'B004A98GC6\\nHTC 1230mAH Standard Battery for HTC HD7',\n",
       "     'size': 3},\n",
       "    {'name': 'B004EYSKM8\\nMotorola Micro-USB Home and Travel Charger',\n",
       "     'size': 3},\n",
       "    {'name': 'B0089VO7OM\\nSamsung Galaxy S3 Replacement Battery (2100 mAh) for AT&amp;T, Sprint &amp; T-Mobile Models',\n",
       "     'size': 3},\n",
       "    {'name': 'B0050MUSLY\\nAnker&reg; 2 x 1700mAh Li-ion Batteries for Sprint HTC EVO 4G, EVO Shift 4G, Droid Incredible; HTC Touch Pro2, Touch Pro 2, Snap; Fits A9292, with Anker&reg; Travel Charger',\n",
       "     'size': 3},\n",
       "    {'name': 'B00BW0XZO0\\nSamsung Galaxy S4 Spare Battery Charger (2600mAh Battery Included)',\n",
       "     'size': 3}],\n",
       "   'name': 'B004CP84U2\\nMotorola OEM Droid X/MB810 BH5X Battery'},\n",
       "  {'children': [{'name': 'B004EYSKM8\\nMotorola Micro-USB Home and Travel Charger',\n",
       "     'size': 3},\n",
       "    {'name': 'B004PCJQGS\\nSamsung ETA0U60JBE + APCBU10BBE Micro OEM Home Charger - Non-Retail Packaging - Black',\n",
       "     'size': 3},\n",
       "    {'name': 'B001XXUOQI\\nSamsung Replacement USB Data Charging Cable for Samsung SPH-M330, SCH-R100, SGH-T939, and SCH-R850 (Bulk Packaging)',\n",
       "     'size': 3},\n",
       "    {'name': 'B009SQSV7G\\nSamsung OEM 1.0A Original Home Wall AC Travel Charger Adapter and USB 2.0 Data Sync Connect Transfer Charge Cable',\n",
       "     'size': 3},\n",
       "    {'name': 'B005LFXBJG\\nMotorola USB Wall Charger with Micro USB Data Cable - Bulk Packaging (Black)',\n",
       "     'size': 3},\n",
       "    {'name': 'B004FS1XMW\\nSamsung Travel Wall Charger Detachable with Micro-USB Data Cable for Cell Phones with Micro-USB Connector',\n",
       "     'size': 3},\n",
       "    {'name': 'B000S5Q9CA\\nMotorola Vehicle Power Adapter micro-USB Rapid Rate Charger',\n",
       "     'size': 3},\n",
       "    {'name': 'B004T0GHOU\\nHTC Micro USB Data Cable DC-M400 for HD2, Aria, Legend, Desire A8181, Wildfire, 4G Evo Supersonic and Droid Incredible - Non-Retail Packaging - Black',\n",
       "     'size': 3},\n",
       "    {'name': 'B004GPQTJQ\\nTechnocel MV9MCDUO-SP OEM Sprint Car Charger - Black with USB Port',\n",
       "     'size': 3},\n",
       "    {'name': 'B001UB279A\\nStandard Car Power Charger [CAD300UBEB/ST1]',\n",
       "     'size': 3}],\n",
       "   'name': 'B0049IE70I\\nSamsung 0.7A home/Wall Power (AC) Adapter with Detachable Micro USB Data Cable (Generic Packaging)'}],\n",
       " 'name': '8288878881\\nSamsung Galaxy S2 Phone OEM Official Travel USB Charger (Detachable, comes with OEM USB to Micro USB Cable)!'}"
      ]
     },
     "execution_count": 416,
     "metadata": {},
     "output_type": "execute_result"
    }
   ],
   "source": [
    "#def tree(self,asin,key_words):\n",
    "modelDoc2vec=model\n",
    "head_asin='8288878881'\n",
    "key='R_'+head_asin\n",
    "\n",
    "search_key_vector=modelDoc2vec.infer_vector(key_words,alpha=0) #set alpha to 0 to prevent random permutation\n",
    "\n",
    "similar_asins,similarity=clean_result_Doc(modelDoc2vec.docvecs.most_similar([key,search_key_vector]))\n",
    "target=[]\n",
    "child_list=[]\n",
    "for asin in similar_asins:\n",
    "    target_child=[]\n",
    "    target.append(asin+'\\n'+return_title(asin))\n",
    "    similar_asins2,similarity2=clean_result_Doc(modelDoc2vec.docvecs.most_similar(['R_'+asin,search_key_vector]))\n",
    "    for asin2 in similar_asins2:\n",
    "        target_child.append(asin2+'\\n'+return_title(asin2))\n",
    "    child_list.append(target_child)\n",
    "{\"name\":head_asin+'\\n'+return_title(head_asin),\"children\":[{\"name\":tar,\"children\":[{\"name\":child,\"size\":3} for child in child_l] }\\\n",
    " for tar,child_l in zip(target,child_list)]}"
   ]
  },
  {
   "cell_type": "code",
   "execution_count": 384,
   "metadata": {
    "collapsed": true
   },
   "outputs": [],
   "source": [
    "def clean_result_Doc(most_sim):\n",
    "    similar_asins=[val[0].split('R_')[1] for val in most_sim]\n",
    "    similarity=[val[1] for val in most_sim]\n",
    "    return similar_asins,similarity"
   ]
  },
  {
   "cell_type": "code",
   "execution_count": 385,
   "metadata": {
    "collapsed": false
   },
   "outputs": [],
   "source": [
    "modelDoc2vec=model\n",
    "asin='8288878881'\n",
    "key='R_'+asin\n",
    "most_sim=modelDoc2vec.docvecs.most_similar([key])\n",
    "similar_asins=[val[0].split('R_')[1] for val in most_sim]\n",
    "similarity=[val[1] for val in most_sim]\n"
   ]
  },
  {
   "cell_type": "code",
   "execution_count": null,
   "metadata": {
    "collapsed": true
   },
   "outputs": [],
   "source": []
  }
 ],
 "metadata": {
  "kernelspec": {
   "display_name": "Python 3",
   "language": "python",
   "name": "python3"
  },
  "language_info": {
   "codemirror_mode": {
    "name": "ipython",
    "version": 3
   },
   "file_extension": ".py",
   "mimetype": "text/x-python",
   "name": "python",
   "nbconvert_exporter": "python",
   "pygments_lexer": "ipython3",
   "version": "3.5.1"
  }
 },
 "nbformat": 4,
 "nbformat_minor": 0
}
