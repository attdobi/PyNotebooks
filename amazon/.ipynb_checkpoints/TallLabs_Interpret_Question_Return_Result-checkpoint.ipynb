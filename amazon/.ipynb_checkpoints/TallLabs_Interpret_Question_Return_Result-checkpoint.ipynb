{
 "cells": [
  {
   "cell_type": "markdown",
   "metadata": {},
   "source": [
    "<h1> Interpret question and return relevent results from reviews</h1>"
   ]
  },
  {
   "cell_type": "code",
   "execution_count": 416,
   "metadata": {
    "collapsed": false
   },
   "outputs": [],
   "source": [
    "import gensim\n",
    "#from sklearn.datasets import fetch_20newsgroups\n",
    "import logging\n",
    "from collections import defaultdict\n",
    "from gensim import corpora, models, similarities\n",
    "#import stopwords\n",
    "#from pattern.en import lemma\n",
    "import re\n",
    "import psycopg2"
   ]
  },
  {
   "cell_type": "code",
   "execution_count": 417,
   "metadata": {
    "collapsed": true
   },
   "outputs": [],
   "source": [
    "conn = psycopg2.connect(\"host=localhost port=5432 dbname=amazon user=postgres password=darkmatter\")\n",
    "cur = conn.cursor()"
   ]
  },
  {
   "cell_type": "markdown",
   "metadata": {},
   "source": [
    "<h1> clean up each question/answer and tokenize </h1>"
   ]
  },
  {
   "cell_type": "code",
   "execution_count": 6,
   "metadata": {
    "collapsed": true
   },
   "outputs": [],
   "source": [
    "def process_line(sentence):\n",
    "    #step 1 split if we need to\n",
    "    sentences=re.split(r'[;:.!?]\\s*', sentence)\n",
    "    result= [re.findall(\"[a-z-.'0-9]+\", sent.lower()) for sent in sentences if \\\n",
    "            re.findall(\"[a-z-.'0-9]+\", sent.lower())!=[]]\n",
    "    if result==[]:\n",
    "        result=[['']]\n",
    "    return result\n",
    "stoplist = set('for a of the and to in rt'.split())"
   ]
  },
  {
   "cell_type": "markdown",
   "metadata": {},
   "source": [
    "<h1> define stop words to remove from the question model and apply </h1>"
   ]
  },
  {
   "cell_type": "code",
   "execution_count": 7,
   "metadata": {
    "collapsed": false
   },
   "outputs": [
    {
     "data": {
      "text/plain": [
       "{'a', 'an', 'and', 'for', 'in', 'of', 'rt', 'the', 'to'}"
      ]
     },
     "execution_count": 7,
     "metadata": {},
     "output_type": "execute_result"
    }
   ],
   "source": [
    "stoplist = set('a an for of the and to in rt'.split())\n",
    "stoplist"
   ]
  },
  {
   "cell_type": "markdown",
   "metadata": {},
   "source": [
    "<h3> Use word2vec trained on the question model to remove the irrelavent words from the topic </h3>"
   ]
  },
  {
   "cell_type": "code",
   "execution_count": 251,
   "metadata": {
    "collapsed": false,
    "scrolled": true
   },
   "outputs": [],
   "source": [
    "QmodelB=models.Word2Vec.load('/home/ubuntu/TallLabs/models/QmodelB')\n",
    "RmodelB=models.Word2Vec.load('/home/ubuntu/TallLabs/models/RmodelB')\n",
    "bag_of_words='is,will,wil,may,might,does,do,can,could,must,should,are,would,did,need,take,out,how,would,am,at,\\\n",
    "anyone,has,have,off,that,which,who,please,thank,you,that,fit,these,they,many,work,with,time,turn,fit,fitt,\\\n",
    "from,hard,use,your,not,into,non,hold,say,from,one,two,like,than,same,thanks,find,make,hot,be,as,well,there,\\\n",
    "son,daughter,amazon,when,after,change,both,ask,know,help,me,recently,purchased,item,any,newest,or'.split(',')\n",
    "bag_of_words_verbs='is,will,wil,may,might,does,do,can,could,must,should,are,would,did,take,out,would,\\\n",
    "anyone,off,that,which,who,please,thank,you,that,these,they,many,time,turn,newest,there,am,at,\\\n",
    "from,hard,use,your,not,into,non,hold,say,from,one,two,like,than,same,thanks,\\\n",
    "son,daughter,amazon,when,after,change,both,ask,know,help,me,recently,purchased,item,any'.split(',')\n",
    "complete_bag=set(sum([[item[0] for item in QmodelB.most_similar(word)] for word in bag_of_words],[]))|stoplist|set(bag_of_words)\n",
    "complete_bag_verbs=set(sum([[item[0] for item in QmodelB.most_similar(word)] for word in bag_of_words_verbs],[]))|stoplist|set(bag_of_words_verbs)\n",
    "\n",
    "#complete_bag\n",
    "\n",
    "def q_filter(sentence):\n",
    "    return [word.lower() for word in sum(process_line(sentence),[]) if word not in complete_bag]\n",
    "\n",
    "def q_filter_verb(sentence):\n",
    "    return [word.lower() for word in sum(process_line(sentence),[]) if word not in complete_bag_verbs]\n",
    "\n",
    "def find_bigrams(key_words):\n",
    "    ii=0\n",
    "    while ii < len(key_words)-1:\n",
    "        if key_words[ii]+'_'+key_words[ii+1] in QmodelB:\n",
    "            key_words.insert(ii,key_words[ii]+' '+key_words[ii+1])\n",
    "            key_words.pop(ii+1)\n",
    "            key_words.pop(ii+1)\n",
    "        ii+=1\n",
    "    return key_words\n",
    "def return_key_words(question):\n",
    "    question=question.lower()\n",
    "    key_words_action= find_bigrams(q_filter_verb(question))\n",
    "    key_words=find_bigrams(q_filter(question))\n",
    "    [key_words_action.remove(word) for word in key_words]\n",
    "    return key_words, key_words_action\n",
    "\n",
    "def find_relevent_sentence(text,key_words):\n",
    "    text=text.lower()\n",
    "    text=text.replace('/',' / ').replace('(',' ( ').replace(')',' ) ')\n",
    "    good_sen=[]\n",
    "    good_qual=[]\n",
    "    good_qual_val=[]\n",
    "    sentences = re.split(r\"(?<![0-9])[.?!;](?![0-9])\",text) #whatever delimiters you will need\n",
    "    for sen in sentences:\n",
    "        if(set(key_words) & set(sen.split())): #find the intersection/union\n",
    "            good_sen.append(sen)\n",
    "            good_qual.append(str(len(set(key_words) & set(sen.split())))+'/'+str(len(set(key_words))))\n",
    "            good_qual_val.append(len(set(key_words) & set(sen.split()))/len(set(key_words)))\n",
    "    return good_sen,good_qual,good_qual_val\n",
    "\n",
    "def merge_review(sql_result):\n",
    "    reviews=[]\n",
    "    [reviews.append(review[0]) for review in sql_result]\n",
    "    return' '.join(reviews)"
   ]
  },
  {
   "cell_type": "code",
   "execution_count": 38,
   "metadata": {
    "collapsed": false
   },
   "outputs": [],
   "source": [
    "def check_key(word,mod):\n",
    "    try:\n",
    "        return mod.most_similar(word,topn=5)\n",
    "    except KeyError:\n",
    "        return [['']]"
   ]
  },
  {
   "cell_type": "markdown",
   "metadata": {},
   "source": [
    "<h1> given a sentence isolate the key words about the topic </h1>"
   ]
  },
  {
   "cell_type": "code",
   "execution_count": 13,
   "metadata": {
    "collapsed": false
   },
   "outputs": [],
   "source": [
    "question='can you play these on a iphone c and do i need a charger on a world map?'\n",
    "question='I would like to know. does it work on Audi A4 2.0? thank you!'\n",
    "question='Can you please help me. I recently purchased this item on amazon. Dos the lense work with a nikon? Thanks'\n",
    "question='Does anyone know. I recently purchased this item on amazon. Dos the lense work with a nikon? Thanks'\n",
    "key_words, key_words_action = return_key_words(question)"
   ]
  },
  {
   "cell_type": "code",
   "execution_count": 14,
   "metadata": {
    "collapsed": false,
    "scrolled": true
   },
   "outputs": [
    {
     "data": {
      "text/plain": [
       "(['lense', 'nikon'], ['work', 'with'])"
      ]
     },
     "execution_count": 14,
     "metadata": {},
     "output_type": "execute_result"
    }
   ],
   "source": [
    "key_words, key_words_action"
   ]
  },
  {
   "cell_type": "markdown",
   "metadata": {},
   "source": [
    "<h3> select a question </h3>"
   ]
  },
  {
   "cell_type": "code",
   "execution_count": 9,
   "metadata": {
    "collapsed": false
   },
   "outputs": [
    {
     "data": {
      "text/plain": [
       "'Do these fit the 2015 camry?'"
      ]
     },
     "execution_count": 9,
     "metadata": {},
     "output_type": "execute_result"
    }
   ],
   "source": [
    "cur.execute(\"SELECT id,asin,question from qa where id=%s limit 1;\",(90000,))\n",
    "result=cur.fetchall()[0]\n",
    "qa_id=result[0]\n",
    "asin=result[1]\n",
    "question=result[2]\n",
    "question"
   ]
  },
  {
   "cell_type": "markdown",
   "metadata": {},
   "source": [
    "<h1> Select a question with a known asin </h1>"
   ]
  },
  {
   "cell_type": "code",
   "execution_count": 431,
   "metadata": {
    "collapsed": false
   },
   "outputs": [
    {
     "data": {
      "text/plain": [
       "'How long is the cord?'"
      ]
     },
     "execution_count": 431,
     "metadata": {},
     "output_type": "execute_result"
    }
   ],
   "source": [
    "asin='8288878881'\n",
    "cur.execute(\"SELECT question from qa where asin=%s limit 1;\",(asin,))\n",
    "result=cur.fetchall()[0]\n",
    "qa_id=result[0]\n",
    "asin=result[1]\n",
    "question=result[2]\n",
    "question"
   ]
  },
  {
   "cell_type": "code",
   "execution_count": 419,
   "metadata": {
    "collapsed": false
   },
   "outputs": [
    {
     "data": {
      "text/plain": [
       "(['long', 'cord'], ['how'])"
      ]
     },
     "execution_count": 419,
     "metadata": {},
     "output_type": "execute_result"
    }
   ],
   "source": [
    "key_words, key_words_action = return_key_words(question)\n",
    "key_words, key_words_action"
   ]
  },
  {
   "cell_type": "code",
   "execution_count": 420,
   "metadata": {
    "collapsed": false,
    "scrolled": true
   },
   "outputs": [
    {
     "data": {
      "text/plain": [
       "['power cord', 'chord', 'cable', 'usb cable']"
      ]
     },
     "execution_count": 420,
     "metadata": {},
     "output_type": "execute_result"
    }
   ],
   "source": [
    "similar_keys=sum([[' '.join(item[0].split('_')) for item in check_key(word,RmodelB) if item!=[''] and item[1]>0.7] \\\n",
    "                  for word in key_words],[])\n",
    "similar_keys"
   ]
  },
  {
   "cell_type": "code",
   "execution_count": 384,
   "metadata": {
    "collapsed": false
   },
   "outputs": [],
   "source": [
    "cur.execute(\"select metajson->'imUrl', metajson->'description', title from metadata where asin=%s and id >1000000 limit 1;\",(asin,))\n",
    "result=cur.fetchall()[0]\n",
    "image=result[0]\n",
    "description=result[1]\n",
    "title=result[2]"
   ]
  },
  {
   "cell_type": "code",
   "execution_count": 359,
   "metadata": {
    "collapsed": false
   },
   "outputs": [
    {
     "data": {
      "text/plain": [
       "([], [], [])"
      ]
     },
     "execution_count": 359,
     "metadata": {},
     "output_type": "execute_result"
    }
   ],
   "source": [
    "find_relevent_sentence(description,key_words)"
   ]
  },
  {
   "cell_type": "code",
   "execution_count": 433,
   "metadata": {
    "collapsed": true
   },
   "outputs": [],
   "source": [
    "cur.execute(\"select reviewtext from reviews_cell_phones_and_accessories where asin=%s;\",(asin,))\n",
    "result=cur.fetchall()"
   ]
  },
  {
   "cell_type": "code",
   "execution_count": 427,
   "metadata": {
    "collapsed": false
   },
   "outputs": [],
   "source": [
    "good_sen,good_qual,good_qual_val=find_relevent_sentence(merge_review(result),key_words)"
   ]
  },
  {
   "cell_type": "code",
   "execution_count": 428,
   "metadata": {
    "collapsed": false
   },
   "outputs": [],
   "source": [
    "sorted_index=sorted(range(len(good_qual_val)),key=lambda x:good_qual_val[x])[::-1]"
   ]
  },
  {
   "cell_type": "code",
   "execution_count": 429,
   "metadata": {
    "collapsed": false
   },
   "outputs": [
    {
     "data": {
      "text/plain": [
       "[17, 12, 11, 0, 16, 15, 14, 13, 10, 9, 8, 7, 6, 5, 4, 3, 2, 1]"
      ]
     },
     "execution_count": 429,
     "metadata": {},
     "output_type": "execute_result"
    }
   ],
   "source": [
    "sorted_index"
   ]
  },
  {
   "cell_type": "code",
   "execution_count": 430,
   "metadata": {
    "collapsed": false
   },
   "outputs": [
    {
     "data": {
      "text/plain": [
       "'2/2:  it charges my phone quickly and the cord is super long\\n2/2: now i have a long cord dangling everywhere\\n2/2: instead, i got a 5 foot cord which is a bit long for the purpose i was going to use it for  ( in my car ) \\n2/2:works great nice long cord\\n1/2: maybe, a 2 21 / 2 foot cord'"
      ]
     },
     "execution_count": 430,
     "metadata": {},
     "output_type": "execute_result"
    }
   ],
   "source": [
    "'\\n'.join([good_qual[index]+':'+good_sen[index] for index in sorted_index][0:5])"
   ]
  },
  {
   "cell_type": "markdown",
   "metadata": {},
   "source": [
    "<h3> print all of the reviews </h3>"
   ]
  },
  {
   "cell_type": "code",
   "execution_count": 439,
   "metadata": {
    "collapsed": false
   },
   "outputs": [
    {
     "name": "stdout",
     "output_type": "stream",
     "text": [
      "Works great nice long cord. Does the trick. Bought several of these to put in diff. rooms & one for work.\n",
      "\n",
      "Good charger and is perfect because it is also has a USB connection. Also love that it is original material it works like that too giving a quick charge when i need it.\n",
      "\n",
      "I have had 3 phone chargers go bad in two weeks. I can not say where I purchased them. Most chargers for cell phones are cheaply made. This one is OK I guess.\n",
      "\n",
      "Got this to replace a frayed OEM cord. The cord itself is ok ;however, the plug that looks like OEM and is stamped as such, is crap! Took 8 times longer to charge with this unit! When the cord was paired with the actual OEM plug in, it worked fine. So if you need a cord its ok; however, it is definitely not OEM and the plug is worthless. For the price and really just needing a cord it is a good value but I am very disappointed with the false markings as OEM when it is certainly not.\n",
      "\n",
      "I received this product in a very timely manner which was delightful, however, I gave it as a gift and was embarrassed to find out it was a defective item. I was reimbursed for the product but would have much rather had a product that worked the first time.\n",
      "\n",
      "It worked fine for a few days then I had to change to cord........The charger itself working fine up to this point..........Rather than send it back I bought another cord from sprint for $19.00\n",
      "\n",
      "fast delivery, works well. Not very long.\n",
      "\n",
      "I thought this would be a Samsung product but look like a cheap counterfiet. It came crushed and is slow to charge my phone.\n",
      "\n",
      "This detachable sansung galaxy s2 travel charger is simply good. It works perfectly.  The cherry on the cake is because it is longer than the factory original l received with the phone.\n",
      "\n",
      "Had all the marking of a legit samsung product but the cord stop working after 3 days. I'm not upset because it was very inexpensive but maybe you should spend a little more and buy a better product off amazon. When it did work it worked very well.\n",
      "\n",
      "First off, the charger works just as it should and all the ports stay connected just fine.People in other reviews were complaining that the cord was too short-- about 2 or 3 feet-- and that was what I was expecting. Instead, I got a 5 foot cord which is a bit long for the purpose I was going to use it for (in my car). Now I have a long cord dangling everywhere. That extra length may be a bonus for most, but I bumped down the rating due to seller's lack of description and/or consistency. Also I'm fairly certain the product image was changed because when I ordered it, a different style adapter was pictured... I was expecting a square shape with the USB port on the side; I got the longer rectangle shape with the USB port on the end... hmm. There's no way to verify that now.In sum: Good charger with good connectivity, looks and acts like it's an original Samsung.  Cord length and adapter style may vary as it seems like the seller is not consistent.\n",
      "\n",
      "it's a charger for dirt cheap and the shipping wasn't more than the item. I wish they had the batteries i needed as well for my phone. but great all an all\n",
      "\n",
      "although i do not use the charger, the cable is useful.  it is longer than what is given with the phone.  the additional length allows the phone to be placed in plain sight, instead of down by the wall receptical\n",
      "\n",
      "This charger doesn't charge the battery of my Samsung Galaxy S2 (i9100) properly.When I connect it to my S2, the screen gets frozen and the cell behaves in a unusual (abnormal) way.\n",
      "\n",
      "This charger is exactly like the original one that came with my phone.  It is most definitely a good buy for the price!\n",
      "\n",
      "works good with our phones, better actually than the charger that came with one of the phones initially , great price\n",
      "\n",
      "Was here right on time.Wall adapter what I expected and works well but dose Not Have Quick-Charge As This ad states and that was the,Whole reason I chose this chager so that is horribly disappointing and inconvenient ..... The micro usb is useless it looks and acts cheaply made, and dose not fit well in to ports an either end will periodically stop working and my phone will freeze and turn off periodically as well....I know its the usd because I tried it in several devices and adapters and it had the same problems....I Will never order from Amazon Again Only two orders out of 13 have come without Defect or Wrong Probuct!Ugh!\n",
      "\n",
      "I haven't had any problems with it.  It just like the oringal charger that comes with the Galaxy S 2.\n",
      "\n",
      "I would like to start off by saying that this product is what I ordered and I have no complaints about shipping or the condition of the product when it came to my house, the problem I do have is the micro usb cable that comes with the charger. Why is it that all of the different companies that sell chargers on Amazon can get the plug part of the charger right but not the micro usb cord? The cord is cheap and not the original cord that comes with the other part of the charger. I am having the same issue with the charger that I ordered for my galaxy note 2. It's a very thin cord, and also very short. Maybe, a 2 21/2 foot cord? And its of a cheaper quality than the part of the charger that the micro usb plugs into...\n",
      "\n",
      "thank you. it did not disappoint. was as expected and does the job though I am going to a new phone as the galaxy 2 has been acting up consistently. shutting down by surprise etc...\n",
      "\n",
      "I love it.  It charges my phone quickly and the cord is super long.  I leave it at home but will purchase another to leave at work.\n",
      "\n",
      "In a nutshell, this is NOT an OEM charger.  Although it has the Samsung markings, it doesn't seat well with a Samsung phone.  This means that it's either meant for another market or it's counterfeit.  With that said, I wouldn't buy this again.~~~~~~~~~~August 17, 2013 - UpdateThe seller tried to make amends by sending me three replacement chargers.  After using this for a while, it is still garbage.  It does not charge my phone and in fact, it drains the phone.  This must be a counterfeit product.  It has Samsung markings but it does not charge the phone.  DO NOT BUY THIS PRODUCT!!!!\n",
      "\n",
      "After 2 weeks my charger just fell apart while i was taking it from the plug , not a strong charger at all i would have asked for my money but it wasn't even worth it .\n",
      "\n",
      "I am pleased with this purchase.  The detachable cable option gives very good flexibility for use with other USB cable chargers.  Good quality for a travel charger.\n"
     ]
    }
   ],
   "source": [
    "print('\\n\\n'.join([val[0] for val in result]))"
   ]
  },
  {
   "cell_type": "code",
   "execution_count": 437,
   "metadata": {
    "collapsed": false
   },
   "outputs": [
    {
     "data": {
      "text/plain": [
       "('Works great nice long cord. Does the trick. Bought several of these to put in diff. rooms & one for work.',)"
      ]
     },
     "execution_count": 437,
     "metadata": {},
     "output_type": "execute_result"
    }
   ],
   "source": [
    "result[0]"
   ]
  },
  {
   "cell_type": "code",
   "execution_count": null,
   "metadata": {
    "collapsed": true
   },
   "outputs": [],
   "source": []
  }
 ],
 "metadata": {
  "kernelspec": {
   "display_name": "Python 3",
   "language": "python",
   "name": "python3"
  },
  "language_info": {
   "codemirror_mode": {
    "name": "ipython",
    "version": 3
   },
   "file_extension": ".py",
   "mimetype": "text/x-python",
   "name": "python",
   "nbconvert_exporter": "python",
   "pygments_lexer": "ipython3",
   "version": "3.5.1"
  }
 },
 "nbformat": 4,
 "nbformat_minor": 0
}
