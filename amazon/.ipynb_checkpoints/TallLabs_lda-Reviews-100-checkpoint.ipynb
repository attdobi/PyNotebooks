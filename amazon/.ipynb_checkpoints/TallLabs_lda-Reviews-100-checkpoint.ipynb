{
 "cells": [
  {
   "cell_type": "markdown",
   "metadata": {},
   "source": [
    "<h1> Test, using LDA for modeling review topics </h1>"
   ]
  },
  {
   "cell_type": "code",
   "execution_count": 1,
   "metadata": {
    "collapsed": false
   },
   "outputs": [],
   "source": [
    "import gensim\n",
    "#from sklearn.datasets import fetch_20newsgroups\n",
    "import logging\n",
    "from collections import defaultdict\n",
    "from gensim import corpora, models, similarities\n",
    "#import stopwords\n",
    "#from pattern.en import lemma\n",
    "import numpy as np\n",
    "import re\n",
    "import psycopg2"
   ]
  },
  {
   "cell_type": "markdown",
   "metadata": {},
   "source": [
    "<h1> connect to postgres db and pull quesiton and answer text</h1>"
   ]
  },
  {
   "cell_type": "code",
   "execution_count": 2,
   "metadata": {
    "collapsed": true
   },
   "outputs": [],
   "source": [
    "conn = psycopg2.connect(\"host=localhost port=5432 dbname=amazon user=postgres password=darkmatter\")\n",
    "cur = conn.cursor()"
   ]
  },
  {
   "cell_type": "code",
   "execution_count": 3,
   "metadata": {
    "collapsed": false
   },
   "outputs": [],
   "source": [
    "#cur.execute(\"SELECT reviewText from reviews_electronics;\")\n",
    "cur.execute(\"SELECT reviewText from reviews_cell_phones_and_accessories;\")\n",
    "RT_results=cur.fetchall()"
   ]
  },
  {
   "cell_type": "markdown",
   "metadata": {},
   "source": [
    "<h1> clean up each question/answer and tokenize </h1>"
   ]
  },
  {
   "cell_type": "code",
   "execution_count": 4,
   "metadata": {
    "collapsed": true
   },
   "outputs": [],
   "source": [
    "def process_line(sentence):\n",
    "    #step 1 split if we need to\n",
    "    sentences=re.split(r\"(?<![0-9])[.?!;](?![0-9])\", sentence)\n",
    "    result= [re.findall(\"[a-z'.-0-9]+\", sent.lower()) for sent in sentences if \\\n",
    "            re.findall(\"[a-z'.-0-9]+\", sent.lower())!=[]]\n",
    "    if result==[]:\n",
    "        result=[['']]\n",
    "    return result\n",
    "stoplist = set('for a of the and to in rt'.split())"
   ]
  },
  {
   "cell_type": "markdown",
   "metadata": {},
   "source": [
    "<h3> Use word2vec trained on the question model to remove the irrelavent words from the topic </h3>"
   ]
  },
  {
   "cell_type": "code",
   "execution_count": 5,
   "metadata": {
    "collapsed": false,
    "scrolled": true
   },
   "outputs": [],
   "source": [
    "RmodelB=models.Word2Vec.load('/home/ubuntu/TallLabs/models/RmodelB_cell')\n",
    "bag_of_words=\"is,will,wil,may,might,does,do,can,could,must,should,are,would,did,need,take,out,how,would,\\\n",
    "anyone,has,have,off,that,which,who,please,thank,you,that,fit,these,they,many,work,with,time,turn,nice,look,there,\\\n",
    "from,hard,use,your,not,into,non,hold,say,from,with,one,two,like,than,same,keep,review,friend,gift,\\\n",
    "son,daughter,amazon,when,after,change,both,he,she,i,i'm,got,been,then,months,buy,cheap,worth,again,tip,our\".split(',')\n",
    "complete_bag=set(sum([[item[0] for item in RmodelB.most_similar(word)] for word in bag_of_words],[]))|stoplist|set(bag_of_words)\n",
    "#complete_bag"
   ]
  },
  {
   "cell_type": "code",
   "execution_count": 6,
   "metadata": {
    "collapsed": false
   },
   "outputs": [],
   "source": [
    "#in this case, all of the words in each sentence of a review are grouped together into one bag of words\n",
    "#Do we want to organize by each sentence?\n",
    "review_sentence= [[word for word in sum(process_line(sentence[0]),[]) if word not in complete_bag] for sentence in RT_results]"
   ]
  },
  {
   "cell_type": "code",
   "execution_count": 48,
   "metadata": {
    "collapsed": false,
    "scrolled": true
   },
   "outputs": [],
   "source": [
    "#review_sentence[60]"
   ]
  },
  {
   "cell_type": "markdown",
   "metadata": {},
   "source": [
    "<h1> train LDA model </h1>"
   ]
  },
  {
   "cell_type": "code",
   "execution_count": 7,
   "metadata": {
    "collapsed": false
   },
   "outputs": [],
   "source": [
    "corpus_savepath='/home/ubuntu/amazon/gensReviews_cell.mm'\n",
    "\n",
    "texts = review_sentence\n",
    "#texts = [\"\".join((char if char.isalpha() else \" \") for char in text).split() for text in texts]\n",
    "#texts = [stopwords.clean([lemma(i) for i in text[:1000]], \"en\") for text in texts]\n",
    "\n",
    "#creating frequency dictionary for tokens in text\n",
    "frequency = defaultdict(int)\n",
    "for text in texts:\n",
    "    for token in text:\n",
    "        frequency[token] += 1\n",
    "\n",
    "#removing very infrequent and very frequent tokens in corpus\n",
    "texts = [[token for token in text if (frequency[token] > 10 and len(token) > 2 and frequency[token] < len(texts)*0.2)] for text in texts]\n",
    "\n",
    "#creating an LDA model\n",
    "dictionary = gensim.corpora.Dictionary(texts)\n",
    "corpus = [dictionary.doc2bow(text) for text in texts]\n",
    "gensim.corpora.MmCorpus.serialize(corpus_savepath, corpus)\n",
    "modelled_corpus = gensim.corpora.MmCorpus(corpus_savepath)"
   ]
  },
  {
   "cell_type": "code",
   "execution_count": 8,
   "metadata": {
    "collapsed": false
   },
   "outputs": [],
   "source": [
    "#corpus_savepath='/home/ubuntu/amazon/gensQuestions.mm'\n",
    "modelled_corpus = gensim.corpora.MmCorpus(corpus_savepath)"
   ]
  },
  {
   "cell_type": "code",
   "execution_count": 90,
   "metadata": {
    "collapsed": true
   },
   "outputs": [],
   "source": [
    "#test loading\n",
    "#lda_load=gensim.models.LdaModel.load('/home/ubuntu/TallLabs/models/lda_cell_15')\n",
    "#dictionary_load=gensim.corpora.Dictionary.load('/home/ubuntu/TallLabs/models/lda_cell_dict_15')"
   ]
  },
  {
   "cell_type": "code",
   "execution_count": 33,
   "metadata": {
    "collapsed": false,
    "scrolled": true
   },
   "outputs": [
    {
     "data": {
      "text/plain": [
       "[(26,\n",
       "  '0.337*email + 0.194*information + 0.083*facebook + 0.055*e-mail + 0.052*prepared + 0.040*etc + 0.032*accounts + 0.029*twitter + 0.018*elegance + 0.016*days'),\n",
       " (261,\n",
       "  \"0.249*paying + 0.176*frustrating + 0.096*daughter's + 0.052*synced + 0.032*acting + 0.028*going + 0.025*price + 0.023*recieve + 0.022*getting + 0.022*much\"),\n",
       " (656,\n",
       "  '0.413*hoped + 0.091*slimmest + 0.060*examples + 0.051*sporty + 0.040*depicted + 0.038*phone/case + 0.033*unfortunately + 0.031*convention + 0.024*everything + 0.021*buttons-'),\n",
       " (89,\n",
       "  '0.405*companies + 0.090*reads + 0.079*hitch + 0.069*voicemail + 0.050*reminder + 0.047*losses + 0.037*edging + 0.034*revise + 0.029*kicking + 0.018*affiliated'),\n",
       " (437,\n",
       "  '0.220*outstanding + 0.152*balance + 0.115*metallic + 0.083*clever + 0.070*pixels + 0.050*ppi + 0.034*ratio + 0.031*swear + 0.016*controllers + 0.016*sans'),\n",
       " (576,\n",
       "  '0.212*capable + 0.183*usable + 0.124*male + 0.101*female + 0.083*considerably + 0.079*impressions + 0.028*preferences + 0.021*acer + 0.020*-foot + 0.018*rca'),\n",
       " (264,\n",
       "  '0.436*music + 0.129*listening + 0.049*streaming + 0.047*bluetooth + 0.025*pandora + 0.021*playing + 0.018*quality + 0.015*sound + 0.013*even + 0.012*conversations'),\n",
       " (544,\n",
       "  \"0.301*marks + 0.138*son's + 0.134*cleaner + 0.091*damn + 0.019*impacted + 0.017*climbing + 0.016*unharmed + 0.012*thing + 0.010*scratches + 0.010*itself\"),\n",
       " (872,\n",
       "  '0.201*rubbery + 0.184*pain + 0.097*slips + 0.028*easily + 0.027*bit + 0.026*versatility + 0.022*noting + 0.018*plastic + 0.017*nicks + 0.017*van'),\n",
       " (57,\n",
       "  '0.263*kinds + 0.217*concerns + 0.069*wondered + 0.054*alarms + 0.054*different + 0.047*pitch + 0.041*difficulties + 0.033*things + 0.030*blingy + 0.022*tried'),\n",
       " (950,\n",
       "  '0.327*cheaper + 0.083*much + 0.046*granted + 0.044*better + 0.034*girly + 0.033*price + 0.027*way + 0.022*lot + 0.021*somebody + 0.019*quality'),\n",
       " (429,\n",
       "  '0.722*convenient + 0.047*debit + 0.025*touchstone + 0.016*vizio + 0.014*place + 0.013*small + 0.013*ids + 0.012*raw + 0.012*always + 0.010*soundbar'),\n",
       " (247,\n",
       "  '0.532*buttons + 0.168*access + 0.057*accessible + 0.052*easily + 0.037*controls + 0.031*volume + 0.018*easier + 0.013*blocked + 0.010*any + 0.008*etc'),\n",
       " (898,\n",
       "  \"0.631*sits + 0.177*communication + 0.055*farther + 0.052*mph + 0.018*laptop's + 0.017*ratchet + 0.014*sneak + 0.012*leans + 0.009*mas + 0.005*porque\"),\n",
       " (844,\n",
       "  '0.421*metal + 0.145*clips + 0.109*loop + 0.084*plastic + 0.017*part + 0.014*avoided + 0.011*distinct + 0.010*small + 0.010*easily + 0.008*back'),\n",
       " (222,\n",
       "  '0.643*moto + 0.054*ripping + 0.030*non-stop + 0.024*better + 0.021*sturdiest + 0.020*figures + 0.019*attributes + 0.012*perfectly + 0.011*artists + 0.011*probably'),\n",
       " (344,\n",
       "  '0.400*size + 0.139*smaller + 0.133*larger + 0.071*small + 0.042*large + 0.022*bit + 0.022*little + 0.020*much + 0.019*too + 0.014*perfect'),\n",
       " (179,\n",
       "  '0.272*dimensions + 0.194*confidence + 0.136*scanner + 0.114*reference + 0.048*transaction + 0.038*bmw + 0.028*victory + 0.028*-great + 0.022*compensation + 0.018*charger-'),\n",
       " (773,\n",
       "  '0.466*near + 0.162*operate + 0.097*upper + 0.059*rely + 0.056*nowhere + 0.030*learning + 0.020*on-off + 0.013*cities + 0.013*user-friendly + 0.013*master'),\n",
       " (976,\n",
       "  '0.323*older + 0.225*models + 0.175*newer + 0.073*picks + 0.034*panels + 0.027*old + 0.027*surf + 0.026*flashes + 0.015*phones + 0.014*disappears'),\n",
       " (410,\n",
       "  \"0.364*pressed + 0.138*dots + 0.121*fourth + 0.115*led's + 0.098*wiped + 0.024*gal + 0.022*inset + 0.017*emulators + 0.015*unpacked + 0.013*generics\"),\n",
       " (503,\n",
       "  '0.580*skin + 0.045*whats + 0.040*bottle + 0.037*fingernails + 0.013*put + 0.013*any + 0.012*chassis + 0.012*fuller + 0.011*warts + 0.010*perfect'),\n",
       " (116,\n",
       "  \"0.339*let's + 0.101*high-quality + 0.077*coated + 0.073*handful + 0.061*funky + 0.040*see + 0.034*widely + 0.030*signature + 0.027*kind + 0.026*rear-facing\"),\n",
       " (382,\n",
       "  '0.263*tpu + 0.120*shield + 0.082*cases + 0.042*align + 0.040*trim + 0.024*back + 0.016*plastic + 0.013*edge + 0.013*around + 0.012*thin'),\n",
       " (293,\n",
       "  '0.478*friends + 0.089*recommend + 0.039*candy + 0.034*shared + 0.022*price + 0.022*give + 0.022*definitely + 0.020*optimized + 0.017*too + 0.014*burning'),\n",
       " (186,\n",
       "  '0.189*dot + 0.174*activation + 0.145*statement + 0.127*pages + 0.073*labelled + 0.066*smile + 0.050*prefers + 0.030*lent + 0.019*heartily + 0.017*simple'),\n",
       " (190,\n",
       "  '0.242*selection + 0.127*stocking + 0.109*project + 0.069*stuffer + 0.063*refill + 0.061*make + 0.042*fatter + 0.023*small + 0.023*abs + 0.022*property'),\n",
       " (785,\n",
       "  '0.230*scratched + 0.179*correctly + 0.074*worn + 0.052*getting + 0.034*easily + 0.021*back + 0.019*branding + 0.018*crooked + 0.016*being + 0.015*painful'),\n",
       " (668,\n",
       "  '0.188*add + 0.181*bulk + 0.078*much + 0.047*adding + 0.032*earlier + 0.032*weight + 0.030*too + 0.029*little + 0.029*protection + 0.029*cases'),\n",
       " (395,\n",
       "  '0.227*send + 0.193*text + 0.089*messages + 0.087*back + 0.024*increases + 0.021*read + 0.020*even + 0.013*now + 0.013*able + 0.012*make'),\n",
       " (779,\n",
       "  \"0.165*manufacturing + 0.147*defect + 0.095*0's + 0.090*scheme + 0.084*team + 0.069*settle + 0.055*nephew + 0.051*entering + 0.026*manly + 0.018*quality\"),\n",
       " (558,\n",
       "  '0.237*sharp + 0.151*uncomfortable + 0.113*cutting + 0.085*disappointment + 0.066*knife + 0.033*selected + 0.026*lime + 0.019*scissors + 0.012*comfortable + 0.011*small'),\n",
       " (554,\n",
       "  '0.287*recharge + 0.096*recharging + 0.065*recharged + 0.047*times + 0.037*trade + 0.021*full + 0.019*enough + 0.019*able + 0.018*used + 0.018*days'),\n",
       " (140,\n",
       "  '0.443*people + 0.080*understand + 0.038*why + 0.038*know + 0.037*most + 0.031*see + 0.028*lot + 0.023*complaining + 0.017*make + 0.013*thing'),\n",
       " (273,\n",
       "  '0.318*fast + 0.157*shipping + 0.070*shipped + 0.042*price + 0.033*charges + 0.030*came + 0.029*prime + 0.018*free + 0.018*too + 0.015*days'),\n",
       " (459,\n",
       "  '0.342*silicone + 0.074*plastic + 0.058*cases + 0.046*flex + 0.041*soft + 0.039*cushion + 0.037*flaps + 0.019*over + 0.018*part + 0.014*around'),\n",
       " (107,\n",
       "  '0.450*spigen + 0.068*cases + 0.039*glas + 0.037*cube + 0.033*backs + 0.023*best + 0.014*now + 0.013*thin + 0.013*always + 0.012*better'),\n",
       " (35,\n",
       "  '0.516*yes + 0.159*thats + 0.047*alternatives + 0.032*why + 0.021*know + 0.019*thing + 0.016*now + 0.014*clamshell + 0.013*outdated + 0.010*little'),\n",
       " (378,\n",
       "  '0.465*loves + 0.099*investment + 0.031*absolutely + 0.024*price + 0.019*protects + 0.018*recommend + 0.017*too + 0.016*old + 0.014*perfect + 0.012*now'),\n",
       " (530,\n",
       "  \"0.544*you've + 0.116*hint + 0.072*rolled + 0.072*experiment + 0.038*niche + 0.037*hbs + 0.027*equation + 0.015*combat + 0.014*untangle + 0.011*fundamental\"),\n",
       " (858,\n",
       "  '0.362*sense + 0.214*knowing + 0.136*security + 0.093*ripped + 0.019*make + 0.019*dremel + 0.012*enlarge + 0.011*now + 0.009*unlocks + 0.008*explicitly'),\n",
       " (557,\n",
       "  '0.323*broke + 0.140*fix + 0.096*glue + 0.045*first + 0.025*plastic + 0.020*back + 0.020*part + 0.019*used + 0.018*came + 0.017*mega'),\n",
       " (956,\n",
       "  '0.326*load + 0.253*nature + 0.118*accidently + 0.085*cups + 0.048*squeezed + 0.030*afterward + 0.029*oldest + 0.024*listens + 0.022*lackluster + 0.009*price-point'),\n",
       " (11,\n",
       "  '0.318*keys + 0.101*gonna + 0.066*extends + 0.027*row + 0.025*bounces + 0.024*swype + 0.020*economical + 0.020*execution + 0.018*recommends + 0.018*lovers'),\n",
       " (94,\n",
       "  '0.340*ive + 0.036*now + 0.034*best + 0.033*used + 0.028*over + 0.027*lags + 0.027*outcome + 0.025*still + 0.023*tumble + 0.022*perfect'),\n",
       " (142,\n",
       "  \"0.212*900 + 0.209*robust + 0.189*well-made + 0.064*mechanical + 0.054*seems + 0.041*designing + 0.039*sister's + 0.023*palms + 0.015*allegedly + 0.014*receptacles\"),\n",
       " (625,\n",
       "  '0.373*speaker + 0.082*bluetooth + 0.065*sound + 0.025*small + 0.024*volume + 0.023*little + 0.020*speakers + 0.016*quality + 0.009*louder + 0.009*comes'),\n",
       " (487,\n",
       "  '0.609*style + 0.031*consists + 0.031*fiddle + 0.031*hollow + 0.028*verdict + 0.027*soo + 0.024*reboot + 0.024*freeze + 0.021*forcing + 0.020*susceptible'),\n",
       " (693,\n",
       "  '0.687*mean + 0.114*suck + 0.028*know + 0.023*nose + 0.022*deceiving + 0.015*lineup + 0.009*dolphin + 0.009*fine + 0.008*.9. + 0.007*surviving'),\n",
       " (336,\n",
       "  '0.379*feels + 0.296*hand + 0.028*slipping + 0.028*hands + 0.025*solid + 0.019*sturdy + 0.017*comfortable + 0.013*way + 0.010*right + 0.009*soft'),\n",
       " (867,\n",
       "  '0.557*attractive + 0.074*marketing + 0.072*fight + 0.051*justice + 0.044*co-workers + 0.041*marketed + 0.015*projected + 0.013*design + 0.011*sturdy + 0.010*over-sized'),\n",
       " (413,\n",
       "  \"0.180*accurate + 0.127*manufacturers + 0.112*reviewing + 0.095*sellers + 0.078*owners + 0.047*proven + 0.030*november + 0.030*bends + 0.026*mom's + 0.023*chargeable\"),\n",
       " (703,\n",
       "  '0.415*worse + 0.158*popped + 0.102*matters + 0.035*nine + 0.034*intrusive + 0.032*danger + 0.026*demands + 0.025*collected + 0.012*eleven + 0.012*lieu'),\n",
       " (433,\n",
       "  '0.256*enter + 0.230*task + 0.213*tags + 0.043*programmed + 0.032*announcement + 0.024*sustain + 0.020*breast + 0.020*set + 0.014*start + 0.013*program'),\n",
       " (496,\n",
       "  '0.576*dual + 0.272*layer + 0.069*layers + 0.013*protection + 0.008*best + 0.005*plastic + 0.005*excellent + 0.005*multiply + 0.005*allowing + 0.004*soft'),\n",
       " (472,\n",
       "  \"0.727*middle + 0.052*knob + 0.039*sweating + 0.038*launched + 0.028*headrest + 0.018*fasten + 0.016*tightens + 0.009*averaged + 0.008*s9's + 0.008*grandparents\"),\n",
       " (572,\n",
       "  '0.305*welcome + 0.176*gaps + 0.079*pluses + 0.076*logical + 0.062*reservation + 0.045*prius + 0.045*essentials + 0.026*0hrs + 0.020*suppression + 0.019*sister-in-law'),\n",
       " (769,\n",
       "  '0.842*instead + 0.035*pixel + 0.023*sleeping + 0.019*customized + 0.012*legacy + 0.006*now + 0.006*being + 0.005*interactive + 0.005*glory + 0.005*addict'),\n",
       " (428,\n",
       "  '0.287*visible + 0.144*tries + 0.052*rubbed + 0.044*teenager + 0.043*took + 0.041*packages + 0.038*nightmare + 0.035*illuminated + 0.028*belongs + 0.025*still'),\n",
       " (725,\n",
       "  '0.763*putting + 0.045*resting + 0.029*put + 0.029*first + 0.020*whim + 0.019*distant + 0.009*tried + 0.008*sure + 0.008*problems + 0.007*invented'),\n",
       " (32,\n",
       "  '0.604*reasons + 0.107*why + 0.053*intense + 0.034*noise-cancelling + 0.029*striking + 0.027*incorporates + 0.027*ubiquitous + 0.016*defected + 0.010*demanded + 0.009*different'),\n",
       " (870,\n",
       "  '0.407*hear + 0.162*clearly + 0.032*caller + 0.031*able + 0.024*end + 0.021*talking + 0.020*fine + 0.017*still + 0.015*mono + 0.014*even'),\n",
       " (456,\n",
       "  '0.471*surprise + 0.237*pleasant + 0.065*distributor + 0.035*micro-fiber + 0.026*thought + 0.024*came + 0.022*experience + 0.020*included + 0.009*willingness + 0.008*holster/case'),\n",
       " (811,\n",
       "  '0.471*airport + 0.111*illuminate + 0.050*sweater + 0.048*sensing + 0.048*marware + 0.045*roses + 0.027*dampening + 0.022*logs + 0.021*valentines + 0.020*crackberry'),\n",
       " (975,\n",
       "  '0.578*properly + 0.041*temporary + 0.037*seated + 0.026*springs + 0.024*working + 0.017*tweak + 0.017*bubbled + 0.017*sure + 0.016*make + 0.015*unlocking'),\n",
       " (605,\n",
       "  '0.570*says + 0.077*title + 0.071*weighs + 0.029*scuff + 0.028*polished + 0.017*even + 0.013*fine + 0.013*-year + 0.011*everything + 0.011*blessing'),\n",
       " (731,\n",
       "  '0.511*cellphone + 0.129*cellphones + 0.026*fashioned + 0.026*eager + 0.025*any + 0.022*peoples + 0.014*condensation + 0.013*anticipation + 0.012*price + 0.012*old'),\n",
       " (603,\n",
       "  '0.461*solution + 0.091*spray + 0.086*liquid + 0.051*perfect + 0.026*bullet + 0.018*device + 0.016*squeegee + 0.015*excelent + 0.015*place + 0.014*micro-sd'),\n",
       " (31,\n",
       "  '0.228*click + 0.099*baby + 0.097*mesh + 0.037*tipped + 0.029*little + 0.025*much + 0.022*releasing + 0.018*used + 0.017*better + 0.017*glittery'),\n",
       " (766,\n",
       "  '0.476*area + 0.192*places + 0.178*areas + 0.037*hangs + 0.022*mid-range + 0.022*crowd + 0.014*rural + 0.014*around + 0.007*darned + 0.005*find'),\n",
       " (616,\n",
       "  '0.672*careful + 0.092*silent + 0.040*on-the-go + 0.040*tune + 0.026*toddler + 0.020*beef + 0.017*bridge + 0.012*arthritis + 0.011*bleeding + 0.010*things'),\n",
       " (199,\n",
       "  \"0.712*push + 0.139*pushed + 0.023*micro-b + 0.009*she'll + 0.009*winning + 0.008*sofa + 0.008*9pm + 0.006*mini-b + 0.006*replenish + 0.006*facial\"),\n",
       " (469,\n",
       "  '0.499*portable + 0.394*speakers + 0.019*pda + 0.010*own + 0.009*highlights + 0.009*netbook + 0.006*resisted + 0.005*orginal + 0.005*coordinate + 0.004*full'),\n",
       " (918,\n",
       "  '0.303*glare + 0.128*softer + 0.078*back-up + 0.077*reduced + 0.032*exhibit + 0.027*cling + 0.026*perimeter + 0.020*much + 0.016*see + 0.014*categories'),\n",
       " (834,\n",
       "  '0.453*money + 0.104*waste + 0.027*flawless + 0.027*even + 0.023*rid + 0.021*better + 0.014*quality + 0.014*lot + 0.013*back + 0.012*much'),\n",
       " (81,\n",
       "  '0.263*-star + 0.140*household + 0.084*fumble + 0.071*inevitably + 0.062*loosened + 0.060*designated + 0.056*warrant + 0.052*accessibility + 0.025*rather + 0.021*trying'),\n",
       " (815,\n",
       "  '0.462*car + 0.054*lighter + 0.035*chargers + 0.024*cigarette + 0.016*used + 0.014*driving + 0.013*quicker + 0.012*charges + 0.011*plug + 0.011*much'),\n",
       " (98,\n",
       "  '0.344*mute + 0.139*bow + 0.101*reliably + 0.071*muted + 0.060*uncovered + 0.027*bows + 0.016*lugging + 0.016*licensed + 0.015*covered + 0.012*weirdly'),\n",
       " (444,\n",
       "  \"0.252*direct + 0.152*sunlight + 0.095*would've + 0.061*collar + 0.061*see + 0.051*diamond + 0.043*visibility + 0.031*under + 0.015*on-board + 0.014*read\"),\n",
       " (191,\n",
       "  '0.641*returning + 0.119*liner + 0.088*nuts + 0.085*drove + 0.020*immediately + 0.015*dread + 0.009*iphone/ipod/ipad + 0.008*driving + 0.002*too + 0.001*desperate'),\n",
       " (817,\n",
       "  '0.349*learned + 0.100*lesson + 0.069*pearls + 0.060*noticable + 0.054*girlfriends + 0.039*first + 0.037*steadily + 0.021*outings + 0.016*gosh + 0.014*took'),\n",
       " (214,\n",
       "  '0.128*release + 0.123*windshield + 0.112*spring + 0.074*clamp + 0.054*loaded + 0.047*touches + 0.028*bothers + 0.023*grips + 0.020*place + 0.019*quick'),\n",
       " (122,\n",
       "  '0.292*luck + 0.236*finding + 0.085*detachable + 0.046*tried + 0.036*better + 0.034*unbelievable + 0.032*worlds + 0.022*providers + 0.020*timed + 0.019*best'),\n",
       " (417,\n",
       "  '0.285*imp + 0.152*newtrent + 0.082*over-the-ear + 0.081*surge + 0.073*hides + 0.028*any + 0.022*collapsible + 0.019*unreasonable + 0.019*touch-sensitive + 0.017*devices'),\n",
       " (452,\n",
       "  '0.664*laptop + 0.117*mac + 0.038*advised + 0.020*protocol + 0.020*configured + 0.014*subsequently + 0.014*restrictions + 0.011*compelled + 0.009*tmo + 0.009*perks'),\n",
       " (968,\n",
       "  '0.570*responsive + 0.119*presses + 0.062*grease + 0.040*revised + 0.034*nite + 0.027*ize + 0.021*transmitted + 0.021*roomy + 0.019*atrocious + 0.015*wilderness'),\n",
       " (286,\n",
       "  '0.340*bulkier + 0.115*uploaded + 0.061*cradles + 0.052*hiding + 0.047*bit + 0.041*make + 0.033*dust-free + 0.031*marvelous + 0.025*little + 0.022*appliances'),\n",
       " (449,\n",
       "  '0.379*else + 0.139*something + 0.129*anything + 0.085*somewhere + 0.068*everything + 0.018*going + 0.016*thing + 0.014*way + 0.013*much + 0.012*things'),\n",
       " (479,\n",
       "  '0.095*lee + 0.092*debbie + 0.092*wesselmann + 0.085*sacrificing + 0.075*ayl + 0.070*sloppy + 0.030*carpeted + 0.030*kind + 0.029*course + 0.029*especially'),\n",
       " (392,\n",
       "  '0.453*bigger + 0.105*approximately + 0.094*beach + 0.061*sand + 0.050*little + 0.040*bummer + 0.022*associated + 0.019*toys + 0.014*small + 0.013*going'),\n",
       " (405,\n",
       "  '0.150*guy + 0.111*mistake + 0.090*spending + 0.069*little + 0.042*smoother + 0.036*automatic + 0.034*usability + 0.031*make + 0.019*much + 0.018*thing'),\n",
       " (365,\n",
       "  '0.130*settings + 0.123*memory + 0.112*internal + 0.048*default + 0.034*file + 0.029*browser + 0.029*apps + 0.027*navigate + 0.016*features + 0.015*found'),\n",
       " (627,\n",
       "  '0.412*pleased + 0.065*slower + 0.035*act + 0.032*overall + 0.029*matching + 0.023*quality + 0.020*quite + 0.019*price + 0.019*clothing + 0.019*far'),\n",
       " (536,\n",
       "  \"0.448*strip + 0.094*efficiently + 0.058*reservations + 0.050*quibble + 0.047*codes + 0.042*reminded + 0.029*promo + 0.028*quickly + 0.022*someone's + 0.021*infinitely\"),\n",
       " (940,\n",
       "  '0.536*new + 0.070*trent + 0.034*old + 0.026*now + 0.022*still + 0.021*used + 0.013*first + 0.008*last + 0.007*over + 0.007*much'),\n",
       " (372,\n",
       "  '0.444*piece + 0.070*plastic + 0.062*worst + 0.060*junk + 0.034*pieces + 0.019*back + 0.019*thing + 0.018*part + 0.016*even + 0.012*put'),\n",
       " (862,\n",
       "  \"0.564*conclusion + 0.092*still + 0.052*tact + 0.045*prob + 0.039*attracting + 0.024*interim + 0.021*mophie's + 0.021*imply + 0.018*fact + 0.016*came\"),\n",
       " (108,\n",
       "  '0.374*protected + 0.070*stayed + 0.059*caught + 0.029*continues + 0.022*beating + 0.021*apparent + 0.018*now + 0.015*still + 0.015*being + 0.014*even'),\n",
       " (626,\n",
       "  \"0.530*ways + 0.134*noises + 0.089*beeping + 0.036*absorbed + 0.034*deluxe + 0.026*it' + 0.021*pinkish + 0.016*blackberrys + 0.012*techno + 0.010*making\"),\n",
       " (267,\n",
       "  '0.330*palm + 0.185*wi-fi + 0.051*router + 0.043*buggy + 0.042*over-charging + 0.037*playlists + 0.025*sluggish + 0.018*good. + 0.015*interface + 0.015*accelerometer')]"
      ]
     },
     "execution_count": 33,
     "metadata": {},
     "output_type": "execute_result"
    }
   ],
   "source": [
    "lda = gensim.models.ldamulticore.LdaMulticore(modelled_corpus, num_topics=1000, workers=8, iterations=20, passes=20,\\\n",
    "                                      id2word=dictionary, eval_every=5)\n",
    "#lda_backup=lda\n",
    "lda.save('/home/ubuntu/TallLabs/models/lda_cell_1000')\n",
    "dictionary.save('/home/ubuntu/TallLabs/models/lda_cell_dict_1000')\n",
    "#returning the resulting topics\n",
    "lda.show_topics(num_topics=100, num_words=10, formatted=True)"
   ]
  },
  {
   "cell_type": "code",
   "execution_count": null,
   "metadata": {
    "collapsed": true
   },
   "outputs": [],
   "source": []
  },
  {
   "cell_type": "markdown",
   "metadata": {},
   "source": [
    "<h1> display each LDA model </h1>"
   ]
  },
  {
   "cell_type": "code",
   "execution_count": 36,
   "metadata": {
    "collapsed": false
   },
   "outputs": [
    {
     "data": {
      "text/plain": [
       "[('thick', 0.32084942262208216),\n",
       " ('thickness', 0.14877305096140372),\n",
       " ('too', 0.066681041143044864),\n",
       " ('thin', 0.050454699828849564),\n",
       " ('enclosed', 0.026917081211609281),\n",
       " ('extender', 0.024198343466669211),\n",
       " ('fingernail', 0.021534185994318143),\n",
       " ('little', 0.020097942436541547),\n",
       " ('enough', 0.018734398481069177),\n",
       " ('much', 0.015980454244946728)]"
      ]
     },
     "execution_count": 36,
     "metadata": {},
     "output_type": "execute_result"
    }
   ],
   "source": [
    "lda.show_topic(999)"
   ]
  },
  {
   "cell_type": "markdown",
   "metadata": {},
   "source": [
    "<h3> vectorize words to see the topic model vector decomposition </h3>"
   ]
  },
  {
   "cell_type": "code",
   "execution_count": 37,
   "metadata": {
    "collapsed": false
   },
   "outputs": [],
   "source": [
    "#id2word_rev = gensim.corpora.Dictionary(texts)\n",
    "id2word_rev=dictionary #already calculated"
   ]
  },
  {
   "cell_type": "code",
   "execution_count": 39,
   "metadata": {
    "collapsed": false
   },
   "outputs": [
    {
     "name": "stdout",
     "output_type": "stream",
     "text": [
      "16.4%: Topic 157\n",
      "16.1%: Topic 675\n",
      "10.9%: Topic 210\n",
      "9.1%: Topic 39\n",
      "9.1%: Topic 963\n",
      "9.1%: Topic 199\n",
      "9.1%: Topic 133\n",
      "9.1%: Topic 2\n",
      "2.1%: Topic 19\n"
     ]
    }
   ],
   "source": [
    "key_words=['mini', 'micro usb', 'mini']\n",
    "key_words=[words.replace(' ','_') for words in key_words]\n",
    "similar_keys=sum([[val[0] for val in RmodelB.most_similar(word) if val[1]>0.7] for word in key_words],[])\n",
    "\n",
    "bow_vector = dictionary.doc2bow(key_words+similar_keys)\n",
    "\n",
    "lda_np=np.array(lda[bow_vector])\n",
    "lda_np=lda_np[lda_np[:,1].argsort()[::-1]]\n",
    "\n",
    "#Print subtopics\n",
    "print('\\n'.join(['{:.1f}%: '.format(val[1]*100)+'Topic '+str(int(val[0])) for val in lda_np][:10]))"
   ]
  },
  {
   "cell_type": "code",
   "execution_count": 41,
   "metadata": {
    "collapsed": false
   },
   "outputs": [
    {
     "data": {
      "text/plain": [
       "[(2, 0.091000000000000192),\n",
       " (19, 0.025125126611110878),\n",
       " (39, 0.091000000000000317),\n",
       " (133, 0.091000000000000192),\n",
       " (157, 0.16398031092582427),\n",
       " (199, 0.091000000000000192),\n",
       " (210, 0.10892877998326707),\n",
       " (675, 0.15687487338888953),\n",
       " (963, 0.091000000000000192)]"
      ]
     },
     "execution_count": 41,
     "metadata": {},
     "output_type": "execute_result"
    }
   ],
   "source": [
    "lda[bow_vector]"
   ]
  },
  {
   "cell_type": "markdown",
   "metadata": {},
   "source": [
    "<h1> Can loop through each review and assign the maxiumum subtopic vecotr </h1>"
   ]
  },
  {
   "cell_type": "markdown",
   "metadata": {},
   "source": [
    "<h1> Loop through reveiws (paragraphs as BoW) and calculate the nearest topic </h1>"
   ]
  },
  {
   "cell_type": "code",
   "execution_count": 31,
   "metadata": {
    "collapsed": false
   },
   "outputs": [
    {
     "data": {
      "text/plain": [
       "14"
      ]
     },
     "execution_count": 31,
     "metadata": {},
     "output_type": "execute_result"
    }
   ],
   "source": [
    "key_words=texts[5000]\n",
    "bow_vector = dictionary.doc2bow(key_words)\n",
    "lda_np=np.array(lda[bow_vector])\n",
    "lda_np=lda_np[lda_np[:,1].argsort()[::-1]]\n",
    "int(lda_np[0][0])"
   ]
  },
  {
   "cell_type": "code",
   "execution_count": 32,
   "metadata": {
    "collapsed": false
   },
   "outputs": [
    {
     "data": {
      "text/plain": [
       "['wanted',\n",
       " 'belt',\n",
       " 'says',\n",
       " 'comfortable',\n",
       " 'option',\n",
       " 'clip',\n",
       " 'belt',\n",
       " 'likes',\n",
       " 'worry',\n",
       " 'dropping',\n",
       " 'clip',\n",
       " 'strong',\n",
       " 'enough',\n",
       " 'put',\n",
       " 'tabs',\n",
       " 'cases',\n",
       " 'best',\n",
       " 'yet',\n",
       " 'plus',\n",
       " 'plastic',\n",
       " 'cover',\n",
       " 'still',\n",
       " 'still']"
      ]
     },
     "execution_count": 32,
     "metadata": {},
     "output_type": "execute_result"
    }
   ],
   "source": [
    "texts[5000]"
   ]
  },
  {
   "cell_type": "markdown",
   "metadata": {},
   "source": [
    "<h1> Hand label topics </h1>"
   ]
  },
  {
   "cell_type": "markdown",
   "metadata": {},
   "source": [
    "<h3> how to load in models </h3>"
   ]
  },
  {
   "cell_type": "code",
   "execution_count": null,
   "metadata": {
    "collapsed": true
   },
   "outputs": [],
   "source": [
    "#test loading\n",
    "#lda_load=gensim.models.LdaModel.load('/home/ubuntu/TallLabs/models/lda_cell_15')\n",
    "#dictionary_load=gensim.corpora.Dictionary.load('/home/ubuntu/TallLabs/models/lda_cell_dict_15')"
   ]
  },
  {
   "cell_type": "markdown",
   "metadata": {},
   "source": [
    "<h3> Calculate the Helinger Distance </h3>"
   ]
  },
  {
   "cell_type": "code",
   "execution_count": null,
   "metadata": {
    "collapsed": true
   },
   "outputs": [],
   "source": [
    "dense1 = gensim.matutils.sparse2full(lda_vec1, lda.num_topics)\n",
    "dense2 = gensim.matutils.sparse2full(lda_vec2, lda.num_topics)\n",
    "sim = np.sqrt(0.5 * ((np.sqrt(dense1) - np.sqrt(dense2))**2).sum())"
   ]
  }
 ],
 "metadata": {
  "kernelspec": {
   "display_name": "Python 3",
   "language": "python",
   "name": "python3"
  },
  "language_info": {
   "codemirror_mode": {
    "name": "ipython",
    "version": 3
   },
   "file_extension": ".py",
   "mimetype": "text/x-python",
   "name": "python",
   "nbconvert_exporter": "python",
   "pygments_lexer": "ipython3",
   "version": "3.5.1"
  }
 },
 "nbformat": 4,
 "nbformat_minor": 0
}
