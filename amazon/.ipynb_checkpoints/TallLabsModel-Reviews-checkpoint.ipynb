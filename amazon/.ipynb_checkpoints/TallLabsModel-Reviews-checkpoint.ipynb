{
 "cells": [
  {
   "cell_type": "markdown",
   "metadata": {},
   "source": [
    "<h1> Build bigram model for cell phone reviews </h1>"
   ]
  },
  {
   "cell_type": "code",
   "execution_count": 2,
   "metadata": {
    "collapsed": false
   },
   "outputs": [],
   "source": [
    "import psycopg2\n",
    "import numpy as np\n",
    "import json\n",
    "from gensim import corpora, models, similarities\n",
    "from gensim.models.doc2vec import LabeledSentence\n",
    "import re"
   ]
  },
  {
   "cell_type": "markdown",
   "metadata": {},
   "source": [
    "<h1> connect to postgres db and pull quesiton and answer text</h1>"
   ]
  },
  {
   "cell_type": "code",
   "execution_count": 3,
   "metadata": {
    "collapsed": false
   },
   "outputs": [],
   "source": [
    "conn = psycopg2.connect(\"host=localhost port=5432 dbname=amazon user=postgres password=darkmatter\")\n",
    "cur = conn.cursor()"
   ]
  },
  {
   "cell_type": "code",
   "execution_count": 4,
   "metadata": {
    "collapsed": true
   },
   "outputs": [],
   "source": [
    "cur.execute(\"SELECT * from metadata limit 1;\")"
   ]
  },
  {
   "cell_type": "code",
   "execution_count": 5,
   "metadata": {
    "collapsed": false
   },
   "outputs": [
    {
     "data": {
      "text/plain": [
       "[(1784326,\n",
       "  {'asin': '8282000477',\n",
       "   'categories': [['Cell Phones & Accessories',\n",
       "     'Accessories',\n",
       "     'Chargers',\n",
       "     'Car Chargers']],\n",
       "   'imUrl': 'http://ecx.images-amazon.com/images/I/31B1s0wXl-L.jpg',\n",
       "   'price': 13.79,\n",
       "   'related': {'also_bought': ['B008EGWUJQ',\n",
       "     'B008EGWURI',\n",
       "     'B008NAYNBG',\n",
       "     'B001CZBZOM',\n",
       "     '8288836925',\n",
       "     'B0091IYM0G'],\n",
       "    'bought_together': ['B008EGWUJQ', 'B008NAYNBG'],\n",
       "    'buy_after_viewing': ['B0091IYM0G',\n",
       "     'B008EGWUJQ',\n",
       "     'B008EGWURI',\n",
       "     'B008NAYNBG']},\n",
       "   'salesRank': {'Cell Phones & Accessories': 253289},\n",
       "   'title': 'Samsung Official OEM Car Charger for your Jitterbug Phone! Original Equipment and Manufacturer (DC 12 volt)'},\n",
       "  '8282000477',\n",
       "  'Samsung Official OEM Car Charger for your Jitterbug Phone! Original Equipment and Manufacturer (DC 12 volt)')]"
      ]
     },
     "execution_count": 5,
     "metadata": {},
     "output_type": "execute_result"
    }
   ],
   "source": [
    "cur.fetchall()"
   ]
  },
  {
   "cell_type": "markdown",
   "metadata": {},
   "source": [
    "<h3> search on reviews_cell_phones_and_accessories </h3>"
   ]
  },
  {
   "cell_type": "code",
   "execution_count": 4,
   "metadata": {
    "collapsed": false
   },
   "outputs": [],
   "source": [
    "cur.execute(\"SELECT reviewText from reviews_cell_phones_and_accessories;\")\n",
    "#cur.execute(\"SELECT reviewText from reviews_electronics;\")\n",
    "RT_results=cur.fetchall()\n",
    "\n",
    "#cur.execute(\"SELECT summary from reviews_cell_phones_and_accessories;\")\n",
    "#Sum_results=cur.fetchall()"
   ]
  },
  {
   "cell_type": "markdown",
   "metadata": {},
   "source": [
    "<h1> clean up each question/answer and tokenize </h1>"
   ]
  },
  {
   "cell_type": "code",
   "execution_count": 5,
   "metadata": {
    "collapsed": false
   },
   "outputs": [],
   "source": [
    "def process_line(sentence):\n",
    "    #step 1 split if we need to\n",
    "    sentences=re.split(r\"(?<![0-9])[.?!;](?![0-9])\", sentence)\n",
    "    result= [re.findall(\"[a-z'.-0-9]+\", sent.lower()) for sent in sentences if \\\n",
    "            re.findall(\"[a-z'.-0-9]+\", sent.lower())!=[]]\n",
    "    if result==[]:\n",
    "        result=[['']]\n",
    "    return result\n",
    "stoplist = set('for a of the and to in rt'.split())"
   ]
  },
  {
   "cell_type": "markdown",
   "metadata": {},
   "source": [
    "<h1> Apply process line. Each sentence is treated as a seperate bag of words </h1>"
   ]
  },
  {
   "cell_type": "code",
   "execution_count": 6,
   "metadata": {
    "collapsed": false
   },
   "outputs": [],
   "source": [
    "#in this case all of the sentences in the reviews are treated as a unique sentence\n",
    "review_sentences=[[[word for word in sentence if word not in stoplist] for sentence \\\n",
    "                       in process_line(review[0])] for review in RT_results]\n",
    "list_of_senteces=[]\n",
    "for review_line in review_sentences:\n",
    "    for sentence in review_line:\n",
    "        list_of_senteces.append(sentence)\n",
    "############################################################\n",
    "#else do this #in this case, all of the words in each sentence of a review are grouped together into one bag of words\n",
    "#review_sentence= [[word for word in sum(process_line(sentence[0]),[]) if word not in complete_bag] for sentence in RT_results]"
   ]
  },
  {
   "cell_type": "markdown",
   "metadata": {},
   "source": [
    "<h1> train word2Vec model </h1>"
   ]
  },
  {
   "cell_type": "code",
   "execution_count": 18,
   "metadata": {
    "collapsed": true
   },
   "outputs": [],
   "source": [
    "Rev_model = models.Word2Vec(review_sentences, size=100, window=5, min_count=10, workers=8)"
   ]
  },
  {
   "cell_type": "code",
   "execution_count": 20,
   "metadata": {
    "collapsed": false
   },
   "outputs": [
    {
     "ename": "NameError",
     "evalue": "name 'Rev_model' is not defined",
     "output_type": "error",
     "traceback": [
      "\u001b[1;31m---------------------------------------------------------------------------\u001b[0m",
      "\u001b[1;31mNameError\u001b[0m                                 Traceback (most recent call last)",
      "\u001b[1;32m<ipython-input-20-3549511def88>\u001b[0m in \u001b[0;36m<module>\u001b[1;34m()\u001b[0m\n\u001b[1;32m----> 1\u001b[1;33m \u001b[0mRev_model\u001b[0m\u001b[1;33m.\u001b[0m\u001b[0mmost_similar\u001b[0m\u001b[1;33m(\u001b[0m\u001b[1;34m'phone'\u001b[0m\u001b[1;33m)\u001b[0m\u001b[1;33m\u001b[0m\u001b[0m\n\u001b[0m",
      "\u001b[1;31mNameError\u001b[0m: name 'Rev_model' is not defined"
     ]
    }
   ],
   "source": [
    "Rev_model.most_similar('phone')"
   ]
  },
  {
   "cell_type": "markdown",
   "metadata": {},
   "source": [
    "<h1> train biagram </h1>"
   ]
  },
  {
   "cell_type": "code",
   "execution_count": 17,
   "metadata": {
    "collapsed": false
   },
   "outputs": [],
   "source": [
    "Rbigram = models.Phrases(list_of_senteces,min_count=5) #model bigrams\n",
    "Rbigrams=list(Rbigram[list_of_senteces]) #make list\n",
    "RmodelB = models.Word2Vec(Rbigrams, size=100, window=5, min_count=5, workers=8) #train"
   ]
  },
  {
   "cell_type": "code",
   "execution_count": 21,
   "metadata": {
    "collapsed": false
   },
   "outputs": [
    {
     "data": {
      "text/plain": [
       "[('cellphone', 0.6505069732666016),\n",
       " (\"phone's\", 0.6486824154853821),\n",
       " ('device', 0.6273693442344666),\n",
       " ('iphone', 0.6251250505447388),\n",
       " ('evo', 0.6217646598815918),\n",
       " ('lap', 0.5964158177375793),\n",
       " ('it', 0.5708815455436707),\n",
       " ('shoulder', 0.5705478191375732),\n",
       " ('belt', 0.5587344169616699),\n",
       " ('wrist', 0.5546225309371948)]"
      ]
     },
     "execution_count": 21,
     "metadata": {},
     "output_type": "execute_result"
    }
   ],
   "source": [
    "RmodelB.most_similar('phone') #positive=['finna', 'gonna'], negative=['bro'],topn=20)"
   ]
  },
  {
   "cell_type": "code",
   "execution_count": 19,
   "metadata": {
    "collapsed": false
   },
   "outputs": [],
   "source": [
    "RmodelB.save('/home/ubuntu/TallLabs/models/RmodelB_cell')"
   ]
  }
 ],
 "metadata": {
  "kernelspec": {
   "display_name": "Python 3",
   "language": "python",
   "name": "python3"
  },
  "language_info": {
   "codemirror_mode": {
    "name": "ipython",
    "version": 3
   },
   "file_extension": ".py",
   "mimetype": "text/x-python",
   "name": "python",
   "nbconvert_exporter": "python",
   "pygments_lexer": "ipython3",
   "version": "3.5.1"
  }
 },
 "nbformat": 4,
 "nbformat_minor": 0
}
