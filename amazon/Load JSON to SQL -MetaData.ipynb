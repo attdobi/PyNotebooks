{
 "cells": [
  {
   "cell_type": "code",
   "execution_count": 1,
   "metadata": {
    "collapsed": true
   },
   "outputs": [],
   "source": [
    "import psycopg2\n",
    "import json\n",
    "import codecs\n",
    "from ast import literal_eval"
   ]
  },
  {
   "cell_type": "markdown",
   "metadata": {},
   "source": [
    "<h1> connect to db and create table </h1>"
   ]
  },
  {
   "cell_type": "code",
   "execution_count": 2,
   "metadata": {
    "collapsed": false
   },
   "outputs": [],
   "source": [
    "conn = psycopg2.connect(\"host=localhost port=5432 dbname=amazon user=postgres password=darkmatter\")\n",
    "cur = conn.cursor()"
   ]
  },
  {
   "cell_type": "markdown",
   "metadata": {},
   "source": [
    "<h1> Create a Table with json as the column </h1> "
   ]
  },
  {
   "cell_type": "code",
   "execution_count": 3,
   "metadata": {
    "collapsed": false
   },
   "outputs": [],
   "source": [
    "#Metadata db\n",
    "cur.execute(\"CREATE TABLE metadata (id serial PRIMARY KEY,\\\n",
    "    metajson json,\\\n",
    "    asin text,\\\n",
    "    title text\\\n",
    "    );\")\n",
    "conn.commit() #submit change to db"
   ]
  },
  {
   "cell_type": "markdown",
   "metadata": {},
   "source": [
    "<h1> read in 10 GB file one line at a time and write to the db </h1>"
   ]
  },
  {
   "cell_type": "code",
   "execution_count": null,
   "metadata": {
    "collapsed": false
   },
   "outputs": [],
   "source": [
    "with open('/home/ubuntu/amazon/metadata.json') as f:\n",
    "    for line in f:\n",
    "        metajson=json.loads(json.dumps(literal_eval(line)))\n",
    "        try:\n",
    "            asin=metajson['asin']\n",
    "        except KeyError:\n",
    "            asin=''\n",
    "        try:\n",
    "            title=metajson['title']\n",
    "        except KeyError:\n",
    "            title=''\n",
    "        \n",
    "        #insert into postgres\n",
    "        cur.execute(\"INSERT INTO metadata (\\\n",
    "        metajson,\\\n",
    "        asin,\\\n",
    "        title\\\n",
    "        )\\\n",
    "        VALUES (\\\n",
    "        %s,%s,%s\\\n",
    "        )\",(json.dumps(metajson),asin,title)\\\n",
    "        )\n",
    "        conn.commit() #submit change to db"
   ]
  },
  {
   "cell_type": "code",
   "execution_count": 11,
   "metadata": {
    "collapsed": false
   },
   "outputs": [
    {
     "data": {
      "text/plain": [
       "{'asin': '0001048791',\n",
       " 'categories': [['Books']],\n",
       " 'imUrl': 'http://ecx.images-amazon.com/images/I/51MKP0T4DBL.jpg',\n",
       " 'salesRank': {'Books': 6334800},\n",
       " 'title': 'The Crucible: Performed by Stuart Pankin, Jerome Dempsey &amp; Cast'}"
      ]
     },
     "execution_count": 11,
     "metadata": {},
     "output_type": "execute_result"
    }
   ],
   "source": [
    "metajson"
   ]
  },
  {
   "cell_type": "markdown",
   "metadata": {
    "collapsed": true
   },
   "source": [
    "<h1> create the demo meta data table to speed up query </h1>"
   ]
  },
  {
   "cell_type": "code",
   "execution_count": 7,
   "metadata": {
    "collapsed": true
   },
   "outputs": [],
   "source": [
    "#QA db #metadata_cell_phones_and_accessories\n",
    "cur.execute(\"CREATE TABLE metadata_demo (id serial PRIMARY KEY,\\\n",
    "    metajson json,\\\n",
    "    asin text,\\\n",
    "    title text\\\n",
    "    );\")\n",
    "conn.commit() #submit change to db"
   ]
  },
  {
   "cell_type": "code",
   "execution_count": 3,
   "metadata": {
    "collapsed": true
   },
   "outputs": [],
   "source": [
    "#demo_asins=[\"B0009H2M1Y\",\"B0002WRGHG\",\"B00002X29G\",\"8288878881\"]\n",
    "# the 5 most similar asins for each asin, determined by doc2vec similarity on reviews\n",
    "#demo_asins=['B007THM9R4', 'B005LFXBLE', 'B003FWLZTK', 'B001LRPN0S', 'B000S5Q9CA']+\\\n",
    "#['B0007WWAGI', 'B0006GFARG', 'B0009B0IX4', 'B000SAD7RA', 'B00069IQG0']+\\\n",
    "#['B00822XBGI', 'B004SK3LSG', 'B0046UQK36', 'B003ZU5X36', 'B00C1BKF3I']+\\\n",
    "#['B004EYSKM8', 'B009YDFX7Y', 'B000S5Q9CA', 'B006YCORR0', 'B00B61ZZB6']\n",
    "\n",
    "#with key words\n",
    "demo_asins=['B00822XBGI', 'B002A9PVAI', 'B007Y8TP52', 'B00792JJK4', 'B004L08BAG']+\\\n",
    "['B004PCJQGS', 'B009SQSV7G', 'B001XXUOQI', 'B009YDFX7Y', 'B004T0GHOU']\n",
    "\n",
    "for asin in demo_asins:\n",
    "    cur.execute(\"SELECT metajson,title from metadata WHERE asin= %s ;\",(asin,))\n",
    "    result=cur.fetchall()[0]\n",
    "    metajson=result[0]\n",
    "    title=result[1]\n",
    "    \n",
    "    #insert into postgres\n",
    "    cur.execute(\"INSERT INTO metadata_demo (\\\n",
    "    metajson,\\\n",
    "    asin,\\\n",
    "    title\\\n",
    "    )\\\n",
    "    VALUES (\\\n",
    "    %s,%s,%s\\\n",
    "    )\",(json.dumps(metajson),asin,title)\\\n",
    "    )\n",
    "    conn.commit() #submit change to db"
   ]
  },
  {
   "cell_type": "code",
   "execution_count": 4,
   "metadata": {
    "collapsed": true
   },
   "outputs": [],
   "source": [
    "conn.close()"
   ]
  },
  {
   "cell_type": "markdown",
   "metadata": {},
   "source": [
    "<h1> Select asin, title and metadata from metadata for asin in reviews_cell_phones_and_accessories </h1>"
   ]
  },
  {
   "cell_type": "code",
   "execution_count": 3,
   "metadata": {
    "collapsed": false
   },
   "outputs": [],
   "source": [
    "cur.execute(\"SELECT a.asin, b.title, b.metajson FROM reviews_cell_phones_and_accessories a \\\n",
    "left join metadata b on a.asin=b.asin;\")\n",
    "results=cur.fetchall()"
   ]
  },
  {
   "cell_type": "markdown",
   "metadata": {},
   "source": [
    "<h3> insert into table </h3>"
   ]
  },
  {
   "cell_type": "code",
   "execution_count": 8,
   "metadata": {
    "collapsed": false
   },
   "outputs": [],
   "source": [
    "for result in results:\n",
    "    asin=result[0]\n",
    "    title=result[1]\n",
    "    metajson=result[2]\n",
    "    \n",
    "    #insert into postgres\n",
    "    cur.execute(\"INSERT INTO metadata_cell_phones_and_accessories (\\\n",
    "    metajson,\\\n",
    "    asin,\\\n",
    "    title\\\n",
    "    )\\\n",
    "    VALUES (\\\n",
    "    %s,%s,%s\\\n",
    "    )\",(json.dumps(metajson),asin,title)\\\n",
    "    )\n",
    "    conn.commit() #submit change to db"
   ]
  },
  {
   "cell_type": "code",
   "execution_count": 9,
   "metadata": {
    "collapsed": true
   },
   "outputs": [],
   "source": [
    "conn.close()"
   ]
  },
  {
   "cell_type": "code",
   "execution_count": null,
   "metadata": {
    "collapsed": true
   },
   "outputs": [],
   "source": []
  }
 ],
 "metadata": {
  "kernelspec": {
   "display_name": "Python 3",
   "language": "python",
   "name": "python3"
  },
  "language_info": {
   "codemirror_mode": {
    "name": "ipython",
    "version": 3
   },
   "file_extension": ".py",
   "mimetype": "text/x-python",
   "name": "python",
   "nbconvert_exporter": "python",
   "pygments_lexer": "ipython3",
   "version": "3.5.1"
  }
 },
 "nbformat": 4,
 "nbformat_minor": 0
}
