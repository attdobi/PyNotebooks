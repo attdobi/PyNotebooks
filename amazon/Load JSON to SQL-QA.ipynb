{
 "cells": [
  {
   "cell_type": "code",
   "execution_count": 10,
   "metadata": {
    "collapsed": true
   },
   "outputs": [],
   "source": [
    "import psycopg2\n",
    "import json\n",
    "import codecs\n",
    "from ast import literal_eval\n",
    "import re"
   ]
  },
  {
   "cell_type": "markdown",
   "metadata": {},
   "source": [
    "<h1> connect to db and create table </h1>"
   ]
  },
  {
   "cell_type": "code",
   "execution_count": 3,
   "metadata": {
    "collapsed": false
   },
   "outputs": [],
   "source": [
    "conn = psycopg2.connect(\"host=localhost port=5432 dbname=amazon user=postgres password=darkmatter\")\n",
    "cur = conn.cursor()"
   ]
  },
  {
   "cell_type": "markdown",
   "metadata": {},
   "source": [
    "<h1> Create a Table with json as the column </h1> "
   ]
  },
  {
   "cell_type": "code",
   "execution_count": 4,
   "metadata": {
    "collapsed": false
   },
   "outputs": [],
   "source": [
    "#QA db\n",
    "cur.execute(\"CREATE TABLE qa (id serial PRIMARY KEY,\\\n",
    "    catagory text,\\\n",
    "    questionType text,\\\n",
    "    answerType text,\\\n",
    "    asin text,\\\n",
    "    answerTime TimeStamp,\\\n",
    "    unixTime int,\\\n",
    "    question text,\\\n",
    "    answer text\\\n",
    "    );\")\n",
    "conn.commit() #submit change to db"
   ]
  },
  {
   "cell_type": "markdown",
   "metadata": {},
   "source": [
    "<h1> function to write values to SQL </h1>"
   ]
  },
  {
   "cell_type": "code",
   "execution_count": 5,
   "metadata": {
    "collapsed": false,
    "scrolled": true
   },
   "outputs": [],
   "source": [
    "def writeJSON2SQL(catagory,questionType,answerType,asin,answerTime,unixTime,question,answer):\n",
    "    if answerTime=='':\n",
    "        answerTime=None\n",
    "    try:\n",
    "        unixTime=int(unixTime)\n",
    "    except ValueError:\n",
    "        unixTime=0\n",
    "    \n",
    "    cur.execute(\"INSERT INTO qa (\\\n",
    "    catagory,\\\n",
    "    questionType,\\\n",
    "    answerType,\\\n",
    "    asin,\\\n",
    "    answerTime,\\\n",
    "    unixTime,\\\n",
    "    question,\\\n",
    "    answer\\\n",
    "    )\\\n",
    "    VALUES (\\\n",
    "    %s,%s,%s,%s,%s,%s,%s,%s\\\n",
    "    )\",(catagory,questionType,answerType,asin,answerTime,unixTime,question,answer)\\\n",
    "    )\n",
    "    conn.commit() #submit change to db"
   ]
  },
  {
   "cell_type": "markdown",
   "metadata": {
    "collapsed": true
   },
   "source": [
    "<h1> read the data </h1>"
   ]
  },
  {
   "cell_type": "code",
   "execution_count": 6,
   "metadata": {
    "collapsed": true
   },
   "outputs": [],
   "source": [
    "def read_line(line):\n",
    "    questionType=re.findall(r'questionType\\': \\'(.*?)\\',',line)\n",
    "    if questionType==[]:\n",
    "        questionType=['']\n",
    "    answerType=re.findall(r'answerType\\': \\'(.*?)\\',',line)\n",
    "    if answerType==[]:\n",
    "        answerType=['']\n",
    "    asin=re.findall(r'asin\\': \\'(.*?)\\',',line)\n",
    "    answerTime=re.findall(r'answerTime\\': \\'(.*?)\\',',line)\n",
    "    if answerTime==[]:\n",
    "        answerTime=['']\n",
    "    if answerTime[0].count(\" ago\")>0:\n",
    "        answerTime=['']\n",
    "    unixTime=re.findall(r'unixTime\\': (.*?),',line)\n",
    "    if unixTime==[]:\n",
    "        unixTime=['']\n",
    "    question=re.findall(r'question\\': \\'(.*?)\\',',line)\n",
    "    if question==[]:\n",
    "        question=re.findall(r'question\\': \"(.*?)\"',line)\n",
    "    answer=re.findall(r'answer\\': \\'(.*?)\\'',line)\n",
    "    if answer==[]:\n",
    "        answer=re.findall(r'answer\\': \"(.*?)\"',line)\n",
    "    return questionType[0],answerType[0],asin[0],answerTime[0],unixTime[0],question[0],answer[0]"
   ]
  },
  {
   "cell_type": "markdown",
   "metadata": {},
   "source": [
    "<h1> read in files and populate sql db </h1>"
   ]
  },
  {
   "cell_type": "code",
   "execution_count": null,
   "metadata": {
    "collapsed": false
   },
   "outputs": [],
   "source": [
    "file_list=!ls /home/ubuntu/amazon/QA\n",
    "for catagory_file in file_list:\n",
    "    lines=open('/home/ubuntu/amazon/QA/'+catagory_file).read().split('\\n')[:-1]\n",
    "    for ii,line in enumerate(lines):\n",
    "        questionType,answerType,asin,answerTime,unixTime,question,answer = read_line(line)\n",
    "        writeJSON2SQL(catagory_file,questionType,answerType,asin,answerTime,unixTime,question,answer)"
   ]
  },
  {
   "cell_type": "code",
   "execution_count": null,
   "metadata": {
    "collapsed": true
   },
   "outputs": [],
   "source": [
    "    "
   ]
  }
 ],
 "metadata": {
  "kernelspec": {
   "display_name": "Python 3",
   "language": "python",
   "name": "python3"
  },
  "language_info": {
   "codemirror_mode": {
    "name": "ipython",
    "version": 3
   },
   "file_extension": ".py",
   "mimetype": "text/x-python",
   "name": "python",
   "nbconvert_exporter": "python",
   "pygments_lexer": "ipython3",
   "version": "3.5.1"
  }
 },
 "nbformat": 4,
 "nbformat_minor": 0
}
