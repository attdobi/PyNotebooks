{
 "cells": [
  {
   "cell_type": "code",
   "execution_count": 3,
   "metadata": {
    "collapsed": true
   },
   "outputs": [],
   "source": [
    "import psycopg2\n",
    "import json\n",
    "import codecs\n",
    "from ast import literal_eval"
   ]
  },
  {
   "cell_type": "code",
   "execution_count": 4,
   "metadata": {
    "collapsed": true
   },
   "outputs": [],
   "source": [
    "def check_value(jsonkey):\n",
    "    try: \n",
    "        return reviewjson[jsonkey]\n",
    "    except KeyError:\n",
    "        return ''"
   ]
  },
  {
   "cell_type": "markdown",
   "metadata": {},
   "source": [
    "<h1> connect to db and create table </h1>"
   ]
  },
  {
   "cell_type": "code",
   "execution_count": 5,
   "metadata": {
    "collapsed": false
   },
   "outputs": [],
   "source": [
    "conn = psycopg2.connect(\"host=localhost port=5432 dbname=amazon user=postgres password=darkmatter\")\n",
    "cur = conn.cursor()"
   ]
  },
  {
   "cell_type": "markdown",
   "metadata": {},
   "source": [
    "<h1> Create a Table with json as the column </h1> "
   ]
  },
  {
   "cell_type": "code",
   "execution_count": 6,
   "metadata": {
    "collapsed": false
   },
   "outputs": [],
   "source": [
    "#Reviews db ... make seperate tables\n",
    "def create_review_table(table_name):\n",
    "    cur.execute(\"CREATE TABLE reviews_{:s} (id serial PRIMARY KEY,\\\n",
    "        catagory text,\\\n",
    "        summary text,\\\n",
    "        helpful int[],\\\n",
    "        reviewerID text,\\\n",
    "        reviewerName text,\\\n",
    "        overall float,\\\n",
    "        asin text,\\\n",
    "        reviewTime Timestamp,\\\n",
    "        reviewText text,\\\n",
    "        unixReviewTime int\\\n",
    "        );\".format(table_name))\n",
    "    conn.commit() #submit change to db"
   ]
  },
  {
   "cell_type": "markdown",
   "metadata": {},
   "source": [
    "<h1> read in 20 GB file one line at a time and write to the db, from reviews data file </h1>"
   ]
  },
  {
   "cell_type": "code",
   "execution_count": 7,
   "metadata": {
    "collapsed": false,
    "scrolled": true
   },
   "outputs": [],
   "source": [
    "#note the catagory = file name (amazon product catigory)   \n",
    "file_list=!ls /home/ubuntu/amazon/Reviews\n",
    "for catagory_file in file_list[16:]:\n",
    "    table_name=catagory_file.split('_5')[0]\n",
    "    create_review_table(table_name)\n",
    "    with open('/home/ubuntu/amazon/Reviews/'+catagory_file) as f:\n",
    "        for line in f:\n",
    "            reviewjson=json.loads(line)\n",
    "\n",
    "            try:\n",
    "                asin=reviewjson['asin']\n",
    "            except KeyError:\n",
    "                asin=''\n",
    "            try:\n",
    "                helpful= reviewjson['helpful']\n",
    "            except KeyError:\n",
    "                helpful=[0,0]\n",
    "\n",
    "            summary=check_value('summary')\n",
    "            reviewerID= check_value('reviewerID')\n",
    "            reviewerName= check_value('reviewerName')\n",
    "            overall= check_value('overall')\n",
    "            #asin reviewjson['asin']\n",
    "            reviewTime= check_value('reviewTime')\n",
    "            reviewText= check_value('reviewText')\n",
    "            unixReviewTime= check_value('unixReviewTime')\n",
    "\n",
    "            #insert into postgres\n",
    "            cur.execute(\"INSERT INTO reviews_{:s} (\\\n",
    "            catagory,\\\n",
    "            summary,\\\n",
    "            helpful,\\\n",
    "            reviewerID,\\\n",
    "            reviewerName,\\\n",
    "            overall,\\\n",
    "            asin,\\\n",
    "            reviewTime,\\\n",
    "            reviewText,\\\n",
    "            unixReviewTime\\\n",
    "            )\\\n",
    "            VALUES (\\\n",
    "            %s,%s,%s,%s,%s,%s,%s,%s,%s,%s\\\n",
    "            )\".format(table_name),(catagory_file,summary,helpful,reviewerID,reviewerName,overall,asin,reviewTime,reviewText,unixReviewTime )\\\n",
    "            )\n",
    "            conn.commit() #submit change to db\n",
    " "
   ]
  },
  {
   "cell_type": "code",
   "execution_count": 2,
   "metadata": {
    "collapsed": false
   },
   "outputs": [
    {
     "data": {
      "text/plain": [
       "['Movies_and_TV_5.json',\n",
       " 'Musical_Instruments_5-2.json',\n",
       " 'Office_Products_5.json',\n",
       " 'Patio_Lawn_and_Garden_5.json',\n",
       " 'Pet_Supplies_5.json',\n",
       " 'Sports_and_Outdoors_5.json',\n",
       " 'Tools_and_Home_Improvement_5.json',\n",
       " 'Toys_and_Games_5.json',\n",
       " 'Video_Games_5.json']"
      ]
     },
     "execution_count": 2,
     "metadata": {},
     "output_type": "execute_result"
    }
   ],
   "source": [
    "file_list=!ls /home/ubuntu/amazon/Reviews\n",
    "file_list[15:]"
   ]
  },
  {
   "cell_type": "code",
   "execution_count": null,
   "metadata": {
    "collapsed": true
   },
   "outputs": [],
   "source": []
  }
 ],
 "metadata": {
  "kernelspec": {
   "display_name": "Python 3",
   "language": "python",
   "name": "python3"
  },
  "language_info": {
   "codemirror_mode": {
    "name": "ipython",
    "version": 3
   },
   "file_extension": ".py",
   "mimetype": "text/x-python",
   "name": "python",
   "nbconvert_exporter": "python",
   "pygments_lexer": "ipython3",
   "version": "3.5.1"
  }
 },
 "nbformat": 4,
 "nbformat_minor": 0
}
