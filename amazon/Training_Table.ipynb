{
 "cells": [
  {
   "cell_type": "markdown",
   "metadata": {},
   "source": [
    "<h1> Setup tall labs traning table </h1>"
   ]
  },
  {
   "cell_type": "code",
   "execution_count": 1,
   "metadata": {
    "collapsed": true
   },
   "outputs": [],
   "source": [
    "from __future__ import division\n",
    "import json\n",
    "import re, collections\n",
    "import numpy as np\n",
    "import os\n",
    "base_dir=os.path.expanduser('~')\n",
    "import datetime\n",
    "import time\n",
    "import psycopg2\n",
    "import json\n",
    "\n",
    "#connect\n",
    "\n",
    "conn = psycopg2.connect(\"host=localhost port=5432 dbname=amazon user=postgres password=darkmatter\")\n",
    "cur = conn.cursor()"
   ]
  },
  {
   "cell_type": "code",
   "execution_count": 2,
   "metadata": {
    "collapsed": true
   },
   "outputs": [],
   "source": [
    "#training table, initialize\n",
    "cur.execute(\"CREATE TABLE training (id serial PRIMARY KEY,\\\n",
    "    question text,\\\n",
    "    qestion_type text,\\\n",
    "    qestion_type_bow text,\\\n",
    "    qestion_type_human text,\\\n",
    "    qa_id integer,\\\n",
    "    data_corr_yn float,\\\n",
    "    data_corr_oe float,\\\n",
    "    bow_corr_yn float,\\\n",
    "    bow_corr_oe float,\\\n",
    "    count_yn integer,\\\n",
    "    count_oe integer,\\\n",
    "    name text,\\\n",
    "    time timestamp\\\n",
    "    );\")\n",
    "conn.commit() #submit change to db"
   ]
  },
  {
   "cell_type": "markdown",
   "metadata": {},
   "source": [
    "<h1> Initialize table with 1st values </h1>"
   ]
  },
  {
   "cell_type": "code",
   "execution_count": 3,
   "metadata": {
    "collapsed": true
   },
   "outputs": [],
   "source": [
    "question='can you play thrash or speed metal on this amp'\n",
    "qestion_type='open-ended'\n",
    "qestion_type_bow= 'yes/no'\n",
    "qestion_type_human= 'yes/no'\n",
    "qa_id=1\n",
    "data_corr_yn=0\n",
    "data_corr_oe=0\n",
    "bow_corr_yn=1\n",
    "bow_corr_oe=0\n",
    "count_yn=1\n",
    "count_oe=0\n",
    "name='test'\n",
    "sub_time=datetime.datetime.now()\n",
    "\n",
    "cur.execute(\"INSERT INTO training (\\\n",
    "question,\\\n",
    "qestion_type,\\\n",
    "qestion_type_bow,\\\n",
    "qestion_type_human,\\\n",
    "qa_id,\\\n",
    "data_corr_yn,\\\n",
    "data_corr_oe,\\\n",
    "bow_corr_yn,\\\n",
    "bow_corr_oe,\\\n",
    "count_yn,\\\n",
    "count_oe,\\\n",
    "name,\\\n",
    "time\\\n",
    ")\\\n",
    "VALUES (\\\n",
    "%s,%s,%s,%s,%s,%s,%s,%s,%s,%s,%s,%s,%s\\\n",
    ")\",(\\\n",
    "question,\\\n",
    "qestion_type,\\\n",
    "qestion_type_bow,\\\n",
    "qestion_type_human,\\\n",
    "qa_id,\\\n",
    "data_corr_yn,\\\n",
    "data_corr_oe,\\\n",
    "bow_corr_yn,\\\n",
    "bow_corr_oe,\\\n",
    "count_yn,\\\n",
    "count_oe,\\\n",
    "name,\\\n",
    "sub_time\\\n",
    "))\n",
    "conn.commit() #submit change to db"
   ]
  },
  {
   "cell_type": "code",
   "execution_count": 4,
   "metadata": {
    "collapsed": true
   },
   "outputs": [],
   "source": [
    "conn.close()"
   ]
  },
  {
   "cell_type": "code",
   "execution_count": null,
   "metadata": {
    "collapsed": true
   },
   "outputs": [],
   "source": []
  }
 ],
 "metadata": {
  "kernelspec": {
   "display_name": "Python 3",
   "language": "python",
   "name": "python3"
  },
  "language_info": {
   "codemirror_mode": {
    "name": "ipython",
    "version": 3
   },
   "file_extension": ".py",
   "mimetype": "text/x-python",
   "name": "python",
   "nbconvert_exporter": "python",
   "pygments_lexer": "ipython3",
   "version": "3.5.1"
  }
 },
 "nbformat": 4,
 "nbformat_minor": 0
}
