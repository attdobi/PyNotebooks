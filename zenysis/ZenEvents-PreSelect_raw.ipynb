{
 "cells": [
  {
   "cell_type": "code",
   "execution_count": 1,
   "metadata": {
    "collapsed": false
   },
   "outputs": [
    {
     "name": "stdout",
     "output_type": "stream",
     "text": [
      "Populating the interactive namespace from numpy and matplotlib\n"
     ]
    }
   ],
   "source": [
    "from __future__ import division\n",
    "import numpy as np\n",
    "import pandas as pd\n",
    "%pylab inline\n",
    "pylab.rcParams['figure.figsize'] = (12.0, 6.0) # set size of figures\"\n",
    "plt.rcParams.update({'font.size': 24})\n",
    "pd.options.display.max_rows=50"
   ]
  },
  {
   "cell_type": "code",
   "execution_count": 3,
   "metadata": {
    "collapsed": false,
    "scrolled": true
   },
   "outputs": [],
   "source": [
    "Events=pd.read_csv('/Users/attiladobi/Downloads/Query_all.csv',index_col='time')\n",
    "#convert unix time to timestamp and set as primary index\n",
    "Events['Date'] = pd.to_datetime(Events.index,unit='ms')\n",
    "Events=Events.set_index('Date')\n",
    "Events['day'] = pd.to_numeric(Events.index.day)\n",
    "Events['month'] = pd.to_numeric(Events.index.month)\n",
    "Events['year'] = pd.to_numeric(Events.index.year)"
   ]
  },
  {
   "cell_type": "markdown",
   "metadata": {},
   "source": [
    "<h1> Remove zenysis user actions </h1>"
   ]
  },
  {
   "cell_type": "code",
   "execution_count": 145,
   "metadata": {
    "collapsed": false
   },
   "outputs": [
    {
     "data": {
      "text/html": [
       "<div>\n",
       "<table border=\"1\" class=\"dataframe\">\n",
       "  <thead>\n",
       "    <tr style=\"text-align: right;\">\n",
       "      <th></th>\n",
       "      <th>name</th>\n",
       "      <th>distinct_id</th>\n",
       "      <th>sampling_factor</th>\n",
       "      <th>properties.$browser</th>\n",
       "      <th>properties.$browser_version</th>\n",
       "      <th>properties.$city</th>\n",
       "      <th>properties.$current_url</th>\n",
       "      <th>properties.$initial_referrer</th>\n",
       "      <th>properties.$initial_referring_domain</th>\n",
       "      <th>properties.$lib_version</th>\n",
       "      <th>...</th>\n",
       "      <th>properties.hmis_indicator_4391</th>\n",
       "      <th>properties.hmis_indicator_4486</th>\n",
       "      <th>properties.hmis_indicator_3973</th>\n",
       "      <th>properties.newSelectionsFilters.hmis_indicator_3205.ranges.3.color</th>\n",
       "      <th>properties.newSelectionsFilters.hmis_indicator_3205.ranges.3.max</th>\n",
       "      <th>properties.newSelectionsFilters.hmis_indicator_3205.ranges.3.min</th>\n",
       "      <th>properties.TotalTargetPopulation</th>\n",
       "      <th>day</th>\n",
       "      <th>month</th>\n",
       "      <th>year</th>\n",
       "    </tr>\n",
       "    <tr>\n",
       "      <th>Date</th>\n",
       "      <th></th>\n",
       "      <th></th>\n",
       "      <th></th>\n",
       "      <th></th>\n",
       "      <th></th>\n",
       "      <th></th>\n",
       "      <th></th>\n",
       "      <th></th>\n",
       "      <th></th>\n",
       "      <th></th>\n",
       "      <th></th>\n",
       "      <th></th>\n",
       "      <th></th>\n",
       "      <th></th>\n",
       "      <th></th>\n",
       "      <th></th>\n",
       "      <th></th>\n",
       "      <th></th>\n",
       "      <th></th>\n",
       "      <th></th>\n",
       "      <th></th>\n",
       "    </tr>\n",
       "  </thead>\n",
       "  <tbody>\n",
       "    <tr>\n",
       "      <th>2016-02-08 09:21:28</th>\n",
       "      <td>Main query view</td>\n",
       "      <td>massoud</td>\n",
       "      <td>1</td>\n",
       "      <td>Firefox</td>\n",
       "      <td>45.0</td>\n",
       "      <td>Addis Ababa</td>\n",
       "      <td>http://preview.zenysis.com/</td>\n",
       "      <td>$direct</td>\n",
       "      <td>$direct</td>\n",
       "      <td>2.7.2</td>\n",
       "      <td>...</td>\n",
       "      <td>NaN</td>\n",
       "      <td>NaN</td>\n",
       "      <td>NaN</td>\n",
       "      <td>NaN</td>\n",
       "      <td>NaN</td>\n",
       "      <td>NaN</td>\n",
       "      <td>NaN</td>\n",
       "      <td>8</td>\n",
       "      <td>2</td>\n",
       "      <td>2016</td>\n",
       "    </tr>\n",
       "    <tr>\n",
       "      <th>2016-10-27 11:09:53</th>\n",
       "      <td>Main query view</td>\n",
       "      <td>m_berdnikov@hotmail.com</td>\n",
       "      <td>1</td>\n",
       "      <td>Internet Explorer</td>\n",
       "      <td>11.0</td>\n",
       "      <td>Centurion</td>\n",
       "      <td>http://nacosa.zenysis.com/query</td>\n",
       "      <td>$direct</td>\n",
       "      <td>$direct</td>\n",
       "      <td>2.9.16</td>\n",
       "      <td>...</td>\n",
       "      <td>NaN</td>\n",
       "      <td>NaN</td>\n",
       "      <td>NaN</td>\n",
       "      <td>NaN</td>\n",
       "      <td>NaN</td>\n",
       "      <td>NaN</td>\n",
       "      <td>NaN</td>\n",
       "      <td>27</td>\n",
       "      <td>10</td>\n",
       "      <td>2016</td>\n",
       "    </tr>\n",
       "    <tr>\n",
       "      <th>2016-10-27 11:10:04</th>\n",
       "      <td>Dashboard view</td>\n",
       "      <td>m_berdnikov@hotmail.com</td>\n",
       "      <td>1</td>\n",
       "      <td>Internet Explorer</td>\n",
       "      <td>11.0</td>\n",
       "      <td>Centurion</td>\n",
       "      <td>http://nacosa.zenysis.com/dashboard</td>\n",
       "      <td>$direct</td>\n",
       "      <td>$direct</td>\n",
       "      <td>2.9.16</td>\n",
       "      <td>...</td>\n",
       "      <td>NaN</td>\n",
       "      <td>NaN</td>\n",
       "      <td>NaN</td>\n",
       "      <td>NaN</td>\n",
       "      <td>NaN</td>\n",
       "      <td>NaN</td>\n",
       "      <td>NaN</td>\n",
       "      <td>27</td>\n",
       "      <td>10</td>\n",
       "      <td>2016</td>\n",
       "    </tr>\n",
       "    <tr>\n",
       "      <th>2016-10-27 11:10:12</th>\n",
       "      <td>Main query view</td>\n",
       "      <td>m_berdnikov@hotmail.com</td>\n",
       "      <td>1</td>\n",
       "      <td>Internet Explorer</td>\n",
       "      <td>11.0</td>\n",
       "      <td>Centurion</td>\n",
       "      <td>http://nacosa.zenysis.com/query</td>\n",
       "      <td>$direct</td>\n",
       "      <td>$direct</td>\n",
       "      <td>2.9.16</td>\n",
       "      <td>...</td>\n",
       "      <td>NaN</td>\n",
       "      <td>NaN</td>\n",
       "      <td>NaN</td>\n",
       "      <td>NaN</td>\n",
       "      <td>NaN</td>\n",
       "      <td>NaN</td>\n",
       "      <td>NaN</td>\n",
       "      <td>27</td>\n",
       "      <td>10</td>\n",
       "      <td>2016</td>\n",
       "    </tr>\n",
       "    <tr>\n",
       "      <th>2016-10-27 11:18:57</th>\n",
       "      <td>Updated healthIndicators selection</td>\n",
       "      <td>m_berdnikov@hotmail.com</td>\n",
       "      <td>1</td>\n",
       "      <td>Internet Explorer</td>\n",
       "      <td>11.0</td>\n",
       "      <td>Centurion</td>\n",
       "      <td>http://nacosa.zenysis.com/query</td>\n",
       "      <td>$direct</td>\n",
       "      <td>$direct</td>\n",
       "      <td>2.9.16</td>\n",
       "      <td>...</td>\n",
       "      <td>NaN</td>\n",
       "      <td>NaN</td>\n",
       "      <td>NaN</td>\n",
       "      <td>NaN</td>\n",
       "      <td>NaN</td>\n",
       "      <td>NaN</td>\n",
       "      <td>NaN</td>\n",
       "      <td>27</td>\n",
       "      <td>10</td>\n",
       "      <td>2016</td>\n",
       "    </tr>\n",
       "  </tbody>\n",
       "</table>\n",
       "<p>5 rows × 1726 columns</p>\n",
       "</div>"
      ],
      "text/plain": [
       "                                                   name  \\\n",
       "Date                                                      \n",
       "2016-02-08 09:21:28                     Main query view   \n",
       "2016-10-27 11:09:53                     Main query view   \n",
       "2016-10-27 11:10:04                      Dashboard view   \n",
       "2016-10-27 11:10:12                     Main query view   \n",
       "2016-10-27 11:18:57  Updated healthIndicators selection   \n",
       "\n",
       "                                 distinct_id  sampling_factor  \\\n",
       "Date                                                            \n",
       "2016-02-08 09:21:28                  massoud                1   \n",
       "2016-10-27 11:09:53  m_berdnikov@hotmail.com                1   \n",
       "2016-10-27 11:10:04  m_berdnikov@hotmail.com                1   \n",
       "2016-10-27 11:10:12  m_berdnikov@hotmail.com                1   \n",
       "2016-10-27 11:18:57  m_berdnikov@hotmail.com                1   \n",
       "\n",
       "                    properties.$browser  properties.$browser_version  \\\n",
       "Date                                                                   \n",
       "2016-02-08 09:21:28             Firefox                         45.0   \n",
       "2016-10-27 11:09:53   Internet Explorer                         11.0   \n",
       "2016-10-27 11:10:04   Internet Explorer                         11.0   \n",
       "2016-10-27 11:10:12   Internet Explorer                         11.0   \n",
       "2016-10-27 11:18:57   Internet Explorer                         11.0   \n",
       "\n",
       "                    properties.$city              properties.$current_url  \\\n",
       "Date                                                                        \n",
       "2016-02-08 09:21:28      Addis Ababa          http://preview.zenysis.com/   \n",
       "2016-10-27 11:09:53        Centurion      http://nacosa.zenysis.com/query   \n",
       "2016-10-27 11:10:04        Centurion  http://nacosa.zenysis.com/dashboard   \n",
       "2016-10-27 11:10:12        Centurion      http://nacosa.zenysis.com/query   \n",
       "2016-10-27 11:18:57        Centurion      http://nacosa.zenysis.com/query   \n",
       "\n",
       "                    properties.$initial_referrer  \\\n",
       "Date                                               \n",
       "2016-02-08 09:21:28                      $direct   \n",
       "2016-10-27 11:09:53                      $direct   \n",
       "2016-10-27 11:10:04                      $direct   \n",
       "2016-10-27 11:10:12                      $direct   \n",
       "2016-10-27 11:18:57                      $direct   \n",
       "\n",
       "                    properties.$initial_referring_domain  \\\n",
       "Date                                                       \n",
       "2016-02-08 09:21:28                              $direct   \n",
       "2016-10-27 11:09:53                              $direct   \n",
       "2016-10-27 11:10:04                              $direct   \n",
       "2016-10-27 11:10:12                              $direct   \n",
       "2016-10-27 11:18:57                              $direct   \n",
       "\n",
       "                    properties.$lib_version  ...   \\\n",
       "Date                                         ...    \n",
       "2016-02-08 09:21:28                   2.7.2  ...    \n",
       "2016-10-27 11:09:53                  2.9.16  ...    \n",
       "2016-10-27 11:10:04                  2.9.16  ...    \n",
       "2016-10-27 11:10:12                  2.9.16  ...    \n",
       "2016-10-27 11:18:57                  2.9.16  ...    \n",
       "\n",
       "                    properties.hmis_indicator_4391  \\\n",
       "Date                                                 \n",
       "2016-02-08 09:21:28                            NaN   \n",
       "2016-10-27 11:09:53                            NaN   \n",
       "2016-10-27 11:10:04                            NaN   \n",
       "2016-10-27 11:10:12                            NaN   \n",
       "2016-10-27 11:18:57                            NaN   \n",
       "\n",
       "                    properties.hmis_indicator_4486  \\\n",
       "Date                                                 \n",
       "2016-02-08 09:21:28                            NaN   \n",
       "2016-10-27 11:09:53                            NaN   \n",
       "2016-10-27 11:10:04                            NaN   \n",
       "2016-10-27 11:10:12                            NaN   \n",
       "2016-10-27 11:18:57                            NaN   \n",
       "\n",
       "                    properties.hmis_indicator_3973  \\\n",
       "Date                                                 \n",
       "2016-02-08 09:21:28                            NaN   \n",
       "2016-10-27 11:09:53                            NaN   \n",
       "2016-10-27 11:10:04                            NaN   \n",
       "2016-10-27 11:10:12                            NaN   \n",
       "2016-10-27 11:18:57                            NaN   \n",
       "\n",
       "                    properties.newSelectionsFilters.hmis_indicator_3205.ranges.3.color  \\\n",
       "Date                                                                                     \n",
       "2016-02-08 09:21:28                                                NaN                   \n",
       "2016-10-27 11:09:53                                                NaN                   \n",
       "2016-10-27 11:10:04                                                NaN                   \n",
       "2016-10-27 11:10:12                                                NaN                   \n",
       "2016-10-27 11:18:57                                                NaN                   \n",
       "\n",
       "                     properties.newSelectionsFilters.hmis_indicator_3205.ranges.3.max  \\\n",
       "Date                                                                                    \n",
       "2016-02-08 09:21:28                                                NaN                  \n",
       "2016-10-27 11:09:53                                                NaN                  \n",
       "2016-10-27 11:10:04                                                NaN                  \n",
       "2016-10-27 11:10:12                                                NaN                  \n",
       "2016-10-27 11:18:57                                                NaN                  \n",
       "\n",
       "                     properties.newSelectionsFilters.hmis_indicator_3205.ranges.3.min  \\\n",
       "Date                                                                                    \n",
       "2016-02-08 09:21:28                                                NaN                  \n",
       "2016-10-27 11:09:53                                                NaN                  \n",
       "2016-10-27 11:10:04                                                NaN                  \n",
       "2016-10-27 11:10:12                                                NaN                  \n",
       "2016-10-27 11:18:57                                                NaN                  \n",
       "\n",
       "                    properties.TotalTargetPopulation day month  year  \n",
       "Date                                                                  \n",
       "2016-02-08 09:21:28                              NaN   8     2  2016  \n",
       "2016-10-27 11:09:53                              NaN  27    10  2016  \n",
       "2016-10-27 11:10:04                              NaN  27    10  2016  \n",
       "2016-10-27 11:10:12                              NaN  27    10  2016  \n",
       "2016-10-27 11:18:57                              NaN  27    10  2016  \n",
       "\n",
       "[5 rows x 1726 columns]"
      ]
     },
     "execution_count": 145,
     "metadata": {},
     "output_type": "execute_result"
    }
   ],
   "source": [
    "zen_cut=(~Events['properties.$os'].str.contains('OS') & ~Events['distinct_id'].str.contains('ian')\\\n",
    "                  & ~Events['distinct_id'].str.contains('zenysis'))\n",
    "EZ=Events[zen_cut]\n",
    "EZ.head()"
   ]
  },
  {
   "cell_type": "markdown",
   "metadata": {},
   "source": [
    "<h1> look for new searches containing \"selections\" </h1>"
   ]
  },
  {
   "cell_type": "code",
   "execution_count": 4,
   "metadata": {
    "collapsed": false,
    "scrolled": true
   },
   "outputs": [
    {
     "data": {
      "text/plain": [
       "{'color', 'excludeZeroes', 'max', 'maxBound', 'min', 'minBound', 'title'}"
      ]
     },
     "execution_count": 4,
     "metadata": {},
     "output_type": "execute_result"
    }
   ],
   "source": [
    "pre_filters=Events.columns[Events.columns.str.contains('Selections')]\n",
    "set([filter_type.split('.')[-1] for filter_type in pre_filters])"
   ]
  },
  {
   "cell_type": "code",
   "execution_count": 7,
   "metadata": {
    "collapsed": false
   },
   "outputs": [
    {
     "data": {
      "text/html": [
       "<div>\n",
       "<table border=\"1\" class=\"dataframe\">\n",
       "  <thead>\n",
       "    <tr style=\"text-align: right;\">\n",
       "      <th></th>\n",
       "      <th>name</th>\n",
       "      <th>distinct_id</th>\n",
       "      <th>sampling_factor</th>\n",
       "      <th>properties.$browser</th>\n",
       "      <th>properties.$browser_version</th>\n",
       "      <th>properties.$city</th>\n",
       "      <th>properties.$current_url</th>\n",
       "      <th>properties.$initial_referrer</th>\n",
       "      <th>properties.$initial_referring_domain</th>\n",
       "      <th>properties.$lib_version</th>\n",
       "      <th>...</th>\n",
       "      <th>properties.hmis_indicator_4391</th>\n",
       "      <th>properties.hmis_indicator_4486</th>\n",
       "      <th>properties.hmis_indicator_3973</th>\n",
       "      <th>properties.newSelectionsFilters.hmis_indicator_3205.ranges.3.color</th>\n",
       "      <th>properties.newSelectionsFilters.hmis_indicator_3205.ranges.3.max</th>\n",
       "      <th>properties.newSelectionsFilters.hmis_indicator_3205.ranges.3.min</th>\n",
       "      <th>properties.TotalTargetPopulation</th>\n",
       "      <th>day</th>\n",
       "      <th>month</th>\n",
       "      <th>year</th>\n",
       "    </tr>\n",
       "    <tr>\n",
       "      <th>Date</th>\n",
       "      <th></th>\n",
       "      <th></th>\n",
       "      <th></th>\n",
       "      <th></th>\n",
       "      <th></th>\n",
       "      <th></th>\n",
       "      <th></th>\n",
       "      <th></th>\n",
       "      <th></th>\n",
       "      <th></th>\n",
       "      <th></th>\n",
       "      <th></th>\n",
       "      <th></th>\n",
       "      <th></th>\n",
       "      <th></th>\n",
       "      <th></th>\n",
       "      <th></th>\n",
       "      <th></th>\n",
       "      <th></th>\n",
       "      <th></th>\n",
       "      <th></th>\n",
       "    </tr>\n",
       "  </thead>\n",
       "  <tbody>\n",
       "    <tr>\n",
       "      <th>2016-10-18 14:12:18</th>\n",
       "      <td>Apply selections filter</td>\n",
       "      <td>kim@nacosa.org.za</td>\n",
       "      <td>1</td>\n",
       "      <td>Chrome</td>\n",
       "      <td>53.0</td>\n",
       "      <td>Cape Town</td>\n",
       "      <td>http://nacosa.zenysis.com/query</td>\n",
       "      <td>$direct</td>\n",
       "      <td>$direct</td>\n",
       "      <td>2.9.16</td>\n",
       "      <td>...</td>\n",
       "      <td>NaN</td>\n",
       "      <td>NaN</td>\n",
       "      <td>NaN</td>\n",
       "      <td>NaN</td>\n",
       "      <td>NaN</td>\n",
       "      <td>NaN</td>\n",
       "      <td>NaN</td>\n",
       "      <td>18</td>\n",
       "      <td>10</td>\n",
       "      <td>2016</td>\n",
       "    </tr>\n",
       "  </tbody>\n",
       "</table>\n",
       "<p>1 rows × 1726 columns</p>\n",
       "</div>"
      ],
      "text/plain": [
       "                                        name        distinct_id  \\\n",
       "Date                                                              \n",
       "2016-10-18 14:12:18  Apply selections filter  kim@nacosa.org.za   \n",
       "\n",
       "                     sampling_factor properties.$browser  \\\n",
       "Date                                                       \n",
       "2016-10-18 14:12:18                1              Chrome   \n",
       "\n",
       "                     properties.$browser_version properties.$city  \\\n",
       "Date                                                                \n",
       "2016-10-18 14:12:18                         53.0        Cape Town   \n",
       "\n",
       "                             properties.$current_url  \\\n",
       "Date                                                   \n",
       "2016-10-18 14:12:18  http://nacosa.zenysis.com/query   \n",
       "\n",
       "                    properties.$initial_referrer  \\\n",
       "Date                                               \n",
       "2016-10-18 14:12:18                      $direct   \n",
       "\n",
       "                    properties.$initial_referring_domain  \\\n",
       "Date                                                       \n",
       "2016-10-18 14:12:18                              $direct   \n",
       "\n",
       "                    properties.$lib_version  ...   \\\n",
       "Date                                         ...    \n",
       "2016-10-18 14:12:18                  2.9.16  ...    \n",
       "\n",
       "                    properties.hmis_indicator_4391  \\\n",
       "Date                                                 \n",
       "2016-10-18 14:12:18                            NaN   \n",
       "\n",
       "                    properties.hmis_indicator_4486  \\\n",
       "Date                                                 \n",
       "2016-10-18 14:12:18                            NaN   \n",
       "\n",
       "                    properties.hmis_indicator_3973  \\\n",
       "Date                                                 \n",
       "2016-10-18 14:12:18                            NaN   \n",
       "\n",
       "                    properties.newSelectionsFilters.hmis_indicator_3205.ranges.3.color  \\\n",
       "Date                                                                                     \n",
       "2016-10-18 14:12:18                                                NaN                   \n",
       "\n",
       "                     properties.newSelectionsFilters.hmis_indicator_3205.ranges.3.max  \\\n",
       "Date                                                                                    \n",
       "2016-10-18 14:12:18                                                NaN                  \n",
       "\n",
       "                     properties.newSelectionsFilters.hmis_indicator_3205.ranges.3.min  \\\n",
       "Date                                                                                    \n",
       "2016-10-18 14:12:18                                                NaN                  \n",
       "\n",
       "                    properties.TotalTargetPopulation day month  year  \n",
       "Date                                                                  \n",
       "2016-10-18 14:12:18                              NaN  18    10  2016  \n",
       "\n",
       "[1 rows x 1726 columns]"
      ]
     },
     "execution_count": 7,
     "metadata": {},
     "output_type": "execute_result"
    }
   ],
   "source": [
    "Events.loc[~pd.isnull(Events[pre_filters[0]])]"
   ]
  },
  {
   "cell_type": "markdown",
   "metadata": {},
   "source": [
    "<h1> Find out how many selections people typically choose </h1>"
   ]
  },
  {
   "cell_type": "markdown",
   "metadata": {},
   "source": [
    "<h2> Partners </h2>"
   ]
  },
  {
   "cell_type": "markdown",
   "metadata": {},
   "source": [
    "<h3> When grouping by date we can see how many partners people typically select before searching</h3>"
   ]
  },
  {
   "cell_type": "markdown",
   "metadata": {},
   "source": [
    "<h3> health, target, partners </h3>"
   ]
  },
  {
   "cell_type": "code",
   "execution_count": null,
   "metadata": {
    "collapsed": true
   },
   "outputs": [],
   "source": [
    "names=['health','target','partners']\n",
    "for name in names:\n",
    "    Filter=EZ.columns[EZ.columns.str.contains('selections') & Events.columns.str.contains(name)]"
   ]
  },
  {
   "cell_type": "code",
   "execution_count": 146,
   "metadata": {
    "collapsed": false
   },
   "outputs": [
    {
     "data": {
      "text/plain": [
       "Index([u'properties.selections.healthIndicators.0',\n",
       "       u'properties.selections.healthIndicators.1',\n",
       "       u'properties.selections.healthIndicators.2',\n",
       "       u'properties.selections.healthIndicators.3',\n",
       "       u'properties.selections.healthIndicators.4'],\n",
       "      dtype='object')"
      ]
     },
     "execution_count": 146,
     "metadata": {},
     "output_type": "execute_result"
    }
   ],
   "source": [
    "Filter=EZ.columns[EZ.columns.str.contains('selections') & Events.columns.str.contains('health')]\n",
    "Filter[:5]"
   ]
  },
  {
   "cell_type": "code",
   "execution_count": 147,
   "metadata": {
    "collapsed": false
   },
   "outputs": [
    {
     "data": {
      "text/plain": [
       "(370, 9)"
      ]
     },
     "execution_count": 147,
     "metadata": {},
     "output_type": "execute_result"
    }
   ],
   "source": [
    "total=EZ.loc[(EZ['name']=='Run query complete')]['name'].count()\n",
    "total_nan=EZ.loc[(EZ['name']=='Run query complete') & (pd.isnull(EZ[Filter[0]]))]['name'].count()\n",
    "total,total_nan"
   ]
  },
  {
   "cell_type": "code",
   "execution_count": 149,
   "metadata": {
    "collapsed": false
   },
   "outputs": [
    {
     "data": {
      "text/plain": [
       "(array([269,  30,  21,  12]), array([1, 2, 3, 4, 5]))"
      ]
     },
     "execution_count": 149,
     "metadata": {},
     "output_type": "execute_result"
    }
   ],
   "source": [
    "xbins=[1,2,3,4,5]\n",
    "np.histogram(EZ.loc[(EZ['name']=='Run query complete')][Filter].stack().groupby(level=0).count(),xbins)\n"
   ]
  },
  {
   "cell_type": "markdown",
   "metadata": {},
   "source": [
    "<h1> find average number of health indicators selected per query </h1>"
   ]
  },
  {
   "cell_type": "code",
   "execution_count": 150,
   "metadata": {
    "collapsed": false
   },
   "outputs": [
    {
     "data": {
      "text/plain": [
       "2.118918918918919"
      ]
     },
     "execution_count": 150,
     "metadata": {},
     "output_type": "execute_result"
    }
   ],
   "source": [
    "EZ.loc[(EZ['name']=='Run query complete')][Filter].stack().groupby(level=0).count().sum()/total"
   ]
  },
  {
   "cell_type": "markdown",
   "metadata": {},
   "source": [
    "<h1> Want to find number of unique users who select certain filters </h1>"
   ]
  },
  {
   "cell_type": "markdown",
   "metadata": {},
   "source": [
    "<h1> First loop through each one and find out wich pre filters are used the most </h1>"
   ]
  },
  {
   "cell_type": "code",
   "execution_count": null,
   "metadata": {
    "collapsed": true
   },
   "outputs": [],
   "source": [
    "list_of_preFilters=['denominator','endDate','geoType','geography','granularity','relativeDate','startDate']"
   ]
  },
  {
   "cell_type": "markdown",
   "metadata": {},
   "source": [
    "<h1> Find out more about the selection break down </h1>"
   ]
  },
  {
   "cell_type": "markdown",
   "metadata": {},
   "source": [
    "'color',\n",
    " 'createdAt',\n",
    " 'denominator', (use with caution :) ... either NaN or something (can counth non NaNs)\n",
    " 'endDate', (use)\n",
    " 'geoType', (use)\n",
    " 'geography', (use)\n",
    " 'granularity', (use)\n",
    " 'max',\n",
    " 'min',\n",
    " 'relativeDate', (use: typicall \"ALL_TIME\" is searched\n",
    " 'startDate', (use)\n",
    " 'title',\n",
    " 'token',\n",
    " 'viewType'"
   ]
  },
  {
   "cell_type": "code",
   "execution_count": 32,
   "metadata": {
    "collapsed": false,
    "scrolled": true
   },
   "outputs": [
    {
     "data": {
      "text/plain": [
       "Index([u'properties.selections.partners.0',\n",
       "       u'properties.selections.partners.1',\n",
       "       u'properties.selections.partners.2',\n",
       "       u'properties.selections.partners.3',\n",
       "       u'properties.selections.partners.4',\n",
       "       u'properties.selections.partners.5',\n",
       "       u'properties.selections.partners.6',\n",
       "       u'properties.selections.partners.7',\n",
       "       u'properties.selections.partners.8',\n",
       "       u'properties.selections.partners.9',\n",
       "       u'properties.selections.partners.10',\n",
       "       u'properties.selections.partners.11',\n",
       "       u'properties.selections.partners.12',\n",
       "       u'properties.selections.partners.13',\n",
       "       u'properties.selections.partners.14',\n",
       "       u'properties.selections.partners.15',\n",
       "       u'properties.selections.partners.16',\n",
       "       u'properties.selections.partners.17',\n",
       "       u'properties.selections.partners.18',\n",
       "       u'properties.selections.partners.19',\n",
       "       u'properties.selections.partners.20',\n",
       "       u'properties.selections.partners.21',\n",
       "       u'properties.selections.partners.22',\n",
       "       u'properties.selections.partners.23',\n",
       "       u'properties.selections.partners.24',\n",
       "       u'properties.selections.partners.25',\n",
       "       u'properties.selections.partners.26',\n",
       "       u'properties.selections.partners.27',\n",
       "       u'properties.selections.partners.28',\n",
       "       u'properties.selections.partners.29',\n",
       "       u'properties.selections.partners.30',\n",
       "       u'properties.selections.partners.31',\n",
       "       u'properties.selections.partners.32',\n",
       "       u'properties.selections.partners.33',\n",
       "       u'properties.selections.partners.34',\n",
       "       u'properties.selections.partners.35',\n",
       "       u'properties.selections.partners.36',\n",
       "       u'properties.selections.partners.37',\n",
       "       u'properties.selections.partners.38',\n",
       "       u'properties.selections.partners.39',\n",
       "       u'properties.selections.partners.40',\n",
       "       u'properties.selections.partners.41'],\n",
       "      dtype='object')"
      ]
     },
     "execution_count": 32,
     "metadata": {},
     "output_type": "execute_result"
    }
   ],
   "source": [
    "Filter=Events.columns[Events.columns.str.contains('selections') & Events.columns.str.contains('partners')]\n",
    "Filter"
   ]
  },
  {
   "cell_type": "code",
   "execution_count": 37,
   "metadata": {
    "collapsed": false
   },
   "outputs": [
    {
     "data": {
      "text/plain": [
       "properties.selections.partners.3\n",
       "afar_wash_and_nutrition_integrated_project_stern_stunden_amref_maternal_and_reproductive_health                                                                                                                                     2\n",
       "ethiopian_society_of_obstetricians_gynecologists_esog_cdc_pmtct_access_to_quality_and_comprehensive_prevention_of_mother_to_child_transmission_of_hiv_pmtct_maternal_newborn_and_child_health_mnch_services_technical_assistance    1\n",
       "family_guidance_association_of_ethiopia_embasy_of_the_kingdom_of_netherlands_maternal_and_adolescent_health_other_maternal_health_not_disaggregated_other_maternal_health_not_disaggregated                                         7\n",
       "gfatm_tb_global_fund_fmoh_tuberculosis                                                                                                                                                                                              1\n",
       "itech_mentoring_cdc_i_tech_ethiopia_hospital_infrastructure                                                                                                                                                                         2\n",
       "jsi_research_and_training_institute_inc_usaid_child_health_community_based_newborn_care_cbnc_provide_cbnc_in_service_training                                                                                                       3\n",
       "save_the_children_eu_maternal_and_adolescent_health_other_maternal_health_not_disaggregated_other_maternal_health_not_disaggregated                                                                                                 2\n",
       "save_the_children_gac_canada_nutrition_capacity_building_for_nutrition_program_implementation_post_training_follow_up_and_mentorship                                                                                                2\n",
       "Name: name, dtype: int64"
      ]
     },
     "execution_count": 37,
     "metadata": {},
     "output_type": "execute_result"
    }
   ],
   "source": [
    "Events.loc[(Events['name']=='Run query complete')].groupby(Filter[3]).count()['name']"
   ]
  },
  {
   "cell_type": "code",
   "execution_count": 26,
   "metadata": {
    "collapsed": false,
    "scrolled": true
   },
   "outputs": [
    {
     "data": {
      "text/html": [
       "<div>\n",
       "<table border=\"1\" class=\"dataframe\">\n",
       "  <thead>\n",
       "    <tr style=\"text-align: right;\">\n",
       "      <th></th>\n",
       "      <th>properties.selections.relativeDate</th>\n",
       "    </tr>\n",
       "    <tr>\n",
       "      <th>month</th>\n",
       "      <th></th>\n",
       "    </tr>\n",
       "  </thead>\n",
       "  <tbody>\n",
       "    <tr>\n",
       "      <th>3</th>\n",
       "      <td>33</td>\n",
       "    </tr>\n",
       "    <tr>\n",
       "      <th>4</th>\n",
       "      <td>13</td>\n",
       "    </tr>\n",
       "    <tr>\n",
       "      <th>5</th>\n",
       "      <td>30</td>\n",
       "    </tr>\n",
       "    <tr>\n",
       "      <th>6</th>\n",
       "      <td>44</td>\n",
       "    </tr>\n",
       "    <tr>\n",
       "      <th>7</th>\n",
       "      <td>549</td>\n",
       "    </tr>\n",
       "    <tr>\n",
       "      <th>8</th>\n",
       "      <td>280</td>\n",
       "    </tr>\n",
       "    <tr>\n",
       "      <th>9</th>\n",
       "      <td>756</td>\n",
       "    </tr>\n",
       "    <tr>\n",
       "      <th>10</th>\n",
       "      <td>406</td>\n",
       "    </tr>\n",
       "    <tr>\n",
       "      <th>11</th>\n",
       "      <td>332</td>\n",
       "    </tr>\n",
       "  </tbody>\n",
       "</table>\n",
       "</div>"
      ],
      "text/plain": [
       "       properties.selections.relativeDate\n",
       "month                                    \n",
       "3                                      33\n",
       "4                                      13\n",
       "5                                      30\n",
       "6                                      44\n",
       "7                                     549\n",
       "8                                     280\n",
       "9                                     756\n",
       "10                                    406\n",
       "11                                    332"
      ]
     },
     "execution_count": 26,
     "metadata": {},
     "output_type": "execute_result"
    }
   ],
   "source": [
    "all_time_cut=Events['properties.selections.relativeDate']=='ALL_TIME'\n",
    "Events.loc[(Events['name']=='Run query complete') & (Events['properties.selections.relativeDate']=='ALL_TIME')].groupby('month')[pre_filters].count()"
   ]
  },
  {
   "cell_type": "code",
   "execution_count": 599,
   "metadata": {
    "collapsed": false,
    "scrolled": true
   },
   "outputs": [
    {
     "data": {
      "text/plain": [
       "{'Apply selections filter',\n",
       " 'Change result view',\n",
       " 'Click save query button',\n",
       " 'Dashboard view',\n",
       " 'Data status view',\n",
       " 'Error: no fields selected',\n",
       " 'Export to Excel',\n",
       " 'Export to Excel failed',\n",
       " 'Export to JSON',\n",
       " 'Facilities map view',\n",
       " 'Flagged issue',\n",
       " 'Invite form submitted',\n",
       " 'Invite view',\n",
       " 'Login view',\n",
       " 'Main query view',\n",
       " 'Query view',\n",
       " 'Remove query from dashboard',\n",
       " 'Reset selections',\n",
       " 'Resource mobilization view',\n",
       " 'Run query',\n",
       " 'Run query complete',\n",
       " 'Save query to dashboard',\n",
       " 'Saved query to dashboard',\n",
       " 'Sidebar toggle',\n",
       " 'Toggle legend series',\n",
       " 'Updated date selection',\n",
       " 'Updated denominator selection',\n",
       " 'Updated endDate selection',\n",
       " 'Updated geography selection',\n",
       " 'Updated healthIndicators selection',\n",
       " 'Updated partners selection',\n",
       " 'Updated startDate selection',\n",
       " 'Updated targets selection',\n",
       " 'Upload data',\n",
       " 'Upload view',\n",
       " 'Uploaded file(s)',\n",
       " 'js error'}"
      ]
     },
     "execution_count": 599,
     "metadata": {},
     "output_type": "execute_result"
    }
   ],
   "source": [
    "set(Events['name'])"
   ]
  },
  {
   "cell_type": "code",
   "execution_count": null,
   "metadata": {
    "collapsed": true
   },
   "outputs": [],
   "source": []
  }
 ],
 "metadata": {
  "kernelspec": {
   "display_name": "Python 2",
   "language": "python",
   "name": "python2"
  },
  "language_info": {
   "codemirror_mode": {
    "name": "ipython",
    "version": 2
   },
   "file_extension": ".py",
   "mimetype": "text/x-python",
   "name": "python",
   "nbconvert_exporter": "python",
   "pygments_lexer": "ipython2",
   "version": "2.7.9"
  }
 },
 "nbformat": 4,
 "nbformat_minor": 0
}
