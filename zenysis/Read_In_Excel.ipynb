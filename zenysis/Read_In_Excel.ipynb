{
 "cells": [
  {
   "cell_type": "code",
   "execution_count": 1,
   "metadata": {
    "collapsed": false
   },
   "outputs": [
    {
     "name": "stdout",
     "output_type": "stream",
     "text": [
      "Populating the interactive namespace from numpy and matplotlib\n"
     ]
    }
   ],
   "source": [
    "from __future__ import division\n",
    "import numpy as np\n",
    "import pandas as pd\n",
    "%pylab inline\n",
    "pylab.rcParams['figure.figsize'] = (12.0, 6.0) # set size of figures\"\n",
    "plt.rcParams.update({'font.size': 24})\n",
    "pd.options.display.max_rows=50"
   ]
  },
  {
   "cell_type": "code",
   "execution_count": 2,
   "metadata": {
    "collapsed": false
   },
   "outputs": [
    {
     "ename": "OSError",
     "evalue": "[Errno 2] No such file or directory",
     "output_type": "error",
     "traceback": [
      "\u001b[0;31m---------------------------------------------------------------------------\u001b[0m",
      "\u001b[0;31mOSError\u001b[0m                                   Traceback (most recent call last)",
      "\u001b[0;32m<ipython-input-2-efd5573965ef>\u001b[0m in \u001b[0;36m<module>\u001b[0;34m()\u001b[0m\n\u001b[1;32m      6\u001b[0m \u001b[0mfilenames\u001b[0m \u001b[0;34m=\u001b[0m \u001b[0mos\u001b[0m\u001b[0;34m.\u001b[0m\u001b[0mlistdir\u001b[0m\u001b[0;34m(\u001b[0m\u001b[0;34m'/Users/attiladobi/nacosa'\u001b[0m\u001b[0;34m)\u001b[0m\u001b[0;34m\u001b[0m\u001b[0m\n\u001b[1;32m      7\u001b[0m \u001b[0;32mfor\u001b[0m \u001b[0mfilename\u001b[0m \u001b[0;32min\u001b[0m \u001b[0mfilenames\u001b[0m\u001b[0;34m:\u001b[0m\u001b[0;34m\u001b[0m\u001b[0m\n\u001b[0;32m----> 8\u001b[0;31m     \u001b[0mos\u001b[0m\u001b[0;34m.\u001b[0m\u001b[0mrename\u001b[0m\u001b[0;34m(\u001b[0m\u001b[0mos\u001b[0m\u001b[0;34m.\u001b[0m\u001b[0mpath\u001b[0m\u001b[0;34m.\u001b[0m\u001b[0mjoin\u001b[0m\u001b[0;34m(\u001b[0m\u001b[0mpath\u001b[0m\u001b[0;34m,\u001b[0m \u001b[0mfilename\u001b[0m\u001b[0;34m)\u001b[0m\u001b[0;34m,\u001b[0m \u001b[0mos\u001b[0m\u001b[0;34m.\u001b[0m\u001b[0mpath\u001b[0m\u001b[0;34m.\u001b[0m\u001b[0mjoin\u001b[0m\u001b[0;34m(\u001b[0m\u001b[0mpath\u001b[0m\u001b[0;34m,\u001b[0m \u001b[0mfilename\u001b[0m\u001b[0;34m.\u001b[0m\u001b[0mreplace\u001b[0m\u001b[0;34m(\u001b[0m\u001b[0;34m' '\u001b[0m\u001b[0;34m,\u001b[0m \u001b[0;34m'_'\u001b[0m\u001b[0;34m)\u001b[0m\u001b[0;34m)\u001b[0m\u001b[0;34m)\u001b[0m\u001b[0;34m\u001b[0m\u001b[0m\n\u001b[0m",
      "\u001b[0;31mOSError\u001b[0m: [Errno 2] No such file or directory"
     ]
    }
   ],
   "source": [
    "f=!ls /Users/attiladobi/nacosa/Site Database Sex Work Q1 and Q2\n",
    "\n",
    "#First of all, lets replace all the white spaces to make reading in the files easier\n",
    "import os\n",
    "path  = os.getcwd()\n",
    "filenames = os.listdir('/Users/attiladobi/nacosa')\n",
    "for filename in filenames:\n",
    "    os.rename(os.path.join(path, filename), os.path.join(path, filename.replace(' ', '_')))"
   ]
  },
  {
   "cell_type": "code",
   "execution_count": 3,
   "metadata": {
    "collapsed": false
   },
   "outputs": [
    {
     "name": "stdout",
     "output_type": "stream",
     "text": [
      "\u001b[31mCPC Brits Site Database .xlsx\u001b[m\u001b[m\r\n",
      "\u001b[31mCPC Germiston Site Database .xlsx\u001b[m\u001b[m\r\n",
      "\u001b[31mCPC Rustenburg Site Database .xlsx\u001b[m\u001b[m\r\n",
      "\u001b[31mCPC Springs Site Database .xlsx\u001b[m\u001b[m\r\n",
      "\u001b[31mCPC West Rand Site Database .xlsx\u001b[m\u001b[m\r\n",
      "\u001b[31mNqobile Sedibeng Site Database .xlsx\u001b[m\u001b[m\r\n",
      "\u001b[31mOASIS Diepsloot Site Database .xlsx\u001b[m\u001b[m\r\n",
      "\u001b[31mOASIS Randburg Site Database .xlsx\u001b[m\u001b[m\r\n",
      "\u001b[31mOASIS Westrand Site Database .xlsx\u001b[m\u001b[m\r\n",
      "\u001b[31mQAC Thabo Mofutsanyane Site Database .xlsx\u001b[m\u001b[m\r\n",
      "\u001b[31mSW Indicator Mapping.xlsx\u001b[m\u001b[m\r\n",
      "\u001b[31mSWEAT Buffalo City Site Data Base .xlsx\u001b[m\u001b[m\r\n",
      "\u001b[31mSWEAT City Of Cape Town Site Database .xlsx\u001b[m\u001b[m\r\n",
      "\u001b[31mTBHIV City of Cape Town HTS Site Database .xlsm\u001b[m\u001b[m\r\n",
      "\u001b[31mTBHIV City of Cape Town Outreach Site database.xlsm\u001b[m\u001b[m\r\n",
      "\u001b[31mWRHI HILLBROW Q2 Site database.xlsx\u001b[m\u001b[m\r\n",
      "\u001b[31mWRHI Pretoria Q2 Site database .xlsx\u001b[m\u001b[m\r\n",
      "\u001b[31mWRHI ROSETTENVILLE  Q2 Site database.xlsx\u001b[m\u001b[m\r\n",
      "\u001b[31mWRHI TG  MSM Q2 Site database .xlsx\u001b[m\u001b[m\r\n"
     ]
    }
   ],
   "source": [
    "!ls /Users/attiladobi/nacosa/Site\\ Database\\ Sex\\ Work\\ Q1\\ and\\ Q2/"
   ]
  },
  {
   "cell_type": "code",
   "execution_count": 8,
   "metadata": {
    "collapsed": false
   },
   "outputs": [],
   "source": [
    "filepath=r\"/Users/attiladobi/nacosa/Site Database Sex Work Q1 and Q2/CPC Rustenburg Site Database .xlsx\""
   ]
  },
  {
   "cell_type": "code",
   "execution_count": 5,
   "metadata": {
    "collapsed": false
   },
   "outputs": [
    {
     "data": {
      "text/plain": [
       "'/Users/attiladobi/nacosa/Site\\\\ Database\\\\ Sex\\\\ Work\\\\ Q1\\\\ and\\\\ Q2/CPC\\\\ Rustenburg\\\\ Site\\\\ Database\\\\ .xlsx'"
      ]
     },
     "execution_count": 5,
     "metadata": {},
     "output_type": "execute_result"
    }
   ],
   "source": [
    "#filepath=filepath.replace(\" \",\"\\ \")\n",
    "#filepath"
   ]
  },
  {
   "cell_type": "code",
   "execution_count": 9,
   "metadata": {
    "collapsed": false
   },
   "outputs": [],
   "source": [
    "xl=pd.ExcelFile(filepath) #delimiter=r\"\\s+\""
   ]
  },
  {
   "cell_type": "code",
   "execution_count": 10,
   "metadata": {
    "collapsed": false,
    "scrolled": true
   },
   "outputs": [
    {
     "data": {
      "text/plain": [
       "[u'PERFORMANCE DASHBOARD',\n",
       " u'Sheet1',\n",
       " u'Q4',\n",
       " u'Quarter1',\n",
       " u'PEER MOTIVATOR LIST',\n",
       " u'Number of Visits per a PM']"
      ]
     },
     "execution_count": 10,
     "metadata": {},
     "output_type": "execute_result"
    }
   ],
   "source": [
    "xl.sheet_names  # see all sheet names"
   ]
  },
  {
   "cell_type": "markdown",
   "metadata": {},
   "source": [
    "<h3> Ignore the last row since it's a sum </h3>"
   ]
  },
  {
   "cell_type": "code",
   "execution_count": 11,
   "metadata": {
    "collapsed": false,
    "scrolled": true
   },
   "outputs": [
    {
     "data": {
      "text/html": [
       "<div>\n",
       "<table border=\"1\" class=\"dataframe\">\n",
       "  <thead>\n",
       "    <tr>\n",
       "      <th>211 Jul</th>\n",
       "      <th>Outreach date</th>\n",
       "    </tr>\n",
       "    <tr>\n",
       "      <th>455 Aug</th>\n",
       "      <th>YEAR AND MONTH \\nOF OUTREACH</th>\n",
       "    </tr>\n",
       "  </thead>\n",
       "  <tbody>\n",
       "    <tr>\n",
       "      <th>625 Sept</th>\n",
       "      <td>PEER MOTIVATOR NAME (enter peer motivators nam...</td>\n",
       "    </tr>\n",
       "    <tr>\n",
       "      <th>Unnamed: 3</th>\n",
       "      <td>Outreach form code</td>\n",
       "    </tr>\n",
       "    <tr>\n",
       "      <th>Unnamed: 4</th>\n",
       "      <td>Day/Night</td>\n",
       "    </tr>\n",
       "    <tr>\n",
       "      <th>Unnamed: 5</th>\n",
       "      <td>A - Suburb</td>\n",
       "    </tr>\n",
       "    <tr>\n",
       "      <th>Unnamed: 6</th>\n",
       "      <td>Type of site</td>\n",
       "    </tr>\n",
       "    <tr>\n",
       "      <th>Who</th>\n",
       "      <td>CSW (MUST ENTER \"YES\" IF SEX WORKER) NB!!!</td>\n",
       "    </tr>\n",
       "    <tr>\n",
       "      <th>Unnamed: 8</th>\n",
       "      <td>First time meeting with Sex Worker?</td>\n",
       "    </tr>\n",
       "    <tr>\n",
       "      <th>UNIQUE CODE ELEMENTS</th>\n",
       "      <td>B - First name OR at least the first 3 letters...</td>\n",
       "    </tr>\n",
       "    <tr>\n",
       "      <th>Unnamed: 10</th>\n",
       "      <td>C - Surname OR at least first 3 letters of sur...</td>\n",
       "    </tr>\n",
       "    <tr>\n",
       "      <th>Unnamed: 11</th>\n",
       "      <td>Contact Number</td>\n",
       "    </tr>\n",
       "    <tr>\n",
       "      <th>Unnamed: 12</th>\n",
       "      <td>D - Year of birth</td>\n",
       "    </tr>\n",
       "    <tr>\n",
       "      <th>Unnamed: 13</th>\n",
       "      <td>E - Gender</td>\n",
       "    </tr>\n",
       "    <tr>\n",
       "      <th>Unnamed: 14</th>\n",
       "      <td>Unique Code (automatically generated - only ge...</td>\n",
       "    </tr>\n",
       "    <tr>\n",
       "      <th>Unnamed: 15</th>\n",
       "      <td>Counter (1 = first outreach for quarter)</td>\n",
       "    </tr>\n",
       "    <tr>\n",
       "      <th>Unnamed: 16</th>\n",
       "      <td>OVERRIDE</td>\n",
       "    </tr>\n",
       "    <tr>\n",
       "      <th>Unnamed: 17</th>\n",
       "      <td>Number of services received in quarter</td>\n",
       "    </tr>\n",
       "    <tr>\n",
       "      <th>Condoms</th>\n",
       "      <td>F 1 Male Condoms\\n(Number given)</td>\n",
       "    </tr>\n",
       "    <tr>\n",
       "      <th>Unnamed: 19</th>\n",
       "      <td>F2 Female condoms\\n (Number Given)</td>\n",
       "    </tr>\n",
       "    <tr>\n",
       "      <th>Unnamed: 20</th>\n",
       "      <td>F3 Lube</td>\n",
       "    </tr>\n",
       "    <tr>\n",
       "      <th>Workshops</th>\n",
       "      <td>E4 Support  group\\n workshops</td>\n",
       "    </tr>\n",
       "    <tr>\n",
       "      <th>Unnamed: 22</th>\n",
       "      <td>E2 Risk reduction Workshop</td>\n",
       "    </tr>\n",
       "    <tr>\n",
       "      <th>HTS INDICATORS</th>\n",
       "      <td>B 5 Known HIV positive Status</td>\n",
       "    </tr>\n",
       "    <tr>\n",
       "      <th>Unnamed: 24</th>\n",
       "      <td>B 1 Received HTS and know results</td>\n",
       "    </tr>\n",
       "    <tr>\n",
       "      <th>Unnamed: 25</th>\n",
       "      <td>B2 SW tested HIV negative</td>\n",
       "    </tr>\n",
       "    <tr>\n",
       "      <th>Unnamed: 26</th>\n",
       "      <td>HIV negative SWs referred for PrEP</td>\n",
       "    </tr>\n",
       "    <tr>\n",
       "      <th>...</th>\n",
       "      <td>...</td>\n",
       "    </tr>\n",
       "    <tr>\n",
       "      <th>STI</th>\n",
       "      <td>C1  SWs screened  for Sexually Transmitted Inf...</td>\n",
       "    </tr>\n",
       "    <tr>\n",
       "      <th>ADHERENCE</th>\n",
       "      <td>B 8A Referred to Treatment Adherence Clubs</td>\n",
       "    </tr>\n",
       "    <tr>\n",
       "      <th>Unnamed: 34</th>\n",
       "      <td>B 8 B Succesful referal to Treatment Adherence...</td>\n",
       "    </tr>\n",
       "    <tr>\n",
       "      <th>STI.1</th>\n",
       "      <td>C2 STI Referral \\n1= Referred</td>\n",
       "    </tr>\n",
       "    <tr>\n",
       "      <th>Unnamed: 36</th>\n",
       "      <td>C2B Successful STI  referal</td>\n",
       "    </tr>\n",
       "    <tr>\n",
       "      <th>TB</th>\n",
       "      <td>D1 Number of SWs screened for TB</td>\n",
       "    </tr>\n",
       "    <tr>\n",
       "      <th>Unnamed: 38</th>\n",
       "      <td>D2A TB Referal to health facility\\n1=Referred</td>\n",
       "    </tr>\n",
       "    <tr>\n",
       "      <th>Unnamed: 39</th>\n",
       "      <td>D2B Succesful TB referal</td>\n",
       "    </tr>\n",
       "    <tr>\n",
       "      <th>Human Rights</th>\n",
       "      <td>Did client face any Human rights violation</td>\n",
       "    </tr>\n",
       "    <tr>\n",
       "      <th>Unnamed: 41</th>\n",
       "      <td>Referral to Human rights organisations\\n1= Ref...</td>\n",
       "    </tr>\n",
       "    <tr>\n",
       "      <th>Unnamed: 42</th>\n",
       "      <td>Succesful Human Rights violations referal</td>\n",
       "    </tr>\n",
       "    <tr>\n",
       "      <th>Unnamed: 43</th>\n",
       "      <td>Comments</td>\n",
       "    </tr>\n",
       "    <tr>\n",
       "      <th>Unnamed: 44</th>\n",
       "      <td>NaN</td>\n",
       "    </tr>\n",
       "    <tr>\n",
       "      <th>Unnamed: 45</th>\n",
       "      <td>NaN</td>\n",
       "    </tr>\n",
       "    <tr>\n",
       "      <th>Unnamed: 46</th>\n",
       "      <td>NaN</td>\n",
       "    </tr>\n",
       "    <tr>\n",
       "      <th>Unnamed: 47</th>\n",
       "      <td>NaN</td>\n",
       "    </tr>\n",
       "    <tr>\n",
       "      <th>Unnamed: 48</th>\n",
       "      <td>NaN</td>\n",
       "    </tr>\n",
       "    <tr>\n",
       "      <th>Unnamed: 49</th>\n",
       "      <td>NaN</td>\n",
       "    </tr>\n",
       "    <tr>\n",
       "      <th>Unnamed: 50</th>\n",
       "      <td>NaN</td>\n",
       "    </tr>\n",
       "    <tr>\n",
       "      <th>Unnamed: 51</th>\n",
       "      <td>NaN</td>\n",
       "    </tr>\n",
       "    <tr>\n",
       "      <th>Unnamed: 52</th>\n",
       "      <td>NaN</td>\n",
       "    </tr>\n",
       "    <tr>\n",
       "      <th>Unnamed: 53</th>\n",
       "      <td>NaN</td>\n",
       "    </tr>\n",
       "    <tr>\n",
       "      <th>Unnamed: 54</th>\n",
       "      <td>NaN</td>\n",
       "    </tr>\n",
       "    <tr>\n",
       "      <th>Unnamed: 55</th>\n",
       "      <td>NaN</td>\n",
       "    </tr>\n",
       "    <tr>\n",
       "      <th>Unnamed: 56</th>\n",
       "      <td>NaN</td>\n",
       "    </tr>\n",
       "  </tbody>\n",
       "</table>\n",
       "<p>55 rows × 1 columns</p>\n",
       "</div>"
      ],
      "text/plain": [
       "211 Jul                                                   Outreach date\n",
       "455 Aug                                    YEAR AND MONTH \\nOF OUTREACH\n",
       "625 Sept              PEER MOTIVATOR NAME (enter peer motivators nam...\n",
       "Unnamed: 3                                           Outreach form code\n",
       "Unnamed: 4                                                   Day/Night \n",
       "Unnamed: 5                                                  A - Suburb \n",
       "Unnamed: 6                                                 Type of site\n",
       "Who                          CSW (MUST ENTER \"YES\" IF SEX WORKER) NB!!!\n",
       "Unnamed: 8                          First time meeting with Sex Worker?\n",
       "UNIQUE CODE ELEMENTS  B - First name OR at least the first 3 letters...\n",
       "Unnamed: 10           C - Surname OR at least first 3 letters of sur...\n",
       "Unnamed: 11                                              Contact Number\n",
       "Unnamed: 12                                          D - Year of birth \n",
       "Unnamed: 13                                                  E - Gender\n",
       "Unnamed: 14           Unique Code (automatically generated - only ge...\n",
       "Unnamed: 15                    Counter (1 = first outreach for quarter)\n",
       "Unnamed: 16                                                    OVERRIDE\n",
       "Unnamed: 17                      Number of services received in quarter\n",
       "Condoms                                F 1 Male Condoms\\n(Number given)\n",
       "Unnamed: 19                          F2 Female condoms\\n (Number Given)\n",
       "Unnamed: 20                                                     F3 Lube\n",
       "Workshops                                 E4 Support  group\\n workshops\n",
       "Unnamed: 22                                  E2 Risk reduction Workshop\n",
       "HTS INDICATORS                            B 5 Known HIV positive Status\n",
       "Unnamed: 24                          B 1 Received HTS and know results \n",
       "Unnamed: 25                                  B2 SW tested HIV negative \n",
       "Unnamed: 26                         HIV negative SWs referred for PrEP \n",
       "...                                                                 ...\n",
       "STI                   C1  SWs screened  for Sexually Transmitted Inf...\n",
       "ADHERENCE                    B 8A Referred to Treatment Adherence Clubs\n",
       "Unnamed: 34           B 8 B Succesful referal to Treatment Adherence...\n",
       "STI.1                                     C2 STI Referral \\n1= Referred\n",
       "Unnamed: 36                                 C2B Successful STI  referal\n",
       "TB                                   D1 Number of SWs screened for TB  \n",
       "Unnamed: 38               D2A TB Referal to health facility\\n1=Referred\n",
       "Unnamed: 39                                    D2B Succesful TB referal\n",
       "Human Rights                 Did client face any Human rights violation\n",
       "Unnamed: 41           Referral to Human rights organisations\\n1= Ref...\n",
       "Unnamed: 42                   Succesful Human Rights violations referal\n",
       "Unnamed: 43                                                    Comments\n",
       "Unnamed: 44                                                         NaN\n",
       "Unnamed: 45                                                         NaN\n",
       "Unnamed: 46                                                         NaN\n",
       "Unnamed: 47                                                         NaN\n",
       "Unnamed: 48                                                         NaN\n",
       "Unnamed: 49                                                         NaN\n",
       "Unnamed: 50                                                         NaN\n",
       "Unnamed: 51                                                         NaN\n",
       "Unnamed: 52                                                         NaN\n",
       "Unnamed: 53                                                         NaN\n",
       "Unnamed: 54                                                         NaN\n",
       "Unnamed: 55                                                         NaN\n",
       "Unnamed: 56                                                         NaN\n",
       "\n",
       "[55 rows x 1 columns]"
      ]
     },
     "execution_count": 11,
     "metadata": {},
     "output_type": "execute_result"
    }
   ],
   "source": [
    "xl.parse('Quarter1',skiprows=1, header=0,index_col=[0,1])[:1].transpose() # read a specific sheet to DataFrame"
   ]
  },
  {
   "cell_type": "code",
   "execution_count": 105,
   "metadata": {
    "collapsed": false
   },
   "outputs": [],
   "source": [
    "DF=xl.parse('Quarter1',skiprows=2)\n",
    "col=DF.columns\n",
    "spike_cols = [col for col in DF.columns if 'Unique Code' in col]"
   ]
  },
  {
   "cell_type": "code",
   "execution_count": 141,
   "metadata": {
    "collapsed": false
   },
   "outputs": [
    {
     "data": {
      "text/plain": [
       "[u'Unique Code (automatically generated - only generated if the person is a sex worker)']"
      ]
     },
     "execution_count": 141,
     "metadata": {},
     "output_type": "execute_result"
    }
   ],
   "source": [
    "spike_cols"
   ]
  },
  {
   "cell_type": "code",
   "execution_count": 171,
   "metadata": {
    "collapsed": false,
    "scrolled": true
   },
   "outputs": [],
   "source": [
    "DF['date']=pd.DatetimeIndex(DF['Outreach date'])"
   ]
  },
  {
   "cell_type": "code",
   "execution_count": 180,
   "metadata": {
    "collapsed": false,
    "scrolled": true
   },
   "outputs": [
    {
     "data": {
      "text/plain": [
       "0       NaN\n",
       "1       NaN\n",
       "2       NaN\n",
       "3       NaN\n",
       "4       NaN\n",
       "5       NaN\n",
       "6       NaN\n",
       "7       NaN\n",
       "8       NaN\n",
       "9       NaN\n",
       "10      NaN\n",
       "11      NaN\n",
       "12      NaN\n",
       "13      NaN\n",
       "14      NaN\n",
       "15      NaN\n",
       "16      NaN\n",
       "17      NaN\n",
       "18      NaN\n",
       "19      NaN\n",
       "20      NaN\n",
       "21      NaN\n",
       "22      NaN\n",
       "23      NaN\n",
       "24      NaN\n",
       "       ... \n",
       "9493    9.0\n",
       "9494    9.0\n",
       "9495    9.0\n",
       "9496    9.0\n",
       "9497    9.0\n",
       "9498    9.0\n",
       "9499    9.0\n",
       "9500    9.0\n",
       "9501    9.0\n",
       "9502    9.0\n",
       "9503    9.0\n",
       "9504    9.0\n",
       "9505    9.0\n",
       "9506    9.0\n",
       "9507    9.0\n",
       "9508    9.0\n",
       "9509    9.0\n",
       "9510    9.0\n",
       "9511    9.0\n",
       "9512    9.0\n",
       "9513    9.0\n",
       "9514    9.0\n",
       "9515    9.0\n",
       "9516    9.0\n",
       "9517    NaN\n",
       "Name: date, dtype: float64"
      ]
     },
     "execution_count": 180,
     "metadata": {},
     "output_type": "execute_result"
    }
   ],
   "source": [
    "DF.date.dt.month"
   ]
  },
  {
   "cell_type": "code",
   "execution_count": 179,
   "metadata": {
    "collapsed": false,
    "scrolled": true
   },
   "outputs": [
    {
     "data": {
      "text/html": [
       "<div>\n",
       "<table border=\"1\" class=\"dataframe\">\n",
       "  <thead>\n",
       "    <tr style=\"text-align: right;\">\n",
       "      <th></th>\n",
       "      <th>Unique Code (automatically generated - only generated if the person is a sex worker)</th>\n",
       "    </tr>\n",
       "    <tr>\n",
       "      <th>date</th>\n",
       "      <th></th>\n",
       "    </tr>\n",
       "  </thead>\n",
       "  <tbody>\n",
       "    <tr>\n",
       "      <th>4.0</th>\n",
       "      <td>298</td>\n",
       "    </tr>\n",
       "    <tr>\n",
       "      <th>5.0</th>\n",
       "      <td>414</td>\n",
       "    </tr>\n",
       "    <tr>\n",
       "      <th>6.0</th>\n",
       "      <td>505</td>\n",
       "    </tr>\n",
       "    <tr>\n",
       "      <th>7.0</th>\n",
       "      <td>214</td>\n",
       "    </tr>\n",
       "    <tr>\n",
       "      <th>8.0</th>\n",
       "      <td>456</td>\n",
       "    </tr>\n",
       "    <tr>\n",
       "      <th>9.0</th>\n",
       "      <td>630</td>\n",
       "    </tr>\n",
       "  </tbody>\n",
       "</table>\n",
       "</div>"
      ],
      "text/plain": [
       "      Unique Code (automatically generated - only generated if the person is a sex worker)\n",
       "date                                                                                      \n",
       "4.0                                                 298                                   \n",
       "5.0                                                 414                                   \n",
       "6.0                                                 505                                   \n",
       "7.0                                                 214                                   \n",
       "8.0                                                 456                                   \n",
       "9.0                                                 630                                   "
      ]
     },
     "execution_count": 179,
     "metadata": {},
     "output_type": "execute_result"
    }
   ],
   "source": [
    "DF.groupby(DF['date'].dt.month).agg({spike_cols[0]: pd.Series.nunique})"
   ]
  }
 ],
 "metadata": {
  "kernelspec": {
   "display_name": "Python 2",
   "language": "python",
   "name": "python2"
  },
  "language_info": {
   "codemirror_mode": {
    "name": "ipython",
    "version": 2
   },
   "file_extension": ".py",
   "mimetype": "text/x-python",
   "name": "python",
   "nbconvert_exporter": "python",
   "pygments_lexer": "ipython2",
   "version": "2.7.9"
  }
 },
 "nbformat": 4,
 "nbformat_minor": 0
}
