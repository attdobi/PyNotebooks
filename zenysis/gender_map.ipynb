{
 "cells": [
  {
   "cell_type": "code",
   "execution_count": 3,
   "metadata": {
    "collapsed": true
   },
   "outputs": [],
   "source": [
    "import json"
   ]
  },
  {
   "cell_type": "code",
   "execution_count": 4,
   "metadata": {
    "collapsed": true
   },
   "outputs": [],
   "source": [
    "def save_dict_as_json(filename, mapping):\n",
    "    '''Save dict as json object'''\n",
    "    with open(filename, 'w') as outfile:\n",
    "        json.dump(mapping, outfile, indent=4, sort_keys=True, separators=(',', ':'))\n",
    "\n",
    "def load_dict_from_json(filepath):\n",
    "    '''given file path to json mapping return a dict'''\n",
    "    with open(filepath) as data_file:    \n",
    "        return json.load(data_file)"
   ]
  },
  {
   "cell_type": "code",
   "execution_count": 5,
   "metadata": {
    "collapsed": true
   },
   "outputs": [],
   "source": [
    "# All entries should be lower case\n",
    "genderMAP={'': 'missing', 'emale': 'female', 'f': 'female', 'famale': 'female', 'ffemale': 'female', \n",
    "           'male': 'male','msm': 'msm', 'tg': 'transgender', 'transgender': 'transgender',\n",
    "           'f': 'female', 'famale' : 'female', 'fem,ale': 'female', 'femafle': 'female',\n",
    "           'femakle': 'female', 'femlae': 'female', 'ffemale': 'female', 'fvemale': 'female',\n",
    "           'gfemale': 'female', 'm': 'male', 'mm': 'male', 'rg': 'trasngender', \n",
    "           's': 'trasngender', 't': 'trasngender', 'e': 'female', 'e': 'female', 'c': 'female',\n",
    "           'targent': 'trasngender', 'tf': 'trasngender', 'tg': 'trasngender',\n",
    "           'trans-gender': 'trasngender', 'transgender': 'trasngender', 'trasgenda':'trasngender',\n",
    "           'trangender': 'trasngender','trasgender': 'trasngender', 'trasngender':'trasngender'}"
   ]
  },
  {
   "cell_type": "code",
   "execution_count": 6,
   "metadata": {
    "collapsed": false
   },
   "outputs": [],
   "source": [
    "save_dict_as_json('genderMAP.json', genderMAP)"
   ]
  },
  {
   "cell_type": "code",
   "execution_count": null,
   "metadata": {
    "collapsed": true
   },
   "outputs": [],
   "source": []
  }
 ],
 "metadata": {
  "kernelspec": {
   "display_name": "Python 2",
   "language": "python",
   "name": "python2"
  },
  "language_info": {
   "codemirror_mode": {
    "name": "ipython",
    "version": 2
   },
   "file_extension": ".py",
   "mimetype": "text/x-python",
   "name": "python",
   "nbconvert_exporter": "python",
   "pygments_lexer": "ipython2",
   "version": "2.7.13"
  }
 },
 "nbformat": 4,
 "nbformat_minor": 0
}
