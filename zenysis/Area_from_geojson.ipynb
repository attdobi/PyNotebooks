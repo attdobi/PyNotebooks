{
 "cells": [
  {
   "cell_type": "markdown",
   "metadata": {},
   "source": [
    "<h1> Calculate Area of geojson </h1>"
   ]
  },
  {
   "cell_type": "code",
   "execution_count": 1,
   "metadata": {},
   "outputs": [
    {
     "name": "stdout",
     "output_type": "stream",
     "text": [
      "Populating the interactive namespace from numpy and matplotlib\n"
     ]
    }
   ],
   "source": [
    "from __future__ import division\n",
    "import numpy as np\n",
    "import json\n",
    "import re\n",
    "import gzip\n",
    "import pandas as pd\n",
    "%pylab inline\n",
    "pylab.rcParams['figure.figsize'] = (12.0, 8.0) # set size of figures\"\n",
    "plt.rcParams.update({'font.size': 24})\n",
    "import seaborn as sns\n",
    "import datetime\n",
    "import csv\n",
    "import urllib\n",
    "import shapely\n",
    "from matplotlib.patches import Polygon\n",
    "from area import area\n",
    "\n",
    "def save_dict_as_json(filename, mapping):\n",
    "    '''Save dict as json object'''\n",
    "    with open(filename, 'w') as outfile:\n",
    "        json.dump(mapping, outfile, indent=4, sort_keys=True, separators=(',', ':'))\n",
    "\n",
    "def load_dict_from_json(filepath):\n",
    "    '''given file path to json mapping return a dict'''\n",
    "    with open(filepath) as data_file:    \n",
    "        return json.load(data_file)"
   ]
  },
  {
   "cell_type": "code",
   "execution_count": 2,
   "metadata": {
    "collapsed": true
   },
   "outputs": [],
   "source": [
    "ET_woreda_geo = load_dict_from_json('/Users/attiladobi/Downloads/ethiopia-20170203.geojson')"
   ]
  },
  {
   "cell_type": "markdown",
   "metadata": {},
   "source": [
    "<h3> format: <br> ET_woreda_geo['features'][i]['geometry']['coordinates'][[[]]] <br>\n",
    "ET_woreda_geo['features'][i]['properties']['key'] </h3>"
   ]
  },
  {
   "cell_type": "code",
   "execution_count": 11,
   "metadata": {},
   "outputs": [
    {
     "name": "stdout",
     "output_type": "stream",
     "text": [
      "[u'benishangul-gumuz__benishangul-gumuz__bullen__']\n"
     ]
    },
    {
     "data": {
      "text/plain": [
       "3027.9459093597484"
      ]
     },
     "execution_count": 11,
     "metadata": {},
     "output_type": "execute_result"
    }
   ],
   "source": [
    "n = 100\n",
    "\n",
    "print ET_woreda_geo['features'][n]['properties']['key'].split('______')\n",
    "geo_obj = ET_woreda_geo['features'][n]['geometry']\n",
    "area(geo_obj)/1e6"
   ]
  },
  {
   "cell_type": "code",
   "execution_count": 12,
   "metadata": {},
   "outputs": [],
   "source": [
    "from shapely import geometry"
   ]
  },
  {
   "cell_type": "code",
   "execution_count": 17,
   "metadata": {},
   "outputs": [],
   "source": [
    "geo_np = np.array(ET_woreda_geo['features'][n]['geometry']['coordinates'][0])\n",
    "geo_rad = np.radians(geo_np)"
   ]
  },
  {
   "cell_type": "code",
   "execution_count": 18,
   "metadata": {},
   "outputs": [
    {
     "data": {
      "text/plain": [
       "3071.938451020064"
      ]
     },
     "execution_count": 18,
     "metadata": {},
     "output_type": "execute_result"
    }
   ],
   "source": [
    "geometry.polygon.Polygon(geo_rad).area*6370**2"
   ]
  },
  {
   "cell_type": "code",
   "execution_count": 19,
   "metadata": {},
   "outputs": [
    {
     "data": {
      "image/svg+xml": [
       "<svg xmlns=\"http://www.w3.org/2000/svg\" xmlns:xlink=\"http://www.w3.org/1999/xlink\" width=\"100.0\" height=\"100.0\" viewBox=\"35.6987674979 9.94556148588 0.50155119024 1.17925842924\" preserveAspectRatio=\"xMinYMin meet\"><g transform=\"matrix(1,0,0,-1,0,21.070381401)\"><path fill-rule=\"evenodd\" fill=\"#66cc99\" stroke=\"#555555\" stroke-width=\"0.0235851685848\" opacity=\"0.6\" d=\"M 36.032917342,10.977024797 L 36.027907952,10.938324418 L 36.03552079,10.908630545 L 36.051165774,10.882173522 L 36.087956216,10.85591579 L 36.103629803,10.825653113 L 36.126753827,10.820167205 L 36.144271746,10.797521009 L 36.150360706,10.763363833 L 36.15061033,10.736755715 L 36.15664245,10.708299591 L 36.137460278,10.704322617 L 36.149239146,10.677820042 L 36.134097735,10.652972175 L 36.140109911,10.626416784 L 36.138436078,10.599791216 L 36.12900759,10.58069813 L 36.108161732,10.550096559 L 36.093098877,10.517647007 L 36.09871657,10.494895272 L 36.087994491,10.447275397 L 36.090179449,10.418785157 L 36.092275397,10.399797375 L 36.119257108,10.388636601 L 36.136828692,10.356480989 L 36.127472706,10.329787209 L 36.098838647,10.312424718 L 36.056932981,10.277834359 L 36.032022058,10.273806073 L 36.009173922,10.254590557 L 35.995903821,10.237363251 L 35.982832062,10.199231859 L 35.985160751,10.155541171 L 35.981538137,10.132701521 L 35.972073078,10.119310858 L 35.954991275,10.100148365 L 35.935993838,10.080967769 L 35.916962574,10.065587239 L 35.896070275,10.044487504 L 35.894442631,10.014066004 L 35.881258581,9.989237724 L 35.856143385,9.993971729 L 35.833244097,9.998286176 L 35.802555416,9.999892987 L 35.779215843,10.033871352 L 35.767487334,10.056559279 L 35.78462882,10.068127455 L 35.795485621,10.089065175 L 35.778158136,10.140271422 L 35.762587826,10.162920089 L 35.7681117,10.185776547 L 35.752518333,10.210323719 L 35.742443736,10.257726001 L 35.753942057,10.288689934 L 35.762983636,10.313035527 L 35.770464414,10.332111921 L 35.782083154,10.344755135 L 35.795138969,10.358960787 L 35.822081807,10.351627109 L 35.843038866,10.36703551 L 35.856207164,10.393768706 L 35.855711779,10.443171455 L 35.85321713,10.50015539 L 35.842674905,10.527972129 L 35.829536786,10.562627731 L 35.831324379,10.616927014 L 35.828715138,10.642429173 L 35.833966585,10.691888338 L 35.843296916,10.718586291 L 35.837117858,10.758428502 L 35.834838958,10.792609346 L 35.859407089,10.832765293 L 35.859228678,10.849865839 L 35.862695873,10.886006252 L 35.870007988,10.922186156 L 35.902555739,10.935819755 L 35.898492668,10.956682056 L 35.915661377,10.970158593 L 35.926904882,10.998777677 L 35.915068604,11.027162875 L 35.905153009,11.055566644 L 35.95689506,11.075095816 L 35.991465954,11.081143677 L 36.005203729,11.054673545 L 36.032708487,10.99792866 L 36.032917342,10.977024797 z\" /></g></svg>"
      ],
      "text/plain": [
       "<shapely.geometry.polygon.Polygon at 0x1151cd490>"
      ]
     },
     "execution_count": 19,
     "metadata": {},
     "output_type": "execute_result"
    }
   ],
   "source": [
    "geometry.polygon.Polygon(geo_np)"
   ]
  },
  {
   "cell_type": "markdown",
   "metadata": {},
   "source": [
    "<h1> loop and calculate total area km^2 </h1>"
   ]
  },
  {
   "cell_type": "code",
   "execution_count": 9,
   "metadata": {},
   "outputs": [
    {
     "name": "stdout",
     "output_type": "stream",
     "text": [
      "somali______\n",
      "312771.321922\n",
      "gambella______\n",
      "31448.3661421\n",
      "afar______\n",
      "95466.9058791\n",
      "amhara______\n",
      "156602.505051\n",
      "dire dawa______\n",
      "1060.02299051\n",
      "oromiya______\n",
      "325095.811953\n",
      "benishangul-gumuz______\n",
      "50553.0291341\n",
      "harreri______\n",
      "373.144506945\n",
      "snnpr______\n",
      "109951.353526\n",
      "tigray______\n",
      "52943.439071\n",
      "addis ababa______\n",
      "543.085945814\n"
     ]
    }
   ],
   "source": [
    "total_area = 0 \n",
    "for entry in ET_woreda_geo['features']:\n",
    "    name = entry['properties']['key']\n",
    "    if len(name.split('______')) == 2:\n",
    "        print name\n",
    "        geo_obj = entry['geometry']\n",
    "        poly_area = area(geo_obj)/1e6\n",
    "        #geo_np = np.array(entry['geometry']['coordinates'][0])\n",
    "        #geo_rad = np.radians(geo_np)\n",
    "        #poly_area = geometry.polygon.Polygon(geo_rad).area*6370**2\n",
    "        print poly_area\n",
    "        #total_area += poly_area"
   ]
  },
  {
   "cell_type": "code",
   "execution_count": 90,
   "metadata": {},
   "outputs": [],
   "source": [
    "def calc_centroid(coordinates):\n",
    "    ''' Pass in geo_obj['coordinates'][0] '''\n",
    "    N = len(coordinates)\n",
    "    lat_sum, lon_sum = 0, 0\n",
    "    for latlon in coordinates:\n",
    "        lat_sum = lat_sum + latlon[0]\n",
    "        lon_sum = lon_sum + latlon[1]\n",
    "    return [lat_sum / N, lon_sum / N]"
   ]
  },
  {
   "cell_type": "code",
   "execution_count": 87,
   "metadata": {},
   "outputs": [],
   "source": []
  },
  {
   "cell_type": "markdown",
   "metadata": {},
   "source": [
    "<h1> loop through and calculate the centroids and areas,  then save</h1>"
   ]
  },
  {
   "cell_type": "code",
   "execution_count": 93,
   "metadata": {},
   "outputs": [],
   "source": [
    "headers = ['WoredaName', 'ZoneName', 'RegionName', 'GeoKey', 'Area_km2', 'LatCenter', 'LonCenter']\n",
    "#csv_data = [headers]\n",
    "with open('Areas.csv', 'wb') as f:\n",
    "    writer = csv.writer(f)\n",
    "    writer.writerow(headers)\n",
    "    for entry in ET_woreda_geo['features']:\n",
    "        name = entry['properties']['key']\n",
    "        region, zone, woreda = name.split('__')[:-1]\n",
    "        geo_obj = entry['geometry']\n",
    "        poly_area = area(geo_obj)/1e6\n",
    "        latlons = geo_obj['coordinates'][0]\n",
    "        # Sometimes the number of lists in the lists changes\n",
    "        while len(np.shape(latlons)) > 2:\n",
    "            latlons = latlons[0]\n",
    "        centroid = calc_centroid(latlons)\n",
    "        \n",
    "        writer.writerow([woreda, zone, region, name, poly_area, centroid[0], centroid[1]])\n",
    "    "
   ]
  },
  {
   "cell_type": "code",
   "execution_count": null,
   "metadata": {
    "collapsed": true
   },
   "outputs": [],
   "source": []
  }
 ],
 "metadata": {
  "kernelspec": {
   "display_name": "Python 2",
   "language": "python",
   "name": "python2"
  },
  "language_info": {
   "codemirror_mode": {
    "name": "ipython",
    "version": 2
   },
   "file_extension": ".py",
   "mimetype": "text/x-python",
   "name": "python",
   "nbconvert_exporter": "python",
   "pygments_lexer": "ipython2",
   "version": "2.7.13"
  }
 },
 "nbformat": 4,
 "nbformat_minor": 2
}
