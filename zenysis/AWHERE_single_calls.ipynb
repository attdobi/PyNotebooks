{
 "cells": [
  {
   "cell_type": "markdown",
   "metadata": {},
   "source": [
    "<h1> aWhere API single calls from a list of lat-lons </h1>"
   ]
  },
  {
   "cell_type": "code",
   "execution_count": 5,
   "metadata": {
    "collapsed": false
   },
   "outputs": [],
   "source": [
    "import datetime\n",
    "import pandas as pd\n",
    "\n",
    "from __future__ import division\n",
    "from awhere import Awhere\n",
    "\n",
    "DATE_FORMAT = '%Y-%m-%d'\n",
    "\n",
    "# Setup key and sectret in aWhere.py\n",
    "awhere = Awhere()"
   ]
  },
  {
   "cell_type": "markdown",
   "metadata": {},
   "source": [
    "<h1> import information from example woreda lat-lon file </h1>"
   ]
  },
  {
   "cell_type": "code",
   "execution_count": 5,
   "metadata": {
    "collapsed": false
   },
   "outputs": [],
   "source": [
    "#region_df = pd.read_csv('/Users/attiladobi/zenysis/pipeline/auto/ethiopia/bin/shared/data/woreda_mapped.csv')\n",
    "woreda_df = pd.read_csv('lat_lons/woreda_info.csv')"
   ]
  },
  {
   "cell_type": "code",
   "execution_count": null,
   "metadata": {
    "collapsed": false
   },
   "outputs": [],
   "source": [
    "START_DATE = '2013-01-01'\n",
    "LAST_DATE = (datetime.datetime.now() - datetime.timedelta(days=1))\n",
    "LAST_DATE_STR = LAST_DATE.strftime(DATE_FORMAT)\n",
    "\n",
    "for lat, lon, geoKey in woreda_df[['WoredaLat', 'WoredaLon', 'GeoKey']].values:\n",
    "    # Check it lat/lon is valid\n",
    "    if lat !=0:\n",
    "        # Reset the start date for every Woreda\n",
    "        start_date = datetime.datetime.strptime(START_DATE, DATE_FORMAT)\n",
    "        start_date_str = start_date.strftime(DATE_FORMAT)\n",
    "        results_df = []\n",
    "\n",
    "        while start_date < LAST_DATE : \n",
    "            result = awhere.single_call(lat, lon, start_date_str, LAST_DATE_STR)\n",
    "            result_df = pd.DataFrame(awhere.flatten_single(result))\n",
    "            start_date = datetime.datetime.strptime(result_df.iloc[-1]['date'], DATE_FORMAT) + datetime.timedelta(days=1)\n",
    "            start_date_str = start_date.strftime(DATE_FORMAT)\n",
    "            results_df.append(result_df)\n",
    "\n",
    "        dataframe = pd.concat(results_df, ignore_index=True)\n",
    "        dataframe['GeoKey']  = geoKey\n",
    "        dataframe.to_csv('data/%s.csv' % geoKey.replace(' ','_'))"
   ]
  },
  {
   "cell_type": "code",
   "execution_count": null,
   "metadata": {
    "collapsed": true
   },
   "outputs": [],
   "source": []
  }
 ],
 "metadata": {
  "kernelspec": {
   "display_name": "Python 2",
   "language": "python",
   "name": "python2"
  },
  "language_info": {
   "codemirror_mode": {
    "name": "ipython",
    "version": 2
   },
   "file_extension": ".py",
   "mimetype": "text/x-python",
   "name": "python",
   "nbconvert_exporter": "python",
   "pygments_lexer": "ipython2",
   "version": "2.7.13"
  }
 },
 "nbformat": 4,
 "nbformat_minor": 2
}
