{
 "cells": [
  {
   "cell_type": "markdown",
   "metadata": {},
   "source": [
    "<h1> Get monthly data from postgres and write to json </h1>"
   ]
  },
  {
   "cell_type": "code",
   "execution_count": 8,
   "metadata": {
    "collapsed": false
   },
   "outputs": [],
   "source": [
    "from __future__ import division\n",
    "import numpy as np\n",
    "import json\n",
    "import re\n",
    "import gzip\n",
    "import pandas as pd\n",
    "import datetime\n",
    "from ethiopian_date import ethiopian_date\n",
    "import psycopg2\n",
    "\n",
    "import gzip\n",
    "from collections import OrderedDict"
   ]
  },
  {
   "cell_type": "code",
   "execution_count": 20,
   "metadata": {
    "collapsed": true
   },
   "outputs": [],
   "source": [
    "HEADERS = ['Real_Date', 'RegionName', 'ZoneName', 'WoredaName', 'WoredaLat', 'WoredaLon', \\\n",
    "    'source', 'field', 'val']\n",
    "FIELDS = ['precipitation', 'humid_max', 'humid_min', 'humid_avg', 'solar', \\\n",
    "          'temp_max', 'temp_min', 'temp_avg', 'wind_avg', 'days_precipitation']\n",
    "\n",
    "def get_geo_code(name_list):\n",
    "    region, zone, woreda = name_list\n",
    "    return ('%s__%s__%s__' % (region, zone, woreda)).lower()\n",
    "\n",
    "def load_woreda_mapped(woreda_mapped_path):\n",
    "    # Load useing dtype=str to prevent truncating the double\n",
    "    woreda_df = pd.read_csv(woreda_mapped_path, dtype=str)\n",
    "    # Remove columns used for name matching\n",
    "    column_cut = [column for column in woreda_df.columns if 'match' not in column]\n",
    "    woreda_df = woreda_df[column_cut]\n",
    "    # Add GeoKey column\n",
    "    woreda_df['GeoKey'] = [get_geo_code(name_list) for name_list in \\\n",
    "        woreda_df[['RegionName', 'ZoneName', 'WoredaName']].values]\n",
    "    return woreda_df\n",
    "\n",
    "def write_weather_to_gzjson(weather_df, woreda_mapped_path, output_dir):\n",
    "    woreda_df = load_woreda_mapped(woreda_mapped_path)\n",
    "    with gzip.open('%s/monthly_weather.json.gz' % output_dir, 'wr') as f:\n",
    "        # Inner join the two dataframes on the GeoKey\n",
    "        weather_merge = pd.merge(weather_df, woreda_df, how='inner', on='GeoKey')\n",
    "        for row in weather_merge.iterrows():\n",
    "            row = row[1]\n",
    "            # Avoid pandas truncating the double\n",
    "            lat = float(row['WoredaLat'])\n",
    "            lon = float(row['WoredaLon'])\n",
    "            woreda_consts = row[['Real_Date', 'RegionName', 'ZoneName', 'WoredaName']].tolist() \\\n",
    "                    + [lat, lon, 'weather']\n",
    "            # Loop throgh all of the fields. Skip nan values.\n",
    "            for field, value in row[FIELDS].dropna().iteritems():\n",
    "                val_list = woreda_consts + [field, value]\n",
    "                # OderedDict to perserve header order\n",
    "                f.write(json.dumps(\\\n",
    "                    OrderedDict([(key, value) for key, value in zip(HEADERS, val_list)])))\n",
    "                f.write('\\n')"
   ]
  },
  {
   "cell_type": "markdown",
   "metadata": {},
   "source": [
    "<h1> Pull in the monthly data from psql </h1>"
   ]
  },
  {
   "cell_type": "code",
   "execution_count": 21,
   "metadata": {
    "collapsed": false
   },
   "outputs": [
    {
     "data": {
      "text/html": [
       "<div>\n",
       "<table border=\"1\" class=\"dataframe\">\n",
       "  <thead>\n",
       "    <tr style=\"text-align: right;\">\n",
       "      <th></th>\n",
       "      <th>e_date</th>\n",
       "      <th>GeoKey</th>\n",
       "      <th>precipitation</th>\n",
       "      <th>max_precipitation</th>\n",
       "      <th>days_precipitation</th>\n",
       "      <th>wind_avg</th>\n",
       "      <th>temp_max</th>\n",
       "      <th>temp_min</th>\n",
       "      <th>temp_avg</th>\n",
       "      <th>humid_max</th>\n",
       "      <th>humid_min</th>\n",
       "      <th>humid_avg</th>\n",
       "      <th>solar</th>\n",
       "      <th>Real_Date</th>\n",
       "    </tr>\n",
       "  </thead>\n",
       "  <tbody>\n",
       "    <tr>\n",
       "      <th>0</th>\n",
       "      <td>2005-05-01 00:00:00-08:00</td>\n",
       "      <td>addis ababa__addis ababa__addis ketema__</td>\n",
       "      <td>4.646149</td>\n",
       "      <td>1.626706</td>\n",
       "      <td>8</td>\n",
       "      <td>2.931589</td>\n",
       "      <td>33.680000</td>\n",
       "      <td>8.46</td>\n",
       "      <td>24.125625</td>\n",
       "      <td>58.639999</td>\n",
       "      <td>0.00</td>\n",
       "      <td>20.821875</td>\n",
       "      <td>5411.228149</td>\n",
       "      <td>2013-01-09</td>\n",
       "    </tr>\n",
       "    <tr>\n",
       "      <th>1</th>\n",
       "      <td>2005-06-01 00:00:00-07:00</td>\n",
       "      <td>addis ababa__addis ababa__addis ketema__</td>\n",
       "      <td>13.285122</td>\n",
       "      <td>1.769140</td>\n",
       "      <td>23</td>\n",
       "      <td>3.552899</td>\n",
       "      <td>35.830002</td>\n",
       "      <td>10.84</td>\n",
       "      <td>21.191000</td>\n",
       "      <td>80.169998</td>\n",
       "      <td>0.00</td>\n",
       "      <td>38.482334</td>\n",
       "      <td>5417.762174</td>\n",
       "      <td>2013-02-08</td>\n",
       "    </tr>\n",
       "    <tr>\n",
       "      <th>2</th>\n",
       "      <td>2005-07-01 00:00:00-07:00</td>\n",
       "      <td>addis ababa__addis ababa__addis ketema__</td>\n",
       "      <td>11.752901</td>\n",
       "      <td>1.446901</td>\n",
       "      <td>24</td>\n",
       "      <td>4.583223</td>\n",
       "      <td>36.830002</td>\n",
       "      <td>9.30</td>\n",
       "      <td>22.872333</td>\n",
       "      <td>79.059998</td>\n",
       "      <td>0.00</td>\n",
       "      <td>33.474667</td>\n",
       "      <td>6313.152474</td>\n",
       "      <td>2013-03-10</td>\n",
       "    </tr>\n",
       "    <tr>\n",
       "      <th>3</th>\n",
       "      <td>2005-08-01 00:00:00-07:00</td>\n",
       "      <td>addis ababa__addis ababa__addis ketema__</td>\n",
       "      <td>26.476681</td>\n",
       "      <td>3.206667</td>\n",
       "      <td>28</td>\n",
       "      <td>4.199224</td>\n",
       "      <td>36.610001</td>\n",
       "      <td>12.08</td>\n",
       "      <td>24.810333</td>\n",
       "      <td>94.959999</td>\n",
       "      <td>5.46</td>\n",
       "      <td>42.719167</td>\n",
       "      <td>4710.198372</td>\n",
       "      <td>2013-04-09</td>\n",
       "    </tr>\n",
       "    <tr>\n",
       "      <th>4</th>\n",
       "      <td>2005-09-01 00:00:00-07:00</td>\n",
       "      <td>addis ababa__addis ababa__addis ketema__</td>\n",
       "      <td>42.479760</td>\n",
       "      <td>26.730000</td>\n",
       "      <td>22</td>\n",
       "      <td>4.172926</td>\n",
       "      <td>35.439999</td>\n",
       "      <td>14.75</td>\n",
       "      <td>24.162167</td>\n",
       "      <td>100.000000</td>\n",
       "      <td>6.07</td>\n",
       "      <td>47.695667</td>\n",
       "      <td>4752.063078</td>\n",
       "      <td>2013-05-09</td>\n",
       "    </tr>\n",
       "  </tbody>\n",
       "</table>\n",
       "</div>"
      ],
      "text/plain": [
       "                      e_date                                    GeoKey  \\\n",
       "0  2005-05-01 00:00:00-08:00  addis ababa__addis ababa__addis ketema__   \n",
       "1  2005-06-01 00:00:00-07:00  addis ababa__addis ababa__addis ketema__   \n",
       "2  2005-07-01 00:00:00-07:00  addis ababa__addis ababa__addis ketema__   \n",
       "3  2005-08-01 00:00:00-07:00  addis ababa__addis ababa__addis ketema__   \n",
       "4  2005-09-01 00:00:00-07:00  addis ababa__addis ababa__addis ketema__   \n",
       "\n",
       "   precipitation  max_precipitation  days_precipitation  wind_avg   temp_max  \\\n",
       "0       4.646149           1.626706                   8  2.931589  33.680000   \n",
       "1      13.285122           1.769140                  23  3.552899  35.830002   \n",
       "2      11.752901           1.446901                  24  4.583223  36.830002   \n",
       "3      26.476681           3.206667                  28  4.199224  36.610001   \n",
       "4      42.479760          26.730000                  22  4.172926  35.439999   \n",
       "\n",
       "   temp_min   temp_avg   humid_max  humid_min  humid_avg        solar  \\\n",
       "0      8.46  24.125625   58.639999       0.00  20.821875  5411.228149   \n",
       "1     10.84  21.191000   80.169998       0.00  38.482334  5417.762174   \n",
       "2      9.30  22.872333   79.059998       0.00  33.474667  6313.152474   \n",
       "3     12.08  24.810333   94.959999       5.46  42.719167  4710.198372   \n",
       "4     14.75  24.162167  100.000000       6.07  47.695667  4752.063078   \n",
       "\n",
       "    Real_Date  \n",
       "0  2013-01-09  \n",
       "1  2013-02-08  \n",
       "2  2013-03-10  \n",
       "3  2013-04-09  \n",
       "4  2013-05-09  "
      ]
     },
     "execution_count": 21,
     "metadata": {},
     "output_type": "execute_result"
    }
   ],
   "source": [
    "conn = psycopg2.connect(\"host=localhost port=5432 dbname=et_weather user=attiladobi\")\n",
    "cur = conn.cursor()\n",
    "\n",
    "sql_query = 'SELECT * FROM monthly;'\n",
    "monthly_weather = pd.read_sql_query(sql_query, conn)\n",
    "conn.close()\n",
    "\n",
    "# Shift forward one month to be consistent with reporting at the start of the month on values of the previous\n",
    "monthly_weather['e_date'] = [date + pd.offsets.relativedelta(months=1) for date in monthly_weather['e_date']]\n",
    "monthly_weather['Real_Date'] = [ethiopian_date.EthiopianDateConverter.date_to_gregorian(date) \\\n",
    "                                for date in monthly_weather['e_date']]\n",
    "monthly_weather['Real_Date'] = [date.strftime('%Y-%m-%d') for date in monthly_weather['Real_Date']]\n",
    "monthly_weather.rename(columns={'geokey': 'GeoKey'}, inplace=True)\n",
    "monthly_weather.head()"
   ]
  },
  {
   "cell_type": "markdown",
   "metadata": {},
   "source": [
    "<h1> Main </h1>"
   ]
  },
  {
   "cell_type": "code",
   "execution_count": 22,
   "metadata": {
    "collapsed": false
   },
   "outputs": [],
   "source": [
    "woreda_mapped_path = '/Users/attiladobi/zenysis/pipeline/auto/ethiopia/bin/shared/data/woreda_mapped.csv'\n",
    "write_weather_to_gzjson(monthly_weather, woreda_mapped_path, 'monthly_weather')"
   ]
  },
  {
   "cell_type": "code",
   "execution_count": null,
   "metadata": {
    "collapsed": true
   },
   "outputs": [],
   "source": []
  }
 ],
 "metadata": {
  "kernelspec": {
   "display_name": "Python 2",
   "language": "python",
   "name": "python2"
  },
  "language_info": {
   "codemirror_mode": {
    "name": "ipython",
    "version": 2
   },
   "file_extension": ".py",
   "mimetype": "text/x-python",
   "name": "python",
   "nbconvert_exporter": "python",
   "pygments_lexer": "ipython2",
   "version": "2.7.13"
  }
 },
 "nbformat": 4,
 "nbformat_minor": 2
}
