{
 "cells": [
  {
   "cell_type": "code",
   "execution_count": 1,
   "metadata": {
    "collapsed": false
   },
   "outputs": [
    {
     "name": "stdout",
     "output_type": "stream",
     "text": [
      "Populating the interactive namespace from numpy and matplotlib\n"
     ]
    },
    {
     "name": "stderr",
     "output_type": "stream",
     "text": [
      "WARNING: pylab import has clobbered these variables: ['datetime']\n",
      "`%matplotlib` prevents importing * from pylab and numpy\n"
     ]
    }
   ],
   "source": [
    "from __future__ import division\n",
    "import numpy as np\n",
    "import pandas as pd\n",
    "import os\n",
    "from glob import glob\n",
    "import seaborn as sns\n",
    "from matplotlib.colors import ListedColormap\n",
    "from datetime import datetime\n",
    "import json\n",
    "import ast\n",
    "\n",
    "%pylab inline\n",
    "pylab.rcParams['figure.figsize'] = (12.0, 6.0) # set size of figures\"\n",
    "plt.rcParams.update({'font.size': 24})\n",
    "pd.options.display.max_rows=50\n",
    "import re"
   ]
  },
  {
   "cell_type": "code",
   "execution_count": 2,
   "metadata": {
    "collapsed": false
   },
   "outputs": [],
   "source": [
    "def find_sheet_name(target_text,sheet_names):\n",
    "    '''Return a list of sheet names containing a specific string'''\n",
    "    return [name for name in sheet_names if target_text.lower() in name.lower()]\n",
    "def find_column_name(target,columns):\n",
    "    return [name for name in columns if target.lower() in name.lower()]\n",
    "\n",
    "def month_diff(b,a):\n",
    "    '''month differnece between two pandas datetime objects'''\n",
    "    return (b.month - a.month + (b.year - a.year)*12)\n",
    "\n",
    "def pq_lookup(date):\n",
    "    '''retun period, quarter given a date (year,month,day)'''\n",
    "    #3 month index to period quarter\n",
    "    quarter_map={1:(1,1),2:(1,2),3:(2,3),4:(2,4),5:(3,1),6:(3,2),7:(4,3),8:(4,4),9:(5,1),10:(5,2),11:(6,3),12:(6,4)}\n",
    "    qnum=1+int(month_diff(date,pd.datetime(2016,4,1))/3)\n",
    "    p,q=quarter_map[qnum]\n",
    "    return p,q\n",
    "\n",
    "def cleanUp(sentence):\n",
    "    sentence=sentence.replace('succesfully','successfully')#ahh misspelling!\n",
    "    sentence=sentence.replace('Centres','Centers')#ahh misspelling!\n",
    "    sentence=sentence.replace('(','').replace(')','')\n",
    "    sentence=re.sub(\"sex workers\", \"sex workers\", sentence, flags=re.I)\n",
    "    sentence=re.sub(\"SWs\", \"sex workers\", sentence, flags=re.I)\n",
    "    sentence=sentence.replace('&','and').replace('tested positive','newly diagnosed').replace('-','')\n",
    "    sentence=' '.join(sentence.split()) #clean up extra whitespaces\n",
    "    return sentence\n",
    "\n",
    "stopwords=['number','of','-','by','the','who','for','(SR)','an']\n",
    "def clean_line(sentence):\n",
    "    return ' '.join([word for word in sentence.lower().split() if word not in stopwords])\n",
    "\n",
    "def save_dict_as_json(filename, mapping):\n",
    "    '''Save dict as json object'''\n",
    "    with open(filename, 'w') as outfile:\n",
    "        json.dump(mapping, outfile, indent=4, sort_keys=True, separators=(',', ':'))\n",
    "\n",
    "def load_dict_from_json(filepath):\n",
    "    '''given file path to json mapping return a dict'''\n",
    "    with open(filepath) as data_file:    \n",
    "        return json.load(data_file)"
   ]
  },
  {
   "cell_type": "code",
   "execution_count": 4,
   "metadata": {
    "collapsed": false,
    "scrolled": true
   },
   "outputs": [
    {
     "data": {
      "text/plain": [
       "u'A1 Number of sex workers reached with HIV prevention programs individual and/or smaller group level interventions'"
      ]
     },
     "execution_count": 4,
     "metadata": {},
     "output_type": "execute_result"
    }
   ],
   "source": [
    "load_dict_from_json('meMAP.json')['A1']"
   ]
  },
  {
   "cell_type": "markdown",
   "metadata": {
    "collapsed": true
   },
   "source": [
    "<h1> Load lookup dictionary</h1>"
   ]
  },
  {
   "cell_type": "code",
   "execution_count": 7,
   "metadata": {
    "collapsed": false
   },
   "outputs": [],
   "source": [
    "ME=load_dict_from_json('meMAP.json')\n",
    "#ME"
   ]
  },
  {
   "cell_type": "code",
   "execution_count": 8,
   "metadata": {
    "collapsed": false
   },
   "outputs": [],
   "source": [
    "def lookupME(description):\n",
    "    description=cleanUp(clean_line(description.split(':')[-1]))\n",
    "    words=description.lower().split()\n",
    "    best_key,best_overlap='',0\n",
    "    for key,val in ME.iteritems():\n",
    "        val=clean_line(val)\n",
    "        l=[re.findall(word, val) for word in words if len(word)>1]\n",
    "        overlap=len([item for sublist in l for item in sublist]) / (len(val.split())+len(words))#divide by total len\n",
    "        if (overlap>best_overlap):\n",
    "            best_key,best_overlap=key,overlap\n",
    "            #check for sucessfully and initiated (b vs a flag)\n",
    "            if ((('successfully' in words) or ('initiated' in words)) & (best_key[-1]=='a')):\n",
    "                    best_key.replace('a','b')\n",
    "    return(best_key)"
   ]
  },
  {
   "cell_type": "code",
   "execution_count": 9,
   "metadata": {
    "collapsed": false
   },
   "outputs": [],
   "source": [
    "#save_dict_as_json('meMAP', ME)"
   ]
  },
  {
   "cell_type": "code",
   "execution_count": 10,
   "metadata": {
    "collapsed": false
   },
   "outputs": [
    {
     "data": {
      "text/plain": [
       "(u'B4b', u'B8b', u'F1', u'F3')"
      ]
     },
     "execution_count": 10,
     "metadata": {},
     "output_type": "execute_result"
    }
   ],
   "source": [
    "lookupME('B4b: Number of newly diagnosed HIV positive SWs initiated on  ART'),\\\n",
    "lookupME('B8a: Number of HIV positive SWs succesfully referred for Adherence support'),\\\n",
    "lookupME(u'Number of GF - RED UMBRELLA condoms distributed.'),\\\n",
    "lookupME(u'Number of GF - RED UMBRELLA lube distributed.')"
   ]
  },
  {
   "cell_type": "code",
   "execution_count": 11,
   "metadata": {
    "collapsed": false
   },
   "outputs": [
    {
     "data": {
      "text/plain": [
       "u'A1'"
      ]
     },
     "execution_count": 11,
     "metadata": {},
     "output_type": "execute_result"
    }
   ],
   "source": [
    "lookupME('behavioural_safety_intervention_e_g_substance_abuse_risk_reduction_plan'.replace('_',' '))"
   ]
  },
  {
   "cell_type": "markdown",
   "metadata": {},
   "source": [
    "<h1> Lookup date from P,Q using the pq lookup function </h1>"
   ]
  },
  {
   "cell_type": "code",
   "execution_count": 29,
   "metadata": {
    "collapsed": false
   },
   "outputs": [
    {
     "data": {
      "text/plain": [
       "{'(1, 1)': '2016-06-01',\n",
       " '(1, 2)': '2016-09-01',\n",
       " '(2, 3)': '2016-12-01',\n",
       " '(2, 4)': '2017-03-01',\n",
       " '(3, 1)': '2017-06-01',\n",
       " '(3, 2)': '2017-09-01',\n",
       " '(4, 3)': '2017-12-01',\n",
       " '(4, 4)': '2018-03-01',\n",
       " '(5, 1)': '2018-06-01',\n",
       " '(5, 2)': '2018-09-01',\n",
       " '(6, 3)': '2018-12-01',\n",
       " '(6, 4)': '2019-03-01'}"
      ]
     },
     "execution_count": 29,
     "metadata": {},
     "output_type": "execute_result"
    }
   ],
   "source": [
    "pqMAP=dict()\n",
    "#Dates=pd.PeriodIndex(freq='m', start='2016-4-1', periods=36) #three years\n",
    "Dates = pd.date_range('2016-4-01', periods=36, freq='M')\n",
    "Dates=[Date.replace(day=1) for Date in Dates]#DATE series by month defults to last day, we want the first\n",
    "for Date in Dates:\n",
    "    #print(Date.strftime('%Y-%m-%d'),pq_lookup(Date))\n",
    "    if pq_lookup(Date) not in pqMAP.keys(): #only use first month for the quarter\n",
    "        pqMAP[str(pq_lookup(Date))]=Date.strftime('%Y-%m-%d') #match pq to date\n",
    "pqMAP"
   ]
  },
  {
   "cell_type": "code",
   "execution_count": 30,
   "metadata": {
    "collapsed": false
   },
   "outputs": [],
   "source": [
    "np.save('pqMAP.npy',pqMAP)\n",
    "save_dict_as_json('pqMAP.json', pqMAP)"
   ]
  },
  {
   "cell_type": "code",
   "execution_count": 51,
   "metadata": {
    "collapsed": false
   },
   "outputs": [
    {
     "data": {
      "text/plain": [
       "'2016-06-01'"
      ]
     },
     "execution_count": 51,
     "metadata": {},
     "output_type": "execute_result"
    }
   ],
   "source": [
    "pqMAP[str((1, 1))]"
   ]
  },
  {
   "cell_type": "code",
   "execution_count": 46,
   "metadata": {
    "collapsed": true
   },
   "outputs": [],
   "source": [
    "tpqMAP = load_dict_from_json('pqMAP.json')\n",
    "\n",
    "def lookupDate(p,q):\n",
    "    '''Lookup the date corresponding to the first day of the period and quarter'''\n",
    "    #dictioary key is a tuple as string '(p, q)'\n",
    "    return (tpqMAP[str((p, q))])"
   ]
  },
  {
   "cell_type": "code",
   "execution_count": 47,
   "metadata": {
    "collapsed": false
   },
   "outputs": [
    {
     "data": {
      "text/plain": [
       "u'2017-03-01'"
      ]
     },
     "execution_count": 47,
     "metadata": {},
     "output_type": "execute_result"
    }
   ],
   "source": [
    "lookupDate(2, 4)"
   ]
  },
  {
   "cell_type": "markdown",
   "metadata": {},
   "source": [
    "<h1> Fix SR names </h1>"
   ]
  },
  {
   "cell_type": "code",
   "execution_count": 144,
   "metadata": {
    "collapsed": false
   },
   "outputs": [
    {
     "data": {
      "text/plain": [
       "'HELLO'"
      ]
     },
     "execution_count": 144,
     "metadata": {},
     "output_type": "execute_result"
    }
   ],
   "source": [
    "#make all CAPS\n",
    "SR=SR.upper()\n",
    "\n",
    "if SR == 'Nqobile Women':\n",
    "    SR='NQOBILE'\n",
    "if SR == 'THCA':\n",
    "    SR ='TBHIV'\n",
    "if SR== 'QAC':\n",
    "    SR= 'QLAC'\n",
    "if SR =='ll': #this is a guess\n",
    "    SR='LLJBH'\n",
    "    \n",
    "# GRIP, HTT, LL *, PSH, Munna Ndi Nnyi ???"
   ]
  },
  {
   "cell_type": "code",
   "execution_count": 48,
   "metadata": {
    "collapsed": false
   },
   "outputs": [],
   "source": [
    "srMAP={'cpc':'CPC','humana':'HUMANA','lljbh':'LLJBH','nqobile':'NQOBILE', 'nqobile women':'NQOBILE','phru':'PHRU',\\\n",
    "       'oasis':'OASIS','sweat':'SWEAT','tbhiv':'TBHIV','thca':'TBHIV','qlac':'QLAC','qac':'QLAC','wrhi':'WRHI',\\\n",
    "        'wrih':'WRHI','whri':'WRHI','ll':'LLJBH','llpc':'LLJBH','lifeline nc':'LLJBH','ll durban':'LLJBH',\\\n",
    "       'll fs':'LLJBH','ll zululand':'LLJBH'}\n",
    "\n",
    "np.save('srMAP.npy',srMAP)\n",
    "save_dict_as_json('srMAP.json', srMAP)"
   ]
  },
  {
   "cell_type": "code",
   "execution_count": 49,
   "metadata": {
    "collapsed": false
   },
   "outputs": [],
   "source": [
    "def lookupSR(SR):\n",
    "    SR=SR.lower()\n",
    "    if SR in srMAP.keys():\n",
    "        SR=srMAP[SR]\n",
    "    else:\n",
    "        SR=SR.upper()\n",
    "    return SR.lower()"
   ]
  },
  {
   "cell_type": "code",
   "execution_count": 50,
   "metadata": {
    "collapsed": false
   },
   "outputs": [
    {
     "data": {
      "text/plain": [
       "'qlac'"
      ]
     },
     "execution_count": 50,
     "metadata": {},
     "output_type": "execute_result"
    }
   ],
   "source": [
    "lookupSR('qac')"
   ]
  },
  {
   "cell_type": "markdown",
   "metadata": {},
   "source": [
    "<h3> test data fields </h3>"
   ]
  },
  {
   "cell_type": "code",
   "execution_count": 57,
   "metadata": {
    "collapsed": false
   },
   "outputs": [],
   "source": [
    "DATA_FIELDS = {\n",
    "    'Counter (1 = first outreach for quarter)': [],\n",
    "    'Number of services received in quarter': [],\n",
    "    'Red Umbrella Male Condom & lube': [],\n",
    "    'Other condoms (e.g. DoH)': [],\n",
    "\n",
    "    'Female Condom': ['F2 Female condoms (Number Given)', 'FemaleCondom'],\n",
    "    'F 1 Male Condoms(Number given)': ['Male Condom', 'F 1 Male Condoms (Number given)'],\n",
    "    'F3 Lube': [],\n",
    "\n",
    "    # Workshops\n",
    "    'E4 Support group workshops': ['Support group'],\n",
    "\n",
    "    # HTS Indicators\n",
    "    'B 5 Known HIV positive Status': ['SWs with known HIV positive status'],\n",
    "    'B 1 Received HTS and know results': ['Received HCT and know results', 'HCT provided by nurse (SW tested and know result)'],\n",
    "    'B2 SW tested HIV negative': ['SWs who tested HIV negative'],\n",
    "    'HIV negative SWs referred for PrEP': [],\n",
    "    'B 7 HIV negative SWs receiving PrEP': ['HIV negative SWs receiving PrEP'],\n",
    "    'B 3 Newly diagnosed HIV positive SW': ['nNewly diagnosed HIV positive SW'],\n",
    "    'B4 A Referred for ART1= Referred': ['B4 A Referred for ART 1= Referred'],\n",
    "    'B 4B Initiated on ART1= Initiated': ['B 4B Initiated on ART 1= Initiated'],\n",
    "    'B6 SWs who refused HIV test': [ 'SWs who refused HIV test'],\n",
    "\n",
    "    # STI\n",
    "    'C1 SWs screened for Sexually Transmitted Infections (STI) 2': ['Ws screened for Sexually Transmitted Infections (STI)'],\n",
    "\n",
    "    # Adherence\n",
    "    'B 8A Referred to Treatment Adherence Clubs': [],\n",
    "    'B 8 B Succesful referal to Treatment Adherence group': [],\n",
    "\n",
    "    # STI\n",
    "    'C2 STI Referral 1= Referred': [],\n",
    "    'C2B Successful STI referal': [],\n",
    "\n",
    "    # TB\n",
    "    'D1 Number of SWs screened for TB': ['Number of SWs screened for TB'],\n",
    "    'D2A TB Referal to health facility1=Referred': ['D2A TB Referal to health facility 1=Referred'],\n",
    "    'D2B Succesful TB referal': [],\n",
    "\n",
    "    # Human Rights\n",
    "    'Did client face any Human rights violation': ['Human rights violation', 'Human rights violations'],\n",
    "    'Referral to Human rights organisations1= Referred': ['Legal', 'Referral to Human rights organisations 1= Referred'],\n",
    "    'Succesful Human Rights violations referal': [],\n",
    "\n",
    "    # Other\n",
    "    'IEC': [],\n",
    "    'Risk Reduction Workshop': ['E2 Risk reduction Workshop', 'Risk reduction Workshop', 'Creative Space Workshop'],\n",
    "    'Paralegal/ Human Rights Education/Health other (specify in comments)': [],\n",
    "    'Health and sexual reproductive health services': [],\n",
    "    'Virally supressed': [],\n",
    "    'Behavioural / Safety intervention (e.g. substance abuse, risk reduction plan)': ['Psycho social'],\n",
    "    'Reffered to Other (explain e.g. Home Affairs for ID)': [],\n",
    "    'Creative Space Topic': [],\n",
    "    'Creative Space name': [],\n",
    "    'Goody bags': [],\n",
    "}"
   ]
  },
  {
   "cell_type": "code",
   "execution_count": 60,
   "metadata": {
    "collapsed": false
   },
   "outputs": [
    {
     "data": {
      "text/plain": [
       "[(u'C2a', 'C2 STI Referral 1= Referred'),\n",
       " (u'G2a', 'Succesful Human Rights violations referal'),\n",
       " (u'C2a', 'B 8A Referred to Treatment Adherence Clubs'),\n",
       " (u'F3', 'F3 Lube'),\n",
       " (u'D1', 'D2A TB Referal to health facility1=Referred'),\n",
       " (u'F1', 'F 1 Male Condoms(Number given)'),\n",
       " ('', 'Goody bags'),\n",
       " (u'F2', 'Female Condom'),\n",
       " (u'G2a', 'Did client face any Human rights violation'),\n",
       " ('V3', 'B 4B Initiated on ART1= Initiated'),\n",
       " ('', 'Virally supressed'),\n",
       " (u'F1', 'Other condoms (e.g. DoH)'),\n",
       " (u'C1', 'C1 SWs screened for Sexually Transmitted Infections (STI) 2'),\n",
       " (u'E1', 'Risk Reduction Workshop'),\n",
       " (u'A2', 'Counter (1 = first outreach for quarter)'),\n",
       " (u'C2a', 'B 8 B Succesful referal to Treatment Adherence group'),\n",
       " (u'C2b', 'C2B Successful STI referal'),\n",
       " (u'C2a', 'Reffered to Other (explain e.g. Home Affairs for ID)'),\n",
       " (u'F1', 'Red Umbrella Male Condom & lube'),\n",
       " (u'B3', 'B 3 Newly diagnosed HIV positive SW'),\n",
       " ('V1', 'Health and sexual reproductive health services'),\n",
       " (u'B7', 'B 7 HIV negative SWs receiving PrEP'),\n",
       " (u'D1', 'D2B Succesful TB referal'),\n",
       " (u'D1', 'D1 Number of SWs screened for TB'),\n",
       " ('V1', 'B 1 Received HTS and know results'),\n",
       " (u'G1',\n",
       "  'Paralegal/ Human Rights Education/Health other (specify in comments)'),\n",
       " ('V1', 'Number of services received in quarter'),\n",
       " (u'E1', 'Creative Space Topic'),\n",
       " (u'E1', 'Creative Space name'),\n",
       " (u'B5', 'B 5 Known HIV positive Status'),\n",
       " ('',\n",
       "  'Behavioural / Safety intervention (e.g. substance abuse, risk reduction plan)'),\n",
       " (u'B6', 'B6 SWs who refused HIV test'),\n",
       " (u'B2', 'B2 SW tested HIV negative'),\n",
       " (u'G2a', 'Referral to Human rights organisations1= Referred'),\n",
       " (u'E3', 'E4 Support group workshops'),\n",
       " (u'D2a', 'B4 A Referred for ART1= Referred'),\n",
       " ('', 'IEC'),\n",
       " (u'B7', 'HIV negative SWs referred for PrEP')]"
      ]
     },
     "execution_count": 60,
     "metadata": {},
     "output_type": "execute_result"
    }
   ],
   "source": [
    "[(lookupME(val),val) for val in DATA_FIELDS.keys()]"
   ]
  },
  {
   "cell_type": "code",
   "execution_count": null,
   "metadata": {
    "collapsed": true
   },
   "outputs": [],
   "source": []
  }
 ],
 "metadata": {
  "kernelspec": {
   "display_name": "Python 2",
   "language": "python",
   "name": "python2"
  },
  "language_info": {
   "codemirror_mode": {
    "name": "ipython",
    "version": 2
   },
   "file_extension": ".py",
   "mimetype": "text/x-python",
   "name": "python",
   "nbconvert_exporter": "python",
   "pygments_lexer": "ipython2",
   "version": "2.7.9"
  }
 },
 "nbformat": 4,
 "nbformat_minor": 0
}
