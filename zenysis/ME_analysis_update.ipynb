{
 "cells": [
  {
   "cell_type": "markdown",
   "metadata": {},
   "source": [
    "<h1> Initial NACOSA M&E study </h1>"
   ]
  },
  {
   "cell_type": "code",
   "execution_count": 1,
   "metadata": {
    "collapsed": false
   },
   "outputs": [
    {
     "name": "stdout",
     "output_type": "stream",
     "text": [
      "Populating the interactive namespace from numpy and matplotlib\n",
      "loaded nvd3 IPython extension\n",
      "run nvd3.ipynb.initialize_javascript() to set up the notebook\n",
      "help(nvd3.ipynb.initialize_javascript) for options\n"
     ]
    },
    {
     "data": {
      "text/html": [
       "<link media=\"all\" href=\"https://cdnjs.cloudflare.com/ajax/libs/nvd3/1.7.0/nv.d3.min.css\" type=\"text/css\"\n",
       "                        rel=\"stylesheet\"/>"
      ],
      "text/plain": [
       "<IPython.core.display.HTML object>"
      ]
     },
     "metadata": {},
     "output_type": "display_data"
    },
    {
     "data": {
      "application/javascript": [
       "$.getScript(\"https://cdnjs.cloudflare.com/ajax/libs/nvd3/1.7.0/nv.d3.min.js\")"
      ],
      "text/plain": [
       "<IPython.core.display.Javascript object>"
      ]
     },
     "metadata": {},
     "output_type": "display_data"
    },
    {
     "data": {
      "application/javascript": [
       "$.getScript(\"https://cdnjs.cloudflare.com/ajax/libs/d3/3.5.5/d3.min.js\", function() {\n",
       "                              $.getScript(\"https://cdnjs.cloudflare.com/ajax/libs/nvd3/1.7.0/nv.d3.min.js\", function() {})});"
      ],
      "text/plain": [
       "<IPython.core.display.Javascript object>"
      ]
     },
     "metadata": {},
     "output_type": "display_data"
    },
    {
     "data": {
      "text/html": [
       "<script src=\"https://cdnjs.cloudflare.com/ajax/libs/d3/3.5.5/d3.min.js\"></script>"
      ],
      "text/plain": [
       "<IPython.core.display.HTML object>"
      ]
     },
     "metadata": {},
     "output_type": "display_data"
    },
    {
     "data": {
      "text/html": [
       "<script src=\"https://cdnjs.cloudflare.com/ajax/libs/nvd3/1.7.0/nv.d3.min.js\"></script>"
      ],
      "text/plain": [
       "<IPython.core.display.HTML object>"
      ]
     },
     "metadata": {},
     "output_type": "display_data"
    },
    {
     "name": "stderr",
     "output_type": "stream",
     "text": [
      "/Users/attiladobi/anaconda2/lib/python2.7/site-packages/IPython/html.py:14: ShimWarning: The `IPython.html` package has been deprecated. You should import from `notebook` instead. `IPython.html.widgets` has moved to `ipywidgets`.\n",
      "  \"`IPython.html.widgets` has moved to `ipywidgets`.\", ShimWarning)\n"
     ]
    }
   ],
   "source": [
    "from __future__ import division\n",
    "import psycopg2\n",
    "import numpy as np\n",
    "import json\n",
    "import re\n",
    "from ast import literal_eval\n",
    "import pandas as pd\n",
    "import gzip\n",
    "%pylab inline\n",
    "pylab.rcParams['figure.figsize'] = (12.0, 8.0) # set size of figures\"\n",
    "plt.rcParams.update({'font.size': 24})\n",
    "import seaborn as sns\n",
    "\n",
    "from nvd3 import multiBarChart\n",
    "import nvd3\n",
    "nvd3.ipynb.initialize_javascript(use_remote=True)\n",
    "\n",
    "from IPython.html.widgets import *"
   ]
  },
  {
   "cell_type": "code",
   "execution_count": 2,
   "metadata": {
    "collapsed": true
   },
   "outputs": [],
   "source": [
    "quarter_map={0:(0,0),1:(1,1),2:(1,2),3:(2,3),4:(2,4),5:(3,1),6:(3,2),7:(4,3),8:(4,4),9:(5,1),10:(5,2),11:(6,3),12:(6,4)}\n",
    "\n",
    "def find_sheet_name(target_text,sheet_names):\n",
    "    '''Return a list of sheet names containing a specific string'''\n",
    "    return [name for name in sheet_names if target_text.lower() in name.lower()]\n",
    "def find_column_name(target,columns):\n",
    "    return [name for name in columns if target.lower() in name.lower()]\n",
    "\n",
    "def month_diff(b,a):\n",
    "    '''month differnece between two pandas datetime objects'''\n",
    "    return (b.month - a.month + (b.year - a.year)*12)\n",
    "\n",
    "def pq_lookup(date):\n",
    "    '''retun period, quarter given a date: pd.datetime(year,month,day)'''\n",
    "    #3 month index to period quarter\n",
    "    #quarter_map={0:(0,0), 1:(1,1),2:(1,2),3:(2,3),4:(2,4),5:(3,1),6:(3,2),7:(4,3),8:(4,4),9:(5,1),10:(5,2),11:(6,3),12:(6,4)}\n",
    "    qnum=1+int(floor(month_diff(date,pd.datetime(2016,4,1))/3))\n",
    "    try:\n",
    "        p,q=quarter_map[qnum]\n",
    "    except KeyError:\n",
    "        p,q=(0,0)\n",
    "    return p,q,qnum"
   ]
  },
  {
   "cell_type": "code",
   "execution_count": 3,
   "metadata": {
    "collapsed": false
   },
   "outputs": [],
   "source": [
    "# read the entire file into a python array\n",
    "#use: with open('file path','rb') as f #without gzip\n",
    "with gzip.open('/Users/attiladobi/zenysis/pipeline/out/za/out/shared/20161208/za_integration.json.gz', 'rb') as f:\n",
    "    data = f.readlines()\n",
    "\n",
    "# remove the trailing \"\\n\" from each line\n",
    "data = map(lambda x: x.rstrip(), data)\n",
    "\n",
    "# each element of 'data' is an individual JSON object.\n",
    "# i want to convert it into an *array* of JSON objects\n",
    "# which, in and of itself, is one large JSON object\n",
    "# basically... add square brackets to the beginning\n",
    "# and end, and have all the individual business JSON objects\n",
    "# separated by a comma\n",
    "data_json_str = \"[\" + ','.join(data) + \"]\"\n",
    "\n",
    "# now, load it into pandas\n",
    "DF = pd.read_json(data_json_str)\n",
    "\n",
    "#convert date:\n",
    "DF['Date']=pd.to_datetime(DF['Real_Date'])\n",
    "DF['day'] = DF['Date'].dt.day\n",
    "DF['month'] = DF['Date'].dt.month\n",
    "DF['year'] = DF['Date'].dt.year\n",
    "\n",
    "#ADD Quarter grouping to the data\n",
    "DF['qNum']=[pq_lookup(date)[2] for date in DF['Date'].dt.values] #need the .dt to convert to dt index\n",
    "#DF['subrecipient']=DF['subrecipient'].replace('nqobile women','nqobile')\n",
    "#standardize names\n",
    "#DF['field']=DF['field'].replace('red_umbrella_male_condom_lube','f_1_male_condoms_number_given')\n",
    "#DF=DF.drop_duplicates()"
   ]
  },
  {
   "cell_type": "markdown",
   "metadata": {},
   "source": [
    "<h1> grouped by subrecipient and quarter </h1>"
   ]
  },
  {
   "cell_type": "code",
   "execution_count": 8,
   "metadata": {
    "collapsed": false,
    "scrolled": true
   },
   "outputs": [],
   "source": [
    "#DF.loc[(DF['subrecipient'].str.contains(\"cpc\")) & (DF['year']==2016)\\\n",
    "#      & (DF['Quarter']>0) & (DF['Quarter']<=2)].groupby(['Quarter','field']).count().dropna()"
   ]
  },
  {
   "cell_type": "code",
   "execution_count": 9,
   "metadata": {
    "collapsed": false,
    "scrolled": true
   },
   "outputs": [],
   "source": [
    "#DF.loc[(DF['field'].str.contains(\"counter_1_first_outreach_for_quarter\")) & (DF['year']==2016) \\\n",
    "#       & (DF['Quarter']>=1) & (DF['Quarter']<=2)].keys"
   ]
  },
  {
   "cell_type": "code",
   "execution_count": null,
   "metadata": {
    "collapsed": false
   },
   "outputs": [],
   "source": [
    "DF.columns"
   ]
  },
  {
   "cell_type": "code",
   "execution_count": 94,
   "metadata": {
    "collapsed": false
   },
   "outputs": [],
   "source": [
    "#DF.loc[(DF['field'].str.contains(\"counter_1_first_outreach_for_quarter\")) & (DF['year']==2016) \\\n",
    "#       & (DF['Quarter']>=1) & (DF['Quarter']<=2)].suburb"
   ]
  },
  {
   "cell_type": "markdown",
   "metadata": {},
   "source": [
    "<h1> Count the number of unique people reached in a quarter </h1>"
   ]
  },
  {
   "cell_type": "code",
   "execution_count": 6,
   "metadata": {
    "collapsed": false,
    "scrolled": true
   },
   "outputs": [],
   "source": [
    "Indicator='a2_number_of_sex_workers_who_received_one_or_more_services_through_outreach'\n",
    "\n",
    "unique_people_per_m=DF.loc[(DF['field']==Indicator)\\\n",
    "                        & (DF['qNum']>0)].groupby(['subrecipient','month']).unique_id.nunique()\n",
    "\n",
    "budget_unique_people_per_m=DF.loc[(DF['field']=='budget_'+Indicator)\\\n",
    "                        & (DF['qNum']>0) & (DF['qNum']<=2) ].groupby(['subrecipient','month']).val.sum()\n",
    "\n",
    "#count_new_quarter=DF.loc[(DF['field'].str.contains(\"counter_1_first_outreach_for_quarter\")) & (DF['year']==2016) \\\n",
    "#       & (DF['Quarter']>=1) & (DF['Quarter']<=2)]\\\n",
    "#.groupby(['Quarter','subrecipient']).beneficiary.nunique()\n",
    "\n",
    "ind2bud=unique_people_per_m/budget_unique_people_per_m"
   ]
  },
  {
   "cell_type": "code",
   "execution_count": 7,
   "metadata": {
    "collapsed": false
   },
   "outputs": [
    {
     "data": {
      "text/plain": [
       "subrecipient  month\n",
       "cpc           4         822\n",
       "              5        1005\n",
       "              6        1067\n",
       "              7        1007\n",
       "              8        2071\n",
       "              9        2439\n",
       "qlac          4           2\n",
       "sweat         4         395\n",
       "              5           6\n",
       "              6         170\n",
       "              7         172\n",
       "              8         456\n",
       "              9          22\n",
       "              10          9\n",
       "Name: unique_id, dtype: int64"
      ]
     },
     "execution_count": 7,
     "metadata": {},
     "output_type": "execute_result"
    }
   ],
   "source": [
    "unique_people_per_m"
   ]
  },
  {
   "cell_type": "markdown",
   "metadata": {},
   "source": [
    "<h1> Count number of PM (peer motivators) per quarter </h1>"
   ]
  },
  {
   "cell_type": "code",
   "execution_count": 23,
   "metadata": {
    "collapsed": false,
    "scrolled": true
   },
   "outputs": [],
   "source": [
    "unique_pm_per_m=DF.loc[(DF['field']==Indicator)\\\n",
    "                        & (DF['qNum']>0)].groupby(['subrecipient','month']).peer_motivator.nunique()\n",
    "unique_pm_per_m\n",
    "\n",
    "pm2bud=unique_pm_per_m/budget_unique_people_per_m"
   ]
  },
  {
   "cell_type": "code",
   "execution_count": 10,
   "metadata": {
    "collapsed": false
   },
   "outputs": [
    {
     "data": {
      "text/plain": [
       "month\n",
       "4    44.700000\n",
       "5    55.217391\n",
       "6    62.320000\n",
       "7    35.200000\n",
       "8    61.382353\n",
       "9    68.500000\n",
       "dtype: float64"
      ]
     },
     "execution_count": 10,
     "metadata": {},
     "output_type": "execute_result"
    }
   ],
   "source": [
    "reached_per_pm=unique_people_per_m/unique_pm_per_m\n",
    "reached_per_pm['cpc']"
   ]
  },
  {
   "cell_type": "markdown",
   "metadata": {},
   "source": [
    "<h1> Plot monthly trend of unique SW reached and PM(peer motivators) trained</h1>"
   ]
  },
  {
   "cell_type": "code",
   "execution_count": 11,
   "metadata": {
    "collapsed": true
   },
   "outputs": [],
   "source": [
    "import plotly.plotly as py\n",
    "import plotly.graph_objs as go"
   ]
  },
  {
   "cell_type": "code",
   "execution_count": 13,
   "metadata": {
    "collapsed": false
   },
   "outputs": [
    {
     "data": {
      "text/plain": [
       "Int64Index([4, 5, 6, 7, 8, 9], dtype='int64', name=u'month')"
      ]
     },
     "execution_count": 13,
     "metadata": {},
     "output_type": "execute_result"
    }
   ],
   "source": [
    "unique_people_per_m['cpc'].index"
   ]
  },
  {
   "cell_type": "code",
   "execution_count": 14,
   "metadata": {
    "collapsed": true
   },
   "outputs": [],
   "source": [
    "def create_trace(data,width=4,size=10,mode='lines+markers'):\n",
    "    return [go.Scatter(x=data[key_name].index, y=data[key_name].values,mode=mode,name=key_name,\\\n",
    "                      line = dict(width=width), marker=dict(size=size))\\\n",
    "    for key_name in data.index.levels[0]]"
   ]
  },
  {
   "cell_type": "code",
   "execution_count": 30,
   "metadata": {
    "collapsed": false
   },
   "outputs": [
    {
     "name": "stdout",
     "output_type": "stream",
     "text": [
      "High five! You successfuly sent some data to your account on plotly. View your plot in your browser at https://plot.ly/~attdobi/0 or inside your plot.ly account where it is named 'line-mode'\n"
     ]
    },
    {
     "data": {
      "text/html": [
       "<iframe id=\"igraph\" scrolling=\"no\" style=\"border:none;\" seamless=\"seamless\" src=\"https://plot.ly/~attdobi/0.embed\" height=\"525px\" width=\"100%\"></iframe>"
      ],
      "text/plain": [
       "<plotly.tools.PlotlyDisplay object>"
      ]
     },
     "execution_count": 30,
     "metadata": {},
     "output_type": "execute_result"
    }
   ],
   "source": [
    "traces=create_trace(ind2bud.dropna()*1000)\n",
    "# Edit the layout #color='#7f7f7f'\n",
    "layout = dict(title = 'SW Reached per budget',\n",
    "              font=dict(family='Courier New, monospace', size=18),\n",
    "              xaxis = dict(title = 'Month 2016'),\n",
    "              yaxis = dict(title = 'New people per month per 1000(zar)'),\n",
    "              )\n",
    "fig = dict(data=traces, layout=layout)\n",
    "py.iplot(fig, filename='line-mode')"
   ]
  },
  {
   "cell_type": "code",
   "execution_count": 31,
   "metadata": {
    "collapsed": false
   },
   "outputs": [
    {
     "name": "stdout",
     "output_type": "stream",
     "text": [
      "High five! You successfuly sent some data to your account on plotly. View your plot in your browser at https://plot.ly/~attdobi/0 or inside your plot.ly account where it is named 'line-mode'\n"
     ]
    },
    {
     "data": {
      "text/html": [
       "<iframe id=\"igraph\" scrolling=\"no\" style=\"border:none;\" seamless=\"seamless\" src=\"https://plot.ly/~attdobi/0.embed\" height=\"525px\" width=\"100%\"></iframe>"
      ],
      "text/plain": [
       "<plotly.tools.PlotlyDisplay object>"
      ]
     },
     "execution_count": 31,
     "metadata": {},
     "output_type": "execute_result"
    }
   ],
   "source": [
    "traces=create_trace(pm2bud.dropna()*1000)\n",
    "# Edit the layout #color='#7f7f7f'\n",
    "layout = dict(title = 'PMs Trained per budget',\n",
    "              font=dict(family='Courier New, monospace', size=18),\n",
    "              xaxis = dict(title = 'Month 2016'),\n",
    "              yaxis = dict(title = 'Number of peer motivators per 1000(zar)'),\n",
    "              )\n",
    "fig = dict(data=traces, layout=layout)\n",
    "py.iplot(fig, filename='line-mode')"
   ]
  },
  {
   "cell_type": "code",
   "execution_count": 32,
   "metadata": {
    "collapsed": false
   },
   "outputs": [
    {
     "name": "stdout",
     "output_type": "stream",
     "text": [
      "High five! You successfuly sent some data to your account on plotly. View your plot in your browser at https://plot.ly/~attdobi/0 or inside your plot.ly account where it is named 'line-mode'\n"
     ]
    },
    {
     "data": {
      "text/html": [
       "<iframe id=\"igraph\" scrolling=\"no\" style=\"border:none;\" seamless=\"seamless\" src=\"https://plot.ly/~attdobi/0.embed\" height=\"525px\" width=\"100%\"></iframe>"
      ],
      "text/plain": [
       "<plotly.tools.PlotlyDisplay object>"
      ]
     },
     "execution_count": 32,
     "metadata": {},
     "output_type": "execute_result"
    }
   ],
   "source": [
    "traces=create_trace(reached_per_pm/budget_unique_people_per_m)\n",
    "# Edit the layout #color='#7f7f7f'\n",
    "layout = dict(title = 'PM performance',\n",
    "              font=dict(family='Courier New, monospace', size=18),\n",
    "              xaxis = dict(title = 'Month 2016'),\n",
    "              yaxis = dict(title = 'Number of people reached/PM'),\n",
    "              )\n",
    "fig = dict(data=traces, layout=layout)\n",
    "py.iplot(fig, filename='line-mode')"
   ]
  },
  {
   "cell_type": "markdown",
   "metadata": {},
   "source": [
    "<h1> Get quarterly spending data </h1>"
   ]
  },
  {
   "cell_type": "code",
   "execution_count": 42,
   "metadata": {
    "collapsed": false,
    "scrolled": true
   },
   "outputs": [],
   "source": [
    "plot_spend=DF.loc[(DF['field']=='spend') & (DF['year']<=2016) & (DF['Quarter']<=2)].groupby(['Quarter','subrecipient']).sum()['val']\n",
    "#plot_spend"
   ]
  },
  {
   "cell_type": "code",
   "execution_count": 59,
   "metadata": {
    "collapsed": false
   },
   "outputs": [
    {
     "data": {
      "text/plain": [
       "Quarter  subrecipient  \n",
       "1        cpc               2.759530e+06\n",
       "         htt               9.026696e+05\n",
       "         lifeline nc       5.417175e+05\n",
       "         ll durban         8.422708e+05\n",
       "         ll fs             6.321698e+05\n",
       "         ll zululand       6.386447e+05\n",
       "         munna ndi nnyi    8.012208e+05\n",
       "         nqobile           1.443221e+06\n",
       "         oasis             1.778952e+06\n",
       "         phru              1.297509e+06\n",
       "         psh               7.465358e+05\n",
       "         qac               1.400363e+06\n",
       "         sweat             4.444029e+06\n",
       "         thca              2.387249e+04\n",
       "         wrhi              1.736811e+06\n",
       "2        cpc               1.618566e+06\n",
       "         htt               3.580400e+05\n",
       "         lifeline nc       2.402625e+05\n",
       "         ll durban         2.850366e+05\n",
       "         ll fs             4.950573e+05\n",
       "         ll zululand       2.029758e+05\n",
       "         munna ndi nnyi    1.188548e+05\n",
       "         nqobile           6.233507e+05\n",
       "         oasis             6.631024e+05\n",
       "         phru              1.143940e+06\n",
       "         psh               2.018028e+05\n",
       "         qac               9.266312e+05\n",
       "         sweat             2.929222e+06\n",
       "         thca              0.000000e+00\n",
       "         wrhi              2.478493e+06\n",
       "Name: val, dtype: float64"
      ]
     },
     "execution_count": 59,
     "metadata": {},
     "output_type": "execute_result"
    }
   ],
   "source": [
    "plot_spend"
   ]
  },
  {
   "cell_type": "code",
   "execution_count": 62,
   "metadata": {
    "collapsed": true
   },
   "outputs": [],
   "source": [
    "def plot_q(t):\n",
    "    q=t\n",
    "    #setup colors\n",
    "    start,stop=0,1\n",
    "    number_of_colors= len(count_new_quarter.index.levels[1])\n",
    "    cm_subsection = linspace(start, stop, number_of_colors) \n",
    "    colors = [ cm.jet(x) for x in cm_subsection ]\n",
    "\n",
    "    fig=figure()\n",
    "    fig.set_size_inches(10, 7)\n",
    "    sns.set_context(\"notebook\", font_scale=2.0, rc={\"lines.linewidth\": 2.5})\n",
    "    for SR,color in zip(count_new_quarter.index.levels[1],colors):\n",
    "        try: \n",
    "            scatter(plot_spend[(q,SR)]/1e6,count_new_quarter[(q,SR)],color=color,label=SR,s=200)\n",
    "        except KeyError:\n",
    "            print('fail')\n",
    "\n",
    "    #legend=plt.legend(frameon=True )\n",
    "    #frame = legend.get_frame()\n",
    "    #frame.set_facecolor('white')\n",
    "\n",
    "    plt.ylabel('New People Reached per Quarter')\n",
    "    plt.xlabel('Money Spent ($ Million)')"
   ]
  },
  {
   "cell_type": "code",
   "execution_count": 63,
   "metadata": {
    "collapsed": false
   },
   "outputs": [
    {
     "name": "stdout",
     "output_type": "stream",
     "text": [
      "fail\n"
     ]
    },
    {
     "data": {
      "text/plain": [
       "<function __main__.plot_q>"
      ]
     },
     "execution_count": 63,
     "metadata": {},
     "output_type": "execute_result"
    },
    {
     "data": {
      "image/png": "[encoded data removed]",
      "text/plain": [
       "<matplotlib.figure.Figure at 0x178e44b90>"
      ]
     },
     "metadata": {},
     "output_type": "display_data"
    }
   ],
   "source": [
    "interact(plot_q, t=(1,2,1) )"
   ]
  },
  {
   "cell_type": "markdown",
   "metadata": {},
   "source": [
    "<h1> Bar Chart for people reached normalized to money spent </h1>"
   ]
  },
  {
   "cell_type": "code",
   "execution_count": 64,
   "metadata": {
    "collapsed": false
   },
   "outputs": [],
   "source": [
    "#After cutting the data is indexed as 1 and 2 on level 1\n",
    "dat=count_new_quarter/plot_spend\n",
    "#dat"
   ]
  },
  {
   "cell_type": "code",
   "execution_count": 65,
   "metadata": {
    "collapsed": false
   },
   "outputs": [],
   "source": [
    "#Loop through data and build arrays for q1, q2\n",
    "\n",
    "names=[]\n",
    "q1=[]\n",
    "q2=[]\n",
    "for SR in count_new_quarter.index.levels[1]:\n",
    "    names.append(SR)\n",
    "    q1.append(dat[(1,SR)])\n",
    "    q2.append(dat[(2,SR)])\n",
    "q1=np.array(q1)    \n",
    "q2=np.array(q2)    "
   ]
  },
  {
   "cell_type": "code",
   "execution_count": 66,
   "metadata": {
    "collapsed": false
   },
   "outputs": [
    {
     "data": {
      "text/plain": [
       "'\\nq1=np.array(dat[1].values)\\nq2=np.array(dat[2].values)\\nnames=dat[2].index\\n'"
      ]
     },
     "execution_count": 66,
     "metadata": {},
     "output_type": "execute_result"
    }
   ],
   "source": [
    "#new\n",
    "'''\n",
    "q1=np.array(dat[1].values)\n",
    "q2=np.array(dat[2].values)\n",
    "names=dat[2].index\n",
    "'''\n",
    "#this will lead to an error since the first quarter has one less SR reporting"
   ]
  },
  {
   "cell_type": "code",
   "execution_count": 67,
   "metadata": {
    "collapsed": false
   },
   "outputs": [
    {
     "data": {
      "text/plain": [
       "<matplotlib.legend.Legend at 0x18cb32350>"
      ]
     },
     "execution_count": 67,
     "metadata": {},
     "output_type": "execute_result"
    },
    {
     "data": {
      "image/png": "[encoded data removed]",
      "text/plain": [
       "<matplotlib.figure.Figure at 0x18c25c650>"
      ]
     },
     "metadata": {},
     "output_type": "display_data"
    }
   ],
   "source": [
    "N = 5\n",
    "\n",
    "ind = np.arange(N)  # the x locations for the groups\n",
    "width = 0.35       # the width of the bars\n",
    "\n",
    "fig, ax = plt.subplots()\n",
    "rects1 = ax.bar(ind, q1*1000, width, color='r', label='Q1')\n",
    "\n",
    "rects2 = ax.bar(ind + width, q2*1000, width, color='y',label='Q2')\n",
    "\n",
    "# add some text for labels, title and axes ticks\n",
    "ax.set_ylabel('People Reached per $1000')\n",
    "#ax.set_title('Scores by group and gender')\n",
    "ax.set_xticks(ind + width)\n",
    "ax.set_xticklabels(names)\n",
    "plt.legend()"
   ]
  },
  {
   "cell_type": "code",
   "execution_count": 68,
   "metadata": {
    "collapsed": false
   },
   "outputs": [],
   "source": [
    "# Open File to write the D3 Graph\n",
    "output_file = open('SA.html', 'w')\n",
    "\n",
    "kwargs1 = {\"fontSize\": '100'}\n",
    "\n",
    "chart = multiBarChart(width=800, height=400, x_axis_format=None, **kwargs1)\n",
    "chart.create_y_axis('yAxis','People Reached per $1000')\n",
    "\n",
    "xdata = names\n",
    "#xdata = ['one' , 'two', 'three', 'four']\n",
    "ydata1 = q1*1000\n",
    "ydata2 = q2*1000\n",
    "\n",
    "chart.add_serie(name=\"Quarter 1\", y=ydata1, x=xdata ,**kwargs1)\n",
    "chart.add_serie(name=\"Quarter 2\", y=ydata2, x=xdata, **kwargs1)\n",
    "chart.buildhtml()\n",
    "\n",
    "output_file.write(chart.htmlcontent)\n",
    "\n",
    "# close Html file\n",
    "output_file.close()"
   ]
  },
  {
   "cell_type": "markdown",
   "metadata": {},
   "source": [
    "<h1> People Reached per $1000 </h1>"
   ]
  },
  {
   "cell_type": "code",
   "execution_count": 58,
   "metadata": {
    "collapsed": true
   },
   "outputs": [],
   "source": [
    "def plot_ME(ME_name, title_str):\n",
    "    if ME_name.split('_')[0]=='a2':\n",
    "        services=DF.loc[(DF['field']==Indicator)\\\n",
    "                        & (DF['qNum']>0) & (DF['qNum']<=2)].groupby(['qNum','subrecipient']).unique_id.nunique()\n",
    "    else:\n",
    "        services=DF.loc[(DF['field']==ME_name) & (DF['year']==2016) \\\n",
    "                    & (DF['qNum']>0) & (DF['qNum']<=2)]\\\n",
    "        .groupby(['qNum','subrecipient']).sum().val\n",
    "\n",
    "    budget_ind=DF.loc[(DF['field']=='budget_'+ME_name)\\\n",
    "                        & (DF['qNum']>0) & (DF['qNum']<=2) ].groupby(['qNum','subrecipient']).val.sum()\n",
    "\n",
    "\n",
    "    services_per_spend=services/budget_ind\n",
    "\n",
    "    names=[]\n",
    "    q1=[]\n",
    "    q2=[]\n",
    "    for SR in services.index.levels[1]:\n",
    "        names.append(SR)\n",
    "        q1.append(services_per_spend[(1,SR)])\n",
    "        q2.append(services_per_spend[(2,SR)])\n",
    "    q1=np.array(q1)    \n",
    "    q2=np.array(q2) \n",
    "\n",
    "\n",
    "    # Open File to write the D3 Graph\n",
    "    output_file = open('SA_services.html', 'w')\n",
    "\n",
    "    kwargs1 = {\"fontSize\": '100'}\n",
    "\n",
    "    chart = multiBarChart(name=ME_name, width=800, height=400, x_axis_format=None, **kwargs1)\n",
    "    chart.create_y_axis('yAxis',title_str+' per 1000(ZAR)')\n",
    "\n",
    "    xdata = names\n",
    "    #xdata = ['one' , 'two', 'three', 'four']\n",
    "    ydata1 = q1*1000\n",
    "    ydata2 = q2*1000\n",
    "\n",
    "    chart.add_serie(name=\"Quarter 1\", y=ydata1, x=xdata ,**kwargs1)\n",
    "    chart.add_serie(name=\"Quarter 2\", y=ydata2, x=xdata, **kwargs1)\n",
    "\n",
    "    chart.buildhtml()\n",
    "\n",
    "    output_file.write(chart.htmlcontent)\n",
    "\n",
    "    # close Html file\n",
    "    output_file.close()\n",
    "\n",
    "    display(chart)"
   ]
  },
  {
   "cell_type": "markdown",
   "metadata": {},
   "source": [
    "<h1> b2_sw_tested_hiv_negative </h1>"
   ]
  },
  {
   "cell_type": "code",
   "execution_count": 52,
   "metadata": {
    "collapsed": false
   },
   "outputs": [
    {
     "data": {
      "text/html": [
       "<!DOCTYPE html>\n",
       "<html lang=\"en\">\n",
       "    <head>\n",
       "        <meta charset=\"utf-8\" />\n",
       "        <link href=\"https://cdnjs.cloudflare.com/ajax/libs/nvd3/1.7.0/nv.d3.min.css\" rel=\"stylesheet\" />\n",
       "        <script src=\"https://cdnjs.cloudflare.com/ajax/libs/d3/3.5.5/d3.min.js\"></script>\n",
       "        <script src=\"https://cdnjs.cloudflare.com/ajax/libs/nvd3/1.7.0/nv.d3.min.js\"></script>\n",
       "    </head>\n",
       "    <body>\n",
       "        \n",
       "    <div id=\"f1_number_of_male_condoms_distributed\"><svg style=\"width:800px;height:400px;\"></svg></div>\n",
       "\n",
       "\n",
       "    <script>\n",
       "\n",
       "\n",
       "\n",
       "        data_f1_number_of_male_condoms_distributed=[{\"values\": [{\"y\": 6570.6225412485828, \"x\": \"cpc\"}, {\"y\": 0.56926480290490244, \"x\": \"qlac\"}, {\"y\": 180.38751050688344, \"x\": \"sweat\"}], \"key\": \"Quarter 1\", \"yAxis\": \"1\"}, {\"values\": [{\"y\": 8074.2067948424747, \"x\": \"cpc\"}, {\"y\": NaN, \"x\": \"qlac\"}, {\"y\": 109.64758688858137, \"x\": \"sweat\"}], \"key\": \"Quarter 2\", \"yAxis\": \"1\"}];\n",
       "\n",
       "    nv.addGraph(function() {\n",
       "        var chart = nv.models.multiBarChart();\n",
       "\n",
       "        chart.margin({top: 30, right: 60, bottom: 20, left: 60});\n",
       "\n",
       "        var datum = data_f1_number_of_male_condoms_distributed;\n",
       "\n",
       "\n",
       "\n",
       "\n",
       "\n",
       "            chart.yAxis\n",
       "                .axisLabel('f1 condoms distributed per 1000(ZAR)');\n",
       "\n",
       "\n",
       "      chart.showLegend(true);\n",
       "\n",
       "\n",
       "\n",
       "        \n",
       "\n",
       "\n",
       "        d3.select('#f1_number_of_male_condoms_distributed svg')\n",
       "            .datum(datum)\n",
       "            .transition().duration(500)\n",
       "            .attr('width', 800)\n",
       "            .attr('height', 400)\n",
       "            .call(chart);\n",
       "\n",
       "\n",
       "    });\n",
       "\n",
       "\n",
       "\n",
       "\n",
       "    </script>\n",
       "\n",
       "    </body>\n",
       "</html>"
      ],
      "text/plain": [
       "<nvd3.multiBarChart.multiBarChart at 0x1c3fe5890>"
      ]
     },
     "metadata": {},
     "output_type": "display_data"
    }
   ],
   "source": [
    "plot_ME('f1_number_of_male_condoms_distributed','f1 condoms distributed')"
   ]
  },
  {
   "cell_type": "markdown",
   "metadata": {},
   "source": [
    "<h1> People reached </h1>"
   ]
  },
  {
   "cell_type": "code",
   "execution_count": 59,
   "metadata": {
    "collapsed": false
   },
   "outputs": [
    {
     "data": {
      "text/html": [
       "<!DOCTYPE html>\n",
       "<html lang=\"en\">\n",
       "    <head>\n",
       "        <meta charset=\"utf-8\" />\n",
       "        <link href=\"https://cdnjs.cloudflare.com/ajax/libs/nvd3/1.7.0/nv.d3.min.css\" rel=\"stylesheet\" />\n",
       "        <script src=\"https://cdnjs.cloudflare.com/ajax/libs/d3/3.5.5/d3.min.js\"></script>\n",
       "        <script src=\"https://cdnjs.cloudflare.com/ajax/libs/nvd3/1.7.0/nv.d3.min.js\"></script>\n",
       "    </head>\n",
       "    <body>\n",
       "        \n",
       "    <div id=\"a2_number_of_sex_workers_who_received_one_or_more_services_through_outreach\"><svg style=\"width:800px;height:400px;\"></svg></div>\n",
       "\n",
       "\n",
       "    <script>\n",
       "\n",
       "\n",
       "\n",
       "        data_a2_number_of_sex_workers_who_received_one_or_more_services_through_outreach=[{\"values\": [{\"y\": 20.405674800312777, \"x\": \"cpc\"}, {\"y\": NaN, \"x\": \"nqobile\"}, {\"y\": 6.2583166119329796, \"x\": \"oasis\"}, {\"y\": 5.9043141153876251, \"x\": \"qlac\"}, {\"y\": 6.5547705322520597, \"x\": \"sweat\"}], \"key\": \"Quarter 1\", \"yAxis\": \"1\"}, {\"values\": [{\"y\": 19.93626874512055, \"x\": \"cpc\"}, {\"y\": 24.022880482393923, \"x\": \"nqobile\"}, {\"y\": 14.282032722017405, \"x\": \"oasis\"}, {\"y\": 5.3743831855572095, \"x\": \"qlac\"}, {\"y\": 4.8964781933133334, \"x\": \"sweat\"}], \"key\": \"Quarter 2\", \"yAxis\": \"1\"}];\n",
       "\n",
       "    nv.addGraph(function() {\n",
       "        var chart = nv.models.multiBarChart();\n",
       "\n",
       "        chart.margin({top: 30, right: 60, bottom: 20, left: 60});\n",
       "\n",
       "        var datum = data_a2_number_of_sex_workers_who_received_one_or_more_services_through_outreach;\n",
       "\n",
       "\n",
       "\n",
       "\n",
       "\n",
       "            chart.yAxis\n",
       "                .axisLabel('SW reached per 1000(ZAR)');\n",
       "\n",
       "\n",
       "      chart.showLegend(true);\n",
       "\n",
       "\n",
       "\n",
       "        \n",
       "\n",
       "\n",
       "        d3.select('#a2_number_of_sex_workers_who_received_one_or_more_services_through_outreach svg')\n",
       "            .datum(datum)\n",
       "            .transition().duration(500)\n",
       "            .attr('width', 800)\n",
       "            .attr('height', 400)\n",
       "            .call(chart);\n",
       "\n",
       "\n",
       "    });\n",
       "\n",
       "\n",
       "\n",
       "\n",
       "    </script>\n",
       "\n",
       "    </body>\n",
       "</html>"
      ],
      "text/plain": [
       "<nvd3.multiBarChart.multiBarChart at 0x1cd25be90>"
      ]
     },
     "metadata": {},
     "output_type": "display_data"
    }
   ],
   "source": [
    "plot_ME('a2_number_of_sex_workers_who_received_one_or_more_services_through_outreach', 'SW reached')"
   ]
  },
  {
   "cell_type": "markdown",
   "metadata": {},
   "source": [
    "<h1> b1 </h1>"
   ]
  },
  {
   "cell_type": "code",
   "execution_count": 60,
   "metadata": {
    "collapsed": false
   },
   "outputs": [
    {
     "data": {
      "text/html": [
       "<!DOCTYPE html>\n",
       "<html lang=\"en\">\n",
       "    <head>\n",
       "        <meta charset=\"utf-8\" />\n",
       "        <link href=\"https://cdnjs.cloudflare.com/ajax/libs/nvd3/1.7.0/nv.d3.min.css\" rel=\"stylesheet\" />\n",
       "        <script src=\"https://cdnjs.cloudflare.com/ajax/libs/d3/3.5.5/d3.min.js\"></script>\n",
       "        <script src=\"https://cdnjs.cloudflare.com/ajax/libs/nvd3/1.7.0/nv.d3.min.js\"></script>\n",
       "    </head>\n",
       "    <body>\n",
       "        \n",
       "    <div id=\"b1_number_of_sex_workers_that_have_received_an_hiv_test_during_the_reporting_period_and_know_their_results\"><svg style=\"width:800px;height:400px;\"></svg></div>\n",
       "\n",
       "\n",
       "    <script>\n",
       "\n",
       "\n",
       "\n",
       "        data_b1_number_of_sex_workers_that_have_received_an_hiv_test_during_the_reporting_period_and_know_their_results=[{\"values\": [{\"y\": 3.7388478972026218, \"x\": \"cpc\"}, {\"y\": NaN, \"x\": \"nqobile\"}, {\"y\": 0.28254235092816893, \"x\": \"oasis\"}, {\"y\": NaN, \"x\": \"qlac\"}, {\"y\": NaN, \"x\": \"sweat\"}], \"key\": \"Quarter 1\", \"yAxis\": \"1\"}, {\"values\": [{\"y\": 3.6409439199046947, \"x\": \"cpc\"}, {\"y\": 1.1321729598085246, \"x\": \"nqobile\"}, {\"y\": 1.3744829913318442, \"x\": \"oasis\"}, {\"y\": 0.20967457987203356, \"x\": \"qlac\"}, {\"y\": 0.23668193580896979, \"x\": \"sweat\"}], \"key\": \"Quarter 2\", \"yAxis\": \"1\"}];\n",
       "\n",
       "    nv.addGraph(function() {\n",
       "        var chart = nv.models.multiBarChart();\n",
       "\n",
       "        chart.margin({top: 30, right: 60, bottom: 20, left: 60});\n",
       "\n",
       "        var datum = data_b1_number_of_sex_workers_that_have_received_an_hiv_test_during_the_reporting_period_and_know_their_results;\n",
       "\n",
       "\n",
       "\n",
       "\n",
       "\n",
       "            chart.yAxis\n",
       "                .axisLabel('b1 recived HIV test and know results per 1000(ZAR)');\n",
       "\n",
       "\n",
       "      chart.showLegend(true);\n",
       "\n",
       "\n",
       "\n",
       "        \n",
       "\n",
       "\n",
       "        d3.select('#b1_number_of_sex_workers_that_have_received_an_hiv_test_during_the_reporting_period_and_know_their_results svg')\n",
       "            .datum(datum)\n",
       "            .transition().duration(500)\n",
       "            .attr('width', 800)\n",
       "            .attr('height', 400)\n",
       "            .call(chart);\n",
       "\n",
       "\n",
       "    });\n",
       "\n",
       "\n",
       "\n",
       "\n",
       "    </script>\n",
       "\n",
       "    </body>\n",
       "</html>"
      ],
      "text/plain": [
       "<nvd3.multiBarChart.multiBarChart at 0x1c6ec8e10>"
      ]
     },
     "metadata": {},
     "output_type": "display_data"
    }
   ],
   "source": [
    "plot_ME('b1_number_of_sex_workers_that_have_received_an_hiv_test_during_the_reporting_period_and_know_their_results'\\\n",
    "        ,'b1 recived HIV test and know results')"
   ]
  },
  {
   "cell_type": "markdown",
   "metadata": {},
   "source": [
    "<h1> e2 </h3>"
   ]
  },
  {
   "cell_type": "code",
   "execution_count": 66,
   "metadata": {
    "collapsed": false
   },
   "outputs": [
    {
     "data": {
      "text/html": [
       "<!DOCTYPE html>\n",
       "<html lang=\"en\">\n",
       "    <head>\n",
       "        <meta charset=\"utf-8\" />\n",
       "        <link href=\"https://cdnjs.cloudflare.com/ajax/libs/nvd3/1.7.0/nv.d3.min.css\" rel=\"stylesheet\" />\n",
       "        <script src=\"https://cdnjs.cloudflare.com/ajax/libs/d3/3.5.5/d3.min.js\"></script>\n",
       "        <script src=\"https://cdnjs.cloudflare.com/ajax/libs/nvd3/1.7.0/nv.d3.min.js\"></script>\n",
       "    </head>\n",
       "    <body>\n",
       "        \n",
       "    <div id=\"e2_number_of_sex_workers_attending_creative_space_workshops\"><svg style=\"width:800px;height:400px;\"></svg></div>\n",
       "\n",
       "\n",
       "    <script>\n",
       "\n",
       "\n",
       "\n",
       "        data_e2_number_of_sex_workers_attending_creative_space_workshops=[{\"values\": [{\"y\": 8.4427755152783579, \"x\": \"cpc\"}, {\"y\": NaN, \"x\": \"nqobile\"}, {\"y\": 0.71215052357312258, \"x\": \"oasis\"}, {\"y\": 1.889311452230815, \"x\": \"qlac\"}, {\"y\": 1.8316992234132636, \"x\": \"sweat\"}], \"key\": \"Quarter 1\", \"yAxis\": \"1\"}, {\"values\": [{\"y\": 5.6693634491438178, \"x\": \"cpc\"}, {\"y\": 6.8168906760033154, \"x\": \"nqobile\"}, {\"y\": 3.619389332595266, \"x\": \"oasis\"}, {\"y\": 4.0932559535642365, \"x\": \"qlac\"}, {\"y\": 2.7600841850865447, \"x\": \"sweat\"}], \"key\": \"Quarter 2\", \"yAxis\": \"1\"}];\n",
       "\n",
       "    nv.addGraph(function() {\n",
       "        var chart = nv.models.multiBarChart();\n",
       "\n",
       "        chart.margin({top: 30, right: 60, bottom: 20, left: 60});\n",
       "\n",
       "        var datum = data_e2_number_of_sex_workers_attending_creative_space_workshops;\n",
       "\n",
       "\n",
       "\n",
       "\n",
       "\n",
       "            chart.yAxis\n",
       "                .axisLabel('e2 SW attending workshops per 1000(ZAR)');\n",
       "\n",
       "\n",
       "      chart.showLegend(true);\n",
       "\n",
       "\n",
       "\n",
       "        \n",
       "\n",
       "\n",
       "        d3.select('#e2_number_of_sex_workers_attending_creative_space_workshops svg')\n",
       "            .datum(datum)\n",
       "            .transition().duration(500)\n",
       "            .attr('width', 800)\n",
       "            .attr('height', 400)\n",
       "            .call(chart);\n",
       "\n",
       "\n",
       "    });\n",
       "\n",
       "\n",
       "\n",
       "\n",
       "    </script>\n",
       "\n",
       "    </body>\n",
       "</html>"
      ],
      "text/plain": [
       "<nvd3.multiBarChart.multiBarChart at 0x1c6ec8d10>"
      ]
     },
     "metadata": {},
     "output_type": "display_data"
    }
   ],
   "source": [
    "plot_ME('e2_number_of_sex_workers_attending_creative_space_workshops','e2 SW attending workshops')"
   ]
  },
  {
   "cell_type": "markdown",
   "metadata": {},
   "source": [
    "<h1> Risk reduction workshop </h1>"
   ]
  },
  {
   "cell_type": "code",
   "execution_count": 73,
   "metadata": {
    "collapsed": false
   },
   "outputs": [
    {
     "data": {
      "text/html": [
       "<!DOCTYPE html>\n",
       "<html lang=\"en\">\n",
       "    <head>\n",
       "        <meta charset=\"utf-8\" />\n",
       "        <link href=\"https://cdnjs.cloudflare.com/ajax/libs/nvd3/1.7.0/nv.d3.min.css\" rel=\"stylesheet\" />\n",
       "        <script src=\"https://cdnjs.cloudflare.com/ajax/libs/d3/3.5.5/d3.min.js\"></script>\n",
       "        <script src=\"https://cdnjs.cloudflare.com/ajax/libs/nvd3/1.7.0/nv.d3.min.js\"></script>\n",
       "    </head>\n",
       "    <body>\n",
       "        \n",
       "    <div id=\"risk_reduction_workshop\"><svg style=\"width:800px;height:400px;\"></svg></div>\n",
       "\n",
       "\n",
       "    <script>\n",
       "\n",
       "\n",
       "\n",
       "        data_risk_reduction_workshop=[{\"values\": [{\"y\": 0.11270033971143817, \"x\": \"cpc\"}, {\"y\": NaN, \"x\": \"nqobile\"}, {\"y\": 0.014053218481587739, \"x\": \"oasis\"}, {\"y\": 0.042131919696503935, \"x\": \"qac\"}, {\"y\": 0.011251052035838262, \"x\": \"sweat\"}], \"key\": \"Quarter 1\", \"yAxis\": \"1\"}, {\"values\": [{\"y\": 0.1958524263706086, \"x\": \"cpc\"}, {\"y\": 0.29517895127667138, \"x\": \"nqobile\"}, {\"y\": 0.26541902432781017, \"x\": \"oasis\"}, {\"y\": 0.14892655841094415, \"x\": \"qac\"}, {\"y\": 0.043697609717418061, \"x\": \"sweat\"}], \"key\": \"Quarter 2\", \"yAxis\": \"1\"}];\n",
       "\n",
       "    nv.addGraph(function() {\n",
       "        var chart = nv.models.multiBarChart();\n",
       "\n",
       "        chart.margin({top: 30, right: 60, bottom: 20, left: 60});\n",
       "\n",
       "        var datum = data_risk_reduction_workshop;\n",
       "\n",
       "\n",
       "\n",
       "\n",
       "\n",
       "            chart.yAxis\n",
       "                .axisLabel('risk_reduction_workshop per $1000');\n",
       "\n",
       "\n",
       "      chart.showLegend(true);\n",
       "\n",
       "\n",
       "\n",
       "        \n",
       "\n",
       "\n",
       "        d3.select('#risk_reduction_workshop svg')\n",
       "            .datum(datum)\n",
       "            .transition().duration(500)\n",
       "            .attr('width', 800)\n",
       "            .attr('height', 400)\n",
       "            .call(chart);\n",
       "\n",
       "\n",
       "    });\n",
       "\n",
       "\n",
       "\n",
       "\n",
       "    </script>\n",
       "\n",
       "    </body>\n",
       "</html>"
      ],
      "text/plain": [
       "<nvd3.multiBarChart.multiBarChart at 0x18f5c3dd0>"
      ]
     },
     "metadata": {},
     "output_type": "display_data"
    }
   ],
   "source": [
    "plot_ME('risk_reduction_workshop')"
   ]
  },
  {
   "cell_type": "markdown",
   "metadata": {},
   "source": [
    "<h1> d1_number_of_sws_screened_for_tb </h1>"
   ]
  },
  {
   "cell_type": "code",
   "execution_count": 74,
   "metadata": {
    "collapsed": false
   },
   "outputs": [
    {
     "data": {
      "text/html": [
       "<!DOCTYPE html>\n",
       "<html lang=\"en\">\n",
       "    <head>\n",
       "        <meta charset=\"utf-8\" />\n",
       "        <link href=\"https://cdnjs.cloudflare.com/ajax/libs/nvd3/1.7.0/nv.d3.min.css\" rel=\"stylesheet\" />\n",
       "        <script src=\"https://cdnjs.cloudflare.com/ajax/libs/d3/3.5.5/d3.min.js\"></script>\n",
       "        <script src=\"https://cdnjs.cloudflare.com/ajax/libs/nvd3/1.7.0/nv.d3.min.js\"></script>\n",
       "    </head>\n",
       "    <body>\n",
       "        \n",
       "    <div id=\"d1_number_of_sws_screened_for_tb\"><svg style=\"width:800px;height:400px;\"></svg></div>\n",
       "\n",
       "\n",
       "    <script>\n",
       "\n",
       "\n",
       "\n",
       "        data_d1_number_of_sws_screened_for_tb=[{\"values\": [{\"y\": NaN, \"x\": \"cpc\"}, {\"y\": NaN, \"x\": \"nqobile\"}, {\"y\": 0.016863862177905288, \"x\": \"oasis\"}, {\"y\": NaN, \"x\": \"qac\"}], \"key\": \"Quarter 1\", \"yAxis\": \"1\"}, {\"values\": [{\"y\": 3.4518217859072244, \"x\": \"cpc\"}, {\"y\": 0.17486144396281075, \"x\": \"nqobile\"}, {\"y\": 2.842698073056376, \"x\": \"oasis\"}, {\"y\": 0.023741915108991096, \"x\": \"qac\"}], \"key\": \"Quarter 2\", \"yAxis\": \"1\"}];\n",
       "\n",
       "    nv.addGraph(function() {\n",
       "        var chart = nv.models.multiBarChart();\n",
       "\n",
       "        chart.margin({top: 30, right: 60, bottom: 20, left: 60});\n",
       "\n",
       "        var datum = data_d1_number_of_sws_screened_for_tb;\n",
       "\n",
       "\n",
       "\n",
       "\n",
       "\n",
       "            chart.yAxis\n",
       "                .axisLabel('d1_number_of_sws_screened_for_tb per $1000');\n",
       "\n",
       "\n",
       "      chart.showLegend(true);\n",
       "\n",
       "\n",
       "\n",
       "        \n",
       "\n",
       "\n",
       "        d3.select('#d1_number_of_sws_screened_for_tb svg')\n",
       "            .datum(datum)\n",
       "            .transition().duration(500)\n",
       "            .attr('width', 800)\n",
       "            .attr('height', 400)\n",
       "            .call(chart);\n",
       "\n",
       "\n",
       "    });\n",
       "\n",
       "\n",
       "\n",
       "\n",
       "    </script>\n",
       "\n",
       "    </body>\n",
       "</html>"
      ],
      "text/plain": [
       "<nvd3.multiBarChart.multiBarChart at 0x18de24f50>"
      ]
     },
     "metadata": {},
     "output_type": "display_data"
    }
   ],
   "source": [
    "plot_ME('d1_number_of_sws_screened_for_tb')"
   ]
  },
  {
   "cell_type": "markdown",
   "metadata": {},
   "source": [
    "<h1> c1_sws_screened_for_sexually_transmitted_infections_sti_2 </h1>"
   ]
  },
  {
   "cell_type": "code",
   "execution_count": 75,
   "metadata": {
    "collapsed": false
   },
   "outputs": [
    {
     "data": {
      "text/html": [
       "<!DOCTYPE html>\n",
       "<html lang=\"en\">\n",
       "    <head>\n",
       "        <meta charset=\"utf-8\" />\n",
       "        <link href=\"https://cdnjs.cloudflare.com/ajax/libs/nvd3/1.7.0/nv.d3.min.css\" rel=\"stylesheet\" />\n",
       "        <script src=\"https://cdnjs.cloudflare.com/ajax/libs/d3/3.5.5/d3.min.js\"></script>\n",
       "        <script src=\"https://cdnjs.cloudflare.com/ajax/libs/nvd3/1.7.0/nv.d3.min.js\"></script>\n",
       "    </head>\n",
       "    <body>\n",
       "        \n",
       "    <div id=\"c1_sws_screened_for_sexually_transmitted_infections_sti_2\"><svg style=\"width:800px;height:400px;\"></svg></div>\n",
       "\n",
       "\n",
       "    <script>\n",
       "\n",
       "\n",
       "\n",
       "        data_c1_sws_screened_for_sexually_transmitted_infections_sti_2=[{\"values\": [{\"y\": NaN, \"x\": \"cpc\"}, {\"y\": NaN, \"x\": \"nqobile\"}, {\"y\": 0.016863862177905288, \"x\": \"oasis\"}, {\"y\": NaN, \"x\": \"qac\"}], \"key\": \"Quarter 1\", \"yAxis\": \"1\"}, {\"values\": [{\"y\": 3.4790063498198647, \"x\": \"cpc\"}, {\"y\": 0.17486144396281075, \"x\": \"nqobile\"}, {\"y\": 3.3298023052034371, \"x\": \"oasis\"}, {\"y\": 0.023741915108991096, \"x\": \"qac\"}], \"key\": \"Quarter 2\", \"yAxis\": \"1\"}];\n",
       "\n",
       "    nv.addGraph(function() {\n",
       "        var chart = nv.models.multiBarChart();\n",
       "\n",
       "        chart.margin({top: 30, right: 60, bottom: 20, left: 60});\n",
       "\n",
       "        var datum = data_c1_sws_screened_for_sexually_transmitted_infections_sti_2;\n",
       "\n",
       "\n",
       "\n",
       "\n",
       "\n",
       "            chart.yAxis\n",
       "                .axisLabel('c1_sws_screened_for_sexually_transmitted_infections_sti_2 per $1000');\n",
       "\n",
       "\n",
       "      chart.showLegend(true);\n",
       "\n",
       "\n",
       "\n",
       "        \n",
       "\n",
       "\n",
       "        d3.select('#c1_sws_screened_for_sexually_transmitted_infections_sti_2 svg')\n",
       "            .datum(datum)\n",
       "            .transition().duration(500)\n",
       "            .attr('width', 800)\n",
       "            .attr('height', 400)\n",
       "            .call(chart);\n",
       "\n",
       "\n",
       "    });\n",
       "\n",
       "\n",
       "\n",
       "\n",
       "    </script>\n",
       "\n",
       "    </body>\n",
       "</html>"
      ],
      "text/plain": [
       "<nvd3.multiBarChart.multiBarChart at 0x18496b4d0>"
      ]
     },
     "metadata": {},
     "output_type": "display_data"
    }
   ],
   "source": [
    "plot_ME('c1_sws_screened_for_sexually_transmitted_infections_sti_2')"
   ]
  },
  {
   "cell_type": "markdown",
   "metadata": {},
   "source": [
    "<h1> f_1_male_condoms_number_given </h1>"
   ]
  },
  {
   "cell_type": "code",
   "execution_count": 76,
   "metadata": {
    "collapsed": false
   },
   "outputs": [
    {
     "data": {
      "text/html": [
       "<!DOCTYPE html>\n",
       "<html lang=\"en\">\n",
       "    <head>\n",
       "        <meta charset=\"utf-8\" />\n",
       "        <link href=\"https://cdnjs.cloudflare.com/ajax/libs/nvd3/1.7.0/nv.d3.min.css\" rel=\"stylesheet\" />\n",
       "        <script src=\"https://cdnjs.cloudflare.com/ajax/libs/d3/3.5.5/d3.min.js\"></script>\n",
       "        <script src=\"https://cdnjs.cloudflare.com/ajax/libs/nvd3/1.7.0/nv.d3.min.js\"></script>\n",
       "    </head>\n",
       "    <body>\n",
       "        \n",
       "    <div id=\"f_1_male_condoms_number_given\"><svg style=\"width:800px;height:400px;\"></svg></div>\n",
       "\n",
       "\n",
       "    <script>\n",
       "\n",
       "\n",
       "\n",
       "        data_f_1_male_condoms_number_given=[{\"values\": [{\"y\": 72.262660585844372, \"x\": \"cpc\"}, {\"y\": 0.011425605341424797, \"x\": \"qac\"}, {\"y\": 0.97501616942574387, \"x\": \"sweat\"}], \"key\": \"Quarter 1\", \"yAxis\": \"1\"}, {\"values\": [{\"y\": 198.39789008242849, \"x\": \"cpc\"}, {\"y\": NaN, \"x\": \"qac\"}, {\"y\": 1.5673103610364554, \"x\": \"sweat\"}], \"key\": \"Quarter 2\", \"yAxis\": \"1\"}];\n",
       "\n",
       "    nv.addGraph(function() {\n",
       "        var chart = nv.models.multiBarChart();\n",
       "\n",
       "        chart.margin({top: 30, right: 60, bottom: 20, left: 60});\n",
       "\n",
       "        var datum = data_f_1_male_condoms_number_given;\n",
       "\n",
       "\n",
       "\n",
       "\n",
       "\n",
       "            chart.yAxis\n",
       "                .axisLabel('f_1_male_condoms_number_given per $1000');\n",
       "\n",
       "\n",
       "      chart.showLegend(true);\n",
       "\n",
       "\n",
       "\n",
       "        \n",
       "\n",
       "\n",
       "        d3.select('#f_1_male_condoms_number_given svg')\n",
       "            .datum(datum)\n",
       "            .transition().duration(500)\n",
       "            .attr('width', 800)\n",
       "            .attr('height', 400)\n",
       "            .call(chart);\n",
       "\n",
       "\n",
       "    });\n",
       "\n",
       "\n",
       "\n",
       "\n",
       "    </script>\n",
       "\n",
       "    </body>\n",
       "</html>"
      ],
      "text/plain": [
       "<nvd3.multiBarChart.multiBarChart at 0x18496b310>"
      ]
     },
     "metadata": {},
     "output_type": "display_data"
    }
   ],
   "source": [
    "plot_ME('f_1_male_condoms_number_given')"
   ]
  },
  {
   "cell_type": "markdown",
   "metadata": {},
   "source": [
    "<h1> b_1_received_hts_and_know_results </h1>"
   ]
  },
  {
   "cell_type": "code",
   "execution_count": 11,
   "metadata": {
    "collapsed": false
   },
   "outputs": [
    {
     "ename": "NameError",
     "evalue": "name 'plot_ME' is not defined",
     "output_type": "error",
     "traceback": [
      "\u001b[0;31m---------------------------------------------------------------------------\u001b[0m",
      "\u001b[0;31mNameError\u001b[0m                                 Traceback (most recent call last)",
      "\u001b[0;32m<ipython-input-11-37ca5a5fdeb1>\u001b[0m in \u001b[0;36m<module>\u001b[0;34m()\u001b[0m\n\u001b[0;32m----> 1\u001b[0;31m \u001b[0mplot_ME\u001b[0m\u001b[0;34m(\u001b[0m\u001b[0;34m'b_1_received_hts_and_know_results'\u001b[0m\u001b[0;34m)\u001b[0m\u001b[0;34m\u001b[0m\u001b[0m\n\u001b[0m",
      "\u001b[0;31mNameError\u001b[0m: name 'plot_ME' is not defined"
     ]
    }
   ],
   "source": [
    "plot_ME('b_1_received_hts_and_know_results')"
   ]
  },
  {
   "cell_type": "markdown",
   "metadata": {},
   "source": [
    "<h1> ... next we'd also like to normalize to targets </h1>"
   ]
  },
  {
   "cell_type": "code",
   "execution_count": null,
   "metadata": {
    "collapsed": true
   },
   "outputs": [],
   "source": []
  }
 ],
 "metadata": {
  "kernelspec": {
   "display_name": "Python 2",
   "language": "python",
   "name": "python2"
  },
  "language_info": {
   "codemirror_mode": {
    "name": "ipython",
    "version": 2
   },
   "file_extension": ".py",
   "mimetype": "text/x-python",
   "name": "python",
   "nbconvert_exporter": "python",
   "pygments_lexer": "ipython2",
   "version": "2.7.13"
  }
 },
 "nbformat": 4,
 "nbformat_minor": 0
}
