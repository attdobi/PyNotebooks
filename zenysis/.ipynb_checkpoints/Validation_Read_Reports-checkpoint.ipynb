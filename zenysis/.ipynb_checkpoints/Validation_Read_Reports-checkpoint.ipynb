{
 "cells": [
  {
   "cell_type": "code",
   "execution_count": 28,
   "metadata": {
    "collapsed": false
   },
   "outputs": [
    {
     "name": "stdout",
     "output_type": "stream",
     "text": [
      "Populating the interactive namespace from numpy and matplotlib\n"
     ]
    }
   ],
   "source": [
    "from __future__ import division\n",
    "import numpy as np\n",
    "import pandas as pd\n",
    "import os\n",
    "import re\n",
    "from glob import glob\n",
    "import seaborn as sns\n",
    "from matplotlib.colors import ListedColormap\n",
    "%pylab inline\n",
    "pylab.rcParams['figure.figsize'] = (12.0, 6.0) # set size of figures\"\n",
    "plt.rcParams.update({'font.size': 24})\n",
    "pd.options.display.max_rows=50"
   ]
  },
  {
   "cell_type": "code",
   "execution_count": 10,
   "metadata": {
    "collapsed": false
   },
   "outputs": [],
   "source": [
    "#base='/Users/attiladobi/nacosa/New SW Finance Data (Oct 2016)/April to June/'\n",
    "base='/Users/attiladobi/nacosa/finance-20161027/'\n",
    "import os\n",
    "from glob import glob\n",
    "Q1_reports = [y for x in os.walk(base) for y in glob(os.path.join(x[0], '*.xlsx'))]"
   ]
  },
  {
   "cell_type": "code",
   "execution_count": 11,
   "metadata": {
    "collapsed": false
   },
   "outputs": [],
   "source": [
    "xlsx_obj=pd.ExcelFile(Q1_reports[0])"
   ]
  },
  {
   "cell_type": "markdown",
   "metadata": {},
   "source": [
    "<h1> Def a function to pull out anything containing payment recommendation </h1>"
   ]
  },
  {
   "cell_type": "code",
   "execution_count": 12,
   "metadata": {
    "collapsed": false
   },
   "outputs": [],
   "source": [
    "def find_sheet_name(target_text,sheet_names):\n",
    "    '''Return a list of sheet names containing a specific string'''\n",
    "    return [name for name in sheet_names if target_text.lower() in name.lower()]\n",
    "def find_column_name(target,columns):\n",
    "    return [name for name in columns if target.lower() in name.lower()]"
   ]
  },
  {
   "cell_type": "markdown",
   "metadata": {},
   "source": [
    "<h1> Map months to quarter and period </h1>"
   ]
  },
  {
   "cell_type": "code",
   "execution_count": 13,
   "metadata": {
    "collapsed": true
   },
   "outputs": [],
   "source": [
    "quarter_map={1:(1,1),2:(1,2),3:(2,3),4:(2,4),5:(3,1),6:(3,2),7:(4,3),8:(4,4),9:(5,1),10:(5,2),11:(6,3),12:(6,4)}\n",
    "#period quarter"
   ]
  },
  {
   "cell_type": "code",
   "execution_count": 14,
   "metadata": {
    "collapsed": false
   },
   "outputs": [],
   "source": [
    "def pq_lookup(date):\n",
    "    '''retun period, quarter given a date (year,month,day)'''\n",
    "    #3 month index to period quarter\n",
    "    quarter_map={1:(1,1),2:(1,2),3:(2,3),4:(2,4),5:(3,1),6:(3,2),7:(4,3),8:(4,4),9:(5,1),10:(5,2),11:(6,3),12:(6,4)}\n",
    "    qnum=1+int((date.month-pd.datetime(2016,4,1).month)/3)\n",
    "    p,q=quarter_map[qnum]\n",
    "    return p,q"
   ]
  },
  {
   "cell_type": "code",
   "execution_count": 15,
   "metadata": {
    "collapsed": false
   },
   "outputs": [
    {
     "data": {
      "text/plain": [
       "(1, 1)"
      ]
     },
     "execution_count": 15,
     "metadata": {},
     "output_type": "execute_result"
    }
   ],
   "source": [
    "pq_lookup(pd.datetime(2016,4,1))"
   ]
  },
  {
   "cell_type": "markdown",
   "metadata": {},
   "source": [
    "<h1> List the sheet names </h1>"
   ]
  },
  {
   "cell_type": "code",
   "execution_count": 16,
   "metadata": {
    "collapsed": false
   },
   "outputs": [],
   "source": [
    "sheet_names=xlsx_obj.sheet_names\n",
    "sheet_name=find_sheet_name('payment recommendation',sheet_names)[0]"
   ]
  },
  {
   "cell_type": "code",
   "execution_count": 17,
   "metadata": {
    "collapsed": false,
    "scrolled": true
   },
   "outputs": [],
   "source": [
    "df = xlsx_obj.parse(sheetname=sheet_name,parse_cols=12,skiprows=7, skip_footer =500).dropna(subset=['INDICATORS']) #"
   ]
  },
  {
   "cell_type": "code",
   "execution_count": 18,
   "metadata": {
    "collapsed": false
   },
   "outputs": [
    {
     "data": {
      "text/plain": [
       "Index([   u'Unnamed: 0',    u'INDICATORS',    u'Unnamed: 2',    u'Unnamed: 3',\n",
       "            u'TARGET  ',   u'ACTUAL     ',    u'TARGET  .1', u'ACTUAL     .1',\n",
       "          u'TARGET  .2', u'ACTUAL     .2',    u'TARGET  .3', u'ACTUAL     .3',\n",
       "                   u'%'],\n",
       "      dtype='object')"
      ]
     },
     "execution_count": 18,
     "metadata": {},
     "output_type": "execute_result"
    }
   ],
   "source": [
    "df.columns"
   ]
  },
  {
   "cell_type": "code",
   "execution_count": 19,
   "metadata": {
    "collapsed": false
   },
   "outputs": [],
   "source": [
    "sub_df=df[['INDICATORS','TARGET  ','ACTUAL     ']][1:]"
   ]
  },
  {
   "cell_type": "code",
   "execution_count": 20,
   "metadata": {
    "collapsed": false
   },
   "outputs": [],
   "source": [
    "date=pd.datetime(2016,4,1)\n",
    "p,q= pq_lookup(date)\n",
    "sub_df['Date']=date\n",
    "sub_df['Period']=p\n",
    "sub_df['Quarter']=q"
   ]
  },
  {
   "cell_type": "code",
   "execution_count": 21,
   "metadata": {
    "collapsed": false
   },
   "outputs": [],
   "source": [
    "year=2016\n",
    "q1_months=[4,5,6]\n",
    "column_heads=['','.1','.2']\n",
    "df_list=[]\n",
    "\n",
    "for month, col_head in zip(q1_months,column_heads):\n",
    "    date=pd.datetime(year,month,1)\n",
    "    p,q= pq_lookup(date)\n",
    "    \n",
    "    sub_df=df[['INDICATORS','TARGET  '+col_head,'ACTUAL     '+col_head]][1:].replace(nan,0)\n",
    "    sub_df.columns=['INDICATOR','TARGET','ACTUAL']\n",
    "    sub_df['Date']=date\n",
    "    sub_df['Period']=p\n",
    "    sub_df['Quarter']=q\n",
    "    df_list.append(sub_df)"
   ]
  },
  {
   "cell_type": "code",
   "execution_count": 22,
   "metadata": {
    "collapsed": false,
    "scrolled": true
   },
   "outputs": [
    {
     "data": {
      "text/html": [
       "<div>\n",
       "<table border=\"1\" class=\"dataframe\">\n",
       "  <thead>\n",
       "    <tr style=\"text-align: right;\">\n",
       "      <th></th>\n",
       "      <th>INDICATOR</th>\n",
       "      <th>TARGET</th>\n",
       "      <th>ACTUAL</th>\n",
       "      <th>Date</th>\n",
       "      <th>Period</th>\n",
       "      <th>Quarter</th>\n",
       "    </tr>\n",
       "  </thead>\n",
       "  <tbody>\n",
       "  </tbody>\n",
       "</table>\n",
       "</div>"
      ],
      "text/plain": [
       "Empty DataFrame\n",
       "Columns: [INDICATOR, TARGET, ACTUAL, Date, Period, Quarter]\n",
       "Index: []"
      ]
     },
     "execution_count": 22,
     "metadata": {},
     "output_type": "execute_result"
    }
   ],
   "source": [
    "pd.concat(df_list)[:28]"
   ]
  },
  {
   "cell_type": "markdown",
   "metadata": {},
   "source": [
    "<h1> Now loop through each SR and Q1,Q2 </h1>"
   ]
  },
  {
   "cell_type": "code",
   "execution_count": 144,
   "metadata": {
    "collapsed": false
   },
   "outputs": [],
   "source": [
    "#Q1base='/Users/attiladobi/nacosa/New SW Finance Data (Oct 2016)/April to June/'\n",
    "Q1base = '/Users/attiladobi/nacosa/Sep/'\n",
    "import os\n",
    "from glob import glob\n",
    "Q1_reports = [y for x in os.walk(Q1base) for y in glob(os.path.join(x[0], '*.xlsx'))]"
   ]
  },
  {
   "cell_type": "code",
   "execution_count": 145,
   "metadata": {
    "collapsed": false
   },
   "outputs": [
    {
     "data": {
      "text/plain": [
       "'LL Durban Aug 2016 Finance Report Tool.xlsx'"
      ]
     },
     "execution_count": 145,
     "metadata": {},
     "output_type": "execute_result"
    }
   ],
   "source": [
    "filepath.split('/')[-1]"
   ]
  },
  {
   "cell_type": "markdown",
   "metadata": {},
   "source": [
    "<h1> recursivley loop through all file names in the directory </h1>"
   ]
  },
  {
   "cell_type": "code",
   "execution_count": 146,
   "metadata": {
    "collapsed": false
   },
   "outputs": [
    {
     "name": "stdout",
     "output_type": "stream",
     "text": [
      "CPC\n",
      "GRIP\n",
      "HTT\n",
      "LifeLine NC\n",
      "LL Durban\n",
      "LL FS\n",
      "LL Zululand\n",
      "Munna Ndi Nnyi\n",
      "Nqobile Women\n",
      "Oasis\n",
      "PHRU\n",
      "None\n"
     ]
    },
    {
     "ename": "AttributeError",
     "evalue": "'NoneType' object has no attribute 'group'",
     "output_type": "error",
     "traceback": [
      "\u001b[0;31m---------------------------------------------------------------------------\u001b[0m",
      "\u001b[0;31mAttributeError\u001b[0m                            Traceback (most recent call last)",
      "\u001b[0;32m<ipython-input-146-c19718e19a0a>\u001b[0m in \u001b[0;36m<module>\u001b[0;34m()\u001b[0m\n\u001b[1;32m      4\u001b[0m     \u001b[0;32mif\u001b[0m \u001b[0;32mnot\u001b[0m \u001b[0mm\u001b[0m\u001b[0;34m:\u001b[0m\u001b[0;34m\u001b[0m\u001b[0m\n\u001b[1;32m      5\u001b[0m         \u001b[0;32mprint\u001b[0m \u001b[0mNone\u001b[0m\u001b[0;34m\u001b[0m\u001b[0m\n\u001b[0;32m----> 6\u001b[0;31m     \u001b[0;32mprint\u001b[0m \u001b[0mm\u001b[0m\u001b[0;34m.\u001b[0m\u001b[0mgroup\u001b[0m\u001b[0;34m(\u001b[0m\u001b[0;36m1\u001b[0m\u001b[0;34m)\u001b[0m\u001b[0;34m.\u001b[0m\u001b[0mstrip\u001b[0m\u001b[0;34m(\u001b[0m\u001b[0;34m)\u001b[0m\u001b[0;34m\u001b[0m\u001b[0m\n\u001b[0m",
      "\u001b[0;31mAttributeError\u001b[0m: 'NoneType' object has no attribute 'group'"
     ]
    }
   ],
   "source": [
    "for filepath in Q1_reports:\n",
    "    filepath=filepath.split('/')[-1]\n",
    "    m = re.search(r'([A-Za-z ]+) Finance', filepath)\n",
    "    if not m:\n",
    "        print None\n",
    "    print m.group(1).strip()"
   ]
  },
  {
   "cell_type": "code",
   "execution_count": 147,
   "metadata": {
    "collapsed": false
   },
   "outputs": [
    {
     "data": {
      "text/plain": [
       "['CPC',\n",
       " 'GRIP',\n",
       " 'HTT',\n",
       " 'LifeLine NC',\n",
       " 'LL Durban',\n",
       " 'LL FS',\n",
       " 'LL Zululand',\n",
       " 'Munna Ndi Nnyi',\n",
       " 'Nqobile Women',\n",
       " 'Oasis',\n",
       " 'PHRU',\n",
       " '2.xlsx',\n",
       " 'QAC',\n",
       " 'SWEAT',\n",
       " 'WRHI']"
      ]
     },
     "execution_count": 147,
     "metadata": {},
     "output_type": "execute_result"
    }
   ],
   "source": [
    "import re\n",
    "#search for the SR by finding the string between the last / and the word \" Finance\"\n",
    "SRs=[name.split('/')[-1].split(' Finance')[0] for name in Q1_reports]\n",
    "[name.split('2016')[-1].strip() for name in SRs]"
   ]
  },
  {
   "cell_type": "code",
   "execution_count": 148,
   "metadata": {
    "collapsed": false
   },
   "outputs": [],
   "source": [
    "#Q1base='/Users/attiladobi/nacosa/New SW Finance Data (Oct 2016)/April to June/'\n",
    "Q1_reports=[Q1base+fname for fname in os.listdir(Q1base) if 'xlsx' in fname]\n",
    "SRs=[name.split('/')[-1].split(' Finance')[0] for name in Q1_reports]"
   ]
  },
  {
   "cell_type": "markdown",
   "metadata": {},
   "source": [
    "<h1> loop thorugh files and import targets and actual values for validation</h1>"
   ]
  },
  {
   "cell_type": "code",
   "execution_count": 151,
   "metadata": {
    "collapsed": false,
    "scrolled": true
   },
   "outputs": [],
   "source": [
    "#Q1base = '/Users/attiladobi/nacosa/New SW Finance Data (Oct 2016)/April to June/'\n",
    "Q1base = '/Users/attiladobi/nacosa/April to June/'\n",
    "Q1_reports=[Q1base+fname for fname in os.listdir(Q1base) if 'xlsx' in fname]\n",
    "\n",
    "year=2016\n",
    "q1_months=[4,5,6]\n",
    "df_list=[]\n",
    "\n",
    "for q1_report in Q1_reports:\n",
    "    #get SR name from file path\n",
    "    SR=q1_report.split('/')[-1].split(' Finance')[0]\n",
    "    #read in the reports for q1\n",
    "    try:\n",
    "        xlsx_obj=pd.ExcelFile(q1_report)\n",
    "    except IOError:\n",
    "        print 'no such file'\n",
    "    #read in relavent sheet name\n",
    "    sheet_names=xlsx_obj.sheet_names\n",
    "    sheet_name=find_sheet_name('payment recommendation',sheet_names)[0]\n",
    "    #find the column that contains \"indicator\"\n",
    "    col_name=find_column_name('indicator',xlsx_obj.parse(sheetname=sheet_name,parse_cols=12,skiprows=7, nrows=1).columns)\n",
    "    df=xlsx_obj.parse(sheetname=sheet_name,parse_cols=12,skiprows=7).dropna(subset=col_name) #drop from 1st nan entry\n",
    "    df=df.rename(columns={col_name[0]:'Indicator'})\n",
    "    to_drop=find_column_name('Unnamed',df.columns) #find all unnamed columns\n",
    "    df=df.drop(to_drop,1) #drop all unnamed columns\n",
    "    df=df[df['Indicator'].str.contains('Number',na=False)] #only keep rows where the indicator is a counts of something\n",
    "    \n",
    "    column_heads=['','.1','.2'] #.3 represents the quarterly total along with % of target hit\n",
    "    \n",
    "    for month, col_head in zip(q1_months,column_heads):\n",
    "        date=pd.datetime(year,month,1)\n",
    "        p,q= pq_lookup(date)\n",
    "\n",
    "        sub_df=df[['Indicator','TARGET  '+col_head,'ACTUAL     '+col_head]][1:].replace(nan,0)\n",
    "        sub_df.columns=['Indicator','Target','Actual'] #normalize naming convention\n",
    "        if SR=='Oasis':\n",
    "            SR='OASIS'\n",
    "        if SR == 'Nqobile Women':\n",
    "            SR='NQOBILE'\n",
    "        if SR == 'THCA':\n",
    "            SR ='TBHIV'\n",
    "        sub_df['Subrecipient']=SR\n",
    "        sub_df['Date']=date\n",
    "        sub_df['Period']=p\n",
    "        sub_df['Quarter']=q\n",
    "        df_list.append(sub_df)\n",
    "DF=pd.concat(df_list)"
   ]
  },
  {
   "cell_type": "markdown",
   "metadata": {},
   "source": [
    "<h1> Debug LL import </h1>"
   ]
  },
  {
   "cell_type": "code",
   "execution_count": 152,
   "metadata": {
    "collapsed": false
   },
   "outputs": [],
   "source": [
    "q1_report=Q1_reports[0]\n",
    "SR=q1_report.split('/')[-1].split(' Finance')[0]\n",
    "#read in the reports for q1\n",
    "try:\n",
    "    xlsx_obj=pd.ExcelFile(q1_report)\n",
    "except IOError:\n",
    "    print 'no such file'\n",
    "#read in relavent sheet name\n",
    "sheet_names=xlsx_obj.sheet_names\n",
    "sheet_name=find_sheet_name('payment recommendation',sheet_names)[0]\n",
    "#find the column that contains \"indicator\"\n",
    "col_name=find_column_name('indicator',xlsx_obj.parse(sheetname=sheet_name,parse_cols=12,skiprows=7, nrows=1).columns)\n",
    "df=xlsx_obj.parse(sheetname=sheet_name,parse_cols=12,skiprows=7).dropna(subset=col_name) #drop from 1st nan entry\n",
    "df=df.rename(columns={col_name[0]:'Indicator'})\n",
    "to_drop=find_column_name('Unnamed',df.columns) #find all unnamed columns\n",
    "df=df.drop(to_drop,1) #drop all unnamed columns\n",
    "df=df[df['Indicator'].str.contains('Number',na=False)] #only keep rows where the indicator is a counts of something\n"
   ]
  },
  {
   "cell_type": "markdown",
   "metadata": {},
   "source": [
    "<h1> I need to clean the indicator names!! </h1>"
   ]
  },
  {
   "cell_type": "code",
   "execution_count": 153,
   "metadata": {
    "collapsed": false,
    "scrolled": true
   },
   "outputs": [
    {
     "data": {
      "text/html": [
       "<div>\n",
       "<table border=\"1\" class=\"dataframe\">\n",
       "  <thead>\n",
       "    <tr style=\"text-align: right;\">\n",
       "      <th></th>\n",
       "      <th>Indicator</th>\n",
       "      <th>Target</th>\n",
       "      <th>Actual</th>\n",
       "      <th>Subrecipient</th>\n",
       "      <th>Date</th>\n",
       "      <th>Period</th>\n",
       "      <th>Quarter</th>\n",
       "    </tr>\n",
       "  </thead>\n",
       "  <tbody>\n",
       "    <tr>\n",
       "      <th>2</th>\n",
       "      <td>A2: Number of sex workers who received one or ...</td>\n",
       "      <td>1260.000000</td>\n",
       "      <td>898.0</td>\n",
       "      <td>CPC</td>\n",
       "      <td>2016-04-01</td>\n",
       "      <td>1</td>\n",
       "      <td>1</td>\n",
       "    </tr>\n",
       "    <tr>\n",
       "      <th>3</th>\n",
       "      <td>E2: Number of SWs attending creative space wor...</td>\n",
       "      <td>75.000000</td>\n",
       "      <td>0.0</td>\n",
       "      <td>CPC</td>\n",
       "      <td>2016-04-01</td>\n",
       "      <td>1</td>\n",
       "      <td>1</td>\n",
       "    </tr>\n",
       "    <tr>\n",
       "      <th>4</th>\n",
       "      <td>B1: Number of Sex Workers that have received a...</td>\n",
       "      <td>66.666667</td>\n",
       "      <td>78.0</td>\n",
       "      <td>CPC</td>\n",
       "      <td>2016-04-01</td>\n",
       "      <td>1</td>\n",
       "      <td>1</td>\n",
       "    </tr>\n",
       "    <tr>\n",
       "      <th>6</th>\n",
       "      <td>C1: Number of SWs screened  for Sexually Trans...</td>\n",
       "      <td>0.000000</td>\n",
       "      <td>0.0</td>\n",
       "      <td>CPC</td>\n",
       "      <td>2016-04-01</td>\n",
       "      <td>1</td>\n",
       "      <td>1</td>\n",
       "    </tr>\n",
       "    <tr>\n",
       "      <th>7</th>\n",
       "      <td>C2a: Number of SWs with a positive STI symptom...</td>\n",
       "      <td>0.000000</td>\n",
       "      <td>0.0</td>\n",
       "      <td>CPC</td>\n",
       "      <td>2016-04-01</td>\n",
       "      <td>1</td>\n",
       "      <td>1</td>\n",
       "    </tr>\n",
       "    <tr>\n",
       "      <th>8</th>\n",
       "      <td>C2b: Number of SWs with a positive STI symptom...</td>\n",
       "      <td>0.000000</td>\n",
       "      <td>0.0</td>\n",
       "      <td>CPC</td>\n",
       "      <td>2016-04-01</td>\n",
       "      <td>1</td>\n",
       "      <td>1</td>\n",
       "    </tr>\n",
       "    <tr>\n",
       "      <th>9</th>\n",
       "      <td>D1: Number of SWs screened for TB</td>\n",
       "      <td>0.000000</td>\n",
       "      <td>0.0</td>\n",
       "      <td>CPC</td>\n",
       "      <td>2016-04-01</td>\n",
       "      <td>1</td>\n",
       "      <td>1</td>\n",
       "    </tr>\n",
       "    <tr>\n",
       "      <th>10</th>\n",
       "      <td>D2: Number of SWs successfully referred for TB...</td>\n",
       "      <td>3.000000</td>\n",
       "      <td>0.0</td>\n",
       "      <td>CPC</td>\n",
       "      <td>2016-04-01</td>\n",
       "      <td>1</td>\n",
       "      <td>1</td>\n",
       "    </tr>\n",
       "    <tr>\n",
       "      <th>11</th>\n",
       "      <td>E1: Number of creative space workshops</td>\n",
       "      <td>0.000000</td>\n",
       "      <td>0.0</td>\n",
       "      <td>CPC</td>\n",
       "      <td>2016-04-01</td>\n",
       "      <td>1</td>\n",
       "      <td>1</td>\n",
       "    </tr>\n",
       "    <tr>\n",
       "      <th>12</th>\n",
       "      <td>E3: Number of small group workshops</td>\n",
       "      <td>0.000000</td>\n",
       "      <td>0.0</td>\n",
       "      <td>CPC</td>\n",
       "      <td>2016-04-01</td>\n",
       "      <td>1</td>\n",
       "      <td>1</td>\n",
       "    </tr>\n",
       "    <tr>\n",
       "      <th>13</th>\n",
       "      <td>E4: Number of  SWs attending small group works...</td>\n",
       "      <td>283500.000000</td>\n",
       "      <td>20440.0</td>\n",
       "      <td>CPC</td>\n",
       "      <td>2016-04-01</td>\n",
       "      <td>1</td>\n",
       "      <td>1</td>\n",
       "    </tr>\n",
       "    <tr>\n",
       "      <th>14</th>\n",
       "      <td>F1: Number of male Condoms  distributed</td>\n",
       "      <td>14175.000000</td>\n",
       "      <td>0.0</td>\n",
       "      <td>CPC</td>\n",
       "      <td>2016-04-01</td>\n",
       "      <td>1</td>\n",
       "      <td>1</td>\n",
       "    </tr>\n",
       "    <tr>\n",
       "      <th>15</th>\n",
       "      <td>F2: Number of female Condoms  distributed</td>\n",
       "      <td>94500.000000</td>\n",
       "      <td>1860.0</td>\n",
       "      <td>CPC</td>\n",
       "      <td>2016-04-01</td>\n",
       "      <td>1</td>\n",
       "      <td>1</td>\n",
       "    </tr>\n",
       "    <tr>\n",
       "      <th>16</th>\n",
       "      <td>F3: Number of Lube distributed</td>\n",
       "      <td>0.000000</td>\n",
       "      <td>0.0</td>\n",
       "      <td>CPC</td>\n",
       "      <td>2016-04-01</td>\n",
       "      <td>1</td>\n",
       "      <td>1</td>\n",
       "    </tr>\n",
       "    <tr>\n",
       "      <th>17</th>\n",
       "      <td>G1: Number of SWs reporting new human rights v...</td>\n",
       "      <td>0.000000</td>\n",
       "      <td>0.0</td>\n",
       "      <td>CPC</td>\n",
       "      <td>2016-04-01</td>\n",
       "      <td>1</td>\n",
       "      <td>1</td>\n",
       "    </tr>\n",
       "    <tr>\n",
       "      <th>18</th>\n",
       "      <td>G2a: Number of  human rights violations (SWs) ...</td>\n",
       "      <td>0.000000</td>\n",
       "      <td>0.0</td>\n",
       "      <td>CPC</td>\n",
       "      <td>2016-04-01</td>\n",
       "      <td>1</td>\n",
       "      <td>1</td>\n",
       "    </tr>\n",
       "    <tr>\n",
       "      <th>19</th>\n",
       "      <td>G2b: Number of  human rights violations (SWs) ...</td>\n",
       "      <td>0.000000</td>\n",
       "      <td>47.0</td>\n",
       "      <td>CPC</td>\n",
       "      <td>2016-04-01</td>\n",
       "      <td>1</td>\n",
       "      <td>1</td>\n",
       "    </tr>\n",
       "    <tr>\n",
       "      <th>20</th>\n",
       "      <td>B2: Number of SWs who tested HIV negative in t...</td>\n",
       "      <td>0.000000</td>\n",
       "      <td>31.0</td>\n",
       "      <td>CPC</td>\n",
       "      <td>2016-04-01</td>\n",
       "      <td>1</td>\n",
       "      <td>1</td>\n",
       "    </tr>\n",
       "    <tr>\n",
       "      <th>21</th>\n",
       "      <td>B3: Number of newly diagnosed HIV positive SWs</td>\n",
       "      <td>0.000000</td>\n",
       "      <td>0.0</td>\n",
       "      <td>CPC</td>\n",
       "      <td>2016-04-01</td>\n",
       "      <td>1</td>\n",
       "      <td>1</td>\n",
       "    </tr>\n",
       "    <tr>\n",
       "      <th>22</th>\n",
       "      <td>B4a: Number of newly diagnosed HIV positive SW...</td>\n",
       "      <td>0.000000</td>\n",
       "      <td>0.0</td>\n",
       "      <td>CPC</td>\n",
       "      <td>2016-04-01</td>\n",
       "      <td>1</td>\n",
       "      <td>1</td>\n",
       "    </tr>\n",
       "    <tr>\n",
       "      <th>23</th>\n",
       "      <td>B4b: Number of newly diagnosed HIV positive SW...</td>\n",
       "      <td>0.000000</td>\n",
       "      <td>23.0</td>\n",
       "      <td>CPC</td>\n",
       "      <td>2016-04-01</td>\n",
       "      <td>1</td>\n",
       "      <td>1</td>\n",
       "    </tr>\n",
       "    <tr>\n",
       "      <th>24</th>\n",
       "      <td>B5: Number of SWs with known HIV positive status</td>\n",
       "      <td>0.000000</td>\n",
       "      <td>9.0</td>\n",
       "      <td>CPC</td>\n",
       "      <td>2016-04-01</td>\n",
       "      <td>1</td>\n",
       "      <td>1</td>\n",
       "    </tr>\n",
       "    <tr>\n",
       "      <th>25</th>\n",
       "      <td>B6: Number of SWs who refused HIV test</td>\n",
       "      <td>0.000000</td>\n",
       "      <td>0.0</td>\n",
       "      <td>CPC</td>\n",
       "      <td>2016-04-01</td>\n",
       "      <td>1</td>\n",
       "      <td>1</td>\n",
       "    </tr>\n",
       "    <tr>\n",
       "      <th>26</th>\n",
       "      <td>B7: Number of HIV negative SWs receiving PrEP</td>\n",
       "      <td>0.000000</td>\n",
       "      <td>0.0</td>\n",
       "      <td>CPC</td>\n",
       "      <td>2016-04-01</td>\n",
       "      <td>1</td>\n",
       "      <td>1</td>\n",
       "    </tr>\n",
       "    <tr>\n",
       "      <th>27</th>\n",
       "      <td>B8a: Number of HIV positive SWs succesfully re...</td>\n",
       "      <td>0.000000</td>\n",
       "      <td>0.0</td>\n",
       "      <td>CPC</td>\n",
       "      <td>2016-04-01</td>\n",
       "      <td>1</td>\n",
       "      <td>1</td>\n",
       "    </tr>\n",
       "    <tr>\n",
       "      <th>...</th>\n",
       "      <td>...</td>\n",
       "      <td>...</td>\n",
       "      <td>...</td>\n",
       "      <td>...</td>\n",
       "      <td>...</td>\n",
       "      <td>...</td>\n",
       "      <td>...</td>\n",
       "    </tr>\n",
       "    <tr>\n",
       "      <th>10</th>\n",
       "      <td>D2: Number of SWs successfully referred for TB...</td>\n",
       "      <td>0.000000</td>\n",
       "      <td>7.0</td>\n",
       "      <td>WRHI</td>\n",
       "      <td>2016-06-01</td>\n",
       "      <td>1</td>\n",
       "      <td>1</td>\n",
       "    </tr>\n",
       "    <tr>\n",
       "      <th>11</th>\n",
       "      <td>E1: Number of creative space workshops</td>\n",
       "      <td>3.000000</td>\n",
       "      <td>5.0</td>\n",
       "      <td>WRHI</td>\n",
       "      <td>2016-06-01</td>\n",
       "      <td>1</td>\n",
       "      <td>1</td>\n",
       "    </tr>\n",
       "    <tr>\n",
       "      <th>12</th>\n",
       "      <td>E3: Number of small group workshops</td>\n",
       "      <td>0.000000</td>\n",
       "      <td>0.0</td>\n",
       "      <td>WRHI</td>\n",
       "      <td>2016-06-01</td>\n",
       "      <td>1</td>\n",
       "      <td>1</td>\n",
       "    </tr>\n",
       "    <tr>\n",
       "      <th>13</th>\n",
       "      <td>E4: Number of  SWs attending small group works...</td>\n",
       "      <td>0.000000</td>\n",
       "      <td>0.0</td>\n",
       "      <td>WRHI</td>\n",
       "      <td>2016-06-01</td>\n",
       "      <td>1</td>\n",
       "      <td>1</td>\n",
       "    </tr>\n",
       "    <tr>\n",
       "      <th>14</th>\n",
       "      <td>F1: Number of male Condoms  distributed</td>\n",
       "      <td>283500.000000</td>\n",
       "      <td>253233.0</td>\n",
       "      <td>WRHI</td>\n",
       "      <td>2016-06-01</td>\n",
       "      <td>1</td>\n",
       "      <td>1</td>\n",
       "    </tr>\n",
       "    <tr>\n",
       "      <th>15</th>\n",
       "      <td>F2: Number of female Condoms  distributed</td>\n",
       "      <td>14175.000000</td>\n",
       "      <td>3542.0</td>\n",
       "      <td>WRHI</td>\n",
       "      <td>2016-06-01</td>\n",
       "      <td>1</td>\n",
       "      <td>1</td>\n",
       "    </tr>\n",
       "    <tr>\n",
       "      <th>16</th>\n",
       "      <td>F3: Number of Lube distributed</td>\n",
       "      <td>94500.000000</td>\n",
       "      <td>53408.0</td>\n",
       "      <td>WRHI</td>\n",
       "      <td>2016-06-01</td>\n",
       "      <td>1</td>\n",
       "      <td>1</td>\n",
       "    </tr>\n",
       "    <tr>\n",
       "      <th>17</th>\n",
       "      <td>G1: Number of SWs reporting new human rights v...</td>\n",
       "      <td>0.000000</td>\n",
       "      <td>2.0</td>\n",
       "      <td>WRHI</td>\n",
       "      <td>2016-06-01</td>\n",
       "      <td>1</td>\n",
       "      <td>1</td>\n",
       "    </tr>\n",
       "    <tr>\n",
       "      <th>18</th>\n",
       "      <td>G2a: Number of  human rights violations (SWs) ...</td>\n",
       "      <td>0.000000</td>\n",
       "      <td>2.0</td>\n",
       "      <td>WRHI</td>\n",
       "      <td>2016-06-01</td>\n",
       "      <td>1</td>\n",
       "      <td>1</td>\n",
       "    </tr>\n",
       "    <tr>\n",
       "      <th>19</th>\n",
       "      <td>G2b: Number of  human rights violations (SWs) ...</td>\n",
       "      <td>0.000000</td>\n",
       "      <td>0.0</td>\n",
       "      <td>WRHI</td>\n",
       "      <td>2016-06-01</td>\n",
       "      <td>1</td>\n",
       "      <td>1</td>\n",
       "    </tr>\n",
       "    <tr>\n",
       "      <th>20</th>\n",
       "      <td>B2: Number of SWs who tested HIV negative in t...</td>\n",
       "      <td>0.000000</td>\n",
       "      <td>127.0</td>\n",
       "      <td>WRHI</td>\n",
       "      <td>2016-06-01</td>\n",
       "      <td>1</td>\n",
       "      <td>1</td>\n",
       "    </tr>\n",
       "    <tr>\n",
       "      <th>21</th>\n",
       "      <td>B3: Number of newly diagnosed HIV positive SWs</td>\n",
       "      <td>0.000000</td>\n",
       "      <td>31.0</td>\n",
       "      <td>WRHI</td>\n",
       "      <td>2016-06-01</td>\n",
       "      <td>1</td>\n",
       "      <td>1</td>\n",
       "    </tr>\n",
       "    <tr>\n",
       "      <th>22</th>\n",
       "      <td>B4a: Number of newly diagnosed HIV positive SW...</td>\n",
       "      <td>0.000000</td>\n",
       "      <td>25.0</td>\n",
       "      <td>WRHI</td>\n",
       "      <td>2016-06-01</td>\n",
       "      <td>1</td>\n",
       "      <td>1</td>\n",
       "    </tr>\n",
       "    <tr>\n",
       "      <th>23</th>\n",
       "      <td>B4b: Number of newly diagnosed HIV positive SW...</td>\n",
       "      <td>0.000000</td>\n",
       "      <td>17.0</td>\n",
       "      <td>WRHI</td>\n",
       "      <td>2016-06-01</td>\n",
       "      <td>1</td>\n",
       "      <td>1</td>\n",
       "    </tr>\n",
       "    <tr>\n",
       "      <th>24</th>\n",
       "      <td>B5: Number of SWs with known HIV positive status</td>\n",
       "      <td>0.000000</td>\n",
       "      <td>727.0</td>\n",
       "      <td>WRHI</td>\n",
       "      <td>2016-06-01</td>\n",
       "      <td>1</td>\n",
       "      <td>1</td>\n",
       "    </tr>\n",
       "    <tr>\n",
       "      <th>25</th>\n",
       "      <td>B6: Number of SWs who refused HIV test</td>\n",
       "      <td>0.000000</td>\n",
       "      <td>2.0</td>\n",
       "      <td>WRHI</td>\n",
       "      <td>2016-06-01</td>\n",
       "      <td>1</td>\n",
       "      <td>1</td>\n",
       "    </tr>\n",
       "    <tr>\n",
       "      <th>26</th>\n",
       "      <td>B7: Number of HIV negative SWs receiving PrEP</td>\n",
       "      <td>0.000000</td>\n",
       "      <td>17.0</td>\n",
       "      <td>WRHI</td>\n",
       "      <td>2016-06-01</td>\n",
       "      <td>1</td>\n",
       "      <td>1</td>\n",
       "    </tr>\n",
       "    <tr>\n",
       "      <th>27</th>\n",
       "      <td>B8a: Number of HIV positive SWs succesfully re...</td>\n",
       "      <td>0.000000</td>\n",
       "      <td>0.0</td>\n",
       "      <td>WRHI</td>\n",
       "      <td>2016-06-01</td>\n",
       "      <td>1</td>\n",
       "      <td>1</td>\n",
       "    </tr>\n",
       "    <tr>\n",
       "      <th>28</th>\n",
       "      <td>B8b: Number of HIV positive SWs succesfully re...</td>\n",
       "      <td>0.000000</td>\n",
       "      <td>0.0</td>\n",
       "      <td>WRHI</td>\n",
       "      <td>2016-06-01</td>\n",
       "      <td>1</td>\n",
       "      <td>1</td>\n",
       "    </tr>\n",
       "    <tr>\n",
       "      <th>38</th>\n",
       "      <td>Number of sexual violence victims who received...</td>\n",
       "      <td>0.000000</td>\n",
       "      <td>0.0</td>\n",
       "      <td>WRHI</td>\n",
       "      <td>2016-06-01</td>\n",
       "      <td>1</td>\n",
       "      <td>1</td>\n",
       "    </tr>\n",
       "    <tr>\n",
       "      <th>39</th>\n",
       "      <td>Number and percentage of victims of sexual vio...</td>\n",
       "      <td>0.000000</td>\n",
       "      <td>0.0</td>\n",
       "      <td>WRHI</td>\n",
       "      <td>2016-06-01</td>\n",
       "      <td>1</td>\n",
       "      <td>1</td>\n",
       "    </tr>\n",
       "    <tr>\n",
       "      <th>40</th>\n",
       "      <td>Number of sexual violence victims not tested a...</td>\n",
       "      <td>0.000000</td>\n",
       "      <td>0.0</td>\n",
       "      <td>WRHI</td>\n",
       "      <td>2016-06-01</td>\n",
       "      <td>1</td>\n",
       "      <td>1</td>\n",
       "    </tr>\n",
       "    <tr>\n",
       "      <th>41</th>\n",
       "      <td>Number of sexual violence victims initiated on...</td>\n",
       "      <td>0.000000</td>\n",
       "      <td>0.0</td>\n",
       "      <td>WRHI</td>\n",
       "      <td>2016-06-01</td>\n",
       "      <td>1</td>\n",
       "      <td>1</td>\n",
       "    </tr>\n",
       "    <tr>\n",
       "      <th>42</th>\n",
       "      <td>Number of sexual violence victims completed PEP</td>\n",
       "      <td>0.000000</td>\n",
       "      <td>0.0</td>\n",
       "      <td>WRHI</td>\n",
       "      <td>2016-06-01</td>\n",
       "      <td>1</td>\n",
       "      <td>1</td>\n",
       "    </tr>\n",
       "    <tr>\n",
       "      <th>43</th>\n",
       "      <td>Number of victims receiving comfort packs</td>\n",
       "      <td>0.000000</td>\n",
       "      <td>0.0</td>\n",
       "      <td>WRHI</td>\n",
       "      <td>2016-06-01</td>\n",
       "      <td>1</td>\n",
       "      <td>1</td>\n",
       "    </tr>\n",
       "  </tbody>\n",
       "</table>\n",
       "<p>975 rows × 7 columns</p>\n",
       "</div>"
      ],
      "text/plain": [
       "                                            Indicator         Target  \\\n",
       "2   A2: Number of sex workers who received one or ...    1260.000000   \n",
       "3   E2: Number of SWs attending creative space wor...      75.000000   \n",
       "4   B1: Number of Sex Workers that have received a...      66.666667   \n",
       "6   C1: Number of SWs screened  for Sexually Trans...       0.000000   \n",
       "7   C2a: Number of SWs with a positive STI symptom...       0.000000   \n",
       "8   C2b: Number of SWs with a positive STI symptom...       0.000000   \n",
       "9                 D1: Number of SWs screened for TB         0.000000   \n",
       "10  D2: Number of SWs successfully referred for TB...       3.000000   \n",
       "11            E1: Number of creative space workshops        0.000000   \n",
       "12               E3: Number of small group workshops        0.000000   \n",
       "13  E4: Number of  SWs attending small group works...  283500.000000   \n",
       "14           F1: Number of male Condoms  distributed    14175.000000   \n",
       "15         F2: Number of female Condoms  distributed    94500.000000   \n",
       "16                    F3: Number of Lube distributed        0.000000   \n",
       "17  G1: Number of SWs reporting new human rights v...       0.000000   \n",
       "18  G2a: Number of  human rights violations (SWs) ...       0.000000   \n",
       "19  G2b: Number of  human rights violations (SWs) ...       0.000000   \n",
       "20  B2: Number of SWs who tested HIV negative in t...       0.000000   \n",
       "21    B3: Number of newly diagnosed HIV positive SWs        0.000000   \n",
       "22  B4a: Number of newly diagnosed HIV positive SW...       0.000000   \n",
       "23  B4b: Number of newly diagnosed HIV positive SW...       0.000000   \n",
       "24   B5: Number of SWs with known HIV positive status       0.000000   \n",
       "25            B6: Number of SWs who refused HIV test        0.000000   \n",
       "26     B7: Number of HIV negative SWs receiving PrEP        0.000000   \n",
       "27  B8a: Number of HIV positive SWs succesfully re...       0.000000   \n",
       "..                                                ...            ...   \n",
       "10  D2: Number of SWs successfully referred for TB...       0.000000   \n",
       "11            E1: Number of creative space workshops        3.000000   \n",
       "12               E3: Number of small group workshops        0.000000   \n",
       "13  E4: Number of  SWs attending small group works...       0.000000   \n",
       "14           F1: Number of male Condoms  distributed   283500.000000   \n",
       "15         F2: Number of female Condoms  distributed    14175.000000   \n",
       "16                    F3: Number of Lube distributed    94500.000000   \n",
       "17  G1: Number of SWs reporting new human rights v...       0.000000   \n",
       "18  G2a: Number of  human rights violations (SWs) ...       0.000000   \n",
       "19  G2b: Number of  human rights violations (SWs) ...       0.000000   \n",
       "20  B2: Number of SWs who tested HIV negative in t...       0.000000   \n",
       "21    B3: Number of newly diagnosed HIV positive SWs        0.000000   \n",
       "22  B4a: Number of newly diagnosed HIV positive SW...       0.000000   \n",
       "23  B4b: Number of newly diagnosed HIV positive SW...       0.000000   \n",
       "24   B5: Number of SWs with known HIV positive status       0.000000   \n",
       "25            B6: Number of SWs who refused HIV test        0.000000   \n",
       "26     B7: Number of HIV negative SWs receiving PrEP        0.000000   \n",
       "27  B8a: Number of HIV positive SWs succesfully re...       0.000000   \n",
       "28  B8b: Number of HIV positive SWs succesfully re...       0.000000   \n",
       "38  Number of sexual violence victims who received...       0.000000   \n",
       "39  Number and percentage of victims of sexual vio...       0.000000   \n",
       "40  Number of sexual violence victims not tested a...       0.000000   \n",
       "41  Number of sexual violence victims initiated on...       0.000000   \n",
       "42   Number of sexual violence victims completed PEP        0.000000   \n",
       "43          Number of victims receiving comfort packs       0.000000   \n",
       "\n",
       "      Actual Subrecipient       Date  Period  Quarter  \n",
       "2      898.0          CPC 2016-04-01       1        1  \n",
       "3        0.0          CPC 2016-04-01       1        1  \n",
       "4       78.0          CPC 2016-04-01       1        1  \n",
       "6        0.0          CPC 2016-04-01       1        1  \n",
       "7        0.0          CPC 2016-04-01       1        1  \n",
       "8        0.0          CPC 2016-04-01       1        1  \n",
       "9        0.0          CPC 2016-04-01       1        1  \n",
       "10       0.0          CPC 2016-04-01       1        1  \n",
       "11       0.0          CPC 2016-04-01       1        1  \n",
       "12       0.0          CPC 2016-04-01       1        1  \n",
       "13   20440.0          CPC 2016-04-01       1        1  \n",
       "14       0.0          CPC 2016-04-01       1        1  \n",
       "15    1860.0          CPC 2016-04-01       1        1  \n",
       "16       0.0          CPC 2016-04-01       1        1  \n",
       "17       0.0          CPC 2016-04-01       1        1  \n",
       "18       0.0          CPC 2016-04-01       1        1  \n",
       "19      47.0          CPC 2016-04-01       1        1  \n",
       "20      31.0          CPC 2016-04-01       1        1  \n",
       "21       0.0          CPC 2016-04-01       1        1  \n",
       "22       0.0          CPC 2016-04-01       1        1  \n",
       "23      23.0          CPC 2016-04-01       1        1  \n",
       "24       9.0          CPC 2016-04-01       1        1  \n",
       "25       0.0          CPC 2016-04-01       1        1  \n",
       "26       0.0          CPC 2016-04-01       1        1  \n",
       "27       0.0          CPC 2016-04-01       1        1  \n",
       "..       ...          ...        ...     ...      ...  \n",
       "10       7.0         WRHI 2016-06-01       1        1  \n",
       "11       5.0         WRHI 2016-06-01       1        1  \n",
       "12       0.0         WRHI 2016-06-01       1        1  \n",
       "13       0.0         WRHI 2016-06-01       1        1  \n",
       "14  253233.0         WRHI 2016-06-01       1        1  \n",
       "15    3542.0         WRHI 2016-06-01       1        1  \n",
       "16   53408.0         WRHI 2016-06-01       1        1  \n",
       "17       2.0         WRHI 2016-06-01       1        1  \n",
       "18       2.0         WRHI 2016-06-01       1        1  \n",
       "19       0.0         WRHI 2016-06-01       1        1  \n",
       "20     127.0         WRHI 2016-06-01       1        1  \n",
       "21      31.0         WRHI 2016-06-01       1        1  \n",
       "22      25.0         WRHI 2016-06-01       1        1  \n",
       "23      17.0         WRHI 2016-06-01       1        1  \n",
       "24     727.0         WRHI 2016-06-01       1        1  \n",
       "25       2.0         WRHI 2016-06-01       1        1  \n",
       "26      17.0         WRHI 2016-06-01       1        1  \n",
       "27       0.0         WRHI 2016-06-01       1        1  \n",
       "28       0.0         WRHI 2016-06-01       1        1  \n",
       "38       0.0         WRHI 2016-06-01       1        1  \n",
       "39       0.0         WRHI 2016-06-01       1        1  \n",
       "40       0.0         WRHI 2016-06-01       1        1  \n",
       "41       0.0         WRHI 2016-06-01       1        1  \n",
       "42       0.0         WRHI 2016-06-01       1        1  \n",
       "43       0.0         WRHI 2016-06-01       1        1  \n",
       "\n",
       "[975 rows x 7 columns]"
      ]
     },
     "execution_count": 153,
     "metadata": {},
     "output_type": "execute_result"
    }
   ],
   "source": [
    "DF"
   ]
  },
  {
   "cell_type": "code",
   "execution_count": 154,
   "metadata": {
    "collapsed": false,
    "scrolled": true
   },
   "outputs": [
    {
     "data": {
      "text/html": [
       "<div>\n",
       "<table border=\"1\" class=\"dataframe\">\n",
       "  <thead>\n",
       "    <tr style=\"text-align: right;\">\n",
       "      <th></th>\n",
       "      <th></th>\n",
       "      <th></th>\n",
       "      <th>Target</th>\n",
       "      <th>Actual</th>\n",
       "      <th>Period</th>\n",
       "      <th>Quarter</th>\n",
       "    </tr>\n",
       "    <tr>\n",
       "      <th>Subrecipient</th>\n",
       "      <th>Date</th>\n",
       "      <th>Indicator</th>\n",
       "      <th></th>\n",
       "      <th></th>\n",
       "      <th></th>\n",
       "      <th></th>\n",
       "    </tr>\n",
       "  </thead>\n",
       "  <tbody>\n",
       "    <tr>\n",
       "      <th rowspan=\"3\" valign=\"top\">CPC</th>\n",
       "      <th>2016-04-01</th>\n",
       "      <th>E4: Number of  SWs attending small group workshops</th>\n",
       "      <td>283500.0</td>\n",
       "      <td>20440.0</td>\n",
       "      <td>1</td>\n",
       "      <td>1</td>\n",
       "    </tr>\n",
       "    <tr>\n",
       "      <th>2016-05-01</th>\n",
       "      <th>E4: Number of  SWs attending small group workshops</th>\n",
       "      <td>283500.0</td>\n",
       "      <td>53590.0</td>\n",
       "      <td>1</td>\n",
       "      <td>1</td>\n",
       "    </tr>\n",
       "    <tr>\n",
       "      <th>2016-06-01</th>\n",
       "      <th>E4: Number of  SWs attending small group workshops</th>\n",
       "      <td>283500.0</td>\n",
       "      <td>41590.0</td>\n",
       "      <td>1</td>\n",
       "      <td>1</td>\n",
       "    </tr>\n",
       "    <tr>\n",
       "      <th rowspan=\"3\" valign=\"top\">NQOBILE</th>\n",
       "      <th>2016-04-01</th>\n",
       "      <th>E4: Number of  SWs attending small group workshops</th>\n",
       "      <td>0.0</td>\n",
       "      <td>13.0</td>\n",
       "      <td>1</td>\n",
       "      <td>1</td>\n",
       "    </tr>\n",
       "    <tr>\n",
       "      <th>2016-05-01</th>\n",
       "      <th>E4: Number of  SWs attending small group workshops</th>\n",
       "      <td>0.0</td>\n",
       "      <td>11.0</td>\n",
       "      <td>1</td>\n",
       "      <td>1</td>\n",
       "    </tr>\n",
       "    <tr>\n",
       "      <th>2016-06-01</th>\n",
       "      <th>E4: Number of  SWs attending small group workshops</th>\n",
       "      <td>0.0</td>\n",
       "      <td>10.0</td>\n",
       "      <td>1</td>\n",
       "      <td>1</td>\n",
       "    </tr>\n",
       "    <tr>\n",
       "      <th rowspan=\"3\" valign=\"top\">OASIS</th>\n",
       "      <th>2016-04-01</th>\n",
       "      <th>E4: Number of  SWs attending small group workshops</th>\n",
       "      <td>0.0</td>\n",
       "      <td>0.0</td>\n",
       "      <td>1</td>\n",
       "      <td>1</td>\n",
       "    </tr>\n",
       "    <tr>\n",
       "      <th>2016-05-01</th>\n",
       "      <th>E4: Number of  SWs attending small group workshops</th>\n",
       "      <td>0.0</td>\n",
       "      <td>30.0</td>\n",
       "      <td>1</td>\n",
       "      <td>1</td>\n",
       "    </tr>\n",
       "    <tr>\n",
       "      <th>2016-06-01</th>\n",
       "      <th>E4: Number of  SWs attending small group workshops</th>\n",
       "      <td>0.0</td>\n",
       "      <td>10.0</td>\n",
       "      <td>1</td>\n",
       "      <td>1</td>\n",
       "    </tr>\n",
       "    <tr>\n",
       "      <th rowspan=\"3\" valign=\"top\">PHRU</th>\n",
       "      <th>2016-04-01</th>\n",
       "      <th>E4: Number of  SWs attending small group workshops</th>\n",
       "      <td>0.0</td>\n",
       "      <td>0.0</td>\n",
       "      <td>1</td>\n",
       "      <td>1</td>\n",
       "    </tr>\n",
       "    <tr>\n",
       "      <th>2016-05-01</th>\n",
       "      <th>E4: Number of  SWs attending small group workshops</th>\n",
       "      <td>0.0</td>\n",
       "      <td>0.0</td>\n",
       "      <td>1</td>\n",
       "      <td>1</td>\n",
       "    </tr>\n",
       "    <tr>\n",
       "      <th>2016-06-01</th>\n",
       "      <th>E4: Number of  SWs attending small group workshops</th>\n",
       "      <td>0.0</td>\n",
       "      <td>0.0</td>\n",
       "      <td>1</td>\n",
       "      <td>1</td>\n",
       "    </tr>\n",
       "    <tr>\n",
       "      <th rowspan=\"3\" valign=\"top\">QAC</th>\n",
       "      <th>2016-04-01</th>\n",
       "      <th>E4: Number of  SWs attending small group workshops</th>\n",
       "      <td>0.0</td>\n",
       "      <td>0.0</td>\n",
       "      <td>1</td>\n",
       "      <td>1</td>\n",
       "    </tr>\n",
       "    <tr>\n",
       "      <th>2016-05-01</th>\n",
       "      <th>E4: Number of  SWs attending small group workshops</th>\n",
       "      <td>0.0</td>\n",
       "      <td>0.0</td>\n",
       "      <td>1</td>\n",
       "      <td>1</td>\n",
       "    </tr>\n",
       "    <tr>\n",
       "      <th>2016-06-01</th>\n",
       "      <th>E4: Number of  SWs attending small group workshops</th>\n",
       "      <td>0.0</td>\n",
       "      <td>0.0</td>\n",
       "      <td>1</td>\n",
       "      <td>1</td>\n",
       "    </tr>\n",
       "    <tr>\n",
       "      <th rowspan=\"3\" valign=\"top\">SWEAT</th>\n",
       "      <th>2016-04-01</th>\n",
       "      <th>E4: Number of  SWs attending small group workshops</th>\n",
       "      <td>189000.0</td>\n",
       "      <td>0.0</td>\n",
       "      <td>1</td>\n",
       "      <td>1</td>\n",
       "    </tr>\n",
       "    <tr>\n",
       "      <th>2016-05-01</th>\n",
       "      <th>E4: Number of  SWs attending small group workshops</th>\n",
       "      <td>189000.0</td>\n",
       "      <td>0.0</td>\n",
       "      <td>1</td>\n",
       "      <td>1</td>\n",
       "    </tr>\n",
       "    <tr>\n",
       "      <th>2016-06-01</th>\n",
       "      <th>E4: Number of  SWs attending small group workshops</th>\n",
       "      <td>189000.0</td>\n",
       "      <td>0.0</td>\n",
       "      <td>1</td>\n",
       "      <td>1</td>\n",
       "    </tr>\n",
       "    <tr>\n",
       "      <th rowspan=\"3\" valign=\"top\">TBHIV</th>\n",
       "      <th>2016-04-01</th>\n",
       "      <th>E4: Number of  SWs attending small group workshops</th>\n",
       "      <td>0.0</td>\n",
       "      <td>0.0</td>\n",
       "      <td>1</td>\n",
       "      <td>1</td>\n",
       "    </tr>\n",
       "    <tr>\n",
       "      <th>2016-05-01</th>\n",
       "      <th>E4: Number of  SWs attending small group workshops</th>\n",
       "      <td>0.0</td>\n",
       "      <td>0.0</td>\n",
       "      <td>1</td>\n",
       "      <td>1</td>\n",
       "    </tr>\n",
       "    <tr>\n",
       "      <th>2016-06-01</th>\n",
       "      <th>E4: Number of  SWs attending small group workshops</th>\n",
       "      <td>0.0</td>\n",
       "      <td>0.0</td>\n",
       "      <td>1</td>\n",
       "      <td>1</td>\n",
       "    </tr>\n",
       "    <tr>\n",
       "      <th rowspan=\"3\" valign=\"top\">WRHI</th>\n",
       "      <th>2016-04-01</th>\n",
       "      <th>E4: Number of  SWs attending small group workshops</th>\n",
       "      <td>0.0</td>\n",
       "      <td>0.0</td>\n",
       "      <td>1</td>\n",
       "      <td>1</td>\n",
       "    </tr>\n",
       "    <tr>\n",
       "      <th>2016-05-01</th>\n",
       "      <th>E4: Number of  SWs attending small group workshops</th>\n",
       "      <td>0.0</td>\n",
       "      <td>0.0</td>\n",
       "      <td>1</td>\n",
       "      <td>1</td>\n",
       "    </tr>\n",
       "    <tr>\n",
       "      <th>2016-06-01</th>\n",
       "      <th>E4: Number of  SWs attending small group workshops</th>\n",
       "      <td>0.0</td>\n",
       "      <td>0.0</td>\n",
       "      <td>1</td>\n",
       "      <td>1</td>\n",
       "    </tr>\n",
       "  </tbody>\n",
       "</table>\n",
       "</div>"
      ],
      "text/plain": [
       "                                                                              Target  \\\n",
       "Subrecipient Date       Indicator                                                      \n",
       "CPC          2016-04-01 E4: Number of  SWs attending small group worksh...  283500.0   \n",
       "             2016-05-01 E4: Number of  SWs attending small group worksh...  283500.0   \n",
       "             2016-06-01 E4: Number of  SWs attending small group worksh...  283500.0   \n",
       "NQOBILE      2016-04-01 E4: Number of  SWs attending small group worksh...       0.0   \n",
       "             2016-05-01 E4: Number of  SWs attending small group worksh...       0.0   \n",
       "             2016-06-01 E4: Number of  SWs attending small group worksh...       0.0   \n",
       "OASIS        2016-04-01 E4: Number of  SWs attending small group worksh...       0.0   \n",
       "             2016-05-01 E4: Number of  SWs attending small group worksh...       0.0   \n",
       "             2016-06-01 E4: Number of  SWs attending small group worksh...       0.0   \n",
       "PHRU         2016-04-01 E4: Number of  SWs attending small group worksh...       0.0   \n",
       "             2016-05-01 E4: Number of  SWs attending small group worksh...       0.0   \n",
       "             2016-06-01 E4: Number of  SWs attending small group worksh...       0.0   \n",
       "QAC          2016-04-01 E4: Number of  SWs attending small group worksh...       0.0   \n",
       "             2016-05-01 E4: Number of  SWs attending small group worksh...       0.0   \n",
       "             2016-06-01 E4: Number of  SWs attending small group worksh...       0.0   \n",
       "SWEAT        2016-04-01 E4: Number of  SWs attending small group worksh...  189000.0   \n",
       "             2016-05-01 E4: Number of  SWs attending small group worksh...  189000.0   \n",
       "             2016-06-01 E4: Number of  SWs attending small group worksh...  189000.0   \n",
       "TBHIV        2016-04-01 E4: Number of  SWs attending small group worksh...       0.0   \n",
       "             2016-05-01 E4: Number of  SWs attending small group worksh...       0.0   \n",
       "             2016-06-01 E4: Number of  SWs attending small group worksh...       0.0   \n",
       "WRHI         2016-04-01 E4: Number of  SWs attending small group worksh...       0.0   \n",
       "             2016-05-01 E4: Number of  SWs attending small group worksh...       0.0   \n",
       "             2016-06-01 E4: Number of  SWs attending small group worksh...       0.0   \n",
       "\n",
       "                                                                             Actual  \\\n",
       "Subrecipient Date       Indicator                                                     \n",
       "CPC          2016-04-01 E4: Number of  SWs attending small group worksh...  20440.0   \n",
       "             2016-05-01 E4: Number of  SWs attending small group worksh...  53590.0   \n",
       "             2016-06-01 E4: Number of  SWs attending small group worksh...  41590.0   \n",
       "NQOBILE      2016-04-01 E4: Number of  SWs attending small group worksh...     13.0   \n",
       "             2016-05-01 E4: Number of  SWs attending small group worksh...     11.0   \n",
       "             2016-06-01 E4: Number of  SWs attending small group worksh...     10.0   \n",
       "OASIS        2016-04-01 E4: Number of  SWs attending small group worksh...      0.0   \n",
       "             2016-05-01 E4: Number of  SWs attending small group worksh...     30.0   \n",
       "             2016-06-01 E4: Number of  SWs attending small group worksh...     10.0   \n",
       "PHRU         2016-04-01 E4: Number of  SWs attending small group worksh...      0.0   \n",
       "             2016-05-01 E4: Number of  SWs attending small group worksh...      0.0   \n",
       "             2016-06-01 E4: Number of  SWs attending small group worksh...      0.0   \n",
       "QAC          2016-04-01 E4: Number of  SWs attending small group worksh...      0.0   \n",
       "             2016-05-01 E4: Number of  SWs attending small group worksh...      0.0   \n",
       "             2016-06-01 E4: Number of  SWs attending small group worksh...      0.0   \n",
       "SWEAT        2016-04-01 E4: Number of  SWs attending small group worksh...      0.0   \n",
       "             2016-05-01 E4: Number of  SWs attending small group worksh...      0.0   \n",
       "             2016-06-01 E4: Number of  SWs attending small group worksh...      0.0   \n",
       "TBHIV        2016-04-01 E4: Number of  SWs attending small group worksh...      0.0   \n",
       "             2016-05-01 E4: Number of  SWs attending small group worksh...      0.0   \n",
       "             2016-06-01 E4: Number of  SWs attending small group worksh...      0.0   \n",
       "WRHI         2016-04-01 E4: Number of  SWs attending small group worksh...      0.0   \n",
       "             2016-05-01 E4: Number of  SWs attending small group worksh...      0.0   \n",
       "             2016-06-01 E4: Number of  SWs attending small group worksh...      0.0   \n",
       "\n",
       "                                                                            Period  \\\n",
       "Subrecipient Date       Indicator                                                    \n",
       "CPC          2016-04-01 E4: Number of  SWs attending small group worksh...       1   \n",
       "             2016-05-01 E4: Number of  SWs attending small group worksh...       1   \n",
       "             2016-06-01 E4: Number of  SWs attending small group worksh...       1   \n",
       "NQOBILE      2016-04-01 E4: Number of  SWs attending small group worksh...       1   \n",
       "             2016-05-01 E4: Number of  SWs attending small group worksh...       1   \n",
       "             2016-06-01 E4: Number of  SWs attending small group worksh...       1   \n",
       "OASIS        2016-04-01 E4: Number of  SWs attending small group worksh...       1   \n",
       "             2016-05-01 E4: Number of  SWs attending small group worksh...       1   \n",
       "             2016-06-01 E4: Number of  SWs attending small group worksh...       1   \n",
       "PHRU         2016-04-01 E4: Number of  SWs attending small group worksh...       1   \n",
       "             2016-05-01 E4: Number of  SWs attending small group worksh...       1   \n",
       "             2016-06-01 E4: Number of  SWs attending small group worksh...       1   \n",
       "QAC          2016-04-01 E4: Number of  SWs attending small group worksh...       1   \n",
       "             2016-05-01 E4: Number of  SWs attending small group worksh...       1   \n",
       "             2016-06-01 E4: Number of  SWs attending small group worksh...       1   \n",
       "SWEAT        2016-04-01 E4: Number of  SWs attending small group worksh...       1   \n",
       "             2016-05-01 E4: Number of  SWs attending small group worksh...       1   \n",
       "             2016-06-01 E4: Number of  SWs attending small group worksh...       1   \n",
       "TBHIV        2016-04-01 E4: Number of  SWs attending small group worksh...       1   \n",
       "             2016-05-01 E4: Number of  SWs attending small group worksh...       1   \n",
       "             2016-06-01 E4: Number of  SWs attending small group worksh...       1   \n",
       "WRHI         2016-04-01 E4: Number of  SWs attending small group worksh...       1   \n",
       "             2016-05-01 E4: Number of  SWs attending small group worksh...       1   \n",
       "             2016-06-01 E4: Number of  SWs attending small group worksh...       1   \n",
       "\n",
       "                                                                            Quarter  \n",
       "Subrecipient Date       Indicator                                                    \n",
       "CPC          2016-04-01 E4: Number of  SWs attending small group worksh...        1  \n",
       "             2016-05-01 E4: Number of  SWs attending small group worksh...        1  \n",
       "             2016-06-01 E4: Number of  SWs attending small group worksh...        1  \n",
       "NQOBILE      2016-04-01 E4: Number of  SWs attending small group worksh...        1  \n",
       "             2016-05-01 E4: Number of  SWs attending small group worksh...        1  \n",
       "             2016-06-01 E4: Number of  SWs attending small group worksh...        1  \n",
       "OASIS        2016-04-01 E4: Number of  SWs attending small group worksh...        1  \n",
       "             2016-05-01 E4: Number of  SWs attending small group worksh...        1  \n",
       "             2016-06-01 E4: Number of  SWs attending small group worksh...        1  \n",
       "PHRU         2016-04-01 E4: Number of  SWs attending small group worksh...        1  \n",
       "             2016-05-01 E4: Number of  SWs attending small group worksh...        1  \n",
       "             2016-06-01 E4: Number of  SWs attending small group worksh...        1  \n",
       "QAC          2016-04-01 E4: Number of  SWs attending small group worksh...        1  \n",
       "             2016-05-01 E4: Number of  SWs attending small group worksh...        1  \n",
       "             2016-06-01 E4: Number of  SWs attending small group worksh...        1  \n",
       "SWEAT        2016-04-01 E4: Number of  SWs attending small group worksh...        1  \n",
       "             2016-05-01 E4: Number of  SWs attending small group worksh...        1  \n",
       "             2016-06-01 E4: Number of  SWs attending small group worksh...        1  \n",
       "TBHIV        2016-04-01 E4: Number of  SWs attending small group worksh...        1  \n",
       "             2016-05-01 E4: Number of  SWs attending small group worksh...        1  \n",
       "             2016-06-01 E4: Number of  SWs attending small group worksh...        1  \n",
       "WRHI         2016-04-01 E4: Number of  SWs attending small group worksh...        1  \n",
       "             2016-05-01 E4: Number of  SWs attending small group worksh...        1  \n",
       "             2016-06-01 E4: Number of  SWs attending small group worksh...        1  "
      ]
     },
     "execution_count": 154,
     "metadata": {},
     "output_type": "execute_result"
    }
   ],
   "source": [
    "DF.loc[(DF['Quarter']==1) & (DF['Period']==1) & (DF['Indicator'].str.contains('E4'))].groupby(['Subrecipient','Date','Indicator']).sum()"
   ]
  },
  {
   "cell_type": "code",
   "execution_count": 633,
   "metadata": {
    "collapsed": false
   },
   "outputs": [],
   "source": [
    "#cut=xlsx_obj.parse(sheetname=sheet_name,parse_cols=12,skiprows=7)[col_name[0]].str.contains('Budget')==True"
   ]
  },
  {
   "cell_type": "markdown",
   "metadata": {},
   "source": [
    "<h3> need to remove extra spaces in target names </h3>"
   ]
  },
  {
   "cell_type": "code",
   "execution_count": 8,
   "metadata": {
    "collapsed": true
   },
   "outputs": [],
   "source": [
    "DF['Indicator']=[' '.join(indicator.split()) for indicator in DF['Indicator']] #remove all double spaces"
   ]
  },
  {
   "cell_type": "code",
   "execution_count": 517,
   "metadata": {
    "collapsed": false,
    "scrolled": true
   },
   "outputs": [
    {
     "data": {
      "text/html": [
       "<div>\n",
       "<table border=\"1\" class=\"dataframe\">\n",
       "  <thead>\n",
       "    <tr style=\"text-align: right;\">\n",
       "      <th></th>\n",
       "      <th></th>\n",
       "      <th></th>\n",
       "      <th></th>\n",
       "      <th>Target</th>\n",
       "      <th>Actual</th>\n",
       "    </tr>\n",
       "    <tr>\n",
       "      <th>Subrecipient</th>\n",
       "      <th>Indicator</th>\n",
       "      <th>Period</th>\n",
       "      <th>Quarter</th>\n",
       "      <th></th>\n",
       "      <th></th>\n",
       "    </tr>\n",
       "  </thead>\n",
       "  <tbody>\n",
       "  </tbody>\n",
       "</table>\n",
       "</div>"
      ],
      "text/plain": [
       "Empty DataFrame\n",
       "Columns: [Target, Actual]\n",
       "Index: []"
      ]
     },
     "execution_count": 517,
     "metadata": {},
     "output_type": "execute_result"
    }
   ],
   "source": [
    "#DF.groupby(['Subrecipient','Indicator','Period','Quarter']).sum() #DF['Date'].dt.month"
   ]
  },
  {
   "cell_type": "markdown",
   "metadata": {},
   "source": [
    "<h1> Show that SRs that actually have data in their reports </h1>"
   ]
  },
  {
   "cell_type": "code",
   "execution_count": 163,
   "metadata": {
    "collapsed": false,
    "scrolled": true
   },
   "outputs": [
    {
     "data": {
      "text/plain": [
       "[u'A2: Number of sex workers who received one or more services through outreach',\n",
       " u'B1: Number of Sex Workers that have received an HIV test during the reporting period and know their results',\n",
       " u'B2: Number of SWs who tested HIV negative in the reporting period',\n",
       " u'B3: Number of newly diagnosed HIV positive SWs ',\n",
       " u'B4a: Number of newly diagnosed HIV positive SWs referred for ART',\n",
       " u'B4b: Number of newly diagnosed HIV positive SWs initiated on  ART',\n",
       " u'B4b: Number of newly diagnosed HIV positive SWs initiated on ART',\n",
       " u'B5: Number of SWs with known HIV positive status',\n",
       " u'B6: Number of SWs who refused HIV test ',\n",
       " u'B7: Number of HIV negative SWs receiving PrEP ',\n",
       " u'B8a: Number of HIV positive SWs referred for Adherence support',\n",
       " u'B8a: Number of HIV positive SWs succesfully referred for Adherence support',\n",
       " u'B8b: Number of HIV positive SWs succesfully referred for Adherence support ',\n",
       " u'C1: Number of SWs screened  for Sexually Transmitted Infections (STI) ',\n",
       " u'C2: Number of SWs with a positive STI symptom referred for STI treatment ',\n",
       " u'C2a: Number of SWs with a positive STI symptom referred for STI treatment ',\n",
       " u'C2b: Number of SWs with a positive STI symptom successfully referred for STI treatment ',\n",
       " u'D1: Number of SWs screened for TB  ',\n",
       " u'D2: Number of SWs successfully referred for TB investigations ',\n",
       " u'D2a: Number of SWs referred for TB investigations ',\n",
       " u'D2b: Number of SWs successfully referred for TB investigations ',\n",
       " u'E1: Number of creative space workshops ',\n",
       " u'E2: Number of SWs attending creative space workshops ',\n",
       " u'E3: Number of small group workshops ',\n",
       " u'E4: Number of  SWs attending small group workshops ',\n",
       " u'F1: Number of male Condoms  distributed ',\n",
       " u'F2: Number of female Condoms  distributed ',\n",
       " u'F3: Number of Lube distributed ',\n",
       " u'G1: Number of SWs reporting new human rights violations cases',\n",
       " u'G2a: Number of  human rights violations (SWs) cases  referred',\n",
       " u'G2a: Number of  human rights violations (SWs) cases referred',\n",
       " u'G2b: Number of  human rights violations (SWs) cases successfully referred',\n",
       " u'Number & Percentage  from key populations (Sex workers) who received an HIV test in the last 12 months & know their test results',\n",
       " u'Number and percentage of victims of sexual violence that received services and received an HIV test by the TCC clinical staff and know their results',\n",
       " u'Number of DoH and other condoms (not red umbrella) distributed',\n",
       " u'Number of GF - RED UMBRELLA condoms distributed.',\n",
       " u'Number of GF - RED UMBRELLA lube distributed.',\n",
       " u'Number of GF - Red Umbrella condoms distributed.',\n",
       " u'Number of GF - Red Umbrella lube distributed.',\n",
       " u'Number of risk reduction workshops',\n",
       " u'Number of sex workers attending risk reduction workshops',\n",
       " u'Number of sex workers reached through outreach',\n",
       " u'Number of sex workers referred for testing who are tested and know their result.',\n",
       " u'Number of sex workers tested by ORGANISATION (SR)',\n",
       " u'Number of sex workers tested by Organisation (SR)',\n",
       " u'Number of sex workers tested by the ORGANISATION (SR) who tested positive for HIV',\n",
       " u'Number of sex workers tested by the Organisation (SR) who tested positive for HIV',\n",
       " u'Number of sexual violence victims completed PEP ',\n",
       " u'Number of sexual violence victims initiated on PEP',\n",
       " u'Number of sexual violence victims not tested at TCC (refusing testing at TCC -known HIV positive) ',\n",
       " u'Number of sexual violence victims who received services at the Thuthuzela Care Centers',\n",
       " u'Number of sexual violence victims who received services at the Thuthuzela Care Centres',\n",
       " u'Number of victims receiving comfort packs']"
      ]
     },
     "execution_count": 163,
     "metadata": {},
     "output_type": "execute_result"
    }
   ],
   "source": [
    "[val for val in DF.groupby('field').count().index]\n",
    "#no LL  "
   ]
  },
  {
   "cell_type": "code",
   "execution_count": 155,
   "metadata": {
    "collapsed": false
   },
   "outputs": [],
   "source": [
    "DF['Subrecipient'] = [val.strip('APRIL 2016').strip('JUNE 2016').\\\n",
    "                      strip(' Financial Report Sept 2016 2.xlsx').strip('MAY  2016').\\\n",
    "                      strip(' Aug 2016').lower() for val in DF['Subrecipient']]"
   ]
  },
  {
   "cell_type": "code",
   "execution_count": 156,
   "metadata": {
    "collapsed": false,
    "scrolled": true
   },
   "outputs": [],
   "source": [
    "DF.rename(columns={'Subrecipient': 'subrecipient', 'Indicator': 'field'}, inplace=True)"
   ]
  },
  {
   "cell_type": "code",
   "execution_count": 170,
   "metadata": {
    "collapsed": false
   },
   "outputs": [
    {
     "data": {
      "text/plain": [
       "2                                                    a2\n",
       "3                                                    e2\n",
       "4                                                    b1\n",
       "6                                                    c1\n",
       "7                                                   c2a\n",
       "8                                                   c2b\n",
       "9                                                    d1\n",
       "10                                                   d2\n",
       "11                                                   e1\n",
       "12                                                   e3\n",
       "13                                                   e4\n",
       "14                                                   f1\n",
       "15                                                   f2\n",
       "16                                                   f3\n",
       "17                                                   g1\n",
       "18                                                  g2a\n",
       "19                                                  g2b\n",
       "20                                                   b2\n",
       "21                                                   b3\n",
       "22                                                  b4a\n",
       "23                                                  b4b\n",
       "24                                                   b5\n",
       "25                                                   b6\n",
       "26                                                   b7\n",
       "27                                                  b8a\n",
       "                            ...                        \n",
       "10                                                   d2\n",
       "11                                                   e1\n",
       "12                                                   e3\n",
       "13                                                   e4\n",
       "14                                                   f1\n",
       "15                                                   f2\n",
       "16                                                   f3\n",
       "17                                                   g1\n",
       "18                                                  g2a\n",
       "19                                                  g2b\n",
       "20                                                   b2\n",
       "21                                                   b3\n",
       "22                                                  b4a\n",
       "23                                                  b4b\n",
       "24                                                   b5\n",
       "25                                                   b6\n",
       "26                                                   b7\n",
       "27                                                  b8a\n",
       "28                                                  b8b\n",
       "38    number of sexual violence victims who received...\n",
       "39    number and percentage of victims of sexual vio...\n",
       "40    number of sexual violence victims not tested a...\n",
       "41    number of sexual violence victims initiated on...\n",
       "42     number of sexual violence victims completed pep \n",
       "43            number of victims receiving comfort packs\n",
       "Name: field, dtype: object"
      ]
     },
     "execution_count": 170,
     "metadata": {},
     "output_type": "execute_result"
    }
   ],
   "source": [
    "DF['field'] = [val.split(':')[0].lower() for val in DF['field']]"
   ]
  },
  {
   "cell_type": "code",
   "execution_count": 157,
   "metadata": {
    "collapsed": false
   },
   "outputs": [],
   "source": [
    "report_targets = DF[(DF['Quarter']==1) & (DF['Period']==1)].groupby(['subrecipient','field']).sum()['Target']"
   ]
  },
  {
   "cell_type": "code",
   "execution_count": 158,
   "metadata": {
    "collapsed": false,
    "scrolled": true
   },
   "outputs": [
    {
     "data": {
      "text/plain": [
       "subrecipient  field                                                                                                                                               \n",
       "              Number and percentage of victims of sexual violence that received services and received an HIV test by the TCC clinical staff and know their results       124.000000\n",
       "              Number of DoH and other condoms (not red umbrella) distributed                                                                                               0.000000\n",
       "              Number of GF - Red Umbrella condoms distributed.                                                                                                             0.000000\n",
       "              Number of GF - Red Umbrella lube distributed.                                                                                                                0.000000\n",
       "              Number of risk reduction workshops                                                                                                                           3.000000\n",
       "              Number of sex workers attending risk reduction workshops                                                                                                    75.000000\n",
       "              Number of sex workers reached through outreach                                                                                                             600.000000\n",
       "              Number of sex workers referred for testing who are tested and know their result.                                                                            60.000000\n",
       "              Number of sex workers tested by Organisation (SR)                                                                                                           60.000000\n",
       "              Number of sex workers tested by the Organisation (SR) who tested positive for HIV                                                                            0.000000\n",
       "              Number of sexual violence victims completed PEP                                                                                                            108.500000\n",
       "              Number of sexual violence victims initiated on PEP                                                                                                         108.500000\n",
       "              Number of sexual violence victims not tested at TCC (refusing testing at TCC -known HIV positive)                                                           31.000000\n",
       "              Number of sexual violence victims who received services at the Thuthuzela Care Centres                                                                     155.000000\n",
       "cpc           A2: Number of sex workers who received one or more services through outreach                                                                              3780.000000\n",
       "              B1: Number of Sex Workers that have received an HIV test during the reporting period and know their results                                                200.000000\n",
       "              B2: Number of SWs who tested HIV negative in the reporting period                                                                                            0.000000\n",
       "              B3: Number of newly diagnosed HIV positive SWs                                                                                                               0.000000\n",
       "              B4a: Number of newly diagnosed HIV positive SWs referred for ART                                                                                             0.000000\n",
       "              B4b: Number of newly diagnosed HIV positive SWs initiated on ART                                                                                             0.000000\n",
       "              B5: Number of SWs with known HIV positive status                                                                                                             0.000000\n",
       "              B6: Number of SWs who refused HIV test                                                                                                                       0.000000\n",
       "              B7: Number of HIV negative SWs receiving PrEP                                                                                                                0.000000\n",
       "              B8a: Number of HIV positive SWs succesfully referred for Adherence support                                                                                   0.000000\n",
       "              B8b: Number of HIV positive SWs succesfully referred for Adherence support                                                                                   0.000000\n",
       "                                                                                                                                                                          ...      \n",
       "wrh           F2: Number of female Condoms  distributed                                                                                                                42525.000000\n",
       "              F3: Number of Lube distributed                                                                                                                          283500.000000\n",
       "              G1: Number of SWs reporting new human rights violations cases                                                                                                0.000000\n",
       "              G2a: Number of  human rights violations (SWs) cases referred                                                                                                 0.000000\n",
       "              G2b: Number of  human rights violations (SWs) cases successfully referred                                                                                    0.000000\n",
       "              Number and percentage of victims of sexual violence that received services and received an HIV test by the TCC clinical staff and know their results         0.000000\n",
       "              Number of sexual violence victims completed PEP                                                                                                              0.000000\n",
       "              Number of sexual violence victims initiated on PEP                                                                                                           0.000000\n",
       "              Number of sexual violence victims not tested at TCC (refusing testing at TCC -known HIV positive)                                                            0.000000\n",
       "              Number of sexual violence victims who received services at the Thuthuzela Care Centers                                                                       0.000000\n",
       "              Number of victims receiving comfort packs                                                                                                                    0.000000\n",
       "zululand      Number and percentage of victims of sexual violence that received services and received an HIV test by the TCC clinical staff and know their results       103.466667\n",
       "              Number of DoH and other condoms (not red umbrella) distributed                                                                                               0.000000\n",
       "              Number of GF - Red Umbrella condoms distributed.                                                                                                             0.000000\n",
       "              Number of GF - Red Umbrella lube distributed.                                                                                                                0.000000\n",
       "              Number of risk reduction workshops                                                                                                                           3.000000\n",
       "              Number of sex workers attending risk reduction workshops                                                                                                    75.000000\n",
       "              Number of sex workers reached through outreach                                                                                                             600.000000\n",
       "              Number of sex workers referred for testing who are tested and know their result.                                                                            60.000000\n",
       "              Number of sex workers tested by Organisation (SR)                                                                                                            0.000000\n",
       "              Number of sex workers tested by the Organisation (SR) who tested positive for HIV                                                                            0.000000\n",
       "              Number of sexual violence victims completed PEP                                                                                                             90.533333\n",
       "              Number of sexual violence victims initiated on PEP                                                                                                          90.533333\n",
       "              Number of sexual violence victims not tested at TCC (refusing testing at TCC -known HIV positive)                                                           25.866667\n",
       "              Number of sexual violence victims who received services at the Thuthuzela Care Centres                                                                     129.333333\n",
       "Name: Target, dtype: float64"
      ]
     },
     "execution_count": 158,
     "metadata": {},
     "output_type": "execute_result"
    }
   ],
   "source": [
    "report_targets"
   ]
  },
  {
   "cell_type": "markdown",
   "metadata": {},
   "source": [
    "<h1> Detect differences in target values. Like the F1 mixup for cpc </h1>"
   ]
  },
  {
   "cell_type": "markdown",
   "metadata": {},
   "source": [
    "<h1> Read in values from NACOSA_targets.xlsx </h1>"
   ]
  },
  {
   "cell_type": "code",
   "execution_count": null,
   "metadata": {
    "collapsed": false
   },
   "outputs": [],
   "source": [
    "DF2=pd.read_excel('/Users/attiladobi/Downloads/NACOSA_targets.xlsx')\n",
    "\n",
    "#Replace empty entries with NaN\n",
    "DF2['Value']=pd.to_numeric(DF2['Value'],errors='coerce')\n",
    "\n",
    "#Replace all double spaces with single space\n",
    "DF2['Indicator']=[' '.join(text.split()) for text in DF2['Indicator']]\n",
    "#lower all SR names to match with other database\n",
    "#DF['subrecipient']=DF['Subrecipient'].str.lower()\n",
    "\n",
    "quarter_map={1:(1,1),2:(1,2),3:(2,3),4:(2,4),5:(3,1),6:(3,2),7:(4,3),8:(4,4),9:(5,1),10:(5,2),11:(6,3),12:(6,4)}\n",
    "inv_quarter_map = {v: k for k, v in quarter_map.items()}\n",
    "DF2['numQuarter']=[inv_quarter_map[tuple(p_q)] for p_q in DF2[['Period','Quarter']].values]\n",
    "DF2['Subrecipient']=DF2['Subrecipient'].replace('QLAC','QAC')"
   ]
  },
  {
   "cell_type": "markdown",
   "metadata": {},
   "source": [
    "<h1> Sum over all Non-transition items </h1>"
   ]
  },
  {
   "cell_type": "code",
   "execution_count": 569,
   "metadata": {
    "collapsed": false
   },
   "outputs": [],
   "source": [
    "targets_xlsx=DF2.loc[(DF2['Quarter']==1) & (DF2['Period']==1) & (DF2['Type'].str.contains('Non-transition'))]\\\n",
    ".groupby(['Subrecipient','Indicator']).sum().dropna()['Value']"
   ]
  },
  {
   "cell_type": "code",
   "execution_count": 578,
   "metadata": {
    "collapsed": false,
    "scrolled": true
   },
   "outputs": [
    {
     "data": {
      "text/plain": [
       "Index([    u'CPC',  u'Humana',   u'LLJBH', u'NQOBILE',   u'OASIS',    u'PHRU',\n",
       "           u'QAC',   u'SWEAT',   u'TBHIV',    u'WRHI'],\n",
       "      dtype='object', name=u'Subrecipient')"
      ]
     },
     "execution_count": 578,
     "metadata": {},
     "output_type": "execute_result"
    }
   ],
   "source": [
    "targets_xlsx.index.levels[0] #['QAC']#['F1: Number of male Condoms distributed']"
   ]
  },
  {
   "cell_type": "code",
   "execution_count": 580,
   "metadata": {
    "collapsed": false,
    "scrolled": true
   },
   "outputs": [
    {
     "data": {
      "text/plain": [
       "Index([u'CPC', u'GRIP', u'NQOBILE', u'OASIS', u'PHRU', u'QAC', u'SWEAT',\n",
       "       u'THCA', u'WRHI'],\n",
       "      dtype='object', name=u'Subrecipient')"
      ]
     },
     "execution_count": 580,
     "metadata": {},
     "output_type": "execute_result"
    }
   ],
   "source": [
    "report_targets.index.levels[0] #actually have Q1 values"
   ]
  },
  {
   "cell_type": "code",
   "execution_count": 572,
   "metadata": {
    "collapsed": false,
    "scrolled": true
   },
   "outputs": [
    {
     "data": {
      "text/html": [
       "<div>\n",
       "<table border=\"1\" class=\"dataframe\">\n",
       "  <thead>\n",
       "    <tr style=\"text-align: right;\">\n",
       "      <th></th>\n",
       "      <th></th>\n",
       "      <th>0</th>\n",
       "    </tr>\n",
       "    <tr>\n",
       "      <th>Subrecipient</th>\n",
       "      <th>Indicator</th>\n",
       "      <th></th>\n",
       "    </tr>\n",
       "  </thead>\n",
       "  <tbody>\n",
       "    <tr>\n",
       "      <th rowspan=\"7\" valign=\"top\">CPC</th>\n",
       "      <th>A2: Number of sex workers who received one or more services through outreach</th>\n",
       "      <td>1.000000</td>\n",
       "    </tr>\n",
       "    <tr>\n",
       "      <th>B1: Number of Sex Workers that have received an HIV test during the reporting period and know their results</th>\n",
       "      <td>1.000000</td>\n",
       "    </tr>\n",
       "    <tr>\n",
       "      <th>E1: Number of creative space workshops</th>\n",
       "      <td>0.000000</td>\n",
       "    </tr>\n",
       "    <tr>\n",
       "      <th>E2: Number of SWs attending creative space workshops</th>\n",
       "      <td>1.000000</td>\n",
       "    </tr>\n",
       "    <tr>\n",
       "      <th>F1: Number of male Condoms distributed</th>\n",
       "      <td>0.070000</td>\n",
       "    </tr>\n",
       "    <tr>\n",
       "      <th>F2: Number of female Condoms distributed</th>\n",
       "      <td>9.333333</td>\n",
       "    </tr>\n",
       "    <tr>\n",
       "      <th>F3: Number of Lube distributed</th>\n",
       "      <td>0.000000</td>\n",
       "    </tr>\n",
       "    <tr>\n",
       "      <th rowspan=\"10\" valign=\"top\">NQOBILE</th>\n",
       "      <th>A2: Number of sex workers who received one or more services through outreach</th>\n",
       "      <td>1.000000</td>\n",
       "    </tr>\n",
       "    <tr>\n",
       "      <th>B1: Number of Sex Workers that have received an HIV test during the reporting period and know their results</th>\n",
       "      <td>0.995025</td>\n",
       "    </tr>\n",
       "    <tr>\n",
       "      <th>B4a: Number of newly diagnosed HIV positive SWs referred for ART</th>\n",
       "      <td>0.000000</td>\n",
       "    </tr>\n",
       "    <tr>\n",
       "      <th>B7: Number of HIV negative SWs receiving PrEP</th>\n",
       "      <td>0.000000</td>\n",
       "    </tr>\n",
       "    <tr>\n",
       "      <th>B8b: Number of HIV positive SWs succesfully referred for Adherence support</th>\n",
       "      <td>0.000000</td>\n",
       "    </tr>\n",
       "    <tr>\n",
       "      <th>E1: Number of creative space workshops</th>\n",
       "      <td>1.000000</td>\n",
       "    </tr>\n",
       "    <tr>\n",
       "      <th>E2: Number of SWs attending creative space workshops</th>\n",
       "      <td>1.000000</td>\n",
       "    </tr>\n",
       "    <tr>\n",
       "      <th>F1: Number of male Condoms distributed</th>\n",
       "      <td>1.000000</td>\n",
       "    </tr>\n",
       "    <tr>\n",
       "      <th>F2: Number of female Condoms distributed</th>\n",
       "      <td>1.000000</td>\n",
       "    </tr>\n",
       "    <tr>\n",
       "      <th>F3: Number of Lube distributed</th>\n",
       "      <td>1.000000</td>\n",
       "    </tr>\n",
       "    <tr>\n",
       "      <th rowspan=\"8\" valign=\"top\">OASIS</th>\n",
       "      <th>A2: Number of sex workers who received one or more services through outreach</th>\n",
       "      <td>1.000000</td>\n",
       "    </tr>\n",
       "    <tr>\n",
       "      <th>B1: Number of Sex Workers that have received an HIV test during the reporting period and know their results</th>\n",
       "      <td>1.002506</td>\n",
       "    </tr>\n",
       "    <tr>\n",
       "      <th>B4a: Number of newly diagnosed HIV positive SWs referred for ART</th>\n",
       "      <td>0.000000</td>\n",
       "    </tr>\n",
       "    <tr>\n",
       "      <th>B7: Number of HIV negative SWs receiving PrEP</th>\n",
       "      <td>0.000000</td>\n",
       "    </tr>\n",
       "    <tr>\n",
       "      <th>B8b: Number of HIV positive SWs succesfully referred for Adherence support</th>\n",
       "      <td>0.000000</td>\n",
       "    </tr>\n",
       "    <tr>\n",
       "      <th>E1: Number of creative space workshops</th>\n",
       "      <td>1.000000</td>\n",
       "    </tr>\n",
       "    <tr>\n",
       "      <th>E2: Number of SWs attending creative space workshops</th>\n",
       "      <td>1.000000</td>\n",
       "    </tr>\n",
       "    <tr>\n",
       "      <th>F1: Number of male Condoms distributed</th>\n",
       "      <td>1.000000</td>\n",
       "    </tr>\n",
       "    <tr>\n",
       "      <th>...</th>\n",
       "      <th>...</th>\n",
       "      <td>...</td>\n",
       "    </tr>\n",
       "    <tr>\n",
       "      <th rowspan=\"5\" valign=\"top\">QAC</th>\n",
       "      <th>E1: Number of creative space workshops</th>\n",
       "      <td>1.000000</td>\n",
       "    </tr>\n",
       "    <tr>\n",
       "      <th>E2: Number of SWs attending creative space workshops</th>\n",
       "      <td>1.000000</td>\n",
       "    </tr>\n",
       "    <tr>\n",
       "      <th>F1: Number of male Condoms distributed</th>\n",
       "      <td>1.000000</td>\n",
       "    </tr>\n",
       "    <tr>\n",
       "      <th>F2: Number of female Condoms distributed</th>\n",
       "      <td>1.000000</td>\n",
       "    </tr>\n",
       "    <tr>\n",
       "      <th>F3: Number of Lube distributed</th>\n",
       "      <td>1.000000</td>\n",
       "    </tr>\n",
       "    <tr>\n",
       "      <th rowspan=\"10\" valign=\"top\">SWEAT</th>\n",
       "      <th>A2: Number of sex workers who received one or more services through outreach</th>\n",
       "      <td>1.000000</td>\n",
       "    </tr>\n",
       "    <tr>\n",
       "      <th>B1: Number of Sex Workers that have received an HIV test during the reporting period and know their results</th>\n",
       "      <td>0.000000</td>\n",
       "    </tr>\n",
       "    <tr>\n",
       "      <th>B4a: Number of newly diagnosed HIV positive SWs referred for ART</th>\n",
       "      <td>0.000000</td>\n",
       "    </tr>\n",
       "    <tr>\n",
       "      <th>B7: Number of HIV negative SWs receiving PrEP</th>\n",
       "      <td>0.000000</td>\n",
       "    </tr>\n",
       "    <tr>\n",
       "      <th>B8b: Number of HIV positive SWs succesfully referred for Adherence support</th>\n",
       "      <td>0.000000</td>\n",
       "    </tr>\n",
       "    <tr>\n",
       "      <th>E1: Number of creative space workshops</th>\n",
       "      <td>0.000000</td>\n",
       "    </tr>\n",
       "    <tr>\n",
       "      <th>E2: Number of SWs attending creative space workshops</th>\n",
       "      <td>1.000000</td>\n",
       "    </tr>\n",
       "    <tr>\n",
       "      <th>F1: Number of male Condoms distributed</th>\n",
       "      <td>0.050000</td>\n",
       "    </tr>\n",
       "    <tr>\n",
       "      <th>F2: Number of female Condoms distributed</th>\n",
       "      <td>6.666667</td>\n",
       "    </tr>\n",
       "    <tr>\n",
       "      <th>F3: Number of Lube distributed</th>\n",
       "      <td>0.000000</td>\n",
       "    </tr>\n",
       "    <tr>\n",
       "      <th rowspan=\"10\" valign=\"top\">WRHI</th>\n",
       "      <th>A2: Number of sex workers who received one or more services through outreach</th>\n",
       "      <td>1.000000</td>\n",
       "    </tr>\n",
       "    <tr>\n",
       "      <th>B1: Number of Sex Workers that have received an HIV test during the reporting period and know their results</th>\n",
       "      <td>1.000000</td>\n",
       "    </tr>\n",
       "    <tr>\n",
       "      <th>B4a: Number of newly diagnosed HIV positive SWs referred for ART</th>\n",
       "      <td>0.000000</td>\n",
       "    </tr>\n",
       "    <tr>\n",
       "      <th>B7: Number of HIV negative SWs receiving PrEP</th>\n",
       "      <td>0.000000</td>\n",
       "    </tr>\n",
       "    <tr>\n",
       "      <th>B8b: Number of HIV positive SWs succesfully referred for Adherence support</th>\n",
       "      <td>0.000000</td>\n",
       "    </tr>\n",
       "    <tr>\n",
       "      <th>E1: Number of creative space workshops</th>\n",
       "      <td>1.000000</td>\n",
       "    </tr>\n",
       "    <tr>\n",
       "      <th>E2: Number of SWs attending creative space workshops</th>\n",
       "      <td>1.000000</td>\n",
       "    </tr>\n",
       "    <tr>\n",
       "      <th>F1: Number of male Condoms distributed</th>\n",
       "      <td>1.000000</td>\n",
       "    </tr>\n",
       "    <tr>\n",
       "      <th>F2: Number of female Condoms distributed</th>\n",
       "      <td>1.000000</td>\n",
       "    </tr>\n",
       "    <tr>\n",
       "      <th>F3: Number of Lube distributed</th>\n",
       "      <td>1.000000</td>\n",
       "    </tr>\n",
       "  </tbody>\n",
       "</table>\n",
       "<p>67 rows × 1 columns</p>\n",
       "</div>"
      ],
      "text/plain": [
       "                                                                        0\n",
       "Subrecipient Indicator                                                   \n",
       "CPC          A2: Number of sex workers who received one or m...  1.000000\n",
       "             B1: Number of Sex Workers that have received an...  1.000000\n",
       "             E1: Number of creative space workshops              0.000000\n",
       "             E2: Number of SWs attending creative space work...  1.000000\n",
       "             F1: Number of male Condoms distributed              0.070000\n",
       "             F2: Number of female Condoms distributed            9.333333\n",
       "             F3: Number of Lube distributed                      0.000000\n",
       "NQOBILE      A2: Number of sex workers who received one or m...  1.000000\n",
       "             B1: Number of Sex Workers that have received an...  0.995025\n",
       "             B4a: Number of newly diagnosed HIV positive SWs...  0.000000\n",
       "             B7: Number of HIV negative SWs receiving PrEP       0.000000\n",
       "             B8b: Number of HIV positive SWs succesfully ref...  0.000000\n",
       "             E1: Number of creative space workshops              1.000000\n",
       "             E2: Number of SWs attending creative space work...  1.000000\n",
       "             F1: Number of male Condoms distributed              1.000000\n",
       "             F2: Number of female Condoms distributed            1.000000\n",
       "             F3: Number of Lube distributed                      1.000000\n",
       "OASIS        A2: Number of sex workers who received one or m...  1.000000\n",
       "             B1: Number of Sex Workers that have received an...  1.002506\n",
       "             B4a: Number of newly diagnosed HIV positive SWs...  0.000000\n",
       "             B7: Number of HIV negative SWs receiving PrEP       0.000000\n",
       "             B8b: Number of HIV positive SWs succesfully ref...  0.000000\n",
       "             E1: Number of creative space workshops              1.000000\n",
       "             E2: Number of SWs attending creative space work...  1.000000\n",
       "             F1: Number of male Condoms distributed              1.000000\n",
       "...                                                                   ...\n",
       "QAC          E1: Number of creative space workshops              1.000000\n",
       "             E2: Number of SWs attending creative space work...  1.000000\n",
       "             F1: Number of male Condoms distributed              1.000000\n",
       "             F2: Number of female Condoms distributed            1.000000\n",
       "             F3: Number of Lube distributed                      1.000000\n",
       "SWEAT        A2: Number of sex workers who received one or m...  1.000000\n",
       "             B1: Number of Sex Workers that have received an...  0.000000\n",
       "             B4a: Number of newly diagnosed HIV positive SWs...  0.000000\n",
       "             B7: Number of HIV negative SWs receiving PrEP       0.000000\n",
       "             B8b: Number of HIV positive SWs succesfully ref...  0.000000\n",
       "             E1: Number of creative space workshops              0.000000\n",
       "             E2: Number of SWs attending creative space work...  1.000000\n",
       "             F1: Number of male Condoms distributed              0.050000\n",
       "             F2: Number of female Condoms distributed            6.666667\n",
       "             F3: Number of Lube distributed                      0.000000\n",
       "WRHI         A2: Number of sex workers who received one or m...  1.000000\n",
       "             B1: Number of Sex Workers that have received an...  1.000000\n",
       "             B4a: Number of newly diagnosed HIV positive SWs...  0.000000\n",
       "             B7: Number of HIV negative SWs receiving PrEP       0.000000\n",
       "             B8b: Number of HIV positive SWs succesfully ref...  0.000000\n",
       "             E1: Number of creative space workshops              1.000000\n",
       "             E2: Number of SWs attending creative space work...  1.000000\n",
       "             F1: Number of male Condoms distributed              1.000000\n",
       "             F2: Number of female Condoms distributed            1.000000\n",
       "             F3: Number of Lube distributed                      1.000000\n",
       "\n",
       "[67 rows x 1 columns]"
      ]
     },
     "execution_count": 572,
     "metadata": {},
     "output_type": "execute_result"
    }
   ],
   "source": [
    "report_target_ratio=(report_targets/targets_xlsx).dropna()\n",
    "pd.DataFrame(report_target_ratio)"
   ]
  },
  {
   "cell_type": "code",
   "execution_count": 573,
   "metadata": {
    "collapsed": true
   },
   "outputs": [],
   "source": [
    "cmap = mpl.colors.ListedColormap(['red','yellow','green', 'yellow'])\n",
    "bounds=[0,0.01,0.95,1.05,10]\n",
    "norm = mpl.colors.BoundaryNorm(bounds, cmap.N)"
   ]
  },
  {
   "cell_type": "code",
   "execution_count": 574,
   "metadata": {
    "collapsed": false,
    "scrolled": false
   },
   "outputs": [
    {
     "data": {
      "image/png": "[encoded data removed]",
      "text/plain": [
       "<matplotlib.figure.Figure at 0x11cdfbfd0>"
      ]
     },
     "metadata": {},
     "output_type": "display_data"
    }
   ],
   "source": [
    "quarter=1\n",
    "period=1\n",
    "\n",
    "toplot=report_target_ratio.replace(nan,0)\n",
    "\n",
    "#toplot=toplot.dropna()\n",
    "#toplot/=toplot.groupby(level=1).sum()\n",
    "#toplot\n",
    "\n",
    "result = pd.DataFrame(toplot).reset_index().pivot(index='Subrecipient', columns='Indicator')[0].replace(nan,0)\n",
    "result.columns=[val.split(':')[0] for val in result.columns]\n",
    "fig=figure()\n",
    "fig.set_size_inches(13, 9)\n",
    "sns.set_context(\"notebook\", font_scale=1.5, rc={\"lines.linewidth\": 2.5})\n",
    "sns.heatmap(result, annot=True, fmt=\".2f\", cmap=cmap, norm=norm, label='big',\\\n",
    "             square=False,linewidths=0.5, cbar=False) #ListedColormap(['red','green', 'red']) #vmin=0,vmax=1.5\n",
    "plt.title('Ratio of Targets in SR Reports to Actual Targets \\n Quarter: {:d}, Period: {:d}'.format(quarter,period))\n",
    "plt.show()"
   ]
  },
  {
   "cell_type": "code",
   "execution_count": 509,
   "metadata": {
    "collapsed": true
   },
   "outputs": [],
   "source": []
  },
  {
   "cell_type": "code",
   "execution_count": null,
   "metadata": {
    "collapsed": true
   },
   "outputs": [],
   "source": []
  },
  {
   "cell_type": "markdown",
   "metadata": {},
   "source": [
    "<h1> Read in data from json </h1>"
   ]
  },
  {
   "cell_type": "code",
   "execution_count": 57,
   "metadata": {
    "collapsed": true
   },
   "outputs": [],
   "source": [
    "with open('/Users/attiladobi/nacosa/processed_rows/20170509/processed_rows.0.json', 'rb') as f:\n",
    "    data = f.readlines()\n",
    "\n",
    "# remove the trailing \"\\n\" from each line\n",
    "data = map(lambda x: x.rstrip(), data)\n",
    "data_json_str = \"[\" + ','.join(data) + \"]\"\n",
    "\n",
    "# now, load it into pandas\n",
    "processed_df = pd.read_json(data_json_str)"
   ]
  },
  {
   "cell_type": "code",
   "execution_count": null,
   "metadata": {
    "collapsed": true
   },
   "outputs": [],
   "source": []
  },
  {
   "cell_type": "code",
   "execution_count": null,
   "metadata": {
    "collapsed": true
   },
   "outputs": [],
   "source": []
  },
  {
   "cell_type": "code",
   "execution_count": 58,
   "metadata": {
    "collapsed": true
   },
   "outputs": [],
   "source": [
    "targets_json = processed_df.loc[processed_df['description']=='non-transition']\\\n",
    "                .groupby(['qnum', 'subrecipient', 'field'])['val'].sum()"
   ]
  },
  {
   "cell_type": "code",
   "execution_count": 168,
   "metadata": {
    "collapsed": false
   },
   "outputs": [
    {
     "data": {
      "text/plain": [
       "subrecipient  field                                                                                                                   \n",
       "cpc           target_a1_number_of_sex_workers_reached_with_hiv_prevention_programs_individual_and_or_smaller_group_level_interventions      3780.0\n",
       "              target_a2_number_of_sex_workers_who_received_one_or_more_services_through_outreach                                            3780.0\n",
       "              target_b1_number_of_sex_workers_that_have_received_an_hiv_test_during_the_reporting_period_and_know_their_results              200.0\n",
       "              target_e1_number_of_creative_space_workshops                                                                                     9.0\n",
       "              target_e2_number_of_sex_workers_attending_creative_space_workshops                                                             225.0\n",
       "              target_f1_number_of_male_condoms_distributed                                                                                607500.0\n",
       "              target_f2_number_of_female_condoms_distributed                                                                               30375.0\n",
       "              target_f3_number_of_lube_distributed                                                                                        202500.0\n",
       "nqobile       target_a1_number_of_sex_workers_reached_with_hiv_prevention_programs_individual_and_or_smaller_group_level_interventions      1260.0\n",
       "              target_a2_number_of_sex_workers_who_received_one_or_more_services_through_outreach                                            1260.0\n",
       "              target_b1_number_of_sex_workers_that_have_received_an_hiv_test_during_the_reporting_period_and_know_their_results               67.0\n",
       "              target_e1_number_of_creative_space_workshops                                                                                     3.0\n",
       "              target_e2_number_of_sex_workers_attending_creative_space_workshops                                                              75.0\n",
       "              target_f1_number_of_male_condoms_distributed                                                                                283500.0\n",
       "              target_f2_number_of_female_condoms_distributed                                                                               14175.0\n",
       "              target_f3_number_of_lube_distributed                                                                                         94500.0\n",
       "oasis         target_a1_number_of_sex_workers_reached_with_hiv_prevention_programs_individual_and_or_smaller_group_level_interventions      2520.0\n",
       "              target_a2_number_of_sex_workers_who_received_one_or_more_services_through_outreach                                            2520.0\n",
       "              target_b1_number_of_sex_workers_that_have_received_an_hiv_test_during_the_reporting_period_and_know_their_results              133.0\n",
       "              target_e1_number_of_creative_space_workshops                                                                                     6.0\n",
       "              target_e2_number_of_sex_workers_attending_creative_space_workshops                                                             150.0\n",
       "              target_f1_number_of_male_condoms_distributed                                                                                567000.0\n",
       "              target_f2_number_of_female_condoms_distributed                                                                               28350.0\n",
       "              target_f3_number_of_lube_distributed                                                                                        189000.0\n",
       "phru          target_a1_number_of_sex_workers_reached_with_hiv_prevention_programs_individual_and_or_smaller_group_level_interventions      2520.0\n",
       "                                                                                                                                            ...   \n",
       "              target_f3_number_of_lube_distributed                                                                                        189000.0\n",
       "qlac          target_a1_number_of_sex_workers_reached_with_hiv_prevention_programs_individual_and_or_smaller_group_level_interventions      2520.0\n",
       "              target_a2_number_of_sex_workers_who_received_one_or_more_services_through_outreach                                            2520.0\n",
       "              target_b1_number_of_sex_workers_that_have_received_an_hiv_test_during_the_reporting_period_and_know_their_results              133.0\n",
       "              target_e1_number_of_creative_space_workshops                                                                                     6.0\n",
       "              target_e2_number_of_sex_workers_attending_creative_space_workshops                                                             150.0\n",
       "              target_f1_number_of_male_condoms_distributed                                                                                567000.0\n",
       "              target_f2_number_of_female_condoms_distributed                                                                               28350.0\n",
       "              target_f3_number_of_lube_distributed                                                                                        189000.0\n",
       "sweat         target_a1_number_of_sex_workers_reached_with_hiv_prevention_programs_individual_and_or_smaller_group_level_interventions      2520.0\n",
       "              target_a2_number_of_sex_workers_who_received_one_or_more_services_through_outreach                                            2520.0\n",
       "              target_b1_number_of_sex_workers_that_have_received_an_hiv_test_during_the_reporting_period_and_know_their_results              133.0\n",
       "              target_e1_number_of_creative_space_workshops                                                                                     6.0\n",
       "              target_e2_number_of_sex_workers_attending_creative_space_workshops                                                             150.0\n",
       "              target_f1_number_of_male_condoms_distributed                                                                                567000.0\n",
       "              target_f2_number_of_female_condoms_distributed                                                                               28350.0\n",
       "              target_f3_number_of_lube_distributed                                                                                        189000.0\n",
       "wrhi          target_a1_number_of_sex_workers_reached_with_hiv_prevention_programs_individual_and_or_smaller_group_level_interventions      3780.0\n",
       "              target_a2_number_of_sex_workers_who_received_one_or_more_services_through_outreach                                            3780.0\n",
       "              target_b1_number_of_sex_workers_that_have_received_an_hiv_test_during_the_reporting_period_and_know_their_results              200.0\n",
       "              target_e1_number_of_creative_space_workshops                                                                                     9.0\n",
       "              target_e2_number_of_sex_workers_attending_creative_space_workshops                                                             225.0\n",
       "              target_f1_number_of_male_condoms_distributed                                                                                850500.0\n",
       "              target_f2_number_of_female_condoms_distributed                                                                               42525.0\n",
       "              target_f3_number_of_lube_distributed                                                                                        283500.0\n",
       "Name: val, dtype: float64"
      ]
     },
     "execution_count": 168,
     "metadata": {},
     "output_type": "execute_result"
    }
   ],
   "source": [
    "targets_json[1]"
   ]
  },
  {
   "cell_type": "code",
   "execution_count": 160,
   "metadata": {
    "collapsed": false,
    "scrolled": true
   },
   "outputs": [
    {
     "data": {
      "text/plain": [
       "subrecipient  field                                                                                                                                               \n",
       "              Number and percentage of victims of sexual violence that received services and received an HIV test by the TCC clinical staff and know their results       124.000000\n",
       "              Number of DoH and other condoms (not red umbrella) distributed                                                                                               0.000000\n",
       "              Number of GF - Red Umbrella condoms distributed.                                                                                                             0.000000\n",
       "              Number of GF - Red Umbrella lube distributed.                                                                                                                0.000000\n",
       "              Number of risk reduction workshops                                                                                                                           3.000000\n",
       "              Number of sex workers attending risk reduction workshops                                                                                                    75.000000\n",
       "              Number of sex workers reached through outreach                                                                                                             600.000000\n",
       "              Number of sex workers referred for testing who are tested and know their result.                                                                            60.000000\n",
       "              Number of sex workers tested by Organisation (SR)                                                                                                           60.000000\n",
       "              Number of sex workers tested by the Organisation (SR) who tested positive for HIV                                                                            0.000000\n",
       "              Number of sexual violence victims completed PEP                                                                                                            108.500000\n",
       "              Number of sexual violence victims initiated on PEP                                                                                                         108.500000\n",
       "              Number of sexual violence victims not tested at TCC (refusing testing at TCC -known HIV positive)                                                           31.000000\n",
       "              Number of sexual violence victims who received services at the Thuthuzela Care Centres                                                                     155.000000\n",
       "cpc           A2: Number of sex workers who received one or more services through outreach                                                                              3780.000000\n",
       "              B1: Number of Sex Workers that have received an HIV test during the reporting period and know their results                                                200.000000\n",
       "              B2: Number of SWs who tested HIV negative in the reporting period                                                                                            0.000000\n",
       "              B3: Number of newly diagnosed HIV positive SWs                                                                                                               0.000000\n",
       "              B4a: Number of newly diagnosed HIV positive SWs referred for ART                                                                                             0.000000\n",
       "              B4b: Number of newly diagnosed HIV positive SWs initiated on ART                                                                                             0.000000\n",
       "              B5: Number of SWs with known HIV positive status                                                                                                             0.000000\n",
       "              B6: Number of SWs who refused HIV test                                                                                                                       0.000000\n",
       "              B7: Number of HIV negative SWs receiving PrEP                                                                                                                0.000000\n",
       "              B8a: Number of HIV positive SWs succesfully referred for Adherence support                                                                                   0.000000\n",
       "              B8b: Number of HIV positive SWs succesfully referred for Adherence support                                                                                   0.000000\n",
       "                                                                                                                                                                          ...      \n",
       "wrh           F2: Number of female Condoms  distributed                                                                                                                42525.000000\n",
       "              F3: Number of Lube distributed                                                                                                                          283500.000000\n",
       "              G1: Number of SWs reporting new human rights violations cases                                                                                                0.000000\n",
       "              G2a: Number of  human rights violations (SWs) cases referred                                                                                                 0.000000\n",
       "              G2b: Number of  human rights violations (SWs) cases successfully referred                                                                                    0.000000\n",
       "              Number and percentage of victims of sexual violence that received services and received an HIV test by the TCC clinical staff and know their results         0.000000\n",
       "              Number of sexual violence victims completed PEP                                                                                                              0.000000\n",
       "              Number of sexual violence victims initiated on PEP                                                                                                           0.000000\n",
       "              Number of sexual violence victims not tested at TCC (refusing testing at TCC -known HIV positive)                                                            0.000000\n",
       "              Number of sexual violence victims who received services at the Thuthuzela Care Centers                                                                       0.000000\n",
       "              Number of victims receiving comfort packs                                                                                                                    0.000000\n",
       "zululand      Number and percentage of victims of sexual violence that received services and received an HIV test by the TCC clinical staff and know their results       103.466667\n",
       "              Number of DoH and other condoms (not red umbrella) distributed                                                                                               0.000000\n",
       "              Number of GF - Red Umbrella condoms distributed.                                                                                                             0.000000\n",
       "              Number of GF - Red Umbrella lube distributed.                                                                                                                0.000000\n",
       "              Number of risk reduction workshops                                                                                                                           3.000000\n",
       "              Number of sex workers attending risk reduction workshops                                                                                                    75.000000\n",
       "              Number of sex workers reached through outreach                                                                                                             600.000000\n",
       "              Number of sex workers referred for testing who are tested and know their result.                                                                            60.000000\n",
       "              Number of sex workers tested by Organisation (SR)                                                                                                            0.000000\n",
       "              Number of sex workers tested by the Organisation (SR) who tested positive for HIV                                                                            0.000000\n",
       "              Number of sexual violence victims completed PEP                                                                                                             90.533333\n",
       "              Number of sexual violence victims initiated on PEP                                                                                                          90.533333\n",
       "              Number of sexual violence victims not tested at TCC (refusing testing at TCC -known HIV positive)                                                           25.866667\n",
       "              Number of sexual violence victims who received services at the Thuthuzela Care Centres                                                                     129.333333\n",
       "Name: Target, dtype: float64"
      ]
     },
     "execution_count": 160,
     "metadata": {},
     "output_type": "execute_result"
    }
   ],
   "source": [
    "report_targets"
   ]
  },
  {
   "cell_type": "code",
   "execution_count": 89,
   "metadata": {
    "collapsed": false
   },
   "outputs": [
    {
     "data": {
      "text/plain": [
       "Index([u'cpc', u'humana', u'lljbh', u'nqobile', u'oasis', u'phru', u'qlac',\n",
       "       u'sweat', u'tbhiv', u'wrhi'],\n",
       "      dtype='object', name=u'subrecipient')"
      ]
     },
     "execution_count": 89,
     "metadata": {},
     "output_type": "execute_result"
    }
   ],
   "source": [
    "targets_json[1].index.levels[0] #['QAC']#['F1: Number of male Condoms distributed']"
   ]
  },
  {
   "cell_type": "code",
   "execution_count": 90,
   "metadata": {
    "collapsed": false
   },
   "outputs": [
    {
     "data": {
      "text/plain": [
       "Index([u'', u'cpc', u'durb', u'durban', u'feline nc', u'h', u'htt',\n",
       "       u'nna ndi nny', u'oasi', u'qac', u'qobil', u'tbhiv', u'weat', u'wrh',\n",
       "       u'zululand'],\n",
       "      dtype='object', name=u'Subrecipient')"
      ]
     },
     "execution_count": 90,
     "metadata": {},
     "output_type": "execute_result"
    }
   ],
   "source": [
    "report_targets.index.levels[0]"
   ]
  },
  {
   "cell_type": "code",
   "execution_count": 159,
   "metadata": {
    "collapsed": false
   },
   "outputs": [
    {
     "data": {
      "text/html": [
       "<div>\n",
       "<table border=\"1\" class=\"dataframe\">\n",
       "  <thead>\n",
       "    <tr style=\"text-align: right;\">\n",
       "      <th></th>\n",
       "      <th></th>\n",
       "      <th>0</th>\n",
       "    </tr>\n",
       "    <tr>\n",
       "      <th>subrecipient</th>\n",
       "      <th>field</th>\n",
       "      <th></th>\n",
       "    </tr>\n",
       "  </thead>\n",
       "  <tbody>\n",
       "  </tbody>\n",
       "</table>\n",
       "</div>"
      ],
      "text/plain": [
       "Empty DataFrame\n",
       "Columns: [0]\n",
       "Index: []"
      ]
     },
     "execution_count": 159,
     "metadata": {},
     "output_type": "execute_result"
    }
   ],
   "source": [
    "report_target_ratio=(report_targets / targets_json[1]).dropna()\n",
    "pd.DataFrame(report_target_ratio)"
   ]
  },
  {
   "cell_type": "code",
   "execution_count": null,
   "metadata": {
    "collapsed": true
   },
   "outputs": [],
   "source": []
  },
  {
   "cell_type": "code",
   "execution_count": null,
   "metadata": {
    "collapsed": true
   },
   "outputs": [],
   "source": []
  },
  {
   "cell_type": "markdown",
   "metadata": {},
   "source": [
    "<h1> Ambition </h1>"
   ]
  },
  {
   "cell_type": "code",
   "execution_count": 126,
   "metadata": {
    "collapsed": true
   },
   "outputs": [],
   "source": [
    "def plot_ambition(t, data, norm, title, val='val',split=1):\n",
    "    \n",
    "    index_num=t\n",
    "    ind=data.index.levels[0][index_num]\n",
    "    \n",
    "    #cmap = mpl.colors.ListedColormap(['red','yellow','green'])\n",
    "    #bounds=[0,0.01,0.98,1.02,1.5]\n",
    "    #norm = mpl.colors.BoundaryNorm(bounds, cmap.N+1)\n",
    "\n",
    "    #toplot=data[ind].replace(nan,0)\n",
    "    toplot = data.xs(ind,level=0)\n",
    "    #toplot=toplot.dropna()\n",
    "    if norm == 'mean':\n",
    "        toplot/=toplot.groupby(level=0).mean()\n",
    "    elif norm == 'sum':\n",
    "        toplot/=toplot.groupby(level=0).sum()\n",
    "    else:\n",
    "        toplot=toplot\n",
    "\n",
    "    result = toplot.reset_index().pivot(index='subrecipient', columns='field', values='val').replace(np.nan,0)\n",
    "    result.columns=[val.split('_')[split] for val in result.columns]\n",
    "    fig=figure()\n",
    "    fig.set_size_inches(20, 11)\n",
    "    sns.set_context(\"notebook\", font_scale=2, rc={\"lines.linewidth\": 2.5})\n",
    "    sns.heatmap(result, annot=True, fmt=\".2f\", cmap='viridis', label='big',\\\n",
    "                square=False,linewidths=0.1, cbar=False) #ListedColormap(['red','green', 'red']) #vmin=0,vmax=1.5\n",
    "    plt.title('{:s}\\n Date: {:s}'.format(title, str(ind)))\n",
    "    plt.show()"
   ]
  },
  {
   "cell_type": "code",
   "execution_count": 142,
   "metadata": {
    "collapsed": false
   },
   "outputs": [
    {
     "data": {
      "image/png": "[encoded data removed]",
      "text/plain": [
       "<matplotlib.figure.Figure at 0x2217fb250>"
      ]
     },
     "metadata": {},
     "output_type": "display_data"
    }
   ],
   "source": [
    "Field='ind_tar' #spe_bud, ind_tar #note... need to remove uind_tar\n",
    "toplot=processed_df.loc[processed_df['field'].str.contains(Field)].set_index(['Real_Date','field']) #Real_Date\n",
    "plot_ambition(t=2, data=toplot,norm='None', title=Field,split=2 )"
   ]
  },
  {
   "cell_type": "code",
   "execution_count": null,
   "metadata": {
    "collapsed": true
   },
   "outputs": [],
   "source": []
  }
 ],
 "metadata": {
  "kernelspec": {
   "display_name": "Python 2",
   "language": "python",
   "name": "python2"
  },
  "language_info": {
   "codemirror_mode": {
    "name": "ipython",
    "version": 2
   },
   "file_extension": ".py",
   "mimetype": "text/x-python",
   "name": "python",
   "nbconvert_exporter": "python",
   "pygments_lexer": "ipython2",
   "version": "2.7.13"
  }
 },
 "nbformat": 4,
 "nbformat_minor": 0
}
