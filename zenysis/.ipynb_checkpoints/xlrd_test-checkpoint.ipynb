{
 "cells": [
  {
   "cell_type": "code",
   "execution_count": 1,
   "metadata": {
    "collapsed": false
   },
   "outputs": [],
   "source": [
    "import csv\n",
    "import re\n",
    "\n",
    "from os import sys\n",
    "\n",
    "import xlrd\n",
    "import csv\n",
    "\n",
    "#from fields import VERBOSE_DATE_FIELD, ALT_DATE_FIELD\n",
    "\n",
    "#DATE_NAMES = [VERBOSE_DATE_FIELD, ALT_DATE_FIELD]\n",
    "DATE_NAMES = ['Outreach date', 'Date Seen']\n",
    "DATE_NAMES_LOWER = [val.lower() for val in DATE_NAMES]\n",
    "\n",
    "def clean_entry(entry):\n",
    "    return re.sub('\\s+', ' ', unicode(entry).encode('utf-8')) \\\n",
    "             .replace('\\n', '') \\\n",
    "             .replace('\\r', '') \\\n",
    "             .strip()\n",
    "\n",
    "def check_date_row_col(worksheet, topn=10):\n",
    "    '''Check for the (row, col) on which to start reading'''\n",
    "    check_date_start = sum([[(rownum, colnum) for colnum, val in enumerate([entry for entry in worksheet.row_values(rownum)]) if str(val).lower() in DATE_NAMES_LOWER] for rownum in xrange(topn)],[])\n",
    "    if len(check_date_start)==0:\n",
    "        return (0,0)\n",
    "    else:\n",
    "        return check_date_start[0]\n",
    "\n",
    "'''Leaving the birth date correction for now, will be easier to do this another way. Pandas can handle this'''\n",
    "def check_birth_col(worksheet, topn=10):\n",
    "    '''Check for the (row, col) on which to start reading'''\n",
    "    if topn > worksheet.nrows:\n",
    "        topn = worksheet.nrows\n",
    "    check_birth_date_col = sum([[colnum for colnum, val in enumerate([entry for entry in worksheet.row_values(rownum)]) if str(val).lower()=='date of birth'] for rownum in xrange(topn)],[])\n",
    "    if len(check_birth_date_col)==0:\n",
    "        return None\n",
    "    else:\n",
    "        return check_birth_date_col[0]\n",
    "            \n",
    "def csv_from_excel(excel_file):\n",
    "    print 'Processing %s' % excel_file\n",
    "    workbook = xlrd.open_workbook(excel_file)\n",
    "    all_worksheets = workbook.sheet_names()\n",
    "    for worksheet_name in all_worksheets:\n",
    "        # Export each sheet as a CSV file.\n",
    "        worksheet = workbook.sheet_by_name(worksheet_name)\n",
    "        filename = ''.join([excel_file.replace('.xlsx', '').strip(), \\\n",
    "                '_', worksheet_name, '.csv'])\n",
    "        csv_file = open(filename, 'wb')\n",
    "        wr = csv.writer(csv_file, quoting=csv.QUOTE_ALL)\n",
    "\n",
    "        start_row, start_col = check_date_row_col(worksheet)\n",
    "        print(start_row, start_col)\n",
    "        for rownum in xrange(start_row, worksheet.nrows):\n",
    "            try:\n",
    "                year, month, day, hour, minute, sec = xlrd.xldate_as_tuple(int(worksheet.row_values(rownum)[start_col]), workbook.datemode)\n",
    "                py_date = \"%02d-%02d-%04d\" % (month, day,year)\n",
    "                wr.writerow([py_date] + [clean_entry(entry) for entry in worksheet.row_values(rownum)[start_col+1:]])\n",
    "            except ValueError:\n",
    "                wr.writerow([clean_entry(entry) for entry in worksheet.row_values(rownum)]) \n",
    "        csv_file.close()\n",
    "    print '\\tWrote %d CSVs' % len(all_worksheets)"
   ]
  },
  {
   "cell_type": "code",
   "execution_count": 28,
   "metadata": {
    "collapsed": false
   },
   "outputs": [
    {
     "name": "stdout",
     "output_type": "stream",
     "text": [
      "Processing /Users/attiladobi/zenysis/pipeline/out/za/tmp/site_databases/20161215/TBHIV City of Cape Town Outreach Site database.xlsm\n",
      "(0, 0)\n",
      "07-13-2016\n",
      "\tWrote 1 CSVs\n"
     ]
    }
   ],
   "source": [
    "csv_from_excel('/Users/attiladobi/zenysis/pipeline/out/za/tmp/site_databases/20161215/TBHIV City of Cape Town Outreach Site database.xlsm')"
   ]
  },
  {
   "cell_type": "code",
   "execution_count": 18,
   "metadata": {
    "collapsed": false
   },
   "outputs": [],
   "source": [
    "def csv_from_excel(excel_file):\n",
    "    print 'Processing %s' % excel_file\n",
    "    workbook = xlrd.open_workbook(excel_file)\n",
    "    all_worksheets = workbook.sheet_names()\n",
    "    for worksheet_name in all_worksheets:\n",
    "        # Export each sheet as a CSV file.\n",
    "        worksheet = workbook.sheet_by_name(worksheet_name)\n",
    "        filename = ''.join([excel_file.replace('.xlsx', '').strip(), \\\n",
    "                '_', worksheet_name, '.csv'])\n",
    "        csv_file = open(filename, 'wb')\n",
    "        wr = csv.writer(csv_file, quoting=csv.QUOTE_ALL)\n",
    "\n",
    "        # Mostly starts at 0, more trouble than it's worth trying to find the start position\n",
    "        start_col = 0\n",
    "\n",
    "        for rownum in xrange(10):\n",
    "            try:\n",
    "                year, month, day, hour, minute, sec = xlrd.xldate_as_tuple(int(worksheet.row_values(rownum)[start_col]), workbook.datemode)\n",
    "                py_date = \"%02d-%02d-%04d\" % (month, day, year)\n",
    "                wr.writerow([py_date] + [clean_entry(entry) for entry in worksheet.row_values(rownum)[start_col+1:]])\n",
    "            except ValueError:\n",
    "                wr.writerow([clean_entry(entry) for entry in worksheet.row_values(rownum)])\n",
    "\n",
    "        csv_file.close()\n",
    "    print '\\tWrote %d CSVs' % len(all_worksheets)"
   ]
  },
  {
   "cell_type": "code",
   "execution_count": 2,
   "metadata": {
    "collapsed": false,
    "scrolled": true
   },
   "outputs": [
    {
     "name": "stdout",
     "output_type": "stream",
     "text": [
      "Processing /Users/attiladobi/zenysis/pipeline/out/za/tmp/site_databases/20161215/TBHIV City of Cape Town Outreach Site database.xlsm\n"
     ]
    },
    {
     "ename": "KeyboardInterrupt",
     "evalue": "",
     "output_type": "error",
     "traceback": [
      "\u001b[0;31m---------------------------------------------------------------------------\u001b[0m",
      "\u001b[0;31mKeyboardInterrupt\u001b[0m                         Traceback (most recent call last)",
      "\u001b[0;32m<ipython-input-2-cd03a97cc031>\u001b[0m in \u001b[0;36m<module>\u001b[0;34m()\u001b[0m\n\u001b[0;32m----> 1\u001b[0;31m \u001b[0mcsv_from_excel\u001b[0m\u001b[0;34m(\u001b[0m\u001b[0;34m'/Users/attiladobi/zenysis/pipeline/out/za/tmp/site_databases/20161215/TBHIV City of Cape Town Outreach Site database.xlsm'\u001b[0m\u001b[0;34m)\u001b[0m\u001b[0;34m\u001b[0m\u001b[0m\n\u001b[0m",
      "\u001b[0;32m<ipython-input-1-bd99f8f77520>\u001b[0m in \u001b[0;36mcsv_from_excel\u001b[0;34m(excel_file)\u001b[0m\n\u001b[1;32m     36\u001b[0m \u001b[0;32mdef\u001b[0m \u001b[0mcsv_from_excel\u001b[0m\u001b[0;34m(\u001b[0m\u001b[0mexcel_file\u001b[0m\u001b[0;34m)\u001b[0m\u001b[0;34m:\u001b[0m\u001b[0;34m\u001b[0m\u001b[0m\n\u001b[1;32m     37\u001b[0m     \u001b[0;32mprint\u001b[0m \u001b[0;34m'Processing %s'\u001b[0m \u001b[0;34m%\u001b[0m \u001b[0mexcel_file\u001b[0m\u001b[0;34m\u001b[0m\u001b[0m\n\u001b[0;32m---> 38\u001b[0;31m     \u001b[0mworkbook\u001b[0m \u001b[0;34m=\u001b[0m \u001b[0mxlrd\u001b[0m\u001b[0;34m.\u001b[0m\u001b[0mopen_workbook\u001b[0m\u001b[0;34m(\u001b[0m\u001b[0mexcel_file\u001b[0m\u001b[0;34m)\u001b[0m\u001b[0;34m\u001b[0m\u001b[0m\n\u001b[0m\u001b[1;32m     39\u001b[0m     \u001b[0mall_worksheets\u001b[0m \u001b[0;34m=\u001b[0m \u001b[0mworkbook\u001b[0m\u001b[0;34m.\u001b[0m\u001b[0msheet_names\u001b[0m\u001b[0;34m(\u001b[0m\u001b[0;34m)\u001b[0m\u001b[0;34m\u001b[0m\u001b[0m\n\u001b[1;32m     40\u001b[0m     \u001b[0;32mfor\u001b[0m \u001b[0mworksheet_name\u001b[0m \u001b[0;32min\u001b[0m \u001b[0mall_worksheets\u001b[0m\u001b[0;34m:\u001b[0m\u001b[0;34m\u001b[0m\u001b[0m\n",
      "\u001b[0;32m/Users/attiladobi/anaconda2/lib/python2.7/site-packages/xlrd/__init__.pyc\u001b[0m in \u001b[0;36mopen_workbook\u001b[0;34m(filename, logfile, verbosity, use_mmap, file_contents, encoding_override, formatting_info, on_demand, ragged_rows)\u001b[0m\n\u001b[1;32m    420\u001b[0m                 \u001b[0mformatting_info\u001b[0m\u001b[0;34m=\u001b[0m\u001b[0mformatting_info\u001b[0m\u001b[0;34m,\u001b[0m\u001b[0;34m\u001b[0m\u001b[0m\n\u001b[1;32m    421\u001b[0m                 \u001b[0mon_demand\u001b[0m\u001b[0;34m=\u001b[0m\u001b[0mon_demand\u001b[0m\u001b[0;34m,\u001b[0m\u001b[0;34m\u001b[0m\u001b[0m\n\u001b[0;32m--> 422\u001b[0;31m                 \u001b[0mragged_rows\u001b[0m\u001b[0;34m=\u001b[0m\u001b[0mragged_rows\u001b[0m\u001b[0;34m,\u001b[0m\u001b[0;34m\u001b[0m\u001b[0m\n\u001b[0m\u001b[1;32m    423\u001b[0m                 )\n\u001b[1;32m    424\u001b[0m             \u001b[0;32mreturn\u001b[0m \u001b[0mbk\u001b[0m\u001b[0;34m\u001b[0m\u001b[0m\n",
      "\u001b[0;32m/Users/attiladobi/anaconda2/lib/python2.7/site-packages/xlrd/xlsx.pyc\u001b[0m in \u001b[0;36mopen_workbook_2007_xml\u001b[0;34m(zf, component_names, logfile, verbosity, use_mmap, formatting_info, on_demand, ragged_rows)\u001b[0m\n\u001b[1;32m    792\u001b[0m         \u001b[0mx12sheet\u001b[0m \u001b[0;34m=\u001b[0m \u001b[0mX12Sheet\u001b[0m\u001b[0;34m(\u001b[0m\u001b[0msheet\u001b[0m\u001b[0;34m,\u001b[0m \u001b[0mlogfile\u001b[0m\u001b[0;34m,\u001b[0m \u001b[0mverbosity\u001b[0m\u001b[0;34m)\u001b[0m\u001b[0;34m\u001b[0m\u001b[0m\n\u001b[1;32m    793\u001b[0m         \u001b[0mheading\u001b[0m \u001b[0;34m=\u001b[0m \u001b[0;34m\"Sheet %r (sheetx=%d) from %r\"\u001b[0m \u001b[0;34m%\u001b[0m \u001b[0;34m(\u001b[0m\u001b[0msheet\u001b[0m\u001b[0;34m.\u001b[0m\u001b[0mname\u001b[0m\u001b[0;34m,\u001b[0m \u001b[0msheetx\u001b[0m\u001b[0;34m,\u001b[0m \u001b[0mfname\u001b[0m\u001b[0;34m)\u001b[0m\u001b[0;34m\u001b[0m\u001b[0m\n\u001b[0;32m--> 794\u001b[0;31m         \u001b[0mx12sheet\u001b[0m\u001b[0;34m.\u001b[0m\u001b[0mprocess_stream\u001b[0m\u001b[0;34m(\u001b[0m\u001b[0mzflo\u001b[0m\u001b[0;34m,\u001b[0m \u001b[0mheading\u001b[0m\u001b[0;34m)\u001b[0m\u001b[0;34m\u001b[0m\u001b[0m\n\u001b[0m\u001b[1;32m    795\u001b[0m         \u001b[0;32mdel\u001b[0m \u001b[0mzflo\u001b[0m\u001b[0;34m\u001b[0m\u001b[0m\n\u001b[1;32m    796\u001b[0m         \u001b[0mcomments_fname\u001b[0m \u001b[0;34m=\u001b[0m \u001b[0;34m'xl/comments%d.xml'\u001b[0m \u001b[0;34m%\u001b[0m \u001b[0;34m(\u001b[0m\u001b[0msheetx\u001b[0m \u001b[0;34m+\u001b[0m \u001b[0;36m1\u001b[0m\u001b[0;34m)\u001b[0m\u001b[0;34m\u001b[0m\u001b[0m\n",
      "\u001b[0;32m/Users/attiladobi/anaconda2/lib/python2.7/site-packages/xlrd/xlsx.pyc\u001b[0m in \u001b[0;36mown_process_stream\u001b[0;34m(self, stream, heading)\u001b[0m\n\u001b[1;32m    531\u001b[0m                 \u001b[0mself_do_row\u001b[0m\u001b[0;34m(\u001b[0m\u001b[0melem\u001b[0m\u001b[0;34m)\u001b[0m\u001b[0;34m\u001b[0m\u001b[0m\n\u001b[1;32m    532\u001b[0m                 \u001b[0melem\u001b[0m\u001b[0;34m.\u001b[0m\u001b[0mclear\u001b[0m\u001b[0;34m(\u001b[0m\u001b[0;34m)\u001b[0m \u001b[0;31m# destroy all child elements (cells)\u001b[0m\u001b[0;34m\u001b[0m\u001b[0m\n\u001b[0;32m--> 533\u001b[0;31m             \u001b[0;32melif\u001b[0m \u001b[0melem\u001b[0m\u001b[0;34m.\u001b[0m\u001b[0mtag\u001b[0m \u001b[0;34m==\u001b[0m \u001b[0mU_SSML12\u001b[0m \u001b[0;34m+\u001b[0m \u001b[0;34m\"dimension\"\u001b[0m\u001b[0;34m:\u001b[0m\u001b[0;34m\u001b[0m\u001b[0m\n\u001b[0m\u001b[1;32m    534\u001b[0m                 \u001b[0mself\u001b[0m\u001b[0;34m.\u001b[0m\u001b[0mdo_dimension\u001b[0m\u001b[0;34m(\u001b[0m\u001b[0melem\u001b[0m\u001b[0;34m)\u001b[0m\u001b[0;34m\u001b[0m\u001b[0m\n\u001b[1;32m    535\u001b[0m             \u001b[0;32melif\u001b[0m \u001b[0melem\u001b[0m\u001b[0;34m.\u001b[0m\u001b[0mtag\u001b[0m \u001b[0;34m==\u001b[0m \u001b[0mU_SSML12\u001b[0m \u001b[0;34m+\u001b[0m \u001b[0;34m\"mergeCell\"\u001b[0m\u001b[0;34m:\u001b[0m\u001b[0;34m\u001b[0m\u001b[0m\n",
      "\u001b[0;31mKeyboardInterrupt\u001b[0m: "
     ]
    }
   ],
   "source": [
    "csv_from_excel('/Users/attiladobi/zenysis/pipeline/out/za/tmp/site_databases/20161215/TBHIV City of Cape Town Outreach Site database.xlsm')"
   ]
  },
  {
   "cell_type": "code",
   "execution_count": null,
   "metadata": {
    "collapsed": true
   },
   "outputs": [],
   "source": []
  },
  {
   "cell_type": "code",
   "execution_count": null,
   "metadata": {
    "collapsed": true
   },
   "outputs": [],
   "source": []
  },
  {
   "cell_type": "code",
   "execution_count": 2,
   "metadata": {
    "collapsed": true
   },
   "outputs": [],
   "source": [
    "excel_file='/Users/attiladobi/zenysis/pipeline/out/za/tmp/site_databases/20161219/CPC\\ Germiston\\ Site\\ Database_Quater\\ 2.xlsx'\n",
    "excel_file = '/Users/attiladobi/zenysis/pipeline/out/za/tmp/site_databases/20161219/WRHI HILLBROW Q2 Site database.xlsx'"
   ]
  },
  {
   "cell_type": "code",
   "execution_count": 10,
   "metadata": {
    "collapsed": false
   },
   "outputs": [
    {
     "data": {
      "text/plain": [
       "'xlsx'"
      ]
     },
     "execution_count": 10,
     "metadata": {},
     "output_type": "execute_result"
    }
   ],
   "source": [
    "excel_file.split('.')[-1]"
   ]
  },
  {
   "cell_type": "code",
   "execution_count": 3,
   "metadata": {
    "collapsed": false
   },
   "outputs": [],
   "source": [
    "workbook = xlrd.open_workbook(excel_file)\n",
    "all_worksheets = workbook.sheet_names()"
   ]
  },
  {
   "cell_type": "code",
   "execution_count": 7,
   "metadata": {
    "collapsed": false
   },
   "outputs": [],
   "source": [
    "worksheet_name = all_worksheets[3]\n",
    "worksheet = workbook.sheet_by_name(worksheet_name)"
   ]
  },
  {
   "cell_type": "code",
   "execution_count": 8,
   "metadata": {
    "collapsed": false
   },
   "outputs": [
    {
     "data": {
      "text/plain": [
       "<xlrd.sheet.Sheet at 0x104100ed0>"
      ]
     },
     "execution_count": 8,
     "metadata": {},
     "output_type": "execute_result"
    }
   ],
   "source": [
    "worksheet"
   ]
  },
  {
   "cell_type": "code",
   "execution_count": 9,
   "metadata": {
    "collapsed": false
   },
   "outputs": [
    {
     "data": {
      "text/plain": [
       "21499"
      ]
     },
     "execution_count": 9,
     "metadata": {},
     "output_type": "execute_result"
    }
   ],
   "source": [
    "worksheet.nrows"
   ]
  },
  {
   "cell_type": "code",
   "execution_count": 23,
   "metadata": {
    "collapsed": false
   },
   "outputs": [
    {
     "name": "stdout",
     "output_type": "stream",
     "text": [
      "[u'Date Seen', u'Initials', u'Date of Birth', u'Age', u'Gender ', u'Population (S,A,C,P,I,M,G)', u'Team', u'Known HIV Positive', u'Unknown status HCT', u'HIV Results (HCT unknown and confirmatory of known HIV+ not in care)', u'PIMA CD4 Count', u'ID', u'Duplicates', u'Repeat tests (Once neg)', u'Unknown status HCT crit', u'HIV Results (HCT unknown and confirmatory of known HIV+ not in care) crit', u'Duplicates crit', u'Sub District', '', '', '', '', '', '', '', '', '']\n",
      "[42562.0, u'FF', 32242.0, 28.0, u'F', u'S', 3.0, '', u'yes', u'Neg', u'N/A', u'FF090488', 0.0, 0.0, u'yes', u'neg', 1.0, '', '', '', '', '', '', '', '', '', '']\n",
      "[42563.0, u'SB', 30683.0, 32.0, u'M', u'S', 3.0, '', u'yes', u'Neg', u'N/A', u'SB020184', 0.0, 0.0, '', '', '', '', u'', u'', u'', u'', u'', u'', u'', u'', '']\n",
      "[42564.0, u'JA', 29234.0, 36.0, u'F', u'S', 3.0, '', u'yes', u'Neg', u'N/A', u'JA140180', 0.0, 0.0, '', '', '', '', u'', u'', u'', u'', u'', u'', u'', u'', '']\n",
      "[42564.0, u'JF', 32846.0, 26.0, u'F', u'S', 3.0, '', u'yes', u'Neg', u'N/A', u'JF041289', 0.0, 0.0, '', '', '', '', '', '', '', '', '', '', '', '', '']\n",
      "[42564.0, u'NJ', 31278.0, 30.0, u'F', u'S', 3.0, '', u'yes', u'Neg', u'N/A', u'NJ190885', 0.0, 0.0, '', '', '', '', '', '', '', '', '', '', '', '', '']\n",
      "[42564.0, u'BO', 31331.0, 30.0, u'F', u'S', 3.0, '', u'yes', u'Neg', u'N/A', u'BO111085', 0.0, 0.0, '', '', '', '', '', '', '', '', '', '', '', '', '']\n",
      "[42564.0, u'ZJ', 29682.0, 35.0, u'F', u'S', 3.0, '', u'yes', u'Neg', u'N/A', u'ZJ060481', 0.0, 0.0, '', '', '', '', '', '', '', '', '', '', '', '', '']\n",
      "[42564.0, u'AH', 26726.0, 43.0, u'F', u'S', 3.0, '', u'yes', u'Neg', u'N/A', u'AH030373', 0.0, 0.0, '', '', '', '', '', '', '', '', '', '', '', '', '']\n",
      "[42564.0, u'AH', 28942.0, 37.0, u'F', u'S', 3.0, '', u'yes', u'Neg', u'N/A', u'AH280379', 0.0, 0.0, '', '', '', '', '', '', '', '', '', '', '', '', '']\n"
     ]
    }
   ],
   "source": [
    "for rownum in xrange(10):\n",
    "    print [entry for entry in worksheet.row_values(rownum)]"
   ]
  },
  {
   "cell_type": "code",
   "execution_count": 33,
   "metadata": {
    "collapsed": false
   },
   "outputs": [
    {
     "name": "stdout",
     "output_type": "stream",
     "text": [
      "['07-11-2016', u'FF', 32242.0, 28.0, u'F', u'S', 3.0, '', u'yes', u'Neg', u'N/A', u'FF090488', 0.0, 0.0, u'yes', u'neg', 1.0, '', '', '', '', '', '', '', '', '', '']\n",
      "['07-12-2016', u'SB', 30683.0, 32.0, u'M', u'S', 3.0, '', u'yes', u'Neg', u'N/A', u'SB020184', 0.0, 0.0, '', '', '', '', u'', u'', u'', u'', u'', u'', u'', u'', '']\n",
      "['07-13-2016', u'JA', 29234.0, 36.0, u'F', u'S', 3.0, '', u'yes', u'Neg', u'N/A', u'JA140180', 0.0, 0.0, '', '', '', '', u'', u'', u'', u'', u'', u'', u'', u'', '']\n",
      "['07-13-2016', u'JF', 32846.0, 26.0, u'F', u'S', 3.0, '', u'yes', u'Neg', u'N/A', u'JF041289', 0.0, 0.0, '', '', '', '', '', '', '', '', '', '', '', '', '']\n",
      "['07-13-2016', u'NJ', 31278.0, 30.0, u'F', u'S', 3.0, '', u'yes', u'Neg', u'N/A', u'NJ190885', 0.0, 0.0, '', '', '', '', '', '', '', '', '', '', '', '', '']\n",
      "['07-13-2016', u'BO', 31331.0, 30.0, u'F', u'S', 3.0, '', u'yes', u'Neg', u'N/A', u'BO111085', 0.0, 0.0, '', '', '', '', '', '', '', '', '', '', '', '', '']\n",
      "['07-13-2016', u'ZJ', 29682.0, 35.0, u'F', u'S', 3.0, '', u'yes', u'Neg', u'N/A', u'ZJ060481', 0.0, 0.0, '', '', '', '', '', '', '', '', '', '', '', '', '']\n",
      "['07-13-2016', u'AH', 26726.0, 43.0, u'F', u'S', 3.0, '', u'yes', u'Neg', u'N/A', u'AH030373', 0.0, 0.0, '', '', '', '', '', '', '', '', '', '', '', '', '']\n",
      "['07-13-2016', u'AH', 28942.0, 37.0, u'F', u'S', 3.0, '', u'yes', u'Neg', u'N/A', u'AH280379', 0.0, 0.0, '', '', '', '', '', '', '', '', '', '', '', '', '']\n"
     ]
    }
   ],
   "source": [
    "for rownum in xrange(10):\n",
    "    try:\n",
    "        result = xlrd.xldate_as_tuple(int(worksheet.row_values(rownum)[0]), workbook.datemode)\n",
    "        year, month, day = result[:3]\n",
    "        py_date = \"%02d-%02d-%04d\" % (month, day,year)\n",
    "        print [py_date] + worksheet.row_values(rownum)[1:]\n",
    "    except ValueError:\n",
    "        pass"
   ]
  },
  {
   "cell_type": "code",
   "execution_count": 57,
   "metadata": {
    "collapsed": false
   },
   "outputs": [],
   "source": [
    "DATE_NAMES = ['Outrech date', 'Date Seen']\n",
    "DATE_NAMES_LOWER = [val.lower() for val in DATE_NAMES]\n"
   ]
  },
  {
   "cell_type": "code",
   "execution_count": 32,
   "metadata": {
    "collapsed": false
   },
   "outputs": [
    {
     "data": {
      "text/plain": [
       "(2016, 7, 13)"
      ]
     },
     "execution_count": 32,
     "metadata": {},
     "output_type": "execute_result"
    }
   ],
   "source": [
    "result[:3]"
   ]
  },
  {
   "cell_type": "code",
   "execution_count": 39,
   "metadata": {
    "collapsed": false
   },
   "outputs": [
    {
     "name": "stdout",
     "output_type": "stream",
     "text": [
      "‼\n"
     ]
    }
   ],
   "source": [
    "print u'‼'"
   ]
  },
  {
   "cell_type": "markdown",
   "metadata": {},
   "source": [
    "<h1> Test reading csv </h1>"
   ]
  },
  {
   "cell_type": "code",
   "execution_count": 2,
   "metadata": {
    "collapsed": true
   },
   "outputs": [],
   "source": [
    "#input_file = '/Users/attiladobi/zenysis/pipeline/out/za/tmp/site_databases/20161219/preprocessed/TBHIV City of Cape Town Outreach Site database.xlsm_Total screens.csv.trimmed'\n",
    "#input_file = '/Users/attiladobi/zenysis/pipeline/out/za/tmp/site_databases/20161219/preprocessed/CPC Germiston Site Database_Quater 2.csv.trimmed'\n",
    "input_file = '/Users/attiladobi/zenysis/pipeline/out/za/tmp/site_databases/20161220/preprocessed/TBHIV City of Cape Town HTS Site Database .xlsm_Sex Workers.csv.trimmed'"
   ]
  },
  {
   "cell_type": "code",
   "execution_count": 5,
   "metadata": {
    "collapsed": false
   },
   "outputs": [
    {
     "name": "stdout",
     "output_type": "stream",
     "text": [
      "set(['', 'Pos to Neg', 'Human Rights Reported?', 'Count+', 'Condom demo and distribution', 'Date of Birth', 'Mobile screen', 'Date Seen', 'Health talk >5 min', 'Gender', 'Age', 'Counter', 'Repeats for period', 'ChangeStatus', 'Team', 'ID', 'Initials', 'Substance/GBV', 'Duplicates', 'Population (S,A,C,P,I,M,G)', 'Repeat tests (Once neg)', 'Unique Repeats', 'ChkOnceNeg'])\n"
     ]
    }
   ],
   "source": [
    "with open(input_file, 'r') as in_csv:\n",
    "    preprocess_file(in_csv)\n",
    "    rows = csv.DictReader(in_csv)\n",
    "    input_fieldnames = set(rows.fieldnames)\n",
    "    print input_fieldnames\n",
    "    for row in rows:\n",
    "        if 'Outreach date' in row:\n",
    "            print 'yes'"
   ]
  },
  {
   "cell_type": "code",
   "execution_count": 18,
   "metadata": {
    "collapsed": false
   },
   "outputs": [
    {
     "name": "stdout",
     "output_type": "stream",
     "text": [
      "['Date Seen', 'Initials', 'Date of Birth', 'Age', 'Gender', 'Population (S,A,C,P,I,M,G)', 'Team', 'Condom demo and distribution', 'Health talk >5 min', 'Substance/GBV', 'Mobile screen', 'Human Rights Reported?', 'ID', 'Duplicates', 'Repeat tests (Once neg)', 'Counter', 'Count+', 'ChangeStatus', 'Pos to Neg', 'Repeats for period', 'Unique Repeats', 'ChkOnceNeg', '', '', '', '', '', '', '', '', '', '', '', '', '', '', '', '', '']\n",
      "08-10-2016\n",
      "a280786\n",
      "09-09-2016\n",
      "aa140992\n",
      "08-17-2016\n",
      "aa261180\n",
      "09-12-2016\n",
      "ab030397\n",
      "09-08-2016\n",
      "ab080984\n"
     ]
    }
   ],
   "source": [
    "def find_field(row, strings_to_match):\n",
    "    for string_to_match in strings_to_match:\n",
    "        for key in row.keys():\n",
    "            if string_to_match.lower() in key.lower():\n",
    "                return row[key].strip()\n",
    "    return ''\n",
    "\n",
    "def preprocess_file(in_csv):\n",
    "    bytes_seen = 0\n",
    "    head_found = False\n",
    "    line_num = 0\n",
    "    for line in in_csv:\n",
    "        if line.find('Outreach date') > -1 or line.find('Date Seen') > -1\\\n",
    "        or line.find('YEAR AND MONTH OF OUTREACH') > -1:\n",
    "            # We've fast-forwarded the file to the true CSV header.\n",
    "            # So we thought, but these spreadsheets are curel\n",
    "            # Must traverse to find potential repeats\n",
    "            bytes_to_head = bytes_seen\n",
    "            head_found = True\n",
    "        bytes_seen += len(line)\n",
    "        line_num += 1\n",
    "        if line_num > 50:\n",
    "            break\n",
    "    \n",
    "    if head_found:\n",
    "        return in_csv.seek(bytes_to_head)\n",
    "    self.errors['could not find csv header'] += 1\n",
    "\n",
    "def try_process_row(row):\n",
    "    raise NotImplementedError('Your subclass should implement try_process_row')\n",
    "    \n",
    "with open(input_file, 'r') as in_csv:\n",
    "    preprocess_file(in_csv)\n",
    "    rows = csv.DictReader(in_csv)\n",
    "    # .fieldnames maintains the order, set destroys it. \n",
    "    # No need to make a set. The order comes in handy for guuessing the date column.\n",
    "    input_fieldnames = rows.fieldnames\n",
    "    print input_fieldnames\n",
    "    i=1\n",
    "    for row in rows:\n",
    "        za_row = row\n",
    "        if 'Date Seen' in row:\n",
    "            print za_row['Date Seen']\n",
    "            print find_field(row, ['Unique ID','ID']).lower()\n",
    "        i+=1\n",
    "        if i > 5:\n",
    "            break\n",
    "        "
   ]
  },
  {
   "cell_type": "code",
   "execution_count": null,
   "metadata": {
    "collapsed": true
   },
   "outputs": [],
   "source": []
  }
 ],
 "metadata": {
  "kernelspec": {
   "display_name": "Python 2",
   "language": "python",
   "name": "python2"
  },
  "language_info": {
   "codemirror_mode": {
    "name": "ipython",
    "version": 2
   },
   "file_extension": ".py",
   "mimetype": "text/x-python",
   "name": "python",
   "nbconvert_exporter": "python",
   "pygments_lexer": "ipython2",
   "version": "2.7.9"
  }
 },
 "nbformat": 4,
 "nbformat_minor": 0
}
