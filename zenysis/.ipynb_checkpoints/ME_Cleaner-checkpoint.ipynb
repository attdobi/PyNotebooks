{
 "cells": [
  {
   "cell_type": "code",
   "execution_count": 4,
   "metadata": {
    "collapsed": false
   },
   "outputs": [
    {
     "name": "stdout",
     "output_type": "stream",
     "text": [
      "Populating the interactive namespace from numpy and matplotlib\n"
     ]
    }
   ],
   "source": [
    "from __future__ import division\n",
    "import numpy as np\n",
    "import pandas as pd\n",
    "import os\n",
    "from glob import glob\n",
    "import seaborn as sns\n",
    "from matplotlib.colors import ListedColormap\n",
    "%pylab inline\n",
    "pylab.rcParams['figure.figsize'] = (12.0, 6.0) # set size of figures\"\n",
    "plt.rcParams.update({'font.size': 24})\n",
    "pd.options.display.max_rows=50\n",
    "import re\n",
    "import json\n",
    "import ast\n",
    "\n",
    "from gensim.models import Doc2Vec\n",
    "from gensim.models.doc2vec import LabeledSentence, TaggedDocument\n",
    "from gensim import corpora, models, similarities"
   ]
  },
  {
   "cell_type": "code",
   "execution_count": 14,
   "metadata": {
    "collapsed": false
   },
   "outputs": [],
   "source": [
    "def find_sheet_name(target_text,sheet_names):\n",
    "    '''Return a list of sheet names containing a specific string'''\n",
    "    return [name for name in sheet_names if target_text.lower() in name.lower()]\n",
    "def find_column_name(target,columns):\n",
    "    return [name for name in columns if target.lower() in name.lower()]\n",
    "def pq_lookup(date):\n",
    "    '''retun period, quarter given a date (year,month,day)'''\n",
    "    #3 month index to period quarter\n",
    "    quarter_map={1:(1,1),2:(1,2),3:(2,3),4:(2,4),5:(3,1),6:(3,2),7:(4,3),8:(4,4),9:(5,1),10:(5,2),11:(6,3),12:(6,4)}\n",
    "    qnum=1+int((date.month-pd.datetime(2016,4,1).month)/3)\n",
    "    p,q=quarter_map[qnum]\n",
    "    return p,q\n",
    "\n",
    "def save_dict_as_json(filename, mapping):\n",
    "    '''Save dict as json object'''\n",
    "    with open(filename, 'w') as outfile:\n",
    "        json.dump(mapping, outfile, indent=4, sort_keys=True, separators=(',', ':'))\n",
    "\n",
    "def load_dict_from_json(filepath):\n",
    "    '''given file path to json mapping return a dict'''\n",
    "    with open(filepath) as data_file:    \n",
    "        return json.load(data_file)"
   ]
  },
  {
   "cell_type": "markdown",
   "metadata": {},
   "source": [
    "<h1> Build DF from all quarter 1 reports </h1>"
   ]
  },
  {
   "cell_type": "code",
   "execution_count": 15,
   "metadata": {
    "collapsed": true
   },
   "outputs": [],
   "source": [
    "Q1base='/Users/attiladobi/nacosa/New SW Finance Data (Oct 2016)/April to June/'\n",
    "Q1_reports=[Q1base+fname for fname in os.listdir(Q1base) if 'xlsx' in fname]\n",
    "\n",
    "year=2016\n",
    "q1_months=[4,5,6]\n",
    "df_list=[]\n",
    "\n",
    "for q1_report in Q1_reports:\n",
    "    #get SR name from file path\n",
    "    SR=q1_report.split('/')[-1].split(' Finance')[0]\n",
    "    #read in the reports for q1\n",
    "    try:\n",
    "        xlsx_obj=pd.ExcelFile(q1_report)\n",
    "    except IOError:\n",
    "        print 'no such file'\n",
    "    #read in relavent sheet name\n",
    "    sheet_names=xlsx_obj.sheet_names\n",
    "    sheet_name=find_sheet_name('payment recommendation',sheet_names)[0]\n",
    "    #find the column that contains \"indicator\"\n",
    "    col_name=find_column_name('indicator',xlsx_obj.parse(sheetname=sheet_name,parse_cols=12,skiprows=7, nrows=1).columns)\n",
    "    df=xlsx_obj.parse(sheetname=sheet_name,parse_cols=12,skiprows=7).dropna(subset=col_name) #drop from 1st nan entry\n",
    "    df=df.rename(columns={col_name[0]:'Indicator'})\n",
    "    to_drop=find_column_name('Unnamed',df.columns) #find all unnamed columns\n",
    "    df=df.drop(to_drop,1) #drop all unnamed columns\n",
    "    df=df[df['Indicator'].str.contains('Number',na=False)] #only keep rows where the indicator is a counts of something\n",
    "    \n",
    "    column_heads=['','.1','.2'] #.3 represents the quarterly total along with % of target hit\n",
    "    \n",
    "    for month, col_head in zip(q1_months,column_heads):\n",
    "        date=pd.datetime(year,month,1)\n",
    "        p,q= pq_lookup(date)\n",
    "\n",
    "        sub_df=df[['Indicator','TARGET  '+col_head,'ACTUAL     '+col_head]][1:].replace(nan,0)\n",
    "        sub_df.columns=['Indicator','Target','Actual'] #normalize naming convention\n",
    "        if SR=='Oasis':\n",
    "            SR='OASIS'\n",
    "        if SR == 'Nqobile Women':\n",
    "            SR='NQOBILE'\n",
    "        if SR == 'THCA':\n",
    "            SR ='TBHIV'\n",
    "        sub_df['Subrecipient']=SR\n",
    "        sub_df['Date']=date\n",
    "        sub_df['Period']=p\n",
    "        sub_df['Quarter']=q\n",
    "        df_list.append(sub_df)\n",
    "DF=pd.concat(df_list)"
   ]
  },
  {
   "cell_type": "code",
   "execution_count": 4,
   "metadata": {
    "collapsed": false
   },
   "outputs": [
    {
     "data": {
      "text/html": [
       "<div>\n",
       "<table border=\"1\" class=\"dataframe\">\n",
       "  <thead>\n",
       "    <tr style=\"text-align: right;\">\n",
       "      <th></th>\n",
       "      <th></th>\n",
       "      <th>Target</th>\n",
       "      <th>Actual</th>\n",
       "      <th>Period</th>\n",
       "      <th>Quarter</th>\n",
       "    </tr>\n",
       "    <tr>\n",
       "      <th>Subrecipient</th>\n",
       "      <th>Indicator</th>\n",
       "      <th></th>\n",
       "      <th></th>\n",
       "      <th></th>\n",
       "      <th></th>\n",
       "    </tr>\n",
       "  </thead>\n",
       "  <tbody>\n",
       "    <tr>\n",
       "      <th rowspan=\"2\" valign=\"top\">CPC</th>\n",
       "      <th>B4a: Number of newly diagnosed HIV positive SWs referred for ART</th>\n",
       "      <td>0.0</td>\n",
       "      <td>0.0</td>\n",
       "      <td>3</td>\n",
       "      <td>3</td>\n",
       "    </tr>\n",
       "    <tr>\n",
       "      <th>B4b: Number of newly diagnosed HIV positive SWs initiated on ART</th>\n",
       "      <td>0.0</td>\n",
       "      <td>62.0</td>\n",
       "      <td>3</td>\n",
       "      <td>3</td>\n",
       "    </tr>\n",
       "    <tr>\n",
       "      <th rowspan=\"2\" valign=\"top\">NQOBILE</th>\n",
       "      <th>B4a: Number of newly diagnosed HIV positive SWs referred for ART</th>\n",
       "      <td>0.0</td>\n",
       "      <td>0.0</td>\n",
       "      <td>3</td>\n",
       "      <td>3</td>\n",
       "    </tr>\n",
       "    <tr>\n",
       "      <th>B4b: Number of newly diagnosed HIV positive SWs initiated on  ART</th>\n",
       "      <td>0.0</td>\n",
       "      <td>0.0</td>\n",
       "      <td>3</td>\n",
       "      <td>3</td>\n",
       "    </tr>\n",
       "    <tr>\n",
       "      <th rowspan=\"2\" valign=\"top\">OASIS</th>\n",
       "      <th>B4a: Number of newly diagnosed HIV positive SWs referred for ART</th>\n",
       "      <td>0.0</td>\n",
       "      <td>1.0</td>\n",
       "      <td>3</td>\n",
       "      <td>3</td>\n",
       "    </tr>\n",
       "    <tr>\n",
       "      <th>B4b: Number of newly diagnosed HIV positive SWs initiated on ART</th>\n",
       "      <td>0.0</td>\n",
       "      <td>0.0</td>\n",
       "      <td>3</td>\n",
       "      <td>3</td>\n",
       "    </tr>\n",
       "    <tr>\n",
       "      <th rowspan=\"2\" valign=\"top\">PHRU</th>\n",
       "      <th>B4a: Number of newly diagnosed HIV positive SWs referred for ART</th>\n",
       "      <td>0.0</td>\n",
       "      <td>14.0</td>\n",
       "      <td>3</td>\n",
       "      <td>3</td>\n",
       "    </tr>\n",
       "    <tr>\n",
       "      <th>B4b: Number of newly diagnosed HIV positive SWs initiated on ART</th>\n",
       "      <td>0.0</td>\n",
       "      <td>8.0</td>\n",
       "      <td>3</td>\n",
       "      <td>3</td>\n",
       "    </tr>\n",
       "    <tr>\n",
       "      <th rowspan=\"2\" valign=\"top\">QAC</th>\n",
       "      <th>B4a: Number of newly diagnosed HIV positive SWs referred for ART</th>\n",
       "      <td>0.0</td>\n",
       "      <td>0.0</td>\n",
       "      <td>3</td>\n",
       "      <td>3</td>\n",
       "    </tr>\n",
       "    <tr>\n",
       "      <th>B4b: Number of newly diagnosed HIV positive SWs initiated on ART</th>\n",
       "      <td>0.0</td>\n",
       "      <td>0.0</td>\n",
       "      <td>3</td>\n",
       "      <td>3</td>\n",
       "    </tr>\n",
       "    <tr>\n",
       "      <th rowspan=\"2\" valign=\"top\">SWEAT</th>\n",
       "      <th>B4a: Number of newly diagnosed HIV positive SWs referred for ART</th>\n",
       "      <td>0.0</td>\n",
       "      <td>0.0</td>\n",
       "      <td>3</td>\n",
       "      <td>3</td>\n",
       "    </tr>\n",
       "    <tr>\n",
       "      <th>B4b: Number of newly diagnosed HIV positive SWs initiated on ART</th>\n",
       "      <td>0.0</td>\n",
       "      <td>0.0</td>\n",
       "      <td>3</td>\n",
       "      <td>3</td>\n",
       "    </tr>\n",
       "    <tr>\n",
       "      <th rowspan=\"2\" valign=\"top\">TBHIV</th>\n",
       "      <th>B4a: Number of newly diagnosed HIV positive SWs referred for ART</th>\n",
       "      <td>0.0</td>\n",
       "      <td>0.0</td>\n",
       "      <td>3</td>\n",
       "      <td>3</td>\n",
       "    </tr>\n",
       "    <tr>\n",
       "      <th>B4b: Number of newly diagnosed HIV positive SWs initiated on ART</th>\n",
       "      <td>0.0</td>\n",
       "      <td>0.0</td>\n",
       "      <td>3</td>\n",
       "      <td>3</td>\n",
       "    </tr>\n",
       "    <tr>\n",
       "      <th rowspan=\"2\" valign=\"top\">WRHI</th>\n",
       "      <th>B4a: Number of newly diagnosed HIV positive SWs referred for ART</th>\n",
       "      <td>0.0</td>\n",
       "      <td>25.0</td>\n",
       "      <td>3</td>\n",
       "      <td>3</td>\n",
       "    </tr>\n",
       "    <tr>\n",
       "      <th>B4b: Number of newly diagnosed HIV positive SWs initiated on ART</th>\n",
       "      <td>0.0</td>\n",
       "      <td>17.0</td>\n",
       "      <td>3</td>\n",
       "      <td>3</td>\n",
       "    </tr>\n",
       "  </tbody>\n",
       "</table>\n",
       "</div>"
      ],
      "text/plain": [
       "                                                                 Target  \\\n",
       "Subrecipient Indicator                                                    \n",
       "CPC          B4a: Number of newly diagnosed HIV positive SWs...     0.0   \n",
       "             B4b: Number of newly diagnosed HIV positive SWs...     0.0   \n",
       "NQOBILE      B4a: Number of newly diagnosed HIV positive SWs...     0.0   \n",
       "             B4b: Number of newly diagnosed HIV positive SWs...     0.0   \n",
       "OASIS        B4a: Number of newly diagnosed HIV positive SWs...     0.0   \n",
       "             B4b: Number of newly diagnosed HIV positive SWs...     0.0   \n",
       "PHRU         B4a: Number of newly diagnosed HIV positive SWs...     0.0   \n",
       "             B4b: Number of newly diagnosed HIV positive SWs...     0.0   \n",
       "QAC          B4a: Number of newly diagnosed HIV positive SWs...     0.0   \n",
       "             B4b: Number of newly diagnosed HIV positive SWs...     0.0   \n",
       "SWEAT        B4a: Number of newly diagnosed HIV positive SWs...     0.0   \n",
       "             B4b: Number of newly diagnosed HIV positive SWs...     0.0   \n",
       "TBHIV        B4a: Number of newly diagnosed HIV positive SWs...     0.0   \n",
       "             B4b: Number of newly diagnosed HIV positive SWs...     0.0   \n",
       "WRHI         B4a: Number of newly diagnosed HIV positive SWs...     0.0   \n",
       "             B4b: Number of newly diagnosed HIV positive SWs...     0.0   \n",
       "\n",
       "                                                                 Actual  \\\n",
       "Subrecipient Indicator                                                    \n",
       "CPC          B4a: Number of newly diagnosed HIV positive SWs...     0.0   \n",
       "             B4b: Number of newly diagnosed HIV positive SWs...    62.0   \n",
       "NQOBILE      B4a: Number of newly diagnosed HIV positive SWs...     0.0   \n",
       "             B4b: Number of newly diagnosed HIV positive SWs...     0.0   \n",
       "OASIS        B4a: Number of newly diagnosed HIV positive SWs...     1.0   \n",
       "             B4b: Number of newly diagnosed HIV positive SWs...     0.0   \n",
       "PHRU         B4a: Number of newly diagnosed HIV positive SWs...    14.0   \n",
       "             B4b: Number of newly diagnosed HIV positive SWs...     8.0   \n",
       "QAC          B4a: Number of newly diagnosed HIV positive SWs...     0.0   \n",
       "             B4b: Number of newly diagnosed HIV positive SWs...     0.0   \n",
       "SWEAT        B4a: Number of newly diagnosed HIV positive SWs...     0.0   \n",
       "             B4b: Number of newly diagnosed HIV positive SWs...     0.0   \n",
       "TBHIV        B4a: Number of newly diagnosed HIV positive SWs...     0.0   \n",
       "             B4b: Number of newly diagnosed HIV positive SWs...     0.0   \n",
       "WRHI         B4a: Number of newly diagnosed HIV positive SWs...    25.0   \n",
       "             B4b: Number of newly diagnosed HIV positive SWs...    17.0   \n",
       "\n",
       "                                                                 Period  \\\n",
       "Subrecipient Indicator                                                    \n",
       "CPC          B4a: Number of newly diagnosed HIV positive SWs...       3   \n",
       "             B4b: Number of newly diagnosed HIV positive SWs...       3   \n",
       "NQOBILE      B4a: Number of newly diagnosed HIV positive SWs...       3   \n",
       "             B4b: Number of newly diagnosed HIV positive SWs...       3   \n",
       "OASIS        B4a: Number of newly diagnosed HIV positive SWs...       3   \n",
       "             B4b: Number of newly diagnosed HIV positive SWs...       3   \n",
       "PHRU         B4a: Number of newly diagnosed HIV positive SWs...       3   \n",
       "             B4b: Number of newly diagnosed HIV positive SWs...       3   \n",
       "QAC          B4a: Number of newly diagnosed HIV positive SWs...       3   \n",
       "             B4b: Number of newly diagnosed HIV positive SWs...       3   \n",
       "SWEAT        B4a: Number of newly diagnosed HIV positive SWs...       3   \n",
       "             B4b: Number of newly diagnosed HIV positive SWs...       3   \n",
       "TBHIV        B4a: Number of newly diagnosed HIV positive SWs...       3   \n",
       "             B4b: Number of newly diagnosed HIV positive SWs...       3   \n",
       "WRHI         B4a: Number of newly diagnosed HIV positive SWs...       3   \n",
       "             B4b: Number of newly diagnosed HIV positive SWs...       3   \n",
       "\n",
       "                                                                 Quarter  \n",
       "Subrecipient Indicator                                                    \n",
       "CPC          B4a: Number of newly diagnosed HIV positive SWs...        3  \n",
       "             B4b: Number of newly diagnosed HIV positive SWs...        3  \n",
       "NQOBILE      B4a: Number of newly diagnosed HIV positive SWs...        3  \n",
       "             B4b: Number of newly diagnosed HIV positive SWs...        3  \n",
       "OASIS        B4a: Number of newly diagnosed HIV positive SWs...        3  \n",
       "             B4b: Number of newly diagnosed HIV positive SWs...        3  \n",
       "PHRU         B4a: Number of newly diagnosed HIV positive SWs...        3  \n",
       "             B4b: Number of newly diagnosed HIV positive SWs...        3  \n",
       "QAC          B4a: Number of newly diagnosed HIV positive SWs...        3  \n",
       "             B4b: Number of newly diagnosed HIV positive SWs...        3  \n",
       "SWEAT        B4a: Number of newly diagnosed HIV positive SWs...        3  \n",
       "             B4b: Number of newly diagnosed HIV positive SWs...        3  \n",
       "TBHIV        B4a: Number of newly diagnosed HIV positive SWs...        3  \n",
       "             B4b: Number of newly diagnosed HIV positive SWs...        3  \n",
       "WRHI         B4a: Number of newly diagnosed HIV positive SWs...        3  \n",
       "             B4b: Number of newly diagnosed HIV positive SWs...        3  "
      ]
     },
     "execution_count": 4,
     "metadata": {},
     "output_type": "execute_result"
    }
   ],
   "source": [
    "DF.loc[(DF['Actual']>=0) & (DF['Indicator'].str.contains('B4'))].groupby(['Subrecipient','Indicator']).sum()"
   ]
  },
  {
   "cell_type": "markdown",
   "metadata": {},
   "source": [
    "<h1> all M&E names </h1>"
   ]
  },
  {
   "cell_type": "code",
   "execution_count": 16,
   "metadata": {
    "collapsed": false,
    "scrolled": true
   },
   "outputs": [
    {
     "data": {
      "text/plain": [
       "[u'A2: Number of sex workers who received one or more services through outreach',\n",
       " u'B1: Number of Sex Workers that have received an HIV test during the reporting period and know their results',\n",
       " u'B2: Number of SWs who tested HIV negative in the reporting period',\n",
       " u'B3: Number of newly diagnosed HIV positive SWs ',\n",
       " u'B4a: Number of newly diagnosed HIV positive SWs referred for ART',\n",
       " u'B4b: Number of newly diagnosed HIV positive SWs initiated on  ART',\n",
       " u'B4b: Number of newly diagnosed HIV positive SWs initiated on ART',\n",
       " u'B5: Number of SWs with known HIV positive status',\n",
       " u'B6: Number of SWs who refused HIV test ',\n",
       " u'B7: Number of HIV negative SWs receiving PrEP ',\n",
       " u'B8a: Number of HIV positive SWs referred for Adherence support',\n",
       " u'B8a: Number of HIV positive SWs succesfully referred for Adherence support',\n",
       " u'B8b: Number of HIV positive SWs succesfully referred for Adherence support ',\n",
       " u'C1: Number of SWs screened  for Sexually Transmitted Infections (STI) ',\n",
       " u'C2: Number of SWs with a positive STI symptom referred for STI treatment ',\n",
       " u'C2a: Number of SWs with a positive STI symptom referred for STI treatment ',\n",
       " u'C2b: Number of SWs with a positive STI symptom successfully referred for STI treatment ',\n",
       " u'D1: Number of SWs screened for TB  ',\n",
       " u'D2: Number of SWs successfully referred for TB investigations ',\n",
       " u'D2a: Number of SWs referred for TB investigations ',\n",
       " u'D2b: Number of SWs successfully referred for TB investigations ',\n",
       " u'E1: Number of creative space workshops ',\n",
       " u'E2: Number of SWs attending creative space workshops ',\n",
       " u'E3: Number of small group workshops ',\n",
       " u'E4: Number of  SWs attending small group workshops ',\n",
       " u'F1: Number of male Condoms  distributed ',\n",
       " u'F2: Number of female Condoms  distributed ',\n",
       " u'F3: Number of Lube distributed ',\n",
       " u'G1: Number of SWs reporting new human rights violations cases',\n",
       " u'G2a: Number of  human rights violations (SWs) cases  referred',\n",
       " u'G2a: Number of  human rights violations (SWs) cases referred',\n",
       " u'G2b: Number of  human rights violations (SWs) cases successfully referred',\n",
       " u'Number & Percentage  from key populations (Sex workers) who received an HIV test in the last 12 months & know their test results',\n",
       " u'Number and percentage of victims of sexual violence that received services and received an HIV test by the TCC clinical staff and know their results',\n",
       " u'Number of DoH and other condoms (not red umbrella) distributed',\n",
       " u'Number of GF - RED UMBRELLA condoms distributed.',\n",
       " u'Number of GF - RED UMBRELLA lube distributed.',\n",
       " u'Number of GF - Red Umbrella condoms distributed.',\n",
       " u'Number of GF - Red Umbrella lube distributed.',\n",
       " u'Number of risk reduction workshops',\n",
       " u'Number of sex workers attending risk reduction workshops',\n",
       " u'Number of sex workers reached through outreach',\n",
       " u'Number of sex workers referred for testing who are tested and know their result.',\n",
       " u'Number of sex workers tested by ORGANISATION (SR)',\n",
       " u'Number of sex workers tested by Organisation (SR)',\n",
       " u'Number of sex workers tested by the ORGANISATION (SR) who tested positive for HIV',\n",
       " u'Number of sex workers tested by the Organisation (SR) who tested positive for HIV',\n",
       " u'Number of sexual violence victims completed PEP ',\n",
       " u'Number of sexual violence victims initiated on PEP',\n",
       " u'Number of sexual violence victims not tested at TCC (refusing testing at TCC -known HIV positive) ',\n",
       " u'Number of sexual violence victims who received services at the Thuthuzela Care Centers',\n",
       " u'Number of sexual violence victims who received services at the Thuthuzela Care Centres',\n",
       " u'Number of victims receiving comfort packs']"
      ]
     },
     "execution_count": 16,
     "metadata": {},
     "output_type": "execute_result"
    }
   ],
   "source": [
    "[val for val in DF.groupby('Indicator').count().index]"
   ]
  },
  {
   "cell_type": "markdown",
   "metadata": {},
   "source": [
    "<h3> Create dictorany of M&E names </h3>"
   ]
  },
  {
   "cell_type": "code",
   "execution_count": 17,
   "metadata": {
    "collapsed": false
   },
   "outputs": [],
   "source": [
    "def cleanUp(sentence):\n",
    "    sentence=sentence.replace('succesfully','successfully')#ahh misspelling!\n",
    "    sentence=sentence.replace('Centres','Centers')#ahh misspelling!\n",
    "    sentence=sentence.replace('(','').replace(')','')\n",
    "    sentence=re.sub(\"sex workers\", \"sex workers\", sentence, flags=re.I)\n",
    "    sentence=re.sub(\"SWs\", \"sex workers\", sentence, flags=re.I)\n",
    "    sentence=sentence.replace('&','and').replace('tested positive','newly diagnosed').replace('-','')\n",
    "    sentence=' '.join(sentence.split()) #clean up extra whitespaces\n",
    "    return sentence\n",
    "\n",
    "stopwords=['number','of','-','by','the','who','for','(SR)','an']\n",
    "def clean_line(sentence):\n",
    "    return ' '.join([word for word in sentence.lower().split() if word not in stopwords])"
   ]
  },
  {
   "cell_type": "code",
   "execution_count": 18,
   "metadata": {
    "collapsed": false,
    "scrolled": true
   },
   "outputs": [
    {
     "data": {
      "text/plain": [
       "{'A1': 'A1 Number of sex workers reached with HIV prevention programs individual and/or smaller group level interventions',\n",
       " u'A2': u'A2 Number of sex workers who received one or more services through outreach',\n",
       " u'B1': u'B1 Number of sex workers that have received an HIV test during the reporting period and know their results',\n",
       " u'B2': u'B2 Number of sex workers who tested HIV negative in the reporting period',\n",
       " u'B3': u'B3 Number of newly diagnosed HIV positive sex workers',\n",
       " u'B4a': u'B4a Number of newly diagnosed HIV positive sex workers referred for ART',\n",
       " u'B4b': u'B4b Number of newly diagnosed HIV positive sex workers initiated on ART',\n",
       " u'B5': u'B5 Number of sex workers with known HIV positive status',\n",
       " u'B6': u'B6 Number of sex workers who refused HIV test',\n",
       " u'B7': u'B7 Number of HIV negative sex workers receiving PrEP',\n",
       " u'B8a': u'B8a Number of HIV positive sex workers referred for Adherence support',\n",
       " u'B8b': u'B8b Number of HIV positive sex workers successfully referred for Adherence support',\n",
       " u'C1': u'C1 Number of sex workers screened for Sexually Transmitted Infections STI',\n",
       " u'C2a': u'C2a Number of sex workers with a positive STI symptom referred for STI treatment',\n",
       " u'C2b': u'C2b Number of sex workers with a positive STI symptom successfully referred for STI treatment',\n",
       " u'D1': u'D1 Number of sex workers screened for TB',\n",
       " u'D2a': u'D2a Number of sex workers referred for TB investigations',\n",
       " u'D2b': u'D2b Number of sex workers successfully referred for TB investigations',\n",
       " u'E1': u'E1 Number of creative space workshops',\n",
       " u'E2': u'E2 Number of sex workers attending creative space workshops',\n",
       " u'E3': u'E3 Number of small group workshops',\n",
       " u'E4': u'E4 Number of sex workers attending small group workshops',\n",
       " u'F1': u'F1 Number of male Condoms distributed',\n",
       " u'F2': u'F2 Number of female Condoms distributed',\n",
       " u'F3': u'F3 Number of Lube distributed',\n",
       " u'G1': u'G1 Number of sex workers reporting new human rights violations cases',\n",
       " u'G2a': u'G2a Number of human rights violations sex workers cases referred',\n",
       " u'G2b': u'G2b Number of human rights violations sex workers cases successfully referred',\n",
       " 'V1': u'1 Number and percentage of victims of sexual violence that received services and received an HIV test by the TCC clinical staff and know their results',\n",
       " 'V2': u'2 Number of sexual violence victims completed PEP',\n",
       " 'V3': u'3 Number of sexual violence victims initiated on PEP',\n",
       " 'V4': u'4 Number of sexual violence victims not tested at TCC refusing testing at TCC known HIV positive',\n",
       " 'V5': u'5 Number of sexual violence victims who received services at the Thuthuzela Care Centers',\n",
       " 'V6': u'6 Number of sexual violence victims who received services at the Thuthuzela Care Centers'}"
      ]
     },
     "execution_count": 18,
     "metadata": {},
     "output_type": "execute_result"
    }
   ],
   "source": [
    "S=dict()\n",
    "A1=['A1:Number of sex workers reached with HIV prevention programs - individual and/or smaller group level interventions'.split(':')]\n",
    "#adding A1 from targets sheet (A1=A2)\n",
    "potential_indicators=[val.split(':') for val in DF.groupby('Indicator').count().index if len(val.split(':'))>1]\n",
    "                    \n",
    "for indicator in potential_indicators+A1:\n",
    "    sub_id=''\n",
    "    key=indicator[0][:2]\n",
    "    description=cleanUp(indicator[1])\n",
    "    if 'referred' in description:\n",
    "        sub_id='a'\n",
    "    if ('successfully' in description) or ('initiated' in description):\n",
    "         sub_id='b'\n",
    "    key+=sub_id\n",
    "    #if sexual violence create a new catigory:\n",
    "    if 'violence' in description:\n",
    "        key='V'\n",
    "    #print(key, description)\n",
    "    S[key]=key+': '+description\n",
    "\n",
    "#add sexual violence as a new catigory:\n",
    "keynum=1\n",
    "for indicator in [val for val in DF.groupby('Indicator').count().index if 'violence' in val]:\n",
    "    description=cleanUp(indicator)\n",
    "    if description not in S.values():\n",
    "        S['V'+str(keynum)]='V' + str(keynum)+': '+description\n",
    "        keynum+=1\n",
    "S"
   ]
  },
  {
   "cell_type": "code",
   "execution_count": 28,
   "metadata": {
    "collapsed": false
   },
   "outputs": [
    {
     "data": {
      "text/plain": [
       "u'A2 Number of sex workers who received one or more services through outreach'"
      ]
     },
     "execution_count": 28,
     "metadata": {},
     "output_type": "execute_result"
    }
   ],
   "source": [
    "S['A2']"
   ]
  },
  {
   "cell_type": "markdown",
   "metadata": {},
   "source": [
    "<h1> Save M&E dict </h1>"
   ]
  },
  {
   "cell_type": "code",
   "execution_count": 19,
   "metadata": {
    "collapsed": true
   },
   "outputs": [],
   "source": [
    "np.save('meMAP.npy',S)\n",
    "save_dict_as_json('meMAP.json', S) #ME_CODE\n",
    "#read_dictionary = np.load('ME_dict.npy').item()"
   ]
  },
  {
   "cell_type": "markdown",
   "metadata": {},
   "source": [
    "<h1> loop through the dict and find the best match </h1>"
   ]
  },
  {
   "cell_type": "code",
   "execution_count": 20,
   "metadata": {
    "collapsed": false,
    "scrolled": true
   },
   "outputs": [
    {
     "name": "stdout",
     "output_type": "stream",
     "text": [
      "(u'A2', u'A2: Number of sex workers who received one or more services through outreach')\n",
      "(u'B1', u'B1: Number of Sex Workers that have received an HIV test during the reporting period and know their results')\n",
      "(u'B2', u'B2: Number of SWs who tested HIV negative in the reporting period')\n",
      "(u'B3', u'B3: Number of newly diagnosed HIV positive SWs ')\n",
      "(u'B4a', u'B4a: Number of newly diagnosed HIV positive SWs referred for ART')\n",
      "(u'B4b', u'B4b: Number of newly diagnosed HIV positive SWs initiated on  ART')\n",
      "(u'B4b', u'B4b: Number of newly diagnosed HIV positive SWs initiated on ART')\n",
      "(u'B5', u'B5: Number of SWs with known HIV positive status')\n",
      "(u'B6', u'B6: Number of SWs who refused HIV test ')\n",
      "(u'B7', u'B7: Number of HIV negative SWs receiving PrEP ')\n",
      "(u'B8a', u'B8a: Number of HIV positive SWs referred for Adherence support')\n",
      "(u'B8b', u'B8a: Number of HIV positive SWs succesfully referred for Adherence support')\n",
      "(u'B8b', u'B8b: Number of HIV positive SWs succesfully referred for Adherence support ')\n",
      "(u'C1', u'C1: Number of SWs screened  for Sexually Transmitted Infections (STI) ')\n",
      "(u'C2a', u'C2: Number of SWs with a positive STI symptom referred for STI treatment ')\n",
      "(u'C2a', u'C2a: Number of SWs with a positive STI symptom referred for STI treatment ')\n",
      "(u'C2a', u'C2b: Number of SWs with a positive STI symptom successfully referred for STI treatment ')\n",
      "(u'D1', u'D1: Number of SWs screened for TB  ')\n",
      "(u'D2b', u'D2: Number of SWs successfully referred for TB investigations ')\n",
      "(u'D2a', u'D2a: Number of SWs referred for TB investigations ')\n",
      "(u'D2b', u'D2b: Number of SWs successfully referred for TB investigations ')\n",
      "(u'E1', u'E1: Number of creative space workshops ')\n",
      "(u'E2', u'E2: Number of SWs attending creative space workshops ')\n",
      "(u'E3', u'E3: Number of small group workshops ')\n",
      "(u'E4', u'E4: Number of  SWs attending small group workshops ')\n",
      "(u'F1', u'F1: Number of male Condoms  distributed ')\n",
      "(u'F2', u'F2: Number of female Condoms  distributed ')\n",
      "(u'F3', u'F3: Number of Lube distributed ')\n",
      "(u'G1', u'G1: Number of SWs reporting new human rights violations cases')\n",
      "(u'G2a', u'G2a: Number of  human rights violations (SWs) cases  referred')\n",
      "(u'G2a', u'G2a: Number of  human rights violations (SWs) cases referred')\n",
      "(u'G2b', u'G2b: Number of  human rights violations (SWs) cases successfully referred')\n",
      "('V1', u'Number & Percentage  from key populations (Sex workers) who received an HIV test in the last 12 months & know their test results')\n",
      "('V1', u'Number and percentage of victims of sexual violence that received services and received an HIV test by the TCC clinical staff and know their results')\n",
      "(u'F1', u'Number of DoH and other condoms (not red umbrella) distributed')\n",
      "(u'F1', u'Number of GF - RED UMBRELLA condoms distributed.')\n",
      "(u'F3', u'Number of GF - RED UMBRELLA lube distributed.')\n",
      "(u'F1', u'Number of GF - Red Umbrella condoms distributed.')\n",
      "(u'F3', u'Number of GF - Red Umbrella lube distributed.')\n",
      "(u'E1', u'Number of risk reduction workshops')\n",
      "(u'E4', u'Number of sex workers attending risk reduction workshops')\n",
      "(u'A2', u'Number of sex workers reached through outreach')\n",
      "(u'B1', u'Number of sex workers referred for testing who are tested and know their result.')\n",
      "(u'C1', u'Number of sex workers tested by ORGANISATION (SR)')\n",
      "(u'C1', u'Number of sex workers tested by Organisation (SR)')\n",
      "(u'B3', u'Number of sex workers tested by the ORGANISATION (SR) who tested positive for HIV')\n",
      "(u'B3', u'Number of sex workers tested by the Organisation (SR) who tested positive for HIV')\n",
      "('V2', u'Number of sexual violence victims completed PEP ')\n",
      "('V3', u'Number of sexual violence victims initiated on PEP')\n",
      "('V4', u'Number of sexual violence victims not tested at TCC (refusing testing at TCC -known HIV positive) ')\n",
      "('V5', u'Number of sexual violence victims who received services at the Thuthuzela Care Centers')\n",
      "('V5', u'Number of sexual violence victims who received services at the Thuthuzela Care Centres')\n",
      "('V2', u'Number of victims receiving comfort packs')\n"
     ]
    }
   ],
   "source": [
    "for description_all in DF.groupby('Indicator').count().index:\n",
    "    description=cleanUp(clean_line(description_all.split(':')[-1]))\n",
    "    words=description.lower().split()\n",
    "    best_key,best_overlap,best_extra='',0,10\n",
    "    for key,val in S.iteritems():\n",
    "        val=clean_line(val)\n",
    "        l=[re.findall(word, val) for word in words]\n",
    "        len_term=len(val.split())\n",
    "        overlap=len([item for sublist in l for item in sublist])/(len_term+len(words))\n",
    "        extra_terms=abs(len_term-overlap)\n",
    "        #print(overlap, key)\n",
    "        if (overlap>best_overlap):\n",
    "            best_key,best_overlap,best_extra=key,overlap,extra_terms\n",
    "            #check for sucessfully and initiated (b vs a flag)\n",
    "            if ((('successfully' in words) or ('initiated' in words)) & (best_key[-1]=='a')):\n",
    "                    best_key.replace('a','b')\n",
    "            #if ('victims' in words):\n",
    "            #        best_key='SV'\n",
    "    print(best_key, description_all)"
   ]
  },
  {
   "cell_type": "markdown",
   "metadata": {},
   "source": [
    "<h1> Loop through and build a dictionary lookup of the best match </h1>"
   ]
  },
  {
   "cell_type": "code",
   "execution_count": 21,
   "metadata": {
    "collapsed": false
   },
   "outputs": [],
   "source": [
    "ME_NAME_MAP=dict()\n",
    "\n",
    "for description_all in DF.groupby('Indicator').count().index:\n",
    "    description=cleanUp(clean_line(description_all.split(':')[-1]))\n",
    "    words=description.lower().split()\n",
    "    best_key,best_overlap,best_extra='',0,10\n",
    "    for key,val in S.iteritems():\n",
    "        val=clean_line(val)\n",
    "        l=[re.findall(word, val) for word in words]\n",
    "        len_term=len(val.split())\n",
    "        overlap=len([item for sublist in l for item in sublist])/(len_term+len(words))\n",
    "        extra_terms=abs(len_term-overlap)\n",
    "        #print(overlap, key)\n",
    "        if (overlap>best_overlap):\n",
    "            best_key,best_overlap,best_extra=key,overlap,extra_terms\n",
    "            #check for sucessfully and initiated (b vs a flag)\n",
    "            if ((('successfully' in words) or ('initiated' in words)) & (best_key[-1]=='a')):\n",
    "                    best_key.replace('a','b')\n",
    "            #if ('victims' in words):\n",
    "            #        best_key='SV'\n",
    "    ME_NAME_MAP[description_all] = S[best_key]"
   ]
  },
  {
   "cell_type": "code",
   "execution_count": 23,
   "metadata": {
    "collapsed": false
   },
   "outputs": [],
   "source": [
    "save_dict_as_json('ME_NAME_MAP.json', ME_NAME_MAP)\n",
    "#also save in Target_analysis.ipynb"
   ]
  },
  {
   "cell_type": "code",
   "execution_count": 24,
   "metadata": {
    "collapsed": false
   },
   "outputs": [
    {
     "data": {
      "text/plain": [
       "{u'A2: Number of sex workers who received one or more services through outreach': u'A2 Number of sex workers who received one or more services through outreach',\n",
       " u'B1: Number of Sex Workers that have received an HIV test during the reporting period and know their results': u'B1 Number of sex workers that have received an HIV test during the reporting period and know their results',\n",
       " u'B2: Number of SWs who tested HIV negative in the reporting period': u'B2 Number of sex workers who tested HIV negative in the reporting period',\n",
       " u'B3: Number of newly diagnosed HIV positive SWs ': u'B3 Number of newly diagnosed HIV positive sex workers',\n",
       " u'B4a: Number of newly diagnosed HIV positive SWs referred for ART': u'B4a Number of newly diagnosed HIV positive sex workers referred for ART',\n",
       " u'B4b: Number of newly diagnosed HIV positive SWs initiated on  ART': u'B4b Number of newly diagnosed HIV positive sex workers initiated on ART',\n",
       " u'B4b: Number of newly diagnosed HIV positive SWs initiated on ART': u'B4b Number of newly diagnosed HIV positive sex workers initiated on ART',\n",
       " u'B5: Number of SWs with known HIV positive status': u'B5 Number of sex workers with known HIV positive status',\n",
       " u'B6: Number of SWs who refused HIV test ': u'B6 Number of sex workers who refused HIV test',\n",
       " u'B7: Number of HIV negative SWs receiving PrEP ': u'B7 Number of HIV negative sex workers receiving PrEP',\n",
       " u'B8a: Number of HIV positive SWs referred for Adherence support': u'B8a Number of HIV positive sex workers referred for Adherence support',\n",
       " u'B8a: Number of HIV positive SWs succesfully referred for Adherence support': u'B8b Number of HIV positive sex workers successfully referred for Adherence support',\n",
       " u'B8b: Number of HIV positive SWs succesfully referred for Adherence support ': u'B8b Number of HIV positive sex workers successfully referred for Adherence support',\n",
       " u'C1: Number of SWs screened  for Sexually Transmitted Infections (STI) ': u'C1 Number of sex workers screened for Sexually Transmitted Infections STI',\n",
       " u'C2: Number of SWs with a positive STI symptom referred for STI treatment ': u'C2a Number of sex workers with a positive STI symptom referred for STI treatment',\n",
       " u'C2a: Number of SWs with a positive STI symptom referred for STI treatment ': u'C2a Number of sex workers with a positive STI symptom referred for STI treatment',\n",
       " u'C2b: Number of SWs with a positive STI symptom successfully referred for STI treatment ': u'C2a Number of sex workers with a positive STI symptom referred for STI treatment',\n",
       " u'D1: Number of SWs screened for TB  ': u'D1 Number of sex workers screened for TB',\n",
       " u'D2: Number of SWs successfully referred for TB investigations ': u'D2b Number of sex workers successfully referred for TB investigations',\n",
       " u'D2a: Number of SWs referred for TB investigations ': u'D2a Number of sex workers referred for TB investigations',\n",
       " u'D2b: Number of SWs successfully referred for TB investigations ': u'D2b Number of sex workers successfully referred for TB investigations',\n",
       " u'E1: Number of creative space workshops ': u'E1 Number of creative space workshops',\n",
       " u'E2: Number of SWs attending creative space workshops ': u'E2 Number of sex workers attending creative space workshops',\n",
       " u'E3: Number of small group workshops ': u'E3 Number of small group workshops',\n",
       " u'E4: Number of  SWs attending small group workshops ': u'E4 Number of sex workers attending small group workshops',\n",
       " u'F1: Number of male Condoms  distributed ': u'F1 Number of male Condoms distributed',\n",
       " u'F2: Number of female Condoms  distributed ': u'F2 Number of female Condoms distributed',\n",
       " u'F3: Number of Lube distributed ': u'F3 Number of Lube distributed',\n",
       " u'G1: Number of SWs reporting new human rights violations cases': u'G1 Number of sex workers reporting new human rights violations cases',\n",
       " u'G2a: Number of  human rights violations (SWs) cases  referred': u'G2a Number of human rights violations sex workers cases referred',\n",
       " u'G2a: Number of  human rights violations (SWs) cases referred': u'G2a Number of human rights violations sex workers cases referred',\n",
       " u'G2b: Number of  human rights violations (SWs) cases successfully referred': u'G2b Number of human rights violations sex workers cases successfully referred',\n",
       " u'Number & Percentage  from key populations (Sex workers) who received an HIV test in the last 12 months & know their test results': u'1 Number and percentage of victims of sexual violence that received services and received an HIV test by the TCC clinical staff and know their results',\n",
       " u'Number and percentage of victims of sexual violence that received services and received an HIV test by the TCC clinical staff and know their results': u'1 Number and percentage of victims of sexual violence that received services and received an HIV test by the TCC clinical staff and know their results',\n",
       " u'Number of DoH and other condoms (not red umbrella) distributed': u'F1 Number of male Condoms distributed',\n",
       " u'Number of GF - RED UMBRELLA condoms distributed.': u'F1 Number of male Condoms distributed',\n",
       " u'Number of GF - RED UMBRELLA lube distributed.': u'F3 Number of Lube distributed',\n",
       " u'Number of GF - Red Umbrella condoms distributed.': u'F1 Number of male Condoms distributed',\n",
       " u'Number of GF - Red Umbrella lube distributed.': u'F3 Number of Lube distributed',\n",
       " u'Number of risk reduction workshops': u'E1 Number of creative space workshops',\n",
       " u'Number of sex workers attending risk reduction workshops': u'E4 Number of sex workers attending small group workshops',\n",
       " u'Number of sex workers reached through outreach': u'A2 Number of sex workers who received one or more services through outreach',\n",
       " u'Number of sex workers referred for testing who are tested and know their result.': u'B1 Number of sex workers that have received an HIV test during the reporting period and know their results',\n",
       " u'Number of sex workers tested by ORGANISATION (SR)': u'C1 Number of sex workers screened for Sexually Transmitted Infections STI',\n",
       " u'Number of sex workers tested by Organisation (SR)': u'C1 Number of sex workers screened for Sexually Transmitted Infections STI',\n",
       " u'Number of sex workers tested by the ORGANISATION (SR) who tested positive for HIV': u'B3 Number of newly diagnosed HIV positive sex workers',\n",
       " u'Number of sex workers tested by the Organisation (SR) who tested positive for HIV': u'B3 Number of newly diagnosed HIV positive sex workers',\n",
       " u'Number of sexual violence victims completed PEP ': u'2 Number of sexual violence victims completed PEP',\n",
       " u'Number of sexual violence victims initiated on PEP': u'3 Number of sexual violence victims initiated on PEP',\n",
       " u'Number of sexual violence victims not tested at TCC (refusing testing at TCC -known HIV positive) ': u'4 Number of sexual violence victims not tested at TCC refusing testing at TCC known HIV positive',\n",
       " u'Number of sexual violence victims who received services at the Thuthuzela Care Centers': u'5 Number of sexual violence victims who received services at the Thuthuzela Care Centers',\n",
       " u'Number of sexual violence victims who received services at the Thuthuzela Care Centres': u'5 Number of sexual violence victims who received services at the Thuthuzela Care Centers',\n",
       " u'Number of victims receiving comfort packs': u'2 Number of sexual violence victims completed PEP'}"
      ]
     },
     "execution_count": 24,
     "metadata": {},
     "output_type": "execute_result"
    }
   ],
   "source": [
    "ME_NAME_MAP"
   ]
  },
  {
   "cell_type": "code",
   "execution_count": null,
   "metadata": {
    "collapsed": true
   },
   "outputs": [],
   "source": []
  },
  {
   "cell_type": "code",
   "execution_count": null,
   "metadata": {
    "collapsed": true
   },
   "outputs": [],
   "source": []
  },
  {
   "cell_type": "code",
   "execution_count": null,
   "metadata": {
    "collapsed": true
   },
   "outputs": [],
   "source": []
  },
  {
   "cell_type": "markdown",
   "metadata": {},
   "source": [
    "<h3> We will take all names with a code and train a Doc2vec model </h3>"
   ]
  },
  {
   "cell_type": "code",
   "execution_count": null,
   "metadata": {
    "collapsed": true
   },
   "outputs": [],
   "source": []
  },
  {
   "cell_type": "code",
   "execution_count": 298,
   "metadata": {
    "collapsed": false
   },
   "outputs": [
    {
     "data": {
      "text/plain": [
       "(u'B8a',\n",
       " u' Number of HIV positive SWs succesfully referred for Adherence support')"
      ]
     },
     "execution_count": 298,
     "metadata": {},
     "output_type": "execute_result"
    }
   ],
   "source": [
    "labels=[val.split(':')[0] for val in DF.groupby('Indicator').count().index if len(val.split(':'))>1]\n",
    "descriptions=[val.split(':')[1] for val in DF.groupby('Indicator').count().index if len(val.split(':'))>1]\n",
    "#need to do a little cleaning. The 11th entry B8a is incorrect. Also the second to last G2a\n",
    "labels.pop(11),descriptions.pop(11)\n",
    "#labels.pop(-2),descriptions.pop(-2)"
   ]
  },
  {
   "cell_type": "markdown",
   "metadata": {},
   "source": [
    "<p> Create a lookup for M&E identifier and bow associated with it </p>"
   ]
  },
  {
   "cell_type": "code",
   "execution_count": 301,
   "metadata": {
    "collapsed": false
   },
   "outputs": [],
   "source": [
    "#first clean up double white spaces in all descriptions\n",
    "clean_descriptions=[' '.join(desc.split()) for desc in descriptions]"
   ]
  },
  {
   "cell_type": "code",
   "execution_count": 305,
   "metadata": {
    "collapsed": false
   },
   "outputs": [
    {
     "data": {
      "text/plain": [
       "(31, 27)"
      ]
     },
     "execution_count": 305,
     "metadata": {},
     "output_type": "execute_result"
    }
   ],
   "source": [
    "len(labels),len(set(clean_descriptions))"
   ]
  },
  {
   "cell_type": "code",
   "execution_count": 304,
   "metadata": {
    "collapsed": false,
    "scrolled": false
   },
   "outputs": [
    {
     "data": {
      "text/plain": [
       "{u'A2',\n",
       " u'B1',\n",
       " u'B2',\n",
       " u'B3',\n",
       " u'B4a',\n",
       " u'B4b',\n",
       " u'B5',\n",
       " u'B6',\n",
       " u'B7',\n",
       " u'B8a',\n",
       " u'B8b',\n",
       " u'C1',\n",
       " u'C2',\n",
       " u'C2a',\n",
       " u'C2b',\n",
       " u'D1',\n",
       " u'D2',\n",
       " u'D2a',\n",
       " u'D2b',\n",
       " u'E1',\n",
       " u'E2',\n",
       " u'E3',\n",
       " u'E4',\n",
       " u'F1',\n",
       " u'F2',\n",
       " u'F3',\n",
       " u'G1',\n",
       " u'G2a',\n",
       " u'G2b'}"
      ]
     },
     "execution_count": 304,
     "metadata": {},
     "output_type": "execute_result"
    }
   ],
   "source": [
    "set(labels)"
   ]
  },
  {
   "cell_type": "markdown",
   "metadata": {},
   "source": [
    "<h1> Setup for training </h1>"
   ]
  },
  {
   "cell_type": "code",
   "execution_count": 213,
   "metadata": {
    "collapsed": true
   },
   "outputs": [],
   "source": [
    "def process_line(sentence):\n",
    "    '''Splits sentence if punctuation is identified. Returns a list of list of words for each sentence'''\n",
    "    sentences=re.split(r\"(?<![0-9])[.?!;](?![0-9])\", sentence)\n",
    "    result= [re.findall(\"[a-z'.-0-9]+\", sent.lower()) for sent in sentences if \\\n",
    "            re.findall(\"[a-z'.-0-9]+\", sent.lower())!=[]]\n",
    "    if result==[]:\n",
    "        result=[['']]\n",
    "    return result\n",
    "stoplist = set('number for a an of or the and to in rt'.split())"
   ]
  },
  {
   "cell_type": "code",
   "execution_count": 215,
   "metadata": {
    "collapsed": false,
    "scrolled": true
   },
   "outputs": [],
   "source": [
    "desc_words=[[word for word in process_line(d)[0] if word not in stoplist] for d in desc]\n",
    "#desc_words"
   ]
  },
  {
   "cell_type": "code",
   "execution_count": 216,
   "metadata": {
    "collapsed": true
   },
   "outputs": [],
   "source": [
    "docs=[]\n",
    "#for i,words in enumerate(review_sentence):\n",
    "#    docs.append(TaggedDocument(words,['R_'+str(i)]))\n",
    "for label,words in zip(labels,desc_words):\n",
    "    docs.append(TaggedDocument(words,[label]))"
   ]
  },
  {
   "cell_type": "code",
   "execution_count": 217,
   "metadata": {
    "collapsed": false
   },
   "outputs": [
    {
     "data": {
      "text/plain": [
       "[TaggedDocument(words=[u'sws', u'with', u'positive', u'sti', u'symptom', u'successfully', u'referred', u'sti', u'treatment'], tags=[u'C2b']),\n",
       " TaggedDocument(words=[u'sws', u'screened', u'tb'], tags=[u'D1']),\n",
       " TaggedDocument(words=[u'sws', u'successfully', u'referred', u'tb', u'investigations'], tags=[u'D2']),\n",
       " TaggedDocument(words=[u'sws', u'referred', u'tb', u'investigations'], tags=[u'D2a']),\n",
       " TaggedDocument(words=[u'sws', u'successfully', u'referred', u'tb', u'investigations'], tags=[u'D2b']),\n",
       " TaggedDocument(words=[u'creative', u'space', u'workshops'], tags=[u'E1']),\n",
       " TaggedDocument(words=[u'sws', u'attending', u'creative', u'space', u'workshops'], tags=[u'E2']),\n",
       " TaggedDocument(words=[u'small', u'group', u'workshops'], tags=[u'E3']),\n",
       " TaggedDocument(words=[u'sws', u'attending', u'small', u'group', u'workshops'], tags=[u'E4']),\n",
       " TaggedDocument(words=[u'male', u'condoms', u'distributed'], tags=[u'F1']),\n",
       " TaggedDocument(words=[u'female', u'condoms', u'distributed'], tags=[u'F2']),\n",
       " TaggedDocument(words=[u'lube', u'distributed'], tags=[u'F3']),\n",
       " TaggedDocument(words=[u'sws', u'reporting', u'new', u'human', u'rights', u'violations', u'cases'], tags=[u'G1']),\n",
       " TaggedDocument(words=[u'human', u'rights', u'violations', u'sws', u'cases', u'referred'], tags=[u'G2a']),\n",
       " TaggedDocument(words=[u'human', u'rights', u'violations', u'sws', u'cases', u'referred'], tags=[u'G2a'])]"
      ]
     },
     "execution_count": 217,
     "metadata": {},
     "output_type": "execute_result"
    }
   ],
   "source": [
    "docs[15:30]"
   ]
  },
  {
   "cell_type": "code",
   "execution_count": 223,
   "metadata": {
    "collapsed": false
   },
   "outputs": [
    {
     "data": {
      "text/plain": [
       "[(u'E3', 0.1120995581150055),\n",
       " (u'E2', 0.09986546635627747),\n",
       " (u'D2a', 0.06480303406715393),\n",
       " (u'E4', 0.055689867585897446),\n",
       " (u'B2', 0.05426891893148422),\n",
       " (u'G2a', 0.053596362471580505),\n",
       " (u'E1', 0.03409339487552643),\n",
       " (u'D2b', 0.029231755062937737),\n",
       " (u'C2a', 0.012065872550010681),\n",
       " (u'F1', 0.010497007519006729)]"
      ]
     },
     "execution_count": 223,
     "metadata": {},
     "output_type": "execute_result"
    }
   ],
   "source": [
    "model = Doc2Vec(min_count=1, window=10, size=100, sample=1e-3, negative=0, workers=2, hs=1,alpha=0.01,dm_mean=0)\n",
    "model.build_vocab(docs)\n",
    "model.train(docs)\n",
    "v=model.infer_vector( 'male condoms distributed'.split(),alpha=0,steps=1)\n",
    "model.docvecs.most_similar([v])\n",
    "#model.docvecs.most_similar?"
   ]
  },
  {
   "cell_type": "code",
   "execution_count": 226,
   "metadata": {
    "collapsed": false,
    "scrolled": true
   },
   "outputs": [
    {
     "data": {
      "text/plain": [
       "array([  1.20246725e-03,  -2.74422695e-03,  -4.58507426e-03,\n",
       "         1.90203520e-03,   2.20909668e-03,   4.67715785e-03,\n",
       "         1.45936885e-03,  -2.92332983e-03,   1.86492607e-03,\n",
       "        -1.70439074e-03,   1.63799257e-03,   1.63047179e-03,\n",
       "        -2.75255111e-03,   3.72715038e-03,   1.31533016e-04,\n",
       "        -1.67188537e-03,   2.00551073e-03,  -3.94337764e-03,\n",
       "         3.08526866e-03,  -3.15058371e-03,  -5.51420671e-04,\n",
       "         3.77022196e-04,  -3.18640377e-03,   3.45052336e-03,\n",
       "        -3.50580830e-03,  -3.83757614e-03,   7.38978386e-04,\n",
       "         2.06110836e-03,   9.54967574e-04,  -4.11084015e-03,\n",
       "        -4.49457264e-04,   4.71988274e-03,   1.48073595e-03,\n",
       "        -3.45566310e-03,  -2.44019227e-03,  -4.90715308e-03,\n",
       "        -4.72123874e-03,  -8.03103147e-04,  -4.40521585e-03,\n",
       "        -3.72836599e-03,  -2.90851993e-03,  -1.64185534e-03,\n",
       "        -2.43012421e-03,  -3.67528549e-03,  -3.68785835e-03,\n",
       "        -3.49540589e-03,   2.15889723e-03,  -4.60592564e-03,\n",
       "         4.64956556e-03,   1.71620026e-03,   2.46965513e-03,\n",
       "        -2.28692871e-03,  -3.92436661e-04,   4.63350071e-03,\n",
       "         3.17534636e-04,   3.09878890e-03,  -3.23471706e-03,\n",
       "         1.96110853e-03,   3.11450241e-03,   3.13685625e-04,\n",
       "        -4.53422917e-03,   3.17382603e-03,   4.06526867e-03,\n",
       "         4.48351435e-04,  -4.24002577e-03,  -4.43941029e-03,\n",
       "         3.47520504e-03,  -3.32677970e-03,  -2.18160776e-03,\n",
       "        -4.23657196e-03,  -1.67157128e-03,   8.93793476e-04,\n",
       "         4.11956338e-03,   3.67786881e-04,  -1.88554742e-03,\n",
       "         6.34635333e-04,  -4.55315690e-04,  -3.48527892e-03,\n",
       "         2.47035921e-03,   2.24134652e-04,  -4.08774847e-03,\n",
       "        -1.26815878e-03,  -1.79482345e-03,   1.87379064e-03,\n",
       "        -2.29095970e-03,   4.10740875e-04,  -2.77316850e-03,\n",
       "         3.89689999e-03,   1.60136190e-03,   1.59626279e-03,\n",
       "        -2.37495493e-04,   3.49586597e-03,   1.77409430e-03,\n",
       "        -2.68229469e-05,   1.51207758e-04,   4.78587486e-03,\n",
       "        -6.26381006e-05,   4.99434257e-03,  -1.52878335e-03,\n",
       "         3.25663481e-03], dtype=float32)"
      ]
     },
     "execution_count": 226,
     "metadata": {},
     "output_type": "execute_result"
    }
   ],
   "source": [
    "model.docvecs['F1']"
   ]
  },
  {
   "cell_type": "code",
   "execution_count": 245,
   "metadata": {
    "collapsed": false,
    "scrolled": true
   },
   "outputs": [
    {
     "data": {
      "text/plain": [
       "[(u'C1', 0.18439769744873047),\n",
       " (u'B3', 0.15565700829029083),\n",
       " (u'D2a', 0.15408849716186523),\n",
       " (u'D2b', 0.15310299396514893),\n",
       " (u'D2', 0.15099598467350006),\n",
       " (u'G2b', 0.14870649576187134),\n",
       " (u'F1', 0.10721241682767868),\n",
       " (u'B8b', 0.09765207022428513),\n",
       " (u'B1', 0.08222004771232605),\n",
       " (u'B5', 0.0711875706911087)]"
      ]
     },
     "execution_count": 245,
     "metadata": {},
     "output_type": "execute_result"
    }
   ],
   "source": [
    "v=model['condoms']\n",
    "model.docvecs.most_similar([v])"
   ]
  },
  {
   "cell_type": "code",
   "execution_count": 255,
   "metadata": {
    "collapsed": false,
    "scrolled": true
   },
   "outputs": [],
   "source": [
    "desc_arrays=[mean([model[word] for word in words],0) for words in desc_words]"
   ]
  },
  {
   "cell_type": "code",
   "execution_count": 287,
   "metadata": {
    "collapsed": false
   },
   "outputs": [],
   "source": [
    "doc_vector=mean([model[word] for word in 'sex workers referred for testing who are tested and know their result'.split() if word in model.vocab],0)"
   ]
  },
  {
   "cell_type": "code",
   "execution_count": 290,
   "metadata": {
    "collapsed": false
   },
   "outputs": [
    {
     "data": {
      "text/plain": [
       "[0.59707956084329239,\n",
       " 0.53726799691662963,\n",
       " 0.70134343682233358,\n",
       " 1.1218231088896424,\n",
       " 0.97270868927827991,\n",
       " 1.1289073889248638,\n",
       " 1.1289073889248638,\n",
       " 1.0977539365432369,\n",
       " 0.85187168365246047,\n",
       " 1.2164591332854133,\n",
       " 0.90084780482709437,\n",
       " 0.8703264177483907,\n",
       " 0.92678032973064506,\n",
       " 1.0464044991890233,\n",
       " 1.0464044991890233,\n",
       " 1.0480793620443678,\n",
       " 1.1142790077306961,\n",
       " 1.0085297462966636,\n",
       " 1.0006379935242538,\n",
       " 1.0085297462966636,\n",
       " 0.91764618032367151,\n",
       " 0.98319462278412029,\n",
       " 0.99200908313476033,\n",
       " 1.0420463905617701,\n",
       " 1.0675259935934358,\n",
       " 1.136192711729175,\n",
       " 0.99487167417007882,\n",
       " 0.87730433030585586,\n",
       " 0.80572000351735451,\n",
       " 0.80572001611316812,\n",
       " 0.83974807703596843]"
      ]
     },
     "execution_count": 290,
     "metadata": {},
     "output_type": "execute_result"
    }
   ],
   "source": [
    "from scipy import spatial\n",
    "[spatial.distance.cosine(doc_vector,test) for test in desc_arrays]"
   ]
  },
  {
   "cell_type": "code",
   "execution_count": 266,
   "metadata": {
    "collapsed": false
   },
   "outputs": [],
   "source": [
    "#for \"condoms distributed\" this will find F2 over F1, which will not work for the red umbrella case\n",
    "#unless I label red umbrella as F1, also lube\n",
    "\n",
    "#works for identifying A2 and B1 !"
   ]
  },
  {
   "cell_type": "markdown",
   "metadata": {},
   "source": [
    "<h1> Conclusion... this will be best achived with a dictionary lookup </h1>"
   ]
  },
  {
   "cell_type": "code",
   "execution_count": null,
   "metadata": {
    "collapsed": true
   },
   "outputs": [],
   "source": []
  }
 ],
 "metadata": {
  "kernelspec": {
   "display_name": "Python 2",
   "language": "python",
   "name": "python2"
  },
  "language_info": {
   "codemirror_mode": {
    "name": "ipython",
    "version": 2
   },
   "file_extension": ".py",
   "mimetype": "text/x-python",
   "name": "python",
   "nbconvert_exporter": "python",
   "pygments_lexer": "ipython2",
   "version": "2.7.9"
  }
 },
 "nbformat": 4,
 "nbformat_minor": 0
}
