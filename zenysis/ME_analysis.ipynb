{
 "cells": [
  {
   "cell_type": "code",
   "execution_count": 1,
   "metadata": {
    "collapsed": false
   },
   "outputs": [
    {
     "name": "stdout",
     "output_type": "stream",
     "text": [
      "Populating the interactive namespace from numpy and matplotlib\n"
     ]
    }
   ],
   "source": [
    "from __future__ import division\n",
    "import psycopg2\n",
    "import numpy as np\n",
    "import json\n",
    "import re\n",
    "from ast import literal_eval\n",
    "import pandas as pd\n",
    "%pylab inline\n",
    "pylab.rcParams['figure.figsize'] = (12.0, 8.0) # set size of figures\"\n",
    "plt.rcParams.update({'font.size': 24})\n",
    "import seaborn as sns\n",
    "\n",
    "from nvd3 import multiBarChart\n",
    "import nvd3\n",
    "nvd3.ipynb.initialize_javascript(use_remote=True)"
   ]
  },
  {
   "cell_type": "code",
   "execution_count": 66,
   "metadata": {
    "collapsed": true
   },
   "outputs": [],
   "source": [
    "def quarter_map(year,month):\n",
    "    val=0\n",
    "    if ((year==2016) & (month>=4) & (month<=6)):\n",
    "        val=1\n",
    "    elif ((year==2016) & (month>=7) & (month<=9)):\n",
    "        val=2\n",
    "    elif ((year==2016) & (month>=10) & (month<=12)):\n",
    "        val=3\n",
    "    else:\n",
    "        val=0\n",
    "    return val"
   ]
  },
  {
   "cell_type": "code",
   "execution_count": 67,
   "metadata": {
    "collapsed": true
   },
   "outputs": [],
   "source": [
    "# read the entire file into a python array\n",
    "with open('/Users/attiladobi/Downloads/za_integration.json', 'rb') as f:\n",
    "    data = f.readlines()\n",
    "\n",
    "# remove the trailing \"\\n\" from each line\n",
    "data = map(lambda x: x.rstrip(), data)\n",
    "\n",
    "# each element of 'data' is an individual JSON object.\n",
    "# i want to convert it into an *array* of JSON objects\n",
    "# which, in and of itself, is one large JSON object\n",
    "# basically... add square brackets to the beginning\n",
    "# and end, and have all the individual business JSON objects\n",
    "# separated by a comma\n",
    "data_json_str = \"[\" + ','.join(data) + \"]\"\n",
    "\n",
    "# now, load it into pandas\n",
    "DF = pd.read_json(data_json_str)\n",
    "\n",
    "#convert date:\n",
    "DF['Date']=pd.to_datetime(DF['Real_Date'])\n",
    "DF['day'] = DF['Date'].dt.day\n",
    "DF['month'] = DF['Date'].dt.month\n",
    "DF['year'] = DF['Date'].dt.year\n",
    "\n",
    "#ADD Quarter grouping to the data\n",
    "DF['Quarter']=[quarter_map(year,month) for year,month in DF[['year','month']].values]"
   ]
  },
  {
   "cell_type": "markdown",
   "metadata": {},
   "source": [
    "<h3> Clean names nqobile women -> nqobile </h3>"
   ]
  },
  {
   "cell_type": "code",
   "execution_count": 499,
   "metadata": {
    "collapsed": true
   },
   "outputs": [],
   "source": [
    "DF['subrecipient']=DF['subrecipient'].replace('nqobile women','nqobile')\n",
    "\n",
    "#standardize names\n",
    "DF['field']=DF['field'].replace('red_umbrella_male_condom_lube','f_1_male_condoms_number_given')"
   ]
  },
  {
   "cell_type": "code",
   "execution_count": null,
   "metadata": {
    "collapsed": true
   },
   "outputs": [],
   "source": []
  },
  {
   "cell_type": "code",
   "execution_count": 3,
   "metadata": {
    "collapsed": true
   },
   "outputs": [],
   "source": [
    "DF_cut=(DF['year']>=2016) & (DF['year']<2017)"
   ]
  },
  {
   "cell_type": "markdown",
   "metadata": {},
   "source": [
    "<h1> M&E which have 5 or more SRs reporting</h1>"
   ]
  },
  {
   "cell_type": "code",
   "execution_count": 500,
   "metadata": {
    "collapsed": false,
    "scrolled": true
   },
   "outputs": [
    {
     "data": {
      "text/html": [
       "<div>\n",
       "<table border=\"1\" class=\"dataframe\">\n",
       "  <thead>\n",
       "    <tr style=\"text-align: right;\">\n",
       "      <th></th>\n",
       "      <th>Real_Date</th>\n",
       "      <th>beneficiary</th>\n",
       "      <th>budget_line</th>\n",
       "      <th>budget_line_full</th>\n",
       "      <th>cost_category</th>\n",
       "      <th>description</th>\n",
       "      <th>invoice_receipt_number</th>\n",
       "      <th>peer_motivator</th>\n",
       "      <th>province</th>\n",
       "      <th>province_lat</th>\n",
       "      <th>...</th>\n",
       "      <th>site_lng</th>\n",
       "      <th>suburb</th>\n",
       "      <th>supplier_employee_name</th>\n",
       "      <th>transaction_reference</th>\n",
       "      <th>val</th>\n",
       "      <th>Date</th>\n",
       "      <th>day</th>\n",
       "      <th>month</th>\n",
       "      <th>year</th>\n",
       "      <th>Quarter</th>\n",
       "    </tr>\n",
       "    <tr>\n",
       "      <th>field</th>\n",
       "      <th></th>\n",
       "      <th></th>\n",
       "      <th></th>\n",
       "      <th></th>\n",
       "      <th></th>\n",
       "      <th></th>\n",
       "      <th></th>\n",
       "      <th></th>\n",
       "      <th></th>\n",
       "      <th></th>\n",
       "      <th></th>\n",
       "      <th></th>\n",
       "      <th></th>\n",
       "      <th></th>\n",
       "      <th></th>\n",
       "      <th></th>\n",
       "      <th></th>\n",
       "      <th></th>\n",
       "      <th></th>\n",
       "      <th></th>\n",
       "      <th></th>\n",
       "    </tr>\n",
       "  </thead>\n",
       "  <tbody>\n",
       "    <tr>\n",
       "      <th>b2_sw_tested_hiv_negative</th>\n",
       "      <td>4</td>\n",
       "      <td>4</td>\n",
       "      <td>4</td>\n",
       "      <td>4</td>\n",
       "      <td>4</td>\n",
       "      <td>4</td>\n",
       "      <td>4</td>\n",
       "      <td>4</td>\n",
       "      <td>4</td>\n",
       "      <td>4</td>\n",
       "      <td>...</td>\n",
       "      <td>4</td>\n",
       "      <td>4</td>\n",
       "      <td>4</td>\n",
       "      <td>4</td>\n",
       "      <td>4</td>\n",
       "      <td>4</td>\n",
       "      <td>4</td>\n",
       "      <td>4</td>\n",
       "      <td>4</td>\n",
       "      <td>4</td>\n",
       "    </tr>\n",
       "    <tr>\n",
       "      <th>b4_a_referred_for_art1_referred</th>\n",
       "      <td>4</td>\n",
       "      <td>4</td>\n",
       "      <td>4</td>\n",
       "      <td>4</td>\n",
       "      <td>4</td>\n",
       "      <td>4</td>\n",
       "      <td>4</td>\n",
       "      <td>4</td>\n",
       "      <td>4</td>\n",
       "      <td>4</td>\n",
       "      <td>...</td>\n",
       "      <td>4</td>\n",
       "      <td>4</td>\n",
       "      <td>4</td>\n",
       "      <td>4</td>\n",
       "      <td>4</td>\n",
       "      <td>4</td>\n",
       "      <td>4</td>\n",
       "      <td>4</td>\n",
       "      <td>4</td>\n",
       "      <td>4</td>\n",
       "    </tr>\n",
       "    <tr>\n",
       "      <th>b_1_received_hts_and_know_results</th>\n",
       "      <td>5</td>\n",
       "      <td>5</td>\n",
       "      <td>5</td>\n",
       "      <td>5</td>\n",
       "      <td>5</td>\n",
       "      <td>5</td>\n",
       "      <td>5</td>\n",
       "      <td>5</td>\n",
       "      <td>5</td>\n",
       "      <td>5</td>\n",
       "      <td>...</td>\n",
       "      <td>5</td>\n",
       "      <td>5</td>\n",
       "      <td>5</td>\n",
       "      <td>5</td>\n",
       "      <td>5</td>\n",
       "      <td>5</td>\n",
       "      <td>5</td>\n",
       "      <td>5</td>\n",
       "      <td>5</td>\n",
       "      <td>5</td>\n",
       "    </tr>\n",
       "    <tr>\n",
       "      <th>b_5_known_hiv_positive_status</th>\n",
       "      <td>4</td>\n",
       "      <td>4</td>\n",
       "      <td>4</td>\n",
       "      <td>4</td>\n",
       "      <td>4</td>\n",
       "      <td>4</td>\n",
       "      <td>4</td>\n",
       "      <td>4</td>\n",
       "      <td>4</td>\n",
       "      <td>4</td>\n",
       "      <td>...</td>\n",
       "      <td>4</td>\n",
       "      <td>4</td>\n",
       "      <td>4</td>\n",
       "      <td>4</td>\n",
       "      <td>4</td>\n",
       "      <td>4</td>\n",
       "      <td>4</td>\n",
       "      <td>4</td>\n",
       "      <td>4</td>\n",
       "      <td>4</td>\n",
       "    </tr>\n",
       "    <tr>\n",
       "      <th>budget</th>\n",
       "      <td>15</td>\n",
       "      <td>15</td>\n",
       "      <td>15</td>\n",
       "      <td>15</td>\n",
       "      <td>15</td>\n",
       "      <td>15</td>\n",
       "      <td>15</td>\n",
       "      <td>15</td>\n",
       "      <td>15</td>\n",
       "      <td>15</td>\n",
       "      <td>...</td>\n",
       "      <td>15</td>\n",
       "      <td>15</td>\n",
       "      <td>15</td>\n",
       "      <td>15</td>\n",
       "      <td>15</td>\n",
       "      <td>15</td>\n",
       "      <td>15</td>\n",
       "      <td>15</td>\n",
       "      <td>15</td>\n",
       "      <td>15</td>\n",
       "    </tr>\n",
       "    <tr>\n",
       "      <th>c1_sws_screened_for_sexually_transmitted_infections_sti_2</th>\n",
       "      <td>4</td>\n",
       "      <td>4</td>\n",
       "      <td>4</td>\n",
       "      <td>4</td>\n",
       "      <td>4</td>\n",
       "      <td>4</td>\n",
       "      <td>4</td>\n",
       "      <td>4</td>\n",
       "      <td>4</td>\n",
       "      <td>4</td>\n",
       "      <td>...</td>\n",
       "      <td>4</td>\n",
       "      <td>4</td>\n",
       "      <td>4</td>\n",
       "      <td>4</td>\n",
       "      <td>4</td>\n",
       "      <td>4</td>\n",
       "      <td>4</td>\n",
       "      <td>4</td>\n",
       "      <td>4</td>\n",
       "      <td>4</td>\n",
       "    </tr>\n",
       "    <tr>\n",
       "      <th>c2_sti_referral_1_referred</th>\n",
       "      <td>4</td>\n",
       "      <td>4</td>\n",
       "      <td>4</td>\n",
       "      <td>4</td>\n",
       "      <td>4</td>\n",
       "      <td>4</td>\n",
       "      <td>4</td>\n",
       "      <td>4</td>\n",
       "      <td>4</td>\n",
       "      <td>4</td>\n",
       "      <td>...</td>\n",
       "      <td>4</td>\n",
       "      <td>4</td>\n",
       "      <td>4</td>\n",
       "      <td>4</td>\n",
       "      <td>4</td>\n",
       "      <td>4</td>\n",
       "      <td>4</td>\n",
       "      <td>4</td>\n",
       "      <td>4</td>\n",
       "      <td>4</td>\n",
       "    </tr>\n",
       "    <tr>\n",
       "      <th>counter_1_first_outreach_for_quarter</th>\n",
       "      <td>7</td>\n",
       "      <td>7</td>\n",
       "      <td>7</td>\n",
       "      <td>7</td>\n",
       "      <td>7</td>\n",
       "      <td>7</td>\n",
       "      <td>7</td>\n",
       "      <td>7</td>\n",
       "      <td>7</td>\n",
       "      <td>7</td>\n",
       "      <td>...</td>\n",
       "      <td>7</td>\n",
       "      <td>7</td>\n",
       "      <td>7</td>\n",
       "      <td>7</td>\n",
       "      <td>7</td>\n",
       "      <td>7</td>\n",
       "      <td>7</td>\n",
       "      <td>7</td>\n",
       "      <td>7</td>\n",
       "      <td>7</td>\n",
       "    </tr>\n",
       "    <tr>\n",
       "      <th>d1_number_of_sws_screened_for_tb</th>\n",
       "      <td>4</td>\n",
       "      <td>4</td>\n",
       "      <td>4</td>\n",
       "      <td>4</td>\n",
       "      <td>4</td>\n",
       "      <td>4</td>\n",
       "      <td>4</td>\n",
       "      <td>4</td>\n",
       "      <td>4</td>\n",
       "      <td>4</td>\n",
       "      <td>...</td>\n",
       "      <td>4</td>\n",
       "      <td>4</td>\n",
       "      <td>4</td>\n",
       "      <td>4</td>\n",
       "      <td>4</td>\n",
       "      <td>4</td>\n",
       "      <td>4</td>\n",
       "      <td>4</td>\n",
       "      <td>4</td>\n",
       "      <td>4</td>\n",
       "    </tr>\n",
       "    <tr>\n",
       "      <th>difference</th>\n",
       "      <td>7</td>\n",
       "      <td>7</td>\n",
       "      <td>7</td>\n",
       "      <td>7</td>\n",
       "      <td>7</td>\n",
       "      <td>7</td>\n",
       "      <td>7</td>\n",
       "      <td>7</td>\n",
       "      <td>7</td>\n",
       "      <td>7</td>\n",
       "      <td>...</td>\n",
       "      <td>7</td>\n",
       "      <td>7</td>\n",
       "      <td>7</td>\n",
       "      <td>7</td>\n",
       "      <td>7</td>\n",
       "      <td>7</td>\n",
       "      <td>7</td>\n",
       "      <td>7</td>\n",
       "      <td>7</td>\n",
       "      <td>7</td>\n",
       "    </tr>\n",
       "    <tr>\n",
       "      <th>f_1_male_condoms_number_given</th>\n",
       "      <td>6</td>\n",
       "      <td>6</td>\n",
       "      <td>6</td>\n",
       "      <td>6</td>\n",
       "      <td>6</td>\n",
       "      <td>6</td>\n",
       "      <td>6</td>\n",
       "      <td>6</td>\n",
       "      <td>6</td>\n",
       "      <td>6</td>\n",
       "      <td>...</td>\n",
       "      <td>6</td>\n",
       "      <td>6</td>\n",
       "      <td>6</td>\n",
       "      <td>6</td>\n",
       "      <td>6</td>\n",
       "      <td>6</td>\n",
       "      <td>6</td>\n",
       "      <td>6</td>\n",
       "      <td>6</td>\n",
       "      <td>6</td>\n",
       "    </tr>\n",
       "    <tr>\n",
       "      <th>hct_screening</th>\n",
       "      <td>11</td>\n",
       "      <td>11</td>\n",
       "      <td>11</td>\n",
       "      <td>11</td>\n",
       "      <td>11</td>\n",
       "      <td>11</td>\n",
       "      <td>11</td>\n",
       "      <td>11</td>\n",
       "      <td>11</td>\n",
       "      <td>11</td>\n",
       "      <td>...</td>\n",
       "      <td>11</td>\n",
       "      <td>11</td>\n",
       "      <td>11</td>\n",
       "      <td>11</td>\n",
       "      <td>11</td>\n",
       "      <td>11</td>\n",
       "      <td>11</td>\n",
       "      <td>11</td>\n",
       "      <td>11</td>\n",
       "      <td>11</td>\n",
       "    </tr>\n",
       "    <tr>\n",
       "      <th>number_of_services_received_in_quarter</th>\n",
       "      <td>7</td>\n",
       "      <td>7</td>\n",
       "      <td>7</td>\n",
       "      <td>7</td>\n",
       "      <td>7</td>\n",
       "      <td>7</td>\n",
       "      <td>7</td>\n",
       "      <td>7</td>\n",
       "      <td>7</td>\n",
       "      <td>7</td>\n",
       "      <td>...</td>\n",
       "      <td>7</td>\n",
       "      <td>7</td>\n",
       "      <td>7</td>\n",
       "      <td>7</td>\n",
       "      <td>7</td>\n",
       "      <td>7</td>\n",
       "      <td>7</td>\n",
       "      <td>7</td>\n",
       "      <td>7</td>\n",
       "      <td>7</td>\n",
       "    </tr>\n",
       "    <tr>\n",
       "      <th>other_condoms_e_g_doh</th>\n",
       "      <td>4</td>\n",
       "      <td>4</td>\n",
       "      <td>4</td>\n",
       "      <td>4</td>\n",
       "      <td>4</td>\n",
       "      <td>4</td>\n",
       "      <td>4</td>\n",
       "      <td>4</td>\n",
       "      <td>4</td>\n",
       "      <td>4</td>\n",
       "      <td>...</td>\n",
       "      <td>4</td>\n",
       "      <td>4</td>\n",
       "      <td>4</td>\n",
       "      <td>4</td>\n",
       "      <td>4</td>\n",
       "      <td>4</td>\n",
       "      <td>4</td>\n",
       "      <td>4</td>\n",
       "      <td>4</td>\n",
       "      <td>4</td>\n",
       "    </tr>\n",
       "    <tr>\n",
       "      <th>risk_reduction_workshop</th>\n",
       "      <td>6</td>\n",
       "      <td>6</td>\n",
       "      <td>6</td>\n",
       "      <td>6</td>\n",
       "      <td>6</td>\n",
       "      <td>6</td>\n",
       "      <td>6</td>\n",
       "      <td>6</td>\n",
       "      <td>6</td>\n",
       "      <td>6</td>\n",
       "      <td>...</td>\n",
       "      <td>6</td>\n",
       "      <td>6</td>\n",
       "      <td>6</td>\n",
       "      <td>6</td>\n",
       "      <td>6</td>\n",
       "      <td>6</td>\n",
       "      <td>6</td>\n",
       "      <td>6</td>\n",
       "      <td>6</td>\n",
       "      <td>6</td>\n",
       "    </tr>\n",
       "    <tr>\n",
       "      <th>spend</th>\n",
       "      <td>15</td>\n",
       "      <td>15</td>\n",
       "      <td>15</td>\n",
       "      <td>15</td>\n",
       "      <td>15</td>\n",
       "      <td>15</td>\n",
       "      <td>15</td>\n",
       "      <td>15</td>\n",
       "      <td>15</td>\n",
       "      <td>15</td>\n",
       "      <td>...</td>\n",
       "      <td>15</td>\n",
       "      <td>15</td>\n",
       "      <td>15</td>\n",
       "      <td>15</td>\n",
       "      <td>15</td>\n",
       "      <td>15</td>\n",
       "      <td>15</td>\n",
       "      <td>15</td>\n",
       "      <td>15</td>\n",
       "      <td>15</td>\n",
       "    </tr>\n",
       "    <tr>\n",
       "      <th>variance</th>\n",
       "      <td>15</td>\n",
       "      <td>15</td>\n",
       "      <td>15</td>\n",
       "      <td>15</td>\n",
       "      <td>15</td>\n",
       "      <td>15</td>\n",
       "      <td>15</td>\n",
       "      <td>15</td>\n",
       "      <td>15</td>\n",
       "      <td>15</td>\n",
       "      <td>...</td>\n",
       "      <td>15</td>\n",
       "      <td>15</td>\n",
       "      <td>15</td>\n",
       "      <td>15</td>\n",
       "      <td>15</td>\n",
       "      <td>15</td>\n",
       "      <td>15</td>\n",
       "      <td>15</td>\n",
       "      <td>15</td>\n",
       "      <td>15</td>\n",
       "    </tr>\n",
       "  </tbody>\n",
       "</table>\n",
       "<p>17 rows × 23 columns</p>\n",
       "</div>"
      ],
      "text/plain": [
       "                                                    Real_Date  beneficiary  \\\n",
       "field                                                                        \n",
       "b2_sw_tested_hiv_negative                                   4            4   \n",
       "b4_a_referred_for_art1_referred                             4            4   \n",
       "b_1_received_hts_and_know_results                           5            5   \n",
       "b_5_known_hiv_positive_status                               4            4   \n",
       "budget                                                     15           15   \n",
       "c1_sws_screened_for_sexually_transmitted_infect...          4            4   \n",
       "c2_sti_referral_1_referred                                  4            4   \n",
       "counter_1_first_outreach_for_quarter                        7            7   \n",
       "d1_number_of_sws_screened_for_tb                            4            4   \n",
       "difference                                                  7            7   \n",
       "f_1_male_condoms_number_given                               6            6   \n",
       "hct_screening                                              11           11   \n",
       "number_of_services_received_in_quarter                      7            7   \n",
       "other_condoms_e_g_doh                                       4            4   \n",
       "risk_reduction_workshop                                     6            6   \n",
       "spend                                                      15           15   \n",
       "variance                                                   15           15   \n",
       "\n",
       "                                                    budget_line  \\\n",
       "field                                                             \n",
       "b2_sw_tested_hiv_negative                                     4   \n",
       "b4_a_referred_for_art1_referred                               4   \n",
       "b_1_received_hts_and_know_results                             5   \n",
       "b_5_known_hiv_positive_status                                 4   \n",
       "budget                                                       15   \n",
       "c1_sws_screened_for_sexually_transmitted_infect...            4   \n",
       "c2_sti_referral_1_referred                                    4   \n",
       "counter_1_first_outreach_for_quarter                          7   \n",
       "d1_number_of_sws_screened_for_tb                              4   \n",
       "difference                                                    7   \n",
       "f_1_male_condoms_number_given                                 6   \n",
       "hct_screening                                                11   \n",
       "number_of_services_received_in_quarter                        7   \n",
       "other_condoms_e_g_doh                                         4   \n",
       "risk_reduction_workshop                                       6   \n",
       "spend                                                        15   \n",
       "variance                                                     15   \n",
       "\n",
       "                                                    budget_line_full  \\\n",
       "field                                                                  \n",
       "b2_sw_tested_hiv_negative                                          4   \n",
       "b4_a_referred_for_art1_referred                                    4   \n",
       "b_1_received_hts_and_know_results                                  5   \n",
       "b_5_known_hiv_positive_status                                      4   \n",
       "budget                                                            15   \n",
       "c1_sws_screened_for_sexually_transmitted_infect...                 4   \n",
       "c2_sti_referral_1_referred                                         4   \n",
       "counter_1_first_outreach_for_quarter                               7   \n",
       "d1_number_of_sws_screened_for_tb                                   4   \n",
       "difference                                                         7   \n",
       "f_1_male_condoms_number_given                                      6   \n",
       "hct_screening                                                     11   \n",
       "number_of_services_received_in_quarter                             7   \n",
       "other_condoms_e_g_doh                                              4   \n",
       "risk_reduction_workshop                                            6   \n",
       "spend                                                             15   \n",
       "variance                                                          15   \n",
       "\n",
       "                                                    cost_category  \\\n",
       "field                                                               \n",
       "b2_sw_tested_hiv_negative                                       4   \n",
       "b4_a_referred_for_art1_referred                                 4   \n",
       "b_1_received_hts_and_know_results                               5   \n",
       "b_5_known_hiv_positive_status                                   4   \n",
       "budget                                                         15   \n",
       "c1_sws_screened_for_sexually_transmitted_infect...              4   \n",
       "c2_sti_referral_1_referred                                      4   \n",
       "counter_1_first_outreach_for_quarter                            7   \n",
       "d1_number_of_sws_screened_for_tb                                4   \n",
       "difference                                                      7   \n",
       "f_1_male_condoms_number_given                                   6   \n",
       "hct_screening                                                  11   \n",
       "number_of_services_received_in_quarter                          7   \n",
       "other_condoms_e_g_doh                                           4   \n",
       "risk_reduction_workshop                                         6   \n",
       "spend                                                          15   \n",
       "variance                                                       15   \n",
       "\n",
       "                                                    description  \\\n",
       "field                                                             \n",
       "b2_sw_tested_hiv_negative                                     4   \n",
       "b4_a_referred_for_art1_referred                               4   \n",
       "b_1_received_hts_and_know_results                             5   \n",
       "b_5_known_hiv_positive_status                                 4   \n",
       "budget                                                       15   \n",
       "c1_sws_screened_for_sexually_transmitted_infect...            4   \n",
       "c2_sti_referral_1_referred                                    4   \n",
       "counter_1_first_outreach_for_quarter                          7   \n",
       "d1_number_of_sws_screened_for_tb                              4   \n",
       "difference                                                    7   \n",
       "f_1_male_condoms_number_given                                 6   \n",
       "hct_screening                                                11   \n",
       "number_of_services_received_in_quarter                        7   \n",
       "other_condoms_e_g_doh                                         4   \n",
       "risk_reduction_workshop                                       6   \n",
       "spend                                                        15   \n",
       "variance                                                     15   \n",
       "\n",
       "                                                    invoice_receipt_number  \\\n",
       "field                                                                        \n",
       "b2_sw_tested_hiv_negative                                                4   \n",
       "b4_a_referred_for_art1_referred                                          4   \n",
       "b_1_received_hts_and_know_results                                        5   \n",
       "b_5_known_hiv_positive_status                                            4   \n",
       "budget                                                                  15   \n",
       "c1_sws_screened_for_sexually_transmitted_infect...                       4   \n",
       "c2_sti_referral_1_referred                                               4   \n",
       "counter_1_first_outreach_for_quarter                                     7   \n",
       "d1_number_of_sws_screened_for_tb                                         4   \n",
       "difference                                                               7   \n",
       "f_1_male_condoms_number_given                                            6   \n",
       "hct_screening                                                           11   \n",
       "number_of_services_received_in_quarter                                   7   \n",
       "other_condoms_e_g_doh                                                    4   \n",
       "risk_reduction_workshop                                                  6   \n",
       "spend                                                                   15   \n",
       "variance                                                                15   \n",
       "\n",
       "                                                    peer_motivator  province  \\\n",
       "field                                                                          \n",
       "b2_sw_tested_hiv_negative                                        4         4   \n",
       "b4_a_referred_for_art1_referred                                  4         4   \n",
       "b_1_received_hts_and_know_results                                5         5   \n",
       "b_5_known_hiv_positive_status                                    4         4   \n",
       "budget                                                          15        15   \n",
       "c1_sws_screened_for_sexually_transmitted_infect...               4         4   \n",
       "c2_sti_referral_1_referred                                       4         4   \n",
       "counter_1_first_outreach_for_quarter                             7         7   \n",
       "d1_number_of_sws_screened_for_tb                                 4         4   \n",
       "difference                                                       7         7   \n",
       "f_1_male_condoms_number_given                                    6         6   \n",
       "hct_screening                                                   11        11   \n",
       "number_of_services_received_in_quarter                           7         7   \n",
       "other_condoms_e_g_doh                                            4         4   \n",
       "risk_reduction_workshop                                          6         6   \n",
       "spend                                                           15        15   \n",
       "variance                                                        15        15   \n",
       "\n",
       "                                                    province_lat   ...     \\\n",
       "field                                                              ...      \n",
       "b2_sw_tested_hiv_negative                                      4   ...      \n",
       "b4_a_referred_for_art1_referred                                4   ...      \n",
       "b_1_received_hts_and_know_results                              5   ...      \n",
       "b_5_known_hiv_positive_status                                  4   ...      \n",
       "budget                                                        15   ...      \n",
       "c1_sws_screened_for_sexually_transmitted_infect...             4   ...      \n",
       "c2_sti_referral_1_referred                                     4   ...      \n",
       "counter_1_first_outreach_for_quarter                           7   ...      \n",
       "d1_number_of_sws_screened_for_tb                               4   ...      \n",
       "difference                                                     7   ...      \n",
       "f_1_male_condoms_number_given                                  6   ...      \n",
       "hct_screening                                                 11   ...      \n",
       "number_of_services_received_in_quarter                         7   ...      \n",
       "other_condoms_e_g_doh                                          4   ...      \n",
       "risk_reduction_workshop                                        6   ...      \n",
       "spend                                                         15   ...      \n",
       "variance                                                      15   ...      \n",
       "\n",
       "                                                    site_lng  suburb  \\\n",
       "field                                                                  \n",
       "b2_sw_tested_hiv_negative                                  4       4   \n",
       "b4_a_referred_for_art1_referred                            4       4   \n",
       "b_1_received_hts_and_know_results                          5       5   \n",
       "b_5_known_hiv_positive_status                              4       4   \n",
       "budget                                                    15      15   \n",
       "c1_sws_screened_for_sexually_transmitted_infect...         4       4   \n",
       "c2_sti_referral_1_referred                                 4       4   \n",
       "counter_1_first_outreach_for_quarter                       7       7   \n",
       "d1_number_of_sws_screened_for_tb                           4       4   \n",
       "difference                                                 7       7   \n",
       "f_1_male_condoms_number_given                              6       6   \n",
       "hct_screening                                             11      11   \n",
       "number_of_services_received_in_quarter                     7       7   \n",
       "other_condoms_e_g_doh                                      4       4   \n",
       "risk_reduction_workshop                                    6       6   \n",
       "spend                                                     15      15   \n",
       "variance                                                  15      15   \n",
       "\n",
       "                                                    supplier_employee_name  \\\n",
       "field                                                                        \n",
       "b2_sw_tested_hiv_negative                                                4   \n",
       "b4_a_referred_for_art1_referred                                          4   \n",
       "b_1_received_hts_and_know_results                                        5   \n",
       "b_5_known_hiv_positive_status                                            4   \n",
       "budget                                                                  15   \n",
       "c1_sws_screened_for_sexually_transmitted_infect...                       4   \n",
       "c2_sti_referral_1_referred                                               4   \n",
       "counter_1_first_outreach_for_quarter                                     7   \n",
       "d1_number_of_sws_screened_for_tb                                         4   \n",
       "difference                                                               7   \n",
       "f_1_male_condoms_number_given                                            6   \n",
       "hct_screening                                                           11   \n",
       "number_of_services_received_in_quarter                                   7   \n",
       "other_condoms_e_g_doh                                                    4   \n",
       "risk_reduction_workshop                                                  6   \n",
       "spend                                                                   15   \n",
       "variance                                                                15   \n",
       "\n",
       "                                                    transaction_reference  \\\n",
       "field                                                                       \n",
       "b2_sw_tested_hiv_negative                                               4   \n",
       "b4_a_referred_for_art1_referred                                         4   \n",
       "b_1_received_hts_and_know_results                                       5   \n",
       "b_5_known_hiv_positive_status                                           4   \n",
       "budget                                                                 15   \n",
       "c1_sws_screened_for_sexually_transmitted_infect...                      4   \n",
       "c2_sti_referral_1_referred                                              4   \n",
       "counter_1_first_outreach_for_quarter                                    7   \n",
       "d1_number_of_sws_screened_for_tb                                        4   \n",
       "difference                                                              7   \n",
       "f_1_male_condoms_number_given                                           6   \n",
       "hct_screening                                                          11   \n",
       "number_of_services_received_in_quarter                                  7   \n",
       "other_condoms_e_g_doh                                                   4   \n",
       "risk_reduction_workshop                                                 6   \n",
       "spend                                                                  15   \n",
       "variance                                                               15   \n",
       "\n",
       "                                                    val  Date  day  month  \\\n",
       "field                                                                       \n",
       "b2_sw_tested_hiv_negative                             4     4    4      4   \n",
       "b4_a_referred_for_art1_referred                       4     4    4      4   \n",
       "b_1_received_hts_and_know_results                     5     5    5      5   \n",
       "b_5_known_hiv_positive_status                         4     4    4      4   \n",
       "budget                                               15    15   15     15   \n",
       "c1_sws_screened_for_sexually_transmitted_infect...    4     4    4      4   \n",
       "c2_sti_referral_1_referred                            4     4    4      4   \n",
       "counter_1_first_outreach_for_quarter                  7     7    7      7   \n",
       "d1_number_of_sws_screened_for_tb                      4     4    4      4   \n",
       "difference                                            7     7    7      7   \n",
       "f_1_male_condoms_number_given                         6     6    6      6   \n",
       "hct_screening                                        11    11   11     11   \n",
       "number_of_services_received_in_quarter                7     7    7      7   \n",
       "other_condoms_e_g_doh                                 4     4    4      4   \n",
       "risk_reduction_workshop                               6     6    6      6   \n",
       "spend                                                15    15   15     15   \n",
       "variance                                             15    15   15     15   \n",
       "\n",
       "                                                    year  Quarter  \n",
       "field                                                              \n",
       "b2_sw_tested_hiv_negative                              4        4  \n",
       "b4_a_referred_for_art1_referred                        4        4  \n",
       "b_1_received_hts_and_know_results                      5        5  \n",
       "b_5_known_hiv_positive_status                          4        4  \n",
       "budget                                                15       15  \n",
       "c1_sws_screened_for_sexually_transmitted_infect...     4        4  \n",
       "c2_sti_referral_1_referred                             4        4  \n",
       "counter_1_first_outreach_for_quarter                   7        7  \n",
       "d1_number_of_sws_screened_for_tb                       4        4  \n",
       "difference                                             7        7  \n",
       "f_1_male_condoms_number_given                          6        6  \n",
       "hct_screening                                         11       11  \n",
       "number_of_services_received_in_quarter                 7        7  \n",
       "other_condoms_e_g_doh                                  4        4  \n",
       "risk_reduction_workshop                                6        6  \n",
       "spend                                                 15       15  \n",
       "variance                                              15       15  \n",
       "\n",
       "[17 rows x 23 columns]"
      ]
     },
     "execution_count": 500,
     "metadata": {},
     "output_type": "execute_result"
    }
   ],
   "source": [
    "#number of SRs that are reporting for each field\n",
    "SRs_in_field=DF.loc[DF_cut].groupby(['field','subrecipient']).count().groupby(level=0).count()\n",
    "SRs_in_field.loc[(SRs_in_field['Date']>=4) & ~( SRs_in_field.index.str.contains('target'))\\\n",
    "                & ~( SRs_in_field.index.str.contains('amount')) ]"
   ]
  },
  {
   "cell_type": "markdown",
   "metadata": {},
   "source": [
    "<h1> Explore monthly breakdown of good M&E </h1>"
   ]
  },
  {
   "cell_type": "code",
   "execution_count": 63,
   "metadata": {
    "collapsed": false
   },
   "outputs": [
    {
     "data": {
      "text/html": [
       "<div>\n",
       "<table border=\"1\" class=\"dataframe\">\n",
       "  <thead>\n",
       "    <tr style=\"text-align: right;\">\n",
       "      <th></th>\n",
       "      <th></th>\n",
       "      <th>province_lat</th>\n",
       "      <th>province_lng</th>\n",
       "      <th>site_lat</th>\n",
       "      <th>site_lng</th>\n",
       "      <th>val</th>\n",
       "      <th>day</th>\n",
       "      <th>month</th>\n",
       "      <th>year</th>\n",
       "    </tr>\n",
       "    <tr>\n",
       "      <th>Date</th>\n",
       "      <th>subrecipient</th>\n",
       "      <th></th>\n",
       "      <th></th>\n",
       "      <th></th>\n",
       "      <th></th>\n",
       "      <th></th>\n",
       "      <th></th>\n",
       "      <th></th>\n",
       "      <th></th>\n",
       "    </tr>\n",
       "  </thead>\n",
       "  <tbody>\n",
       "    <tr>\n",
       "      <th>2016-04-01</th>\n",
       "      <th>cpc</th>\n",
       "      <td>-3810.331329</td>\n",
       "      <td>3965.819942</td>\n",
       "      <td>-3785.459118</td>\n",
       "      <td>4047.613536</td>\n",
       "      <td>145.0</td>\n",
       "      <td>145</td>\n",
       "      <td>580</td>\n",
       "      <td>292320</td>\n",
       "    </tr>\n",
       "    <tr>\n",
       "      <th>2016-05-01</th>\n",
       "      <th>cpc</th>\n",
       "      <td>-3105.167436</td>\n",
       "      <td>3195.172281</td>\n",
       "      <td>-3073.314446</td>\n",
       "      <td>3283.453935</td>\n",
       "      <td>118.0</td>\n",
       "      <td>118</td>\n",
       "      <td>590</td>\n",
       "      <td>237888</td>\n",
       "    </tr>\n",
       "    <tr>\n",
       "      <th rowspan=\"2\" valign=\"top\">2016-06-01</th>\n",
       "      <th>cpc</th>\n",
       "      <td>-4055.703036</td>\n",
       "      <td>4146.300036</td>\n",
       "      <td>-4006.330349</td>\n",
       "      <td>4268.811554</td>\n",
       "      <td>154.0</td>\n",
       "      <td>154</td>\n",
       "      <td>924</td>\n",
       "      <td>310464</td>\n",
       "    </tr>\n",
       "    <tr>\n",
       "      <th>oasis</th>\n",
       "      <td>-785.514870</td>\n",
       "      <td>841.468590</td>\n",
       "      <td>-778.119870</td>\n",
       "      <td>840.257640</td>\n",
       "      <td>30.0</td>\n",
       "      <td>30</td>\n",
       "      <td>180</td>\n",
       "      <td>60480</td>\n",
       "    </tr>\n",
       "    <tr>\n",
       "      <th rowspan=\"3\" valign=\"top\">2016-07-01</th>\n",
       "      <th>cpc</th>\n",
       "      <td>-4614.832068</td>\n",
       "      <td>4888.641277</td>\n",
       "      <td>-4609.642790</td>\n",
       "      <td>4976.451852</td>\n",
       "      <td>176.0</td>\n",
       "      <td>176</td>\n",
       "      <td>1232</td>\n",
       "      <td>354816</td>\n",
       "    </tr>\n",
       "    <tr>\n",
       "      <th>oasis</th>\n",
       "      <td>-2277.993123</td>\n",
       "      <td>2440.258970</td>\n",
       "      <td>-2268.017577</td>\n",
       "      <td>2435.674713</td>\n",
       "      <td>87.0</td>\n",
       "      <td>87</td>\n",
       "      <td>609</td>\n",
       "      <td>175392</td>\n",
       "    </tr>\n",
       "    <tr>\n",
       "      <th>sweat</th>\n",
       "      <td>-779.648572</td>\n",
       "      <td>458.196846</td>\n",
       "      <td>-780.272700</td>\n",
       "      <td>423.754300</td>\n",
       "      <td>23.0</td>\n",
       "      <td>23</td>\n",
       "      <td>161</td>\n",
       "      <td>46368</td>\n",
       "    </tr>\n",
       "    <tr>\n",
       "      <th rowspan=\"3\" valign=\"top\">2016-08-01</th>\n",
       "      <th>cpc</th>\n",
       "      <td>-4490.031189</td>\n",
       "      <td>4703.088268</td>\n",
       "      <td>-4470.375819</td>\n",
       "      <td>4792.046890</td>\n",
       "      <td>171.0</td>\n",
       "      <td>171</td>\n",
       "      <td>1368</td>\n",
       "      <td>344736</td>\n",
       "    </tr>\n",
       "    <tr>\n",
       "      <th>nqobile</th>\n",
       "      <td>-340.389777</td>\n",
       "      <td>364.636428</td>\n",
       "      <td>-346.882900</td>\n",
       "      <td>366.676700</td>\n",
       "      <td>13.0</td>\n",
       "      <td>13</td>\n",
       "      <td>104</td>\n",
       "      <td>26208</td>\n",
       "    </tr>\n",
       "    <tr>\n",
       "      <th>oasis</th>\n",
       "      <td>-890.250186</td>\n",
       "      <td>953.664415</td>\n",
       "      <td>-884.396464</td>\n",
       "      <td>952.055691</td>\n",
       "      <td>34.0</td>\n",
       "      <td>34</td>\n",
       "      <td>272</td>\n",
       "      <td>68544</td>\n",
       "    </tr>\n",
       "    <tr>\n",
       "      <th rowspan=\"5\" valign=\"top\">2016-09-01</th>\n",
       "      <th>cpc</th>\n",
       "      <td>-4203.537387</td>\n",
       "      <td>4161.279980</td>\n",
       "      <td>-4107.953135</td>\n",
       "      <td>4383.291517</td>\n",
       "      <td>159.0</td>\n",
       "      <td>159</td>\n",
       "      <td>1431</td>\n",
       "      <td>320544</td>\n",
       "    </tr>\n",
       "    <tr>\n",
       "      <th>nqobile</th>\n",
       "      <td>-2094.706320</td>\n",
       "      <td>2243.916480</td>\n",
       "      <td>-2134.664000</td>\n",
       "      <td>2256.472000</td>\n",
       "      <td>80.0</td>\n",
       "      <td>80</td>\n",
       "      <td>720</td>\n",
       "      <td>161280</td>\n",
       "    </tr>\n",
       "    <tr>\n",
       "      <th>oasis</th>\n",
       "      <td>-1283.007621</td>\n",
       "      <td>1374.398735</td>\n",
       "      <td>-1276.922520</td>\n",
       "      <td>1368.240887</td>\n",
       "      <td>49.0</td>\n",
       "      <td>49</td>\n",
       "      <td>441</td>\n",
       "      <td>98784</td>\n",
       "    </tr>\n",
       "    <tr>\n",
       "      <th>qac</th>\n",
       "      <td>-542.760992</td>\n",
       "      <td>512.734855</td>\n",
       "      <td>-534.413000</td>\n",
       "      <td>537.688600</td>\n",
       "      <td>19.0</td>\n",
       "      <td>19</td>\n",
       "      <td>171</td>\n",
       "      <td>38304</td>\n",
       "    </tr>\n",
       "    <tr>\n",
       "      <th>sweat</th>\n",
       "      <td>-169.488820</td>\n",
       "      <td>99.608010</td>\n",
       "      <td>-169.624500</td>\n",
       "      <td>92.120500</td>\n",
       "      <td>5.0</td>\n",
       "      <td>5</td>\n",
       "      <td>45</td>\n",
       "      <td>10080</td>\n",
       "    </tr>\n",
       "  </tbody>\n",
       "</table>\n",
       "</div>"
      ],
      "text/plain": [
       "                         province_lat  province_lng     site_lat     site_lng  \\\n",
       "Date       subrecipient                                                         \n",
       "2016-04-01 cpc           -3810.331329   3965.819942 -3785.459118  4047.613536   \n",
       "2016-05-01 cpc           -3105.167436   3195.172281 -3073.314446  3283.453935   \n",
       "2016-06-01 cpc           -4055.703036   4146.300036 -4006.330349  4268.811554   \n",
       "           oasis          -785.514870    841.468590  -778.119870   840.257640   \n",
       "2016-07-01 cpc           -4614.832068   4888.641277 -4609.642790  4976.451852   \n",
       "           oasis         -2277.993123   2440.258970 -2268.017577  2435.674713   \n",
       "           sweat          -779.648572    458.196846  -780.272700   423.754300   \n",
       "2016-08-01 cpc           -4490.031189   4703.088268 -4470.375819  4792.046890   \n",
       "           nqobile        -340.389777    364.636428  -346.882900   366.676700   \n",
       "           oasis          -890.250186    953.664415  -884.396464   952.055691   \n",
       "2016-09-01 cpc           -4203.537387   4161.279980 -4107.953135  4383.291517   \n",
       "           nqobile       -2094.706320   2243.916480 -2134.664000  2256.472000   \n",
       "           oasis         -1283.007621   1374.398735 -1276.922520  1368.240887   \n",
       "           qac            -542.760992    512.734855  -534.413000   537.688600   \n",
       "           sweat          -169.488820     99.608010  -169.624500    92.120500   \n",
       "\n",
       "                           val  day  month    year  \n",
       "Date       subrecipient                             \n",
       "2016-04-01 cpc           145.0  145    580  292320  \n",
       "2016-05-01 cpc           118.0  118    590  237888  \n",
       "2016-06-01 cpc           154.0  154    924  310464  \n",
       "           oasis          30.0   30    180   60480  \n",
       "2016-07-01 cpc           176.0  176   1232  354816  \n",
       "           oasis          87.0   87    609  175392  \n",
       "           sweat          23.0   23    161   46368  \n",
       "2016-08-01 cpc           171.0  171   1368  344736  \n",
       "           nqobile        13.0   13    104   26208  \n",
       "           oasis          34.0   34    272   68544  \n",
       "2016-09-01 cpc           159.0  159   1431  320544  \n",
       "           nqobile        80.0   80    720  161280  \n",
       "           oasis          49.0   49    441   98784  \n",
       "           qac            19.0   19    171   38304  \n",
       "           sweat           5.0    5     45   10080  "
      ]
     },
     "execution_count": 63,
     "metadata": {},
     "output_type": "execute_result"
    }
   ],
   "source": [
    "DF.loc[DF['field'].str.contains(\"b_1_received_hts_and_know_results\")].groupby(['Date','subrecipient']).sum()"
   ]
  },
  {
   "cell_type": "markdown",
   "metadata": {},
   "source": [
    "<h1> Count the number of unique people reached in a quarter </h1>"
   ]
  },
  {
   "cell_type": "code",
   "execution_count": 91,
   "metadata": {
    "collapsed": false,
    "scrolled": true
   },
   "outputs": [
    {
     "data": {
      "text/plain": [
       "Quarter  subrecipient\n",
       "1        cpc             3677\n",
       "         oasis           1178\n",
       "         qac              922\n",
       "         sweat           1013\n",
       "2        cpc             5680\n",
       "         nqobile         2650\n",
       "         oasis           4109\n",
       "         qac              818\n",
       "         sweat           1778\n",
       "Name: beneficiary, dtype: int64"
      ]
     },
     "execution_count": 91,
     "metadata": {},
     "output_type": "execute_result"
    }
   ],
   "source": [
    "count_new_quarter=DF.loc[(DF['field'].str.contains(\"counter_1_first_outreach_for_quarter\")) & (DF['year']==2016) \\\n",
    "       & (DF['Quarter']>=1) & (DF['Quarter']<=2)]\\\n",
    ".groupby(['Quarter','subrecipient']).beneficiary.nunique()\n",
    "count_new_quarter"
   ]
  },
  {
   "cell_type": "markdown",
   "metadata": {},
   "source": [
    "<h1> Condom distribution data </h1>"
   ]
  },
  {
   "cell_type": "code",
   "execution_count": 554,
   "metadata": {
    "collapsed": false
   },
   "outputs": [
    {
     "data": {
      "text/plain": [
       "Quarter  subrecipient\n",
       "1        cpc             199411.0\n",
       "         qac                 16.0\n",
       "         sweat             4333.0\n",
       "2        cpc             321120.0\n",
       "         sweat             4591.0\n",
       "3        sweat              900.0\n",
       "Name: val, dtype: float64"
      ]
     },
     "execution_count": 554,
     "metadata": {},
     "output_type": "execute_result"
    }
   ],
   "source": [
    "DF.loc[(DF['field'].str.contains(\"f_1\")) & (DF['year']==2016) & (DF['Quarter']>0)]\\\n",
    ".groupby(['Quarter','subrecipient']).sum().val"
   ]
  },
  {
   "cell_type": "markdown",
   "metadata": {},
   "source": [
    "<h1> Get quarterly spending data </h1>"
   ]
  },
  {
   "cell_type": "code",
   "execution_count": 129,
   "metadata": {
    "collapsed": false
   },
   "outputs": [
    {
     "data": {
      "text/plain": [
       "Quarter  subrecipient  \n",
       "1        cpc               2.759530e+06\n",
       "         htt               9.026696e+05\n",
       "         lifeline nc       5.417175e+05\n",
       "         ll durban         8.422708e+05\n",
       "         ll fs             6.321698e+05\n",
       "         ll zululand       6.386447e+05\n",
       "         munna ndi nnyi    8.012208e+05\n",
       "         nqobile           1.443221e+06\n",
       "         oasis             1.778952e+06\n",
       "         phru              1.297509e+06\n",
       "         psh               7.465358e+05\n",
       "         qac               1.400363e+06\n",
       "         sweat             4.444029e+06\n",
       "         thca              2.387249e+04\n",
       "         wrhi              1.736811e+06\n",
       "2        cpc               1.618566e+06\n",
       "         htt               3.580400e+05\n",
       "         lifeline nc       2.402625e+05\n",
       "         ll durban         2.850366e+05\n",
       "         ll fs             4.950573e+05\n",
       "         ll zululand       2.029758e+05\n",
       "         munna ndi nnyi    1.188548e+05\n",
       "         nqobile           6.233507e+05\n",
       "         oasis             6.631024e+05\n",
       "         phru              1.143940e+06\n",
       "         psh               2.018028e+05\n",
       "         qac               9.266312e+05\n",
       "         sweat             2.929222e+06\n",
       "         thca              0.000000e+00\n",
       "         wrhi              2.478493e+06\n",
       "Name: val, dtype: float64"
      ]
     },
     "execution_count": 129,
     "metadata": {},
     "output_type": "execute_result"
    }
   ],
   "source": [
    "plot_spend=DF.loc[(DF['field']=='spend') & (DF['year']<=2016) & (DF['Quarter']<=2)].groupby(['Quarter','subrecipient']).sum()['val']\n",
    "plot_spend"
   ]
  },
  {
   "cell_type": "code",
   "execution_count": 130,
   "metadata": {
    "collapsed": false
   },
   "outputs": [
    {
     "data": {
      "text/plain": [
       "Quarter  subrecipient  \n",
       "1        cpc               0.001332\n",
       "         htt                    NaN\n",
       "         lifeline nc            NaN\n",
       "         ll durban              NaN\n",
       "         ll fs                  NaN\n",
       "         ll zululand            NaN\n",
       "         munna ndi nnyi         NaN\n",
       "         nqobile                NaN\n",
       "         oasis             0.000662\n",
       "         phru                   NaN\n",
       "         psh                    NaN\n",
       "         qac               0.000658\n",
       "         sweat             0.000228\n",
       "         thca                   NaN\n",
       "         wrhi                   NaN\n",
       "2        cpc               0.003509\n",
       "         htt                    NaN\n",
       "         lifeline nc            NaN\n",
       "         ll durban              NaN\n",
       "         ll fs                  NaN\n",
       "         ll zululand            NaN\n",
       "         munna ndi nnyi         NaN\n",
       "         nqobile           0.004251\n",
       "         oasis             0.006197\n",
       "         phru                   NaN\n",
       "         psh                    NaN\n",
       "         qac               0.000883\n",
       "         sweat             0.000607\n",
       "         thca                   NaN\n",
       "         wrhi                   NaN\n",
       "dtype: float64"
      ]
     },
     "execution_count": 130,
     "metadata": {},
     "output_type": "execute_result"
    }
   ],
   "source": [
    "count_new_quarter/plot_spend"
   ]
  },
  {
   "cell_type": "code",
   "execution_count": 131,
   "metadata": {
    "collapsed": false
   },
   "outputs": [
    {
     "data": {
      "text/plain": [
       "[2759530.2799999993,\n",
       " 1778951.9200000004,\n",
       " 1400363.4399999997,\n",
       " 4444028.8642105404,\n",
       " 1618565.6000000003,\n",
       " 623350.68000000017,\n",
       " 663102.42999999982,\n",
       " 926631.22999999986,\n",
       " 2929222.0061405017]"
      ]
     },
     "execution_count": 131,
     "metadata": {},
     "output_type": "execute_result"
    }
   ],
   "source": [
    "[plot_spend[val] for val in count_new_quarter.index]"
   ]
  },
  {
   "cell_type": "code",
   "execution_count": 172,
   "metadata": {
    "collapsed": false
   },
   "outputs": [
    {
     "data": {
      "text/plain": [
       "FrozenList([[1, 2], [u'cpc', u'nqobile', u'oasis', u'qac', u'sweat']])"
      ]
     },
     "execution_count": 172,
     "metadata": {},
     "output_type": "execute_result"
    }
   ],
   "source": [
    "count_new_quarter.index.levels[1]"
   ]
  },
  {
   "cell_type": "code",
   "execution_count": 174,
   "metadata": {
    "collapsed": false
   },
   "outputs": [
    {
     "name": "stdout",
     "output_type": "stream",
     "text": [
      "fail\n"
     ]
    },
    {
     "data": {
      "text/plain": [
       "<matplotlib.text.Text at 0x16d197c50>"
      ]
     },
     "execution_count": 174,
     "metadata": {},
     "output_type": "execute_result"
    },
    {
     "data": {
      "image/png": "[encoded data removed]",
      "text/plain": [
       "<matplotlib.figure.Figure at 0x19470e490>"
      ]
     },
     "metadata": {},
     "output_type": "display_data"
    }
   ],
   "source": [
    "#setup colors\n",
    "start,stop=0,1\n",
    "number_of_colors= len(count_new_quarter.index.levels[1])\n",
    "cm_subsection = linspace(start, stop, number_of_colors) \n",
    "colors = [ cm.jet(x) for x in cm_subsection ]\n",
    "\n",
    "q=1\n",
    "\n",
    "fig=figure()\n",
    "fig.set_size_inches(10, 7)\n",
    "sns.set_context(\"notebook\", font_scale=2.0, rc={\"lines.linewidth\": 2.5})\n",
    "for SR,color in zip(count_new_quarter.index.levels[1],colors):\n",
    "    try: \n",
    "        scatter(plot_spend[(q,SR)]/1e6,count_new_quarter[(q,SR)],color=color,label=SR,s=50)\n",
    "    except KeyError:\n",
    "        print('fail')\n",
    "            \n",
    "plt.legend()\n",
    "plt.ylabel('New People Reached in Quarter')\n",
    "plt.xlabel('Money Spent')"
   ]
  },
  {
   "cell_type": "code",
   "execution_count": 175,
   "metadata": {
    "collapsed": false
   },
   "outputs": [
    {
     "name": "stderr",
     "output_type": "stream",
     "text": [
      "/Users/attiladobi/anaconda2/lib/python2.7/site-packages/IPython/html.py:14: ShimWarning: The `IPython.html` package has been deprecated. You should import from `notebook` instead. `IPython.html.widgets` has moved to `ipywidgets`.\n",
      "  \"`IPython.html.widgets` has moved to `ipywidgets`.\", ShimWarning)\n"
     ]
    }
   ],
   "source": [
    "from IPython.html.widgets import *"
   ]
  },
  {
   "cell_type": "code",
   "execution_count": 408,
   "metadata": {
    "collapsed": true
   },
   "outputs": [],
   "source": [
    "def plot_q(t):\n",
    "    q=t\n",
    "    fig=figure()\n",
    "    fig.set_size_inches(10, 7)\n",
    "    sns.set_context(\"notebook\", font_scale=2.0, rc={\"lines.linewidth\": 2.5})\n",
    "    for SR,color in zip(count_new_quarter.index.levels[1],colors):\n",
    "        try: \n",
    "            scatter(plot_spend[(q,SR)]/1e6,count_new_quarter[(q,SR)],color=color,label=SR,s=200)\n",
    "        except KeyError:\n",
    "            print('fail')\n",
    "\n",
    "    legend=plt.legend(frameon=True )\n",
    "    frame = legend.get_frame()\n",
    "    frame.set_facecolor('white')\n",
    "\n",
    "    plt.ylabel('New People Reached in Quarter')\n",
    "    plt.xlabel('Money Spent ($ Million)')"
   ]
  },
  {
   "cell_type": "code",
   "execution_count": 409,
   "metadata": {
    "collapsed": false
   },
   "outputs": [
    {
     "name": "stdout",
     "output_type": "stream",
     "text": [
      "fail\n"
     ]
    },
    {
     "data": {
      "image/png": "[encoded data removed]",
      "text/plain": [
       "<matplotlib.figure.Figure at 0x181404190>"
      ]
     },
     "metadata": {},
     "output_type": "display_data"
    }
   ],
   "source": [
    "interact(plot_q, t=(1,2,1) )"
   ]
  },
  {
   "cell_type": "markdown",
   "metadata": {},
   "source": [
    "<h1> Bar Chart for people reached normalized to money spent (also norm to target) </h1>"
   ]
  },
  {
   "cell_type": "code",
   "execution_count": 367,
   "metadata": {
    "collapsed": false
   },
   "outputs": [],
   "source": [
    "#After cutting the data is indexed as 1 and 2 on level 1\n",
    "dat=count_new_quarter/plot_spend"
   ]
  },
  {
   "cell_type": "code",
   "execution_count": 368,
   "metadata": {
    "collapsed": false,
    "scrolled": true
   },
   "outputs": [
    {
     "data": {
      "text/plain": [
       "Quarter  subrecipient  \n",
       "1        cpc               0.001332\n",
       "         htt                    NaN\n",
       "         lifeline nc            NaN\n",
       "         ll durban              NaN\n",
       "         ll fs                  NaN\n",
       "         ll zululand            NaN\n",
       "         munna ndi nnyi         NaN\n",
       "         nqobile                NaN\n",
       "         oasis             0.000662\n",
       "         phru                   NaN\n",
       "         psh                    NaN\n",
       "         qac               0.000658\n",
       "         sweat             0.000228\n",
       "         thca                   NaN\n",
       "         wrhi                   NaN\n",
       "2        cpc               0.003509\n",
       "         htt                    NaN\n",
       "         lifeline nc            NaN\n",
       "         ll durban              NaN\n",
       "         ll fs                  NaN\n",
       "         ll zululand            NaN\n",
       "         munna ndi nnyi         NaN\n",
       "         nqobile           0.004251\n",
       "         oasis             0.006197\n",
       "         phru                   NaN\n",
       "         psh                    NaN\n",
       "         qac               0.000883\n",
       "         sweat             0.000607\n",
       "         thca                   NaN\n",
       "         wrhi                   NaN\n",
       "dtype: float64"
      ]
     },
     "execution_count": 368,
     "metadata": {},
     "output_type": "execute_result"
    }
   ],
   "source": [
    "dat"
   ]
  },
  {
   "cell_type": "code",
   "execution_count": 527,
   "metadata": {
    "collapsed": false
   },
   "outputs": [],
   "source": [
    "#Loop through data and build arrays for q1, q2\n",
    "\n",
    "names=[]\n",
    "q1=[]\n",
    "q2=[]\n",
    "for SR in count_new_quarter.index.levels[1]:\n",
    "    names.append(SR)\n",
    "    q1.append(dat[(1,SR)])\n",
    "    q2.append(dat[(2,SR)])\n",
    "q1=np.array(q1)    \n",
    "q2=np.array(q2)    "
   ]
  },
  {
   "cell_type": "code",
   "execution_count": 333,
   "metadata": {
    "collapsed": true
   },
   "outputs": [],
   "source": [
    "#new\n",
    "q1=np.array(dat[1].values)\n",
    "q2=np.array(dat[2].values)\n",
    "names=dat[2].index\n",
    "#this will lead to an error since the first quarter has one less SR reporting"
   ]
  },
  {
   "cell_type": "code",
   "execution_count": 528,
   "metadata": {
    "collapsed": false
   },
   "outputs": [
    {
     "data": {
      "text/plain": [
       "[u'cpc', u'nqobile', u'oasis', u'qac', u'sweat']"
      ]
     },
     "execution_count": 528,
     "metadata": {},
     "output_type": "execute_result"
    }
   ],
   "source": [
    "names"
   ]
  },
  {
   "cell_type": "code",
   "execution_count": 529,
   "metadata": {
    "collapsed": false
   },
   "outputs": [
    {
     "data": {
      "text/plain": [
       "[<matplotlib.text.Text at 0x11ed58fd0>,\n",
       " <matplotlib.text.Text at 0x19532f150>,\n",
       " <matplotlib.text.Text at 0x18f49f690>,\n",
       " <matplotlib.text.Text at 0x18f49fe10>,\n",
       " <matplotlib.text.Text at 0x18d4755d0>]"
      ]
     },
     "execution_count": 529,
     "metadata": {},
     "output_type": "execute_result"
    },
    {
     "data": {
      "image/png": "[encoded data removed]",
      "text/plain": [
       "<matplotlib.figure.Figure at 0x1aea9b8d0>"
      ]
     },
     "metadata": {},
     "output_type": "display_data"
    }
   ],
   "source": [
    "N = 5\n",
    "\n",
    "ind = np.arange(N)  # the x locations for the groups\n",
    "width = 0.35       # the width of the bars\n",
    "\n",
    "fig, ax = plt.subplots()\n",
    "rects1 = ax.bar(ind, q1*1000, width, color='r')\n",
    "\n",
    "rects2 = ax.bar(ind + width, q2*1000, width, color='y')\n",
    "\n",
    "# add some text for labels, title and axes ticks\n",
    "ax.set_ylabel('People Reached per $1000')\n",
    "#ax.set_title('Scores by group and gender')\n",
    "ax.set_xticks(ind + width)\n",
    "ax.set_xticklabels(names)"
   ]
  },
  {
   "cell_type": "code",
   "execution_count": 540,
   "metadata": {
    "collapsed": false
   },
   "outputs": [],
   "source": [
    "# Open File to write the D3 Graph\n",
    "output_file = open('SA.html', 'w')\n",
    "\n",
    "kwargs1 = {\"fontSize\": '100'}\n",
    "\n",
    "chart = multiBarChart(width=800, height=400, x_axis_format=None, **kwargs1)\n",
    "chart.create_y_axis('yAxis','People Reached per $1000')\n",
    "\n",
    "xdata = names\n",
    "#xdata = ['one' , 'two', 'three', 'four']\n",
    "ydata1 = q1*1000\n",
    "ydata2 = q2*1000\n",
    "\n",
    "chart.add_serie(name=\"Quarter 1\", y=ydata1, x=xdata ,**kwargs1)\n",
    "chart.add_serie(name=\"Quarter 2\", y=ydata2, x=xdata, **kwargs1)\n",
    "\n",
    "chart.buildhtml()\n",
    "\n",
    "output_file.write(chart.htmlcontent)\n",
    "\n",
    "# close Html file\n",
    "output_file.close()"
   ]
  },
  {
   "cell_type": "code",
   "execution_count": null,
   "metadata": {
    "collapsed": true
   },
   "outputs": [],
   "source": [
    "chart"
   ]
  },
  {
   "cell_type": "markdown",
   "metadata": {},
   "source": [
    "<h1> Do the same for F1 indicator </h1>"
   ]
  },
  {
   "cell_type": "code",
   "execution_count": 532,
   "metadata": {
    "collapsed": false
   },
   "outputs": [],
   "source": [
    "condoms=DF.loc[(DF['field'].str.contains(\"f_1\")) & (DF['year']==2016) & (DF['Quarter']>0) ]\\\n",
    ".groupby(['Quarter','subrecipient']).sum().val"
   ]
  },
  {
   "cell_type": "code",
   "execution_count": 533,
   "metadata": {
    "collapsed": true
   },
   "outputs": [],
   "source": [
    "condoms_per_spend=condoms/plot_spend\n",
    "\n",
    "names=[]\n",
    "q1=[]\n",
    "q2=[]\n",
    "for SR in condoms.index.levels[1]:\n",
    "    names.append(SR)\n",
    "    q1.append(condoms_per_spend[(1,SR)])\n",
    "    q2.append(condoms_per_spend[(2,SR)])\n",
    "q1=np.array(q1)    \n",
    "q2=np.array(q2) "
   ]
  },
  {
   "cell_type": "code",
   "execution_count": 546,
   "metadata": {
    "collapsed": false
   },
   "outputs": [
    {
     "data": {
      "text/plain": [
       "Quarter  subrecipient\n",
       "1        cpc             199411.0\n",
       "         qac                 16.0\n",
       "         sweat             4333.0\n",
       "2        cpc             321120.0\n",
       "         sweat             4591.0\n",
       "3        sweat              900.0\n",
       "Name: val, dtype: float64"
      ]
     },
     "execution_count": 546,
     "metadata": {},
     "output_type": "execute_result"
    }
   ],
   "source": [
    "condoms"
   ]
  },
  {
   "cell_type": "code",
   "execution_count": 547,
   "metadata": {
    "collapsed": false
   },
   "outputs": [],
   "source": [
    "# Open File to write the D3 Graph\n",
    "output_file = open('SA_condoms.html', 'w')\n",
    "\n",
    "kwargs1 = {\"fontSize\": '100'}\n",
    "\n",
    "chart = multiBarChart(width=800, height=400, x_axis_format=None, **kwargs1)\n",
    "chart.create_y_axis('yAxis','Condoms per $1000')\n",
    "\n",
    "xdata = names\n",
    "#xdata = ['one' , 'two', 'three', 'four']\n",
    "ydata1 = q1*1000\n",
    "ydata2 = q2*1000\n",
    "\n",
    "chart.add_serie(name=\"Quarter 1\", y=ydata1, x=xdata ,**kwargs1)\n",
    "chart.add_serie(name=\"Quarter 2\", y=ydata2, x=xdata, **kwargs1)\n",
    "\n",
    "chart.buildhtml()\n",
    "\n",
    "output_file.write(chart.htmlcontent)\n",
    "\n",
    "# close Html file\n",
    "output_file.close()\n"
   ]
  },
  {
   "cell_type": "code",
   "execution_count": 557,
   "metadata": {
    "collapsed": false
   },
   "outputs": [],
   "source": [
    "#chart"
   ]
  },
  {
   "cell_type": "markdown",
   "metadata": {},
   "source": [
    "<h1> c1 indicator </h1>"
   ]
  },
  {
   "cell_type": "code",
   "execution_count": 555,
   "metadata": {
    "collapsed": false
   },
   "outputs": [
    {
     "data": {
      "text/plain": [
       "Quarter  subrecipient\n",
       "1        oasis             30.0\n",
       "2        cpc             5631.0\n",
       "         nqobile          109.0\n",
       "         oasis           2208.0\n",
       "         qac               22.0\n",
       "Name: val, dtype: float64"
      ]
     },
     "execution_count": 555,
     "metadata": {},
     "output_type": "execute_result"
    }
   ],
   "source": [
    "std_screen=DF.loc[(DF['field'].str.contains(\"c1_sws_screened_for_sexually_transmitted_infections_sti_2\")) & (DF['year']==2016) & (DF['Quarter']>0) ]\\\n",
    ".groupby(['Quarter','subrecipient']).sum().val\n",
    "std_screen"
   ]
  },
  {
   "cell_type": "code",
   "execution_count": 556,
   "metadata": {
    "collapsed": true
   },
   "outputs": [],
   "source": [
    "std_screen_per_spend=std_screen/plot_spend\n",
    "\n",
    "names=[]\n",
    "q1=[]\n",
    "q2=[]\n",
    "for SR in std_screen.index.levels[1]:\n",
    "    names.append(SR)\n",
    "    q1.append(std_screen_per_spend[(1,SR)])\n",
    "    q2.append(std_screen_per_spend[(2,SR)])\n",
    "q1=np.array(q1)    \n",
    "q2=np.array(q2) "
   ]
  },
  {
   "cell_type": "code",
   "execution_count": 566,
   "metadata": {
    "collapsed": false
   },
   "outputs": [],
   "source": [
    "# Open File to write the D3 Graph\n",
    "output_file = open('SA_std_screen.html', 'w')\n",
    "\n",
    "kwargs1 = {\"fontSize\": '100'}\n",
    "\n",
    "chart = multiBarChart(width=800, height=400, x_axis_format=None, **kwargs1)\n",
    "chart.create_y_axis('yAxis','STI screen per $1000')\n",
    "\n",
    "xdata = names\n",
    "#xdata = ['one' , 'two', 'three', 'four']\n",
    "ydata1 = q1*1000\n",
    "ydata2 = q2*1000\n",
    "\n",
    "chart.add_serie(name=\"Quarter 1\", y=ydata1, x=xdata ,**kwargs1)\n",
    "chart.add_serie(name=\"Quarter 2\", y=ydata2, x=xdata, **kwargs1)\n",
    "\n",
    "chart.buildhtml()\n",
    "\n",
    "output_file.write(chart.htmlcontent)\n",
    "\n",
    "# close Html file\n",
    "output_file.close()\n",
    "\n",
    "#chart"
   ]
  },
  {
   "cell_type": "markdown",
   "metadata": {},
   "source": [
    "<h1> number_of_services_received_in_quarter </h1>"
   ]
  },
  {
   "cell_type": "code",
   "execution_count": 568,
   "metadata": {
    "collapsed": false
   },
   "outputs": [
    {
     "data": {
      "text/html": [
       "<!DOCTYPE html>\n",
       "<html lang=\"en\">\n",
       "    <head>\n",
       "        <meta charset=\"utf-8\" />\n",
       "        <link href=\"https://cdnjs.cloudflare.com/ajax/libs/nvd3/1.7.0/nv.d3.min.css\" rel=\"stylesheet\" />\n",
       "        <script src=\"https://cdnjs.cloudflare.com/ajax/libs/d3/3.5.5/d3.min.js\"></script>\n",
       "        <script src=\"https://cdnjs.cloudflare.com/ajax/libs/nvd3/1.7.0/nv.d3.min.js\"></script>\n",
       "    </head>\n",
       "    <body>\n",
       "        \n",
       "    <div id=\"multibarchart\"><svg style=\"width:800px;height:400px;\"></svg></div>\n",
       "\n",
       "\n",
       "    <script>\n",
       "\n",
       "\n",
       "\n",
       "        data_multibarchart=[{\"values\": [{\"y\": 2.5605807086849586, \"x\": \"cpc\"}, {\"y\": NaN, \"x\": \"nqobile\"}, {\"y\": 0.72851884608550843, \"x\": \"oasis\"}, {\"y\": 2.683589054567149, \"x\": \"qac\"}, {\"y\": 0.4255147879954031, \"x\": \"sweat\"}], \"key\": \"Quarter 1\", \"yAxis\": \"1\"}, {\"values\": [{\"y\": 4.2049577724869467, \"x\": \"cpc\"}, {\"y\": 4.7469267218895137, \"x\": \"nqobile\"}, {\"y\": 8.0741673650630439, \"x\": \"oasis\"}, {\"y\": 10.042830091103234, \"x\": \"qac\"}, {\"y\": 0.74149381489243771, \"x\": \"sweat\"}], \"key\": \"Quarter 2\", \"yAxis\": \"1\"}];\n",
       "\n",
       "    nv.addGraph(function() {\n",
       "        var chart = nv.models.multiBarChart();\n",
       "\n",
       "        chart.margin({top: 30, right: 60, bottom: 20, left: 60});\n",
       "\n",
       "        var datum = data_multibarchart;\n",
       "\n",
       "\n",
       "\n",
       "\n",
       "\n",
       "            chart.yAxis\n",
       "                .axisLabel('number of services per $1000');\n",
       "\n",
       "\n",
       "      chart.showLegend(true);\n",
       "\n",
       "\n",
       "\n",
       "        \n",
       "\n",
       "\n",
       "        d3.select('#multibarchart svg')\n",
       "            .datum(datum)\n",
       "            .transition().duration(500)\n",
       "            .attr('width', 800)\n",
       "            .attr('height', 400)\n",
       "            .call(chart);\n",
       "\n",
       "\n",
       "    });\n",
       "\n",
       "\n",
       "\n",
       "\n",
       "    </script>\n",
       "\n",
       "    </body>\n",
       "</html>"
      ],
      "text/plain": [
       "<nvd3.multiBarChart.multiBarChart at 0x1ad14f790>"
      ]
     },
     "execution_count": 568,
     "metadata": {},
     "output_type": "execute_result"
    }
   ],
   "source": [
    "services=DF.loc[(DF['field'].str.contains(\"number_of_services_received_in_quarter\")) & (DF['year']==2016) \\\n",
    "                & (DF['Quarter']>0) & (DF['Quarter']<=2)]\\\n",
    ".groupby(['Quarter','subrecipient']).sum().val\n",
    "\n",
    "#services\n",
    "\n",
    "\n",
    "services_per_spend=services/plot_spend\n",
    "\n",
    "names=[]\n",
    "q1=[]\n",
    "q2=[]\n",
    "for SR in services.index.levels[1]:\n",
    "    names.append(SR)\n",
    "    q1.append(services_per_spend[(1,SR)])\n",
    "    q2.append(services_per_spend[(2,SR)])\n",
    "q1=np.array(q1)    \n",
    "q2=np.array(q2) \n",
    "\n",
    "\n",
    "# Open File to write the D3 Graph\n",
    "output_file = open('SA_services.html', 'w')\n",
    "\n",
    "kwargs1 = {\"fontSize\": '100'}\n",
    "\n",
    "chart = multiBarChart(width=800, height=400, x_axis_format=None, **kwargs1)\n",
    "chart.create_y_axis('yAxis','number of services per $1000')\n",
    "\n",
    "xdata = names\n",
    "#xdata = ['one' , 'two', 'three', 'four']\n",
    "ydata1 = q1*1000\n",
    "ydata2 = q2*1000\n",
    "\n",
    "chart.add_serie(name=\"Quarter 1\", y=ydata1, x=xdata ,**kwargs1)\n",
    "chart.add_serie(name=\"Quarter 2\", y=ydata2, x=xdata, **kwargs1)\n",
    "\n",
    "chart.buildhtml()\n",
    "\n",
    "output_file.write(chart.htmlcontent)\n",
    "\n",
    "# close Html file\n",
    "output_file.close()\n",
    "\n",
    "chart"
   ]
  },
  {
   "cell_type": "code",
   "execution_count": null,
   "metadata": {
    "collapsed": true
   },
   "outputs": [],
   "source": []
  }
 ],
 "metadata": {
  "kernelspec": {
   "display_name": "Python 2",
   "language": "python",
   "name": "python2"
  },
  "language_info": {
   "codemirror_mode": {
    "name": "ipython",
    "version": 2
   },
   "file_extension": ".py",
   "mimetype": "text/x-python",
   "name": "python",
   "nbconvert_exporter": "python",
   "pygments_lexer": "ipython2",
   "version": "2.7.9"
  }
 },
 "nbformat": 4,
 "nbformat_minor": 0
}
