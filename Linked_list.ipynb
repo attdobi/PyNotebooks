{
 "cells": [
  {
   "cell_type": "code",
   "execution_count": 31,
   "metadata": {
    "collapsed": true
   },
   "outputs": [],
   "source": [
    "class Node:\n",
    "    \"\"\"Linked List\"\"\"\n",
    "    def __init__(self,Next=None,value=None): #always initialize to this value when class istance is defined\n",
    "        self.Next = Next\n",
    "        self.value=value"
   ]
  },
  {
   "cell_type": "code",
   "execution_count": 21,
   "metadata": {
    "collapsed": true
   },
   "outputs": [],
   "source": [
    "def put(val,ExList):\n",
    "    if ExList.Head.value==None:\n",
    "        ExList.Head.value=val\n",
    "        return\n",
    "    elif ExList.Head.Next==None:\n",
    "        ExList.Head.Next=Node()\n",
    "        node=ExList.Head.Next\n",
    "        node.value=val\n",
    "        return put(val,node)\n",
    "#def get(node):\n",
    "#    #print ExList.Head.value\n",
    "#    if ExList.Head.Next is not None:\n",
    "#       print node.value\n",
    "#    no"
   ]
  },
  {
   "cell_type": "code",
   "execution_count": 35,
   "metadata": {
    "collapsed": false
   },
   "outputs": [],
   "source": [
    "def build(val,previousNode=None):\n",
    "    if previousNode==None:\n",
    "        node=Node()\n",
    "        node.value=val\n",
    "        return node\n",
    "    else:\n",
    "        previousNode.Next = Node(value=val)\n",
    "        return previousNode.Next"
   ]
  },
  {
   "cell_type": "code",
   "execution_count": 65,
   "metadata": {
    "collapsed": false
   },
   "outputs": [],
   "source": [
    "n1=build(2)\n",
    "n2=build(4,n1)\n",
    "n3=build(5,n2)\n",
    "n4=build(6,n3)\n",
    "n5=build(8,n4)\n",
    "n5.Next=n3\n"
   ]
  },
  {
   "cell_type": "code",
   "execution_count": 66,
   "metadata": {
    "collapsed": true
   },
   "outputs": [],
   "source": [
    "def isloop(node=n1):\n",
    "    p1=node\n",
    "    p2=node\n",
    "    while p2 is not None:\n",
    "        p1=p1.Next\n",
    "        p2=p2.Next\n",
    "        if p2 is None:\n",
    "            print 'not a linked list'\n",
    "            return\n",
    "        p2=p2.Next\n",
    "        if p2.value == p1.value:\n",
    "            print 'is a linked list'\n",
    "            return p1\n",
    "    print 'not a linked list'\n",
    "    return"
   ]
  },
  {
   "cell_type": "code",
   "execution_count": 67,
   "metadata": {
    "collapsed": false
   },
   "outputs": [
    {
     "name": "stdout",
     "output_type": "stream",
     "text": [
      "is a linked list\n"
     ]
    }
   ],
   "source": [
    "node_in_loop = isloop(n1)"
   ]
  },
  {
   "cell_type": "code",
   "execution_count": 70,
   "metadata": {
    "collapsed": false
   },
   "outputs": [
    {
     "data": {
      "text/plain": [
       "6"
      ]
     },
     "execution_count": 70,
     "metadata": {},
     "output_type": "execute_result"
    }
   ],
   "source": [
    "node_in_loop.value"
   ]
  },
  {
   "cell_type": "code",
   "execution_count": 71,
   "metadata": {
    "collapsed": false
   },
   "outputs": [],
   "source": [
    "def looplen(node=node_in_loop:\n",
    "    val_0=node.value\n",
    "    node=node.Next\n",
    "    val=node.value\n",
    "    ii=1\n",
    "    while val_0 != val:\n",
    "        node=node.Next\n",
    "        val=node.value\n",
    "        ii=ii+1\n",
    "    return ii"
   ]
  },
  {
   "cell_type": "code",
   "execution_count": 75,
   "metadata": {
    "collapsed": false
   },
   "outputs": [],
   "source": [
    "loopsize=looplen(node_in_loop)"
   ]
  },
  {
   "cell_type": "code",
   "execution_count": 85,
   "metadata": {
    "collapsed": false
   },
   "outputs": [],
   "source": [
    "def entrynode(looplen=loopsize, node=n1):\n",
    "    p1=node\n",
    "    p2=node\n",
    "    ii=1\n",
    "    while ii<=looplen:\n",
    "        p2=p2.Next\n",
    "        ii=ii+1\n",
    "        \n",
    "    val_1=p1.value\n",
    "    val_2=p2.value\n",
    "    while val_1 != val_2:\n",
    "        p1=p1.Next\n",
    "        p2=p2.Next\n",
    "        val_1=p1.value\n",
    "        val_2=p2.value\n",
    "    return p1"
   ]
  },
  {
   "cell_type": "code",
   "execution_count": 86,
   "metadata": {
    "collapsed": false
   },
   "outputs": [],
   "source": [
    "en_node=entrynode(loopsize,n1)"
   ]
  },
  {
   "cell_type": "code",
   "execution_count": 87,
   "metadata": {
    "collapsed": false
   },
   "outputs": [
    {
     "data": {
      "text/plain": [
       "5"
      ]
     },
     "execution_count": 87,
     "metadata": {},
     "output_type": "execute_result"
    }
   ],
   "source": [
    "en_node.value"
   ]
  },
  {
   "cell_type": "markdown",
   "metadata": {},
   "source": [
    "<h1> last node = entry node + move to the right looplen-1 </h1>"
   ]
  },
  {
   "cell_type": "code",
   "execution_count": null,
   "metadata": {
    "collapsed": true
   },
   "outputs": [],
   "source": [
    "def lastnode(node= en_node, looplen=loopsize):\n",
    "    for ii in range"
   ]
  }
 ],
 "metadata": {
  "kernelspec": {
   "display_name": "Python 2",
   "language": "python",
   "name": "python2"
  },
  "language_info": {
   "codemirror_mode": {
    "name": "ipython",
    "version": 2
   },
   "file_extension": ".py",
   "mimetype": "text/x-python",
   "name": "python",
   "nbconvert_exporter": "python",
   "pygments_lexer": "ipython2",
   "version": "2.7.13"
  }
 },
 "nbformat": 4,
 "nbformat_minor": 0
}
