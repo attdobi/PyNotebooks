{
 "cells": [
  {
   "cell_type": "code",
   "execution_count": 2,
   "metadata": {
    "collapsed": true
   },
   "outputs": [],
   "source": [
    "TS = open(\"/Users/attiladobi/emojify/lyrics/TS.txt\").read()"
   ]
  },
  {
   "cell_type": "code",
   "execution_count": 1,
   "metadata": {
    "collapsed": false
   },
   "outputs": [
    {
     "name": "stdout",
     "output_type": "stream",
     "text": [
      "<type 'numpy.ndarray'>\n"
     ]
    }
   ],
   "source": [
    "import numpy as np\n",
    "a=np.array([1,2,3,4])\n",
    "print(type(a))"
   ]
  },
  {
   "cell_type": "code",
   "execution_count": 5,
   "metadata": {
    "collapsed": false
   },
   "outputs": [
    {
     "data": {
      "text/plain": [
       "array([  0.        ,   0.05025126,   0.10050251,   0.15075377,\n",
       "         0.20100503,   0.25125628,   0.30150754,   0.35175879,\n",
       "         0.40201005,   0.45226131,   0.50251256,   0.55276382,\n",
       "         0.60301508,   0.65326633,   0.70351759,   0.75376884,\n",
       "         0.8040201 ,   0.85427136,   0.90452261,   0.95477387,\n",
       "         1.00502513,   1.05527638,   1.10552764,   1.15577889,\n",
       "         1.20603015,   1.25628141,   1.30653266,   1.35678392,\n",
       "         1.40703518,   1.45728643,   1.50753769,   1.55778894,\n",
       "         1.6080402 ,   1.65829146,   1.70854271,   1.75879397,\n",
       "         1.80904523,   1.85929648,   1.90954774,   1.95979899,\n",
       "         2.01005025,   2.06030151,   2.11055276,   2.16080402,\n",
       "         2.21105528,   2.26130653,   2.31155779,   2.36180905,\n",
       "         2.4120603 ,   2.46231156,   2.51256281,   2.56281407,\n",
       "         2.61306533,   2.66331658,   2.71356784,   2.7638191 ,\n",
       "         2.81407035,   2.86432161,   2.91457286,   2.96482412,\n",
       "         3.01507538,   3.06532663,   3.11557789,   3.16582915,\n",
       "         3.2160804 ,   3.26633166,   3.31658291,   3.36683417,\n",
       "         3.41708543,   3.46733668,   3.51758794,   3.5678392 ,\n",
       "         3.61809045,   3.66834171,   3.71859296,   3.76884422,\n",
       "         3.81909548,   3.86934673,   3.91959799,   3.96984925,\n",
       "         4.0201005 ,   4.07035176,   4.12060302,   4.17085427,\n",
       "         4.22110553,   4.27135678,   4.32160804,   4.3718593 ,\n",
       "         4.42211055,   4.47236181,   4.52261307,   4.57286432,\n",
       "         4.62311558,   4.67336683,   4.72361809,   4.77386935,\n",
       "         4.8241206 ,   4.87437186,   4.92462312,   4.97487437,\n",
       "         5.02512563,   5.07537688,   5.12562814,   5.1758794 ,\n",
       "         5.22613065,   5.27638191,   5.32663317,   5.37688442,\n",
       "         5.42713568,   5.47738693,   5.52763819,   5.57788945,\n",
       "         5.6281407 ,   5.67839196,   5.72864322,   5.77889447,\n",
       "         5.82914573,   5.87939698,   5.92964824,   5.9798995 ,\n",
       "         6.03015075,   6.08040201,   6.13065327,   6.18090452,\n",
       "         6.23115578,   6.28140704,   6.33165829,   6.38190955,\n",
       "         6.4321608 ,   6.48241206,   6.53266332,   6.58291457,\n",
       "         6.63316583,   6.68341709,   6.73366834,   6.7839196 ,\n",
       "         6.83417085,   6.88442211,   6.93467337,   6.98492462,\n",
       "         7.03517588,   7.08542714,   7.13567839,   7.18592965,\n",
       "         7.2361809 ,   7.28643216,   7.33668342,   7.38693467,\n",
       "         7.43718593,   7.48743719,   7.53768844,   7.5879397 ,\n",
       "         7.63819095,   7.68844221,   7.73869347,   7.78894472,\n",
       "         7.83919598,   7.88944724,   7.93969849,   7.98994975,\n",
       "         8.04020101,   8.09045226,   8.14070352,   8.19095477,\n",
       "         8.24120603,   8.29145729,   8.34170854,   8.3919598 ,\n",
       "         8.44221106,   8.49246231,   8.54271357,   8.59296482,\n",
       "         8.64321608,   8.69346734,   8.74371859,   8.79396985,\n",
       "         8.84422111,   8.89447236,   8.94472362,   8.99497487,\n",
       "         9.04522613,   9.09547739,   9.14572864,   9.1959799 ,\n",
       "         9.24623116,   9.29648241,   9.34673367,   9.39698492,\n",
       "         9.44723618,   9.49748744,   9.54773869,   9.59798995,\n",
       "         9.64824121,   9.69849246,   9.74874372,   9.79899497,\n",
       "         9.84924623,   9.89949749,   9.94974874,  10.        ])"
      ]
     },
     "execution_count": 5,
     "metadata": {},
     "output_type": "execute_result"
    }
   ],
   "source": [
    "np.linspace(0,10,200)"
   ]
  },
  {
   "cell_type": "code",
   "execution_count": 4,
   "metadata": {
    "collapsed": false
   },
   "outputs": [
    {
     "data": {
      "text/plain": [
       "array([ 0.70061828,  0.18768944,  0.5923273 ])"
      ]
     },
     "execution_count": 4,
     "metadata": {},
     "output_type": "execute_result"
    }
   ],
   "source": [
    "np.random.rand(3)"
   ]
  },
  {
   "cell_type": "code",
   "execution_count": 82,
   "metadata": {
    "collapsed": false
   },
   "outputs": [],
   "source": [
    "import pandas as pd\n",
    "import numpy\n",
    "#read emoji codes:\n",
    "emoji_key = pd.read_excel('/Users/attiladobi/emojify_local/data/emoji_list.xlsx', encoding='utf-8', index_col=0, skiprows=1)\n",
    "#remove common face emojis\n",
    "noise_index=range(69)\n",
    "emj_codes_face=[code for index,code in zip(emoji_key.index,emoji_key['Unicode']) if index in noise_index]\n"
   ]
  },
  {
   "cell_type": "code",
   "execution_count": 81,
   "metadata": {
    "collapsed": false
   },
   "outputs": [
    {
     "ename": "UnicodeEncodeError",
     "evalue": "'ascii' codec can't encode characters in position 0-1: ordinal not in range(128)",
     "output_type": "error",
     "traceback": [
      "\u001b[0;31m---------------------------------------------------------------------------\u001b[0m",
      "\u001b[0;31mUnicodeEncodeError\u001b[0m                        Traceback (most recent call last)",
      "\u001b[0;32m<ipython-input-81-7153f0dca847>\u001b[0m in \u001b[0;36m<module>\u001b[0;34m()\u001b[0m\n\u001b[1;32m      1\u001b[0m \u001b[0mpd_cut\u001b[0m\u001b[0;34m=\u001b[0m\u001b[0mpd\u001b[0m\u001b[0;34m.\u001b[0m\u001b[0mDataFrame\u001b[0m\u001b[0;34m(\u001b[0m\u001b[0memj_codes_face\u001b[0m\u001b[0;34m)\u001b[0m\u001b[0;34m\u001b[0m\u001b[0m\n\u001b[0;32m----> 2\u001b[0;31m \u001b[0mpd_cut\u001b[0m\u001b[0;34m.\u001b[0m\u001b[0mto_csv\u001b[0m\u001b[0;34m(\u001b[0m\u001b[0;34m'/Users/attiladobi/emojify/data/face_codes.txt'\u001b[0m\u001b[0;34m)\u001b[0m\u001b[0;34m\u001b[0m\u001b[0m\n\u001b[0m",
      "\u001b[0;32m/Users/attiladobi/anaconda/lib/python2.7/site-packages/pandas/core/frame.pyc\u001b[0m in \u001b[0;36mto_csv\u001b[0;34m(self, path_or_buf, sep, na_rep, float_format, columns, header, index, index_label, mode, encoding, compression, quoting, quotechar, line_terminator, chunksize, tupleize_cols, date_format, doublequote, escapechar, decimal, **kwds)\u001b[0m\n\u001b[1;32m   1330\u001b[0m                                      \u001b[0mescapechar\u001b[0m\u001b[0;34m=\u001b[0m\u001b[0mescapechar\u001b[0m\u001b[0;34m,\u001b[0m\u001b[0;34m\u001b[0m\u001b[0m\n\u001b[1;32m   1331\u001b[0m                                      decimal=decimal)\n\u001b[0;32m-> 1332\u001b[0;31m         \u001b[0mformatter\u001b[0m\u001b[0;34m.\u001b[0m\u001b[0msave\u001b[0m\u001b[0;34m(\u001b[0m\u001b[0;34m)\u001b[0m\u001b[0;34m\u001b[0m\u001b[0m\n\u001b[0m\u001b[1;32m   1333\u001b[0m \u001b[0;34m\u001b[0m\u001b[0m\n\u001b[1;32m   1334\u001b[0m         \u001b[0;32mif\u001b[0m \u001b[0mpath_or_buf\u001b[0m \u001b[0;32mis\u001b[0m \u001b[0mNone\u001b[0m\u001b[0;34m:\u001b[0m\u001b[0;34m\u001b[0m\u001b[0m\n",
      "\u001b[0;32m/Users/attiladobi/anaconda/lib/python2.7/site-packages/pandas/core/format.pyc\u001b[0m in \u001b[0;36msave\u001b[0;34m(self)\u001b[0m\n\u001b[1;32m   1504\u001b[0m \u001b[0;34m\u001b[0m\u001b[0m\n\u001b[1;32m   1505\u001b[0m             \u001b[0;32melse\u001b[0m\u001b[0;34m:\u001b[0m\u001b[0;34m\u001b[0m\u001b[0m\n\u001b[0;32m-> 1506\u001b[0;31m                 \u001b[0mself\u001b[0m\u001b[0;34m.\u001b[0m\u001b[0m_save\u001b[0m\u001b[0;34m(\u001b[0m\u001b[0;34m)\u001b[0m\u001b[0;34m\u001b[0m\u001b[0m\n\u001b[0m\u001b[1;32m   1507\u001b[0m \u001b[0;34m\u001b[0m\u001b[0m\n\u001b[1;32m   1508\u001b[0m         \u001b[0;32mfinally\u001b[0m\u001b[0;34m:\u001b[0m\u001b[0;34m\u001b[0m\u001b[0m\n",
      "\u001b[0;32m/Users/attiladobi/anaconda/lib/python2.7/site-packages/pandas/core/format.pyc\u001b[0m in \u001b[0;36m_save\u001b[0;34m(self)\u001b[0m\n\u001b[1;32m   1604\u001b[0m                 \u001b[0;32mbreak\u001b[0m\u001b[0;34m\u001b[0m\u001b[0m\n\u001b[1;32m   1605\u001b[0m \u001b[0;34m\u001b[0m\u001b[0m\n\u001b[0;32m-> 1606\u001b[0;31m             \u001b[0mself\u001b[0m\u001b[0;34m.\u001b[0m\u001b[0m_save_chunk\u001b[0m\u001b[0;34m(\u001b[0m\u001b[0mstart_i\u001b[0m\u001b[0;34m,\u001b[0m \u001b[0mend_i\u001b[0m\u001b[0;34m)\u001b[0m\u001b[0;34m\u001b[0m\u001b[0m\n\u001b[0m\u001b[1;32m   1607\u001b[0m \u001b[0;34m\u001b[0m\u001b[0m\n\u001b[1;32m   1608\u001b[0m     \u001b[0;32mdef\u001b[0m \u001b[0m_save_chunk\u001b[0m\u001b[0;34m(\u001b[0m\u001b[0mself\u001b[0m\u001b[0;34m,\u001b[0m \u001b[0mstart_i\u001b[0m\u001b[0;34m,\u001b[0m \u001b[0mend_i\u001b[0m\u001b[0;34m)\u001b[0m\u001b[0;34m:\u001b[0m\u001b[0;34m\u001b[0m\u001b[0m\n",
      "\u001b[0;32m/Users/attiladobi/anaconda/lib/python2.7/site-packages/pandas/core/format.pyc\u001b[0m in \u001b[0;36m_save_chunk\u001b[0;34m(self, start_i, end_i)\u001b[0m\n\u001b[1;32m   1631\u001b[0m                                         quoting=self.quoting)\n\u001b[1;32m   1632\u001b[0m \u001b[0;34m\u001b[0m\u001b[0m\n\u001b[0;32m-> 1633\u001b[0;31m         \u001b[0mlib\u001b[0m\u001b[0;34m.\u001b[0m\u001b[0mwrite_csv_rows\u001b[0m\u001b[0;34m(\u001b[0m\u001b[0mself\u001b[0m\u001b[0;34m.\u001b[0m\u001b[0mdata\u001b[0m\u001b[0;34m,\u001b[0m \u001b[0mix\u001b[0m\u001b[0;34m,\u001b[0m \u001b[0mself\u001b[0m\u001b[0;34m.\u001b[0m\u001b[0mnlevels\u001b[0m\u001b[0;34m,\u001b[0m \u001b[0mself\u001b[0m\u001b[0;34m.\u001b[0m\u001b[0mcols\u001b[0m\u001b[0;34m,\u001b[0m \u001b[0mself\u001b[0m\u001b[0;34m.\u001b[0m\u001b[0mwriter\u001b[0m\u001b[0;34m)\u001b[0m\u001b[0;34m\u001b[0m\u001b[0m\n\u001b[0m\u001b[1;32m   1634\u001b[0m \u001b[0;34m\u001b[0m\u001b[0m\n\u001b[1;32m   1635\u001b[0m \u001b[0;31m# from collections import namedtuple\u001b[0m\u001b[0;34m\u001b[0m\u001b[0;34m\u001b[0m\u001b[0m\n",
      "\u001b[0;32mpandas/lib.pyx\u001b[0m in \u001b[0;36mpandas.lib.write_csv_rows (pandas/lib.c:19840)\u001b[0;34m()\u001b[0m\n",
      "\u001b[0;31mUnicodeEncodeError\u001b[0m: 'ascii' codec can't encode characters in position 0-1: ordinal not in range(128)"
     ]
    }
   ],
   "source": [
    "pd_cut=pd.DataFrame(emj_codes_face)\n",
    "pd_cut.to_csv('/Users/attiladobi/emojify/data/face_codes.txt')"
   ]
  },
  {
   "cell_type": "code",
   "execution_count": 67,
   "metadata": {
    "collapsed": false
   },
   "outputs": [
    {
     "ename": "SyntaxError",
     "evalue": "invalid syntax (<ipython-input-67-31c8730448bd>, line 2)",
     "output_type": "error",
     "traceback": [
      "\u001b[0;36m  File \u001b[0;32m\"<ipython-input-67-31c8730448bd>\"\u001b[0;36m, line \u001b[0;32m2\u001b[0m\n\u001b[0;31m    text_file.print('\\n'.join(emj_codes_face))\u001b[0m\n\u001b[0m                  ^\u001b[0m\n\u001b[0;31mSyntaxError\u001b[0m\u001b[0;31m:\u001b[0m invalid syntax\n"
     ]
    }
   ],
   "source": [
    "text_file = open('/Users/attiladobi/emojify/data/face_codes.txt', \"w\")\n",
    "text_file.write('\\n'.join(emj_codes_face))\n",
    "text_file.close()"
   ]
  },
  {
   "cell_type": "code",
   "execution_count": 71,
   "metadata": {
    "collapsed": false
   },
   "outputs": [],
   "source": [
    "faces=open('/Users/attiladobi/emojify/data/face_codes.txt').read()"
   ]
  },
  {
   "cell_type": "code",
   "execution_count": 69,
   "metadata": {
    "collapsed": false
   },
   "outputs": [
    {
     "name": "stdout",
     "output_type": "stream",
     "text": [
      "[]\n"
     ]
    },
    {
     "name": "stderr",
     "output_type": "stream",
     "text": [
      "/Users/attiladobi/anaconda/lib/python2.7/site-packages/numpy/lib/npyio.py:891: UserWarning: loadtxt: Empty input file: \"/Users/attiladobi/emojify/data/face_codes.txt\"\n",
      "  warnings.warn('loadtxt: Empty input file: \"%s\"' % fname)\n"
     ]
    }
   ],
   "source": [
    "print(np.loadtxt('/Users/attiladobi/emojify/data/face_codes.txt',dtype=str))"
   ]
  },
  {
   "cell_type": "code",
   "execution_count": 76,
   "metadata": {
    "collapsed": false
   },
   "outputs": [
    {
     "ename": "TypeError",
     "evalue": "data type \"utf8\" not understood",
     "output_type": "error",
     "traceback": [
      "\u001b[0;31m---------------------------------------------------------------------------\u001b[0m",
      "\u001b[0;31mTypeError\u001b[0m                                 Traceback (most recent call last)",
      "\u001b[0;32m<ipython-input-76-56f4cc38f89b>\u001b[0m in \u001b[0;36m<module>\u001b[0;34m()\u001b[0m\n\u001b[0;32m----> 1\u001b[0;31m \u001b[0mfaces\u001b[0m \u001b[0;34m=\u001b[0m \u001b[0mnp\u001b[0m\u001b[0;34m.\u001b[0m\u001b[0mloadtxt\u001b[0m\u001b[0;34m(\u001b[0m\u001b[0;34m'/Users/attiladobi/emojify/data/face_codes.txt'\u001b[0m\u001b[0;34m,\u001b[0m\u001b[0mdtype\u001b[0m\u001b[0;34m=\u001b[0m\u001b[0;34m'utf8'\u001b[0m\u001b[0;34m)\u001b[0m\u001b[0;34m\u001b[0m\u001b[0m\n\u001b[0m",
      "\u001b[0;32m/Users/attiladobi/anaconda/lib/python2.7/site-packages/numpy/lib/npyio.pyc\u001b[0m in \u001b[0;36mloadtxt\u001b[0;34m(fname, dtype, comments, delimiter, converters, skiprows, usecols, unpack, ndmin)\u001b[0m\n\u001b[1;32m    871\u001b[0m     \u001b[0;32mtry\u001b[0m\u001b[0;34m:\u001b[0m\u001b[0;34m\u001b[0m\u001b[0m\n\u001b[1;32m    872\u001b[0m         \u001b[0;31m# Make sure we're dealing with a proper dtype\u001b[0m\u001b[0;34m\u001b[0m\u001b[0;34m\u001b[0m\u001b[0m\n\u001b[0;32m--> 873\u001b[0;31m         \u001b[0mdtype\u001b[0m \u001b[0;34m=\u001b[0m \u001b[0mnp\u001b[0m\u001b[0;34m.\u001b[0m\u001b[0mdtype\u001b[0m\u001b[0;34m(\u001b[0m\u001b[0mdtype\u001b[0m\u001b[0;34m)\u001b[0m\u001b[0;34m\u001b[0m\u001b[0m\n\u001b[0m\u001b[1;32m    874\u001b[0m         \u001b[0mdefconv\u001b[0m \u001b[0;34m=\u001b[0m \u001b[0m_getconv\u001b[0m\u001b[0;34m(\u001b[0m\u001b[0mdtype\u001b[0m\u001b[0;34m)\u001b[0m\u001b[0;34m\u001b[0m\u001b[0m\n\u001b[1;32m    875\u001b[0m \u001b[0;34m\u001b[0m\u001b[0m\n",
      "\u001b[0;31mTypeError\u001b[0m: data type \"utf8\" not understood"
     ]
    }
   ],
   "source": [
    "faces = np.loadtxt('/Users/attiladobi/emojify/data/face_codes.txt',dtype='utf8')"
   ]
  },
  {
   "cell_type": "code",
   "execution_count": 77,
   "metadata": {
    "collapsed": false,
    "scrolled": true
   },
   "outputs": [
    {
     "data": {
      "text/plain": [
       "array([\"u'\\\\U0001f600',\", \"u'\\\\U0001f601',\", \"u'\\\\U0001f602',\",\n",
       "       \"u'\\\\U0001f603',\", \"u'\\\\U0001f604',\", \"u'\\\\U0001f605',\",\n",
       "       \"u'\\\\U0001f606',\", \"u'\\\\U0001f609',\", \"u'\\\\U0001f60a',\",\n",
       "       \"u'\\\\U0001f60b',\", \"u'\\\\U0001f60e',\", \"u'\\\\U0001f60d',\",\n",
       "       \"u'\\\\U0001f618',\", \"u'\\\\U0001f617',\", \"u'\\\\U0001f619',\",\n",
       "       \"u'\\\\U0001f61a',\", \"u'\\\\u263a\\\\ufe0f',\", \"u'\\\\U0001f642',\",\n",
       "       \"u'\\\\U0001f917',\", \"u'\\\\U0001f607',\", \"u'\\\\U0001f914',\",\n",
       "       \"u'\\\\U0001f610',\", \"u'\\\\U0001f611',\", \"u'\\\\U0001f636',\",\n",
       "       \"u'\\\\U0001f644',\", \"u'\\\\U0001f60f',\", \"u'\\\\U0001f623',\",\n",
       "       \"u'\\\\U0001f625',\", \"u'\\\\U0001f62e',\", \"u'\\\\U0001f910',\",\n",
       "       \"u'\\\\U0001f62f',\", \"u'\\\\U0001f62a',\", \"u'\\\\U0001f62b',\",\n",
       "       \"u'\\\\U0001f634',\", \"u'\\\\U0001f60c',\", \"u'\\\\U0001f913',\",\n",
       "       \"u'\\\\U0001f61b',\", \"u'\\\\U0001f61c',\", \"u'\\\\U0001f61d',\",\n",
       "       \"u'\\\\u2639',\", \"u'\\\\U0001f641',\", \"u'\\\\U0001f612',\",\n",
       "       \"u'\\\\U0001f613',\", \"u'\\\\U0001f614',\", \"u'\\\\U0001f615',\",\n",
       "       \"u'\\\\U0001f616',\", \"u'\\\\U0001f643',\", \"u'\\\\U0001f637',\",\n",
       "       \"u'\\\\U0001f912',\", \"u'\\\\U0001f915',\", \"u'\\\\U0001f911',\",\n",
       "       \"u'\\\\U0001f632',\", \"u'\\\\U0001f61e',\", \"u'\\\\U0001f61f',\",\n",
       "       \"u'\\\\U0001f624',\", \"u'\\\\U0001f622',\", \"u'\\\\U0001f62d',\",\n",
       "       \"u'\\\\U0001f626',\", \"u'\\\\U0001f627',\", \"u'\\\\U0001f628',\",\n",
       "       \"u'\\\\U0001f629',\", \"u'\\\\U0001f62c',\", \"u'\\\\U0001f630',\",\n",
       "       \"u'\\\\U0001f631',\", \"u'\\\\U0001f633',\", \"u'\\\\U0001f635',\",\n",
       "       \"u'\\\\U0001f621',\", \"u'\\\\U0001f620'\"], \n",
       "      dtype='|S16')"
      ]
     },
     "execution_count": 77,
     "metadata": {},
     "output_type": "execute_result"
    }
   ],
   "source": [
    "faces"
   ]
  },
  {
   "cell_type": "code",
   "execution_count": 2,
   "metadata": {
    "collapsed": false
   },
   "outputs": [],
   "source": [
    "from collections import defaultdict"
   ]
  },
  {
   "cell_type": "code",
   "execution_count": 49,
   "metadata": {
    "collapsed": false
   },
   "outputs": [],
   "source": [
    "A= defaultdict(list)"
   ]
  },
  {
   "cell_type": "code",
   "execution_count": 50,
   "metadata": {
    "collapsed": false
   },
   "outputs": [],
   "source": [
    "B= defaultdict(dict)"
   ]
  },
  {
   "cell_type": "code",
   "execution_count": 56,
   "metadata": {
    "collapsed": false
   },
   "outputs": [],
   "source": [
    "A['field'].append(2)\n",
    "B['zone1'].update(A)"
   ]
  },
  {
   "cell_type": "code",
   "execution_count": 60,
   "metadata": {
    "collapsed": false
   },
   "outputs": [
    {
     "data": {
      "text/plain": [
       "[3, 1, 7, 9, 2]"
      ]
     },
     "execution_count": 60,
     "metadata": {},
     "output_type": "execute_result"
    }
   ],
   "source": [
    "B['zone']['field']"
   ]
  },
  {
   "cell_type": "code",
   "execution_count": 62,
   "metadata": {
    "collapsed": false
   },
   "outputs": [
    {
     "data": {
      "text/plain": [
       "[]"
      ]
     },
     "execution_count": 62,
     "metadata": {},
     "output_type": "execute_result"
    }
   ],
   "source": [
    "A['a']"
   ]
  },
  {
   "cell_type": "code",
   "execution_count": 92,
   "metadata": {
    "collapsed": false
   },
   "outputs": [],
   "source": [
    "l=defaultdict(lambda: defaultdict(list))\n"
   ]
  },
  {
   "cell_type": "code",
   "execution_count": 93,
   "metadata": {
    "collapsed": false
   },
   "outputs": [
    {
     "data": {
      "text/plain": [
       "[]"
      ]
     },
     "execution_count": 93,
     "metadata": {},
     "output_type": "execute_result"
    }
   ],
   "source": [
    "l['a']['b']"
   ]
  },
  {
   "cell_type": "code",
   "execution_count": 85,
   "metadata": {
    "collapsed": false
   },
   "outputs": [
    {
     "ename": "TypeError",
     "evalue": "list indices must be integers, not str",
     "output_type": "error",
     "traceback": [
      "\u001b[0;31m---------------------------------------------------------------------------\u001b[0m",
      "\u001b[0;31mTypeError\u001b[0m                                 Traceback (most recent call last)",
      "\u001b[0;32m<ipython-input-85-d804fb6945dd>\u001b[0m in \u001b[0;36m<module>\u001b[0;34m()\u001b[0m\n\u001b[0;32m----> 1\u001b[0;31m \u001b[0mtable\u001b[0m\u001b[0;34m[\u001b[0m\u001b[0;34m'a'\u001b[0m\u001b[0;34m]\u001b[0m\u001b[0;34m[\u001b[0m\u001b[0;34m'b'\u001b[0m\u001b[0;34m]\u001b[0m\u001b[0;34m.\u001b[0m\u001b[0mappend\u001b[0m\u001b[0;34m(\u001b[0m\u001b[0;36m3\u001b[0m\u001b[0;34m)\u001b[0m\u001b[0;34m\u001b[0m\u001b[0m\n\u001b[0m",
      "\u001b[0;31mTypeError\u001b[0m: list indices must be integers, not str"
     ]
    }
   ],
   "source": [
    "table['a']['b'].append(3)"
   ]
  },
  {
   "cell_type": "code",
   "execution_count": 73,
   "metadata": {
    "collapsed": false
   },
   "outputs": [
    {
     "ename": "TypeError",
     "evalue": "list indices must be integers, not str",
     "output_type": "error",
     "traceback": [
      "\u001b[0;31m---------------------------------------------------------------------------\u001b[0m",
      "\u001b[0;31mTypeError\u001b[0m                                 Traceback (most recent call last)",
      "\u001b[0;32m<ipython-input-73-e6f1162dcdfd>\u001b[0m in \u001b[0;36m<module>\u001b[0;34m()\u001b[0m\n\u001b[0;32m----> 1\u001b[0;31m \u001b[0mtable\u001b[0m\u001b[0;34m[\u001b[0m\u001b[0;34m'a'\u001b[0m\u001b[0;34m]\u001b[0m\u001b[0;34m[\u001b[0m\u001b[0;34m'b'\u001b[0m\u001b[0;34m]\u001b[0m\u001b[0;34m\u001b[0m\u001b[0m\n\u001b[0m",
      "\u001b[0;31mTypeError\u001b[0m: list indices must be integers, not str"
     ]
    }
   ],
   "source": [
    "table['a']['b']"
   ]
  },
  {
   "cell_type": "code",
   "execution_count": null,
   "metadata": {
    "collapsed": true
   },
   "outputs": [],
   "source": []
  }
 ],
 "metadata": {
  "kernelspec": {
   "display_name": "Python 2",
   "language": "python",
   "name": "python2"
  },
  "language_info": {
   "codemirror_mode": {
    "name": "ipython",
    "version": 2
   },
   "file_extension": ".py",
   "mimetype": "text/x-python",
   "name": "python",
   "nbconvert_exporter": "python",
   "pygments_lexer": "ipython2",
   "version": "2.7.13"
  }
 },
 "nbformat": 4,
 "nbformat_minor": 0
}
